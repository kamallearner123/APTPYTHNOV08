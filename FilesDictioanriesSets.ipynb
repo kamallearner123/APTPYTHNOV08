{
 "cells": [
  {
   "cell_type": "markdown",
   "id": "3131d9a2-25aa-4225-b40f-94643c00b24a",
   "metadata": {},
   "source": [
    "# File handling:\n",
    "  1. Reading file\n"
   ]
  },
  {
   "cell_type": "code",
   "execution_count": 13,
   "id": "e4b1a36f-c770-4b53-867f-13c49db6b918",
   "metadata": {},
   "outputs": [
    {
     "name": "stdout",
     "output_type": "stream",
     "text": [
      "/Users/kamalmukiri/Documents/1.GitHub/Courses/APTPYTHNOV08\n",
      "Data1 =  Line1: Hel\n",
      "Data2 =  lo world!!!\n",
      "Line2: Hello world!!!\n",
      "Line3: Hello world!!!\n",
      "Line4: Hello world!!!\n",
      "Line5: Hello world!!!\n",
      "fd.tell =  109\n"
     ]
    }
   ],
   "source": [
    "import os\n",
    "os.chdir(\"/Users/kamalmukiri/Documents/1.GitHub/Courses/APTPYTHNOV08/\")\n",
    "print(os.getcwd())\n",
    "os.chdir(\"Sessions/Jupyternotebook\")\n",
    "\n",
    "#Open file\n",
    "fd = open(\"File1.txt\") #relative\n",
    "#Read the content\n",
    "data1 = fd.read(10) #Read all the content\n",
    "print(\"Data1 = \", data1)\n",
    "data2 = fd.read()\n",
    "print(\"Data2 = \",data2)\n",
    "\n",
    "print(\"fd.tell = \", fd.tell())\n",
    "\n",
    "#Close the file descriptor\n",
    "fd.close()\n"
   ]
  },
  {
   "cell_type": "code",
   "execution_count": 14,
   "id": "13f05c92-f970-413a-9f32-5840ae7fd517",
   "metadata": {},
   "outputs": [
    {
     "name": "stdout",
     "output_type": "stream",
     "text": [
      "/Users/kamalmukiri/Documents/1.GitHub/Courses/APTPYTHNOV08\n",
      "Data1 =  lo world!!\n",
      "Data2 =  !\n",
      "Line2: Hello world!!!\n",
      "Line3: Hello world!!!\n",
      "Line4: Hello world!!!\n",
      "Line5: Hello world!!!\n",
      "fd.tell =  109\n"
     ]
    }
   ],
   "source": [
    "import os\n",
    "os.chdir(\"/Users/kamalmukiri/Documents/1.GitHub/Courses/APTPYTHNOV08/\")\n",
    "print(os.getcwd())\n",
    "os.chdir(\"Sessions/Jupyternotebook\")\n",
    "\n",
    "#Open file\n",
    "fd = open(\"File1.txt\") #relative\n",
    "\n",
    "#SET OFFSET to 10\n",
    "fd.seek(10)\n",
    "\n",
    "#Read the content\n",
    "data1 = fd.read(10) #Read all the content\n",
    "print(\"Data1 = \", data1)\n",
    "data2 = fd.read()\n",
    "print(\"Data2 = \",data2)\n",
    "\n",
    "print(\"fd.tell = \", fd.tell())\n",
    "\n",
    "#Close the file descriptor\n",
    "fd.close()"
   ]
  },
  {
   "cell_type": "code",
   "execution_count": 15,
   "id": "1763e2fc-8e34-4592-9994-1eda03528cce",
   "metadata": {},
   "outputs": [
    {
     "name": "stdout",
     "output_type": "stream",
     "text": [
      "/Users/kamalmukiri/Documents/1.GitHub/Courses/APTPYTHNOV08\n",
      "Data1 =  lo world!!\n",
      "Data2 =  !\n",
      "Line2: Hello world!!!\n",
      "Line3: Hello world!!!\n",
      "Line4: Hello world!!!\n",
      "Line5: Hello world!!!\n",
      "fd.tell =  109\n"
     ]
    }
   ],
   "source": [
    "import os\n",
    "os.chdir(\"/Users/kamalmukiri/Documents/1.GitHub/Courses/APTPYTHNOV08/\")\n",
    "print(os.getcwd())\n",
    "os.chdir(\"Sessions/Jupyternotebook\")\n",
    "\n",
    "#Open file\n",
    "with open(\"File1.txt\") as fd: #relative\n",
    "    #SET OFFSET to 10\n",
    "    fd.seek(10)\n",
    "        #Read the content\n",
    "    data1 = fd.read(10) #Read all the content\n",
    "    print(\"Data1 = \", data1)\n",
    "    data2 = fd.read()\n",
    "    print(\"Data2 = \",data2)    \n",
    "    print(\"fd.tell = \", fd.tell())\n",
    "\n",
    "#file closed\n"
   ]
  },
  {
   "cell_type": "code",
   "execution_count": 16,
   "id": "744c4c06-eaa3-474e-85b9-f68e75680bf3",
   "metadata": {},
   "outputs": [],
   "source": [
    "# Dictionary : Key:Value pair"
   ]
  },
  {
   "cell_type": "code",
   "execution_count": 51,
   "id": "a673dc74-7624-43e6-9cb3-0deeb379ac7c",
   "metadata": {},
   "outputs": [
    {
     "name": "stdout",
     "output_type": "stream",
     "text": [
      "{'Kohli': {'Skill': 'Batsman, bolwer', 'Place': 522444}, 'Rohit': {'Skill': 'Batsman', 'Place': 522111}, 'Bhumbra': {'Skill': 'Bowler', 'Place': 522111}}\n",
      "After flushing the data\n",
      "Name : Kohli, Details are {'Skill': 'Batsman, bolwer', 'Place': 522444}\n",
      "Name : Rohit, Details are {'\n"
     ]
    }
   ],
   "source": [
    "l1 = [[\"Kamal\",560111, \"Bangalore\"], [\"Person2\", 444000, \"mumbai\"]] # 100,00,000\n",
    "# Search: o(n)\n",
    "Players = {} #Empty dictionary\n",
    "Players[\"Kohli\"] = {\"Skill\":\"Batsman\", \"Place\":522111}\n",
    "Players[\"Rohit\"] = {\"Skill\":\"Batsman\", \"Place\":522111}\n",
    "Players[\"Bhumbra\"] = {\"Skill\":\"Bowler\", \"Place\":522111}\n",
    "Players[\"Kohli\"] = {\"Skill\":\"Batsman, bolwer\", \"Place\":522444}\n",
    "print(Players)\n",
    "\n",
    "with open(\"Result.txt\", \"w\") as fd:#empty file\n",
    "    for key,value in Players.items():\n",
    "        line = f\"Name : {key}, Details are {value}\"+\"\\n\"\n",
    "        fd.write(line)\n",
    "\n",
    "\n",
    "fd = open(\"Result.txt\",\"r+\") #Default: Read\n",
    "fd.truncate(100) # Truncate to 0\n",
    "fd.write(\"12345\")\n",
    "#fd.flush()\n",
    "fd2 = open(\"Result.txt\",\"r\") #Default: Read\n",
    "print(\"After flushing the data\")\n",
    "print(fd2.read())\n",
    "fd2.close()\n",
    "fd.close()\n",
    "\n"
   ]
  },
  {
   "cell_type": "code",
   "execution_count": 53,
   "id": "9b19d08e-0040-4397-ba42-ed452e22b2d6",
   "metadata": {},
   "outputs": [
    {
     "name": "stdout",
     "output_type": "stream",
     "text": [
      "{'Kohli': {'Skill': 'Batsman, bolwer', 'Place': 522444}, 'Rohit': {'Skill': 'Batsman', 'Place': 522111}, 'Bhumbra': {'Skill': 'Bowler', 'Place': 522111}}\n",
      "After flushing the data\n",
      "Name : Kohli, Details are {'Skill': 'Batsman, bolwer', 'Place': 522444}\n",
      "Name : Rohit, Details are {'Skill': 'Batsman', 'Place': 522111}\n",
      "Name : Bhumbra, Details are {'Skill': 'Bowler', 'Place': 522111}\n",
      "12345\n"
     ]
    }
   ],
   "source": [
    "# Search: o(n)\n",
    "Players = {} #Empty dictionary\n",
    "Players[\"Kohli\"] = {\"Skill\":\"Batsman\", \"Place\":522111}\n",
    "Players[\"Rohit\"] = {\"Skill\":\"Batsman\", \"Place\":522111}\n",
    "Players[\"Bhumbra\"] = {\"Skill\":\"Bowler\", \"Place\":522111}\n",
    "Players[\"Kohli\"] = {\"Skill\":\"Batsman, bolwer\", \"Place\":522444}\n",
    "print(Players)\n",
    "\n",
    "with open(\"Result.txt\", \"w\") as fd:#empty file\n",
    "    for key,value in Players.items():\n",
    "        line = f\"Name : {key}, Details are {value}\"+\"\\n\"\n",
    "        fd.write(line)\n",
    "\n",
    "\n",
    "fd = open(\"Result.txt\",\"a+\") #Default: Read\n",
    "fd.write(\"12345\")\n",
    "fd.flush()\n",
    "fd2 = open(\"Result.txt\",\"r\") #Default: Read\n",
    "print(\"After flushing the data\")\n",
    "print(fd2.read())\n",
    "fd2.close()\n",
    "fd.close()\n",
    "\n"
   ]
  },
  {
   "cell_type": "code",
   "execution_count": 70,
   "id": "c50e8853-9c08-4788-aa06-1cad31c926bd",
   "metadata": {},
   "outputs": [
    {
     "name": "stdout",
     "output_type": "stream",
     "text": [
      "{'Kohli': {'Skill': 'Batsman, bolwer', 'Place': 522444}, 'Rohit': {'Skill': 'Batsman', 'Place': 522111}, 'Bhumbra': {'Skill': 'Bowler', 'Place': 522111}}\n"
     ]
    },
    {
     "ename": "ValueError",
     "evalue": "negative seek position -1",
     "output_type": "error",
     "traceback": [
      "\u001b[0;31m---------------------------------------------------------------------------\u001b[0m",
      "\u001b[0;31mValueError\u001b[0m                                Traceback (most recent call last)",
      "Cell \u001b[0;32mIn[70], line 13\u001b[0m\n\u001b[1;32m     11\u001b[0m         fd\u001b[38;5;241m.\u001b[39mwrite(line)\n\u001b[1;32m     12\u001b[0m fd \u001b[38;5;241m=\u001b[39m \u001b[38;5;28mopen\u001b[39m(\u001b[38;5;124m\"\u001b[39m\u001b[38;5;124mResult.txt\u001b[39m\u001b[38;5;124m\"\u001b[39m)\n\u001b[0;32m---> 13\u001b[0m fd\u001b[38;5;241m.\u001b[39mseek(\u001b[38;5;241m-\u001b[39m\u001b[38;5;241m1\u001b[39m)\n\u001b[1;32m     14\u001b[0m \u001b[38;5;28mprint\u001b[39m(lines)\n\u001b[1;32m     15\u001b[0m fd\u001b[38;5;241m.\u001b[39mclose()\n",
      "\u001b[0;31mValueError\u001b[0m: negative seek position -1"
     ]
    }
   ],
   "source": [
    "Players = {} #Empty dictionary\n",
    "Players[\"Kohli\"] = {\"Skill\":\"Batsman\", \"Place\":522111}\n",
    "Players[\"Rohit\"] = {\"Skill\":\"Batsman\", \"Place\":522111}\n",
    "Players[\"Bhumbra\"] = {\"Skill\":\"Bowler\", \"Place\":522111}\n",
    "Players[\"Kohli\"] = {\"Skill\":\"Batsman, bolwer\", \"Place\":522444}\n",
    "print(Players)\n",
    "\n",
    "with open(\"Result.txt\", \"w\") as fd:#empty file\n",
    "    for key,value in Players.items():\n",
    "        line = f\"Name : {key}, Details are {value}\"+\"\\n\"\n",
    "        fd.write(line)\n",
    "fd = open(\"Result.txt\")\n",
    "fd.seek()\n",
    "print(lines)\n",
    "fd.close()"
   ]
  },
  {
   "cell_type": "code",
   "execution_count": 67,
   "id": "522d655f-e616-4096-9e83-aa19196204c3",
   "metadata": {},
   "outputs": [
    {
     "name": "stdout",
     "output_type": "stream",
     "text": [
      "4\n"
     ]
    }
   ],
   "source": [
    "list1 = [1, 2, 3, 3, 4, 4, 5, 6, 10,12,14] \n",
    "list2 = [3, 4, 5, 6] \n",
    "\n",
    "min_len = len(list1) if len(list1)<len(list2) else len(list2)\n",
    "print(min_len)\n",
    "\n",
    "#way1\n",
    "# fresh list list3 = []\n",
    "#+ l1 and l2 are not distubed, easy, \n",
    "#- More memory\n",
    "\n",
    "#way2\n",
    "#inserting the elements in list1\n",
    "#+ Less memory\n",
    "#- Performance problem"
   ]
  },
  {
   "cell_type": "code",
   "execution_count": 73,
   "id": "f8987831-1157-4656-83f0-00cc821723eb",
   "metadata": {},
   "outputs": [
    {
     "name": "stdout",
     "output_type": "stream",
     "text": [
      "Help on list object:\n",
      "\n",
      "class list(object)\n",
      " |  list(iterable=(), /)\n",
      " |\n",
      " |  Built-in mutable sequence.\n",
      " |\n",
      " |  If no argument is given, the constructor creates a new empty list.\n",
      " |  The argument must be an iterable if specified.\n",
      " |\n",
      " |  Methods defined here:\n",
      " |\n",
      " |  __add__(self, value, /)\n",
      " |      Return self+value.\n",
      " |\n",
      " |  __contains__(self, key, /)\n",
      " |      Return bool(key in self).\n",
      " |\n",
      " |  __delitem__(self, key, /)\n",
      " |      Delete self[key].\n",
      " |\n",
      " |  __eq__(self, value, /)\n",
      " |      Return self==value.\n",
      " |\n",
      " |  __ge__(self, value, /)\n",
      " |      Return self>=value.\n",
      " |\n",
      " |  __getattribute__(self, name, /)\n",
      " |      Return getattr(self, name).\n",
      " |\n",
      " |  __getitem__(self, index, /)\n",
      " |      Return self[index].\n",
      " |\n",
      " |  __gt__(self, value, /)\n",
      " |      Return self>value.\n",
      " |\n",
      " |  __iadd__(self, value, /)\n",
      " |      Implement self+=value.\n",
      " |\n",
      " |  __imul__(self, value, /)\n",
      " |      Implement self*=value.\n",
      " |\n",
      " |  __init__(self, /, *args, **kwargs)\n",
      " |      Initialize self.  See help(type(self)) for accurate signature.\n",
      " |\n",
      " |  __iter__(self, /)\n",
      " |      Implement iter(self).\n",
      " |\n",
      " |  __le__(self, value, /)\n",
      " |      Return self<=value.\n",
      " |\n",
      " |  __len__(self, /)\n",
      " |      Return len(self).\n",
      " |\n",
      " |  __lt__(self, value, /)\n",
      " |      Return self<value.\n",
      " |\n",
      " |  __mul__(self, value, /)\n",
      " |      Return self*value.\n",
      " |\n",
      " |  __ne__(self, value, /)\n",
      " |      Return self!=value.\n",
      " |\n",
      " |  __repr__(self, /)\n",
      " |      Return repr(self).\n",
      " |\n",
      " |  __reversed__(self, /)\n",
      " |      Return a reverse iterator over the list.\n",
      " |\n",
      " |  __rmul__(self, value, /)\n",
      " |      Return value*self.\n",
      " |\n",
      " |  __setitem__(self, key, value, /)\n",
      " |      Set self[key] to value.\n",
      " |\n",
      " |  __sizeof__(self, /)\n",
      " |      Return the size of the list in memory, in bytes.\n",
      " |\n",
      " |  append(self, object, /)\n",
      " |      Append object to the end of the list.\n",
      " |\n",
      " |  clear(self, /)\n",
      " |      Remove all items from list.\n",
      " |\n",
      " |  copy(self, /)\n",
      " |      Return a shallow copy of the list.\n",
      " |\n",
      " |  count(self, value, /)\n",
      " |      Return number of occurrences of value.\n",
      " |\n",
      " |  extend(self, iterable, /)\n",
      " |      Extend list by appending elements from the iterable.\n",
      " |\n",
      " |  index(self, value, start=0, stop=9223372036854775807, /)\n",
      " |      Return first index of value.\n",
      " |\n",
      " |      Raises ValueError if the value is not present.\n",
      " |\n",
      " |  insert(self, index, object, /)\n",
      " |      Insert object before index.\n",
      " |\n",
      " |  pop(self, index=-1, /)\n",
      " |      Remove and return item at index (default last).\n",
      " |\n",
      " |      Raises IndexError if list is empty or index is out of range.\n",
      " |\n",
      " |  remove(self, value, /)\n",
      " |      Remove first occurrence of value.\n",
      " |\n",
      " |      Raises ValueError if the value is not present.\n",
      " |\n",
      " |  reverse(self, /)\n",
      " |      Reverse *IN PLACE*.\n",
      " |\n",
      " |  sort(self, /, *, key=None, reverse=False)\n",
      " |      Sort the list in ascending order and return None.\n",
      " |\n",
      " |      The sort is in-place (i.e. the list itself is modified) and stable (i.e. the\n",
      " |      order of two equal elements is maintained).\n",
      " |\n",
      " |      If a key function is given, apply it once to each list item and sort them,\n",
      " |      ascending or descending, according to their function values.\n",
      " |\n",
      " |      The reverse flag can be set to sort in descending order.\n",
      " |\n",
      " |  ----------------------------------------------------------------------\n",
      " |  Class methods defined here:\n",
      " |\n",
      " |  __class_getitem__(...)\n",
      " |      See PEP 585\n",
      " |\n",
      " |  ----------------------------------------------------------------------\n",
      " |  Static methods defined here:\n",
      " |\n",
      " |  __new__(*args, **kwargs)\n",
      " |      Create and return a new object.  See help(type) for accurate signature.\n",
      " |\n",
      " |  ----------------------------------------------------------------------\n",
      " |  Data and other attributes defined here:\n",
      " |\n",
      " |  __hash__ = None\n",
      "\n",
      "None\n"
     ]
    }
   ],
   "source": [
    "list1 = [1, 2, 3, 4, 10,12,14] \n",
    "list2 = [3, 4, 5, 6]\n",
    "\n",
    "print(help(list1))\n"
   ]
  },
  {
   "cell_type": "code",
   "execution_count": 71,
   "id": "1a731401-c550-4d53-98bf-eabd8583e672",
   "metadata": {},
   "outputs": [
    {
     "name": "stdout",
     "output_type": "stream",
     "text": [
      "Help on dict object:\n",
      "\n",
      "class dict(object)\n",
      " |  dict() -> new empty dictionary\n",
      " |  dict(mapping) -> new dictionary initialized from a mapping object's\n",
      " |      (key, value) pairs\n",
      " |  dict(iterable) -> new dictionary initialized as if via:\n",
      " |      d = {}\n",
      " |      for k, v in iterable:\n",
      " |          d[k] = v\n",
      " |  dict(**kwargs) -> new dictionary initialized with the name=value pairs\n",
      " |      in the keyword argument list.  For example:  dict(one=1, two=2)\n",
      " |\n",
      " |  Built-in subclasses:\n",
      " |      StgDict\n",
      " |\n",
      " |  Methods defined here:\n",
      " |\n",
      " |  __contains__(self, key, /)\n",
      " |      True if the dictionary has the specified key, else False.\n",
      " |\n",
      " |  __delitem__(self, key, /)\n",
      " |      Delete self[key].\n",
      " |\n",
      " |  __eq__(self, value, /)\n",
      " |      Return self==value.\n",
      " |\n",
      " |  __ge__(self, value, /)\n",
      " |      Return self>=value.\n",
      " |\n",
      " |  __getattribute__(self, name, /)\n",
      " |      Return getattr(self, name).\n",
      " |\n",
      " |  __getitem__(self, key, /)\n",
      " |      Return self[key].\n",
      " |\n",
      " |  __gt__(self, value, /)\n",
      " |      Return self>value.\n",
      " |\n",
      " |  __init__(self, /, *args, **kwargs)\n",
      " |      Initialize self.  See help(type(self)) for accurate signature.\n",
      " |\n",
      " |  __ior__(self, value, /)\n",
      " |      Return self|=value.\n",
      " |\n",
      " |  __iter__(self, /)\n",
      " |      Implement iter(self).\n",
      " |\n",
      " |  __le__(self, value, /)\n",
      " |      Return self<=value.\n",
      " |\n",
      " |  __len__(self, /)\n",
      " |      Return len(self).\n",
      " |\n",
      " |  __lt__(self, value, /)\n",
      " |      Return self<value.\n",
      " |\n",
      " |  __ne__(self, value, /)\n",
      " |      Return self!=value.\n",
      " |\n",
      " |  __or__(self, value, /)\n",
      " |      Return self|value.\n",
      " |\n",
      " |  __repr__(self, /)\n",
      " |      Return repr(self).\n",
      " |\n",
      " |  __reversed__(self, /)\n",
      " |      Return a reverse iterator over the dict keys.\n",
      " |\n",
      " |  __ror__(self, value, /)\n",
      " |      Return value|self.\n",
      " |\n",
      " |  __setitem__(self, key, value, /)\n",
      " |      Set self[key] to value.\n",
      " |\n",
      " |  __sizeof__(...)\n",
      " |      D.__sizeof__() -> size of D in memory, in bytes\n",
      " |\n",
      " |  clear(...)\n",
      " |      D.clear() -> None.  Remove all items from D.\n",
      " |\n",
      " |  copy(...)\n",
      " |      D.copy() -> a shallow copy of D\n",
      " |\n",
      " |  get(self, key, default=None, /)\n",
      " |      Return the value for key if key is in the dictionary, else default.\n",
      " |\n",
      " |  items(...)\n",
      " |      D.items() -> a set-like object providing a view on D's items\n",
      " |\n",
      " |  keys(...)\n",
      " |      D.keys() -> a set-like object providing a view on D's keys\n",
      " |\n",
      " |  pop(...)\n",
      " |      D.pop(k[,d]) -> v, remove specified key and return the corresponding value.\n",
      " |\n",
      " |      If the key is not found, return the default if given; otherwise,\n",
      " |      raise a KeyError.\n",
      " |\n",
      " |  popitem(self, /)\n",
      " |      Remove and return a (key, value) pair as a 2-tuple.\n",
      " |\n",
      " |      Pairs are returned in LIFO (last-in, first-out) order.\n",
      " |      Raises KeyError if the dict is empty.\n",
      " |\n",
      " |  setdefault(self, key, default=None, /)\n",
      " |      Insert key with a value of default if key is not in the dictionary.\n",
      " |\n",
      " |      Return the value for key if key is in the dictionary, else default.\n",
      " |\n",
      " |  update(...)\n",
      " |      D.update([E, ]**F) -> None.  Update D from dict/iterable E and F.\n",
      " |      If E is present and has a .keys() method, then does:  for k in E: D[k] = E[k]\n",
      " |      If E is present and lacks a .keys() method, then does:  for k, v in E: D[k] = v\n",
      " |      In either case, this is followed by: for k in F:  D[k] = F[k]\n",
      " |\n",
      " |  values(...)\n",
      " |      D.values() -> an object providing a view on D's values\n",
      " |\n",
      " |  ----------------------------------------------------------------------\n",
      " |  Class methods defined here:\n",
      " |\n",
      " |  __class_getitem__(...)\n",
      " |      See PEP 585\n",
      " |\n",
      " |  fromkeys(iterable, value=None, /)\n",
      " |      Create a new dictionary with keys from iterable and values set to value.\n",
      " |\n",
      " |  ----------------------------------------------------------------------\n",
      " |  Static methods defined here:\n",
      " |\n",
      " |  __new__(*args, **kwargs)\n",
      " |      Create and return a new object.  See help(type) for accurate signature.\n",
      " |\n",
      " |  ----------------------------------------------------------------------\n",
      " |  Data and other attributes defined here:\n",
      " |\n",
      " |  __hash__ = None\n",
      "\n",
      "None\n"
     ]
    }
   ],
   "source": [
    "d1 = {}\n",
    "print(help(d1))"
   ]
  },
  {
   "cell_type": "code",
   "execution_count": 84,
   "id": "3ca18602-922c-4619-896e-3e1c4b7e34a8",
   "metadata": {},
   "outputs": [
    {
     "name": "stdout",
     "output_type": "stream",
     "text": [
      "{'Kohli': {'Skill': 'Batsman, bolwer', 'Place': 522444}, 'Rohit': {'Skill': 'Batsman', 'Place': 522111}, 'Bhumbra': {'Skill': 'Bowler', 'Place': 522111}}\n",
      "<class 'dict'>\n",
      "{'Kohli': {'Skill': 'Batsman, bolwer', 'Place': 522444}, 'Rohit': {'Skill': 'Batsman', 'Place': 522111}, 'Bhumbra': {'Skill': 'Bowler', 'Place': 522111}}\n"
     ]
    }
   ],
   "source": [
    "import json\n",
    "\n",
    "Players = {} #Empty dictionary\n",
    "Players[\"Kohli\"] = {\"Skill\":\"Batsman\", \"Place\":522111}\n",
    "Players[\"Rohit\"] = {\"Skill\":\"Batsman\", \"Place\":522111}\n",
    "Players[\"Bhumbra\"] = {\"Skill\":\"Bowler\", \"Place\":522111}\n",
    "Players[\"Kohli\"] = {\"Skill\":\"Batsman, bolwer\", \"Place\":522444}\n",
    "print(Players)\n",
    "\n",
    "# Put dictionary into file\n",
    "fd = open(\"Result.json\", \"w\")\n",
    "json.dump(Players, fd)\n",
    "fd.close()\n",
    "\n",
    "# Read the content of file and create dictionary\n",
    "fd = open(\"Result.json\")\n",
    "data = json.load(fd) # Reads the data from fd, parses the string into disctionary\n",
    "print(type(data))\n",
    "\n",
    "\n",
    "fd = open(\"Result.json\")\n",
    "data = fd.read()\n",
    "d1 = json.loads(data) # Parsing the string into dictionary\n",
    "print(d1)\n",
    "\n"
   ]
  },
  {
   "cell_type": "code",
   "execution_count": 85,
   "id": "b5dd8758-5b9e-43ed-ab7a-363017b830bf",
   "metadata": {},
   "outputs": [
    {
     "ename": "FileExistsError",
     "evalue": "[Errno 17] File exists: 'Result.json'",
     "output_type": "error",
     "traceback": [
      "\u001b[0;31m---------------------------------------------------------------------------\u001b[0m",
      "\u001b[0;31mFileExistsError\u001b[0m                           Traceback (most recent call last)",
      "Cell \u001b[0;32mIn[85], line 1\u001b[0m\n\u001b[0;32m----> 1\u001b[0m \u001b[38;5;28mopen\u001b[39m(\u001b[38;5;124m\"\u001b[39m\u001b[38;5;124mResult.json\u001b[39m\u001b[38;5;124m\"\u001b[39m,\u001b[38;5;124m\"\u001b[39m\u001b[38;5;124mx\u001b[39m\u001b[38;5;124m\"\u001b[39m)\n",
      "File \u001b[0;32m/opt/anaconda3/lib/python3.12/site-packages/IPython/core/interactiveshell.py:324\u001b[0m, in \u001b[0;36m_modified_open\u001b[0;34m(file, *args, **kwargs)\u001b[0m\n\u001b[1;32m    317\u001b[0m \u001b[38;5;28;01mif\u001b[39;00m file \u001b[38;5;129;01min\u001b[39;00m {\u001b[38;5;241m0\u001b[39m, \u001b[38;5;241m1\u001b[39m, \u001b[38;5;241m2\u001b[39m}:\n\u001b[1;32m    318\u001b[0m     \u001b[38;5;28;01mraise\u001b[39;00m \u001b[38;5;167;01mValueError\u001b[39;00m(\n\u001b[1;32m    319\u001b[0m         \u001b[38;5;124mf\u001b[39m\u001b[38;5;124m\"\u001b[39m\u001b[38;5;124mIPython won\u001b[39m\u001b[38;5;124m'\u001b[39m\u001b[38;5;124mt let you open fd=\u001b[39m\u001b[38;5;132;01m{\u001b[39;00mfile\u001b[38;5;132;01m}\u001b[39;00m\u001b[38;5;124m by default \u001b[39m\u001b[38;5;124m\"\u001b[39m\n\u001b[1;32m    320\u001b[0m         \u001b[38;5;124m\"\u001b[39m\u001b[38;5;124mas it is likely to crash IPython. If you know what you are doing, \u001b[39m\u001b[38;5;124m\"\u001b[39m\n\u001b[1;32m    321\u001b[0m         \u001b[38;5;124m\"\u001b[39m\u001b[38;5;124myou can use builtins\u001b[39m\u001b[38;5;124m'\u001b[39m\u001b[38;5;124m open.\u001b[39m\u001b[38;5;124m\"\u001b[39m\n\u001b[1;32m    322\u001b[0m     )\n\u001b[0;32m--> 324\u001b[0m \u001b[38;5;28;01mreturn\u001b[39;00m io_open(file, \u001b[38;5;241m*\u001b[39margs, \u001b[38;5;241m*\u001b[39m\u001b[38;5;241m*\u001b[39mkwargs)\n",
      "\u001b[0;31mFileExistsError\u001b[0m: [Errno 17] File exists: 'Result.json'"
     ]
    }
   ],
   "source": [
    "open(\"Result.json\",\"x\")"
   ]
  },
  {
   "cell_type": "code",
   "execution_count": 17,
   "id": "b211cf1a-1f93-49a1-b6ae-8f735b76e6ff",
   "metadata": {},
   "outputs": [
    {
     "name": "stdout",
     "output_type": "stream",
     "text": [
      "{'Kohli': {'Skill': ['Batsman', 'Bowler'], 'Place': 522111}, 'Rohit': {'Skill': 'Batsman', 'Place': 522111}, 'Bhumbra': {'Skill': 'Bowler', 'Place': 522111}}\n",
      "{'Kohli': {'Skill': ['Batsman', 'Bowler'], 'Place': 522111}, 'Rohit': {'Skill': 'Batsman', 'Place': 522111}, 'Bhumbra': {'Skill': 'Bowler', 'Place': 522111}}\n",
      "None\n",
      "{'Skill': ['Batsman', 'Bowler'], 'Place': 522111}\n",
      "After poping Kohli details {'Rohit': {'Skill': 'Batsman', 'Place': 522111}, 'Bhumbra': {'Skill': 'Bowler', 'Place': 522111}}\n"
     ]
    }
   ],
   "source": [
    "import copy\n",
    "Players = {} #Empty dictionary\n",
    "Players[\"Kohli\"] = {\"Skill\":[\"Batsman\", \"Bowler\"], \"Place\":522111}\n",
    "Players[\"Rohit\"] = {\"Skill\":\"Batsman\", \"Place\":522111}\n",
    "Players[\"Bhumbra\"] = {\"Skill\":\"Bowler\", \"Place\":522111}\n",
    "print(Players)\n",
    "\n",
    "PlayersOrigin = copy.deepcopy(Players)\n",
    "print(PlayersOrigin)\n",
    "print(PlayersOrigin.get(\"123\"))\n",
    "\n",
    "kohli_details = Players.pop(\"Kohli\")\n",
    "print(kohli_details)\n",
    "print(\"After poping Kohli details\", Players)\n"
   ]
  },
  {
   "cell_type": "code",
   "execution_count": 16,
   "id": "eca65c5a-6163-47a3-b9f9-614188286e7c",
   "metadata": {},
   "outputs": [
    {
     "ename": "KeyError",
     "evalue": "'popitem(): dictionary is empty'",
     "output_type": "error",
     "traceback": [
      "\u001b[0;31m---------------------------------------------------------------------------\u001b[0m",
      "\u001b[0;31mKeyError\u001b[0m                                  Traceback (most recent call last)",
      "Cell \u001b[0;32mIn[16], line 1\u001b[0m\n\u001b[0;32m----> 1\u001b[0m Players\u001b[38;5;241m.\u001b[39mpopitem()\n",
      "\u001b[0;31mKeyError\u001b[0m: 'popitem(): dictionary is empty'"
     ]
    }
   ],
   "source": [
    "Players.popitem() # Gives key+Value pair\n",
    "Players.update"
   ]
  },
  {
   "cell_type": "code",
   "execution_count": 5,
   "id": "d2ad524c-ecf5-483e-91f8-451015213fe0",
   "metadata": {},
   "outputs": [
    {
     "name": "stdout",
     "output_type": "stream",
     "text": [
      "{'Kohli': {'Skill': ['Batsman', 'Bowler'], 'Place': 522111}, 'Rohit': {'Skill': 'Batsman', 'Place': 522111}, 'Bhumbra': {'Skill': 'Bowler', 'Place': 522111}}\n",
      "{'Kohli': {'Skill': ['Batsman', 'Bowler'], 'Place': 522111}, 'Rohit': {'Skill': 'Batsman', 'Place': 522111}, 'Bhumbra': {'Skill': 'Bowler', 'Place': 522111}, 'Rahul': {'Skill': ['Batsman', 'keeper'], 'Place': 0}}\n",
      "{'Kohli': 100000, 'Rohit2': 100000}\n"
     ]
    }
   ],
   "source": [
    "Players = {} #Empty dictionary\n",
    "Players[\"Kohli\"] = {\"Skill\":[\"Batsman\", \"Bowler\"], \"Place\":522111}\n",
    "Players[\"Rohit\"] = {\"Skill\":\"Batsman\", \"Place\":522111}\n",
    "Players[\"Bhumbra\"] = {\"Skill\":\"Bowler\", \"Place\":522111}\n",
    "print(Players)\n",
    "\n",
    "\n",
    "new_dict = {\"Rahul\":{\"Skill\":[\"Batsman\", \"keeper\"], \"Place\":000000}}\n",
    "\n",
    "Players.update(new_dict)\n",
    "\n",
    "Players.setdefault(\"Kohli\") # If Kohli is there, comeout. If not make entry with value None\n",
    "print(Players)\n",
    "\n",
    "data = Players.fromkeys([\"Kohli\", \"Rohit2\"],100000)\n",
    "print(data)"
   ]
  },
  {
   "cell_type": "code",
   "execution_count": 23,
   "id": "4e07c183-6f75-4073-9c00-e876ba4cbdd8",
   "metadata": {},
   "outputs": [
    {
     "ename": "SyntaxError",
     "evalue": "invalid syntax (2202037565.py, line 1)",
     "output_type": "error",
     "traceback": [
      "\u001b[0;36m  Cell \u001b[0;32mIn[23], line 1\u001b[0;36m\u001b[0m\n\u001b[0;31m    Players.\u001b[0m\n\u001b[0m            ^\u001b[0m\n\u001b[0;31mSyntaxError\u001b[0m\u001b[0;31m:\u001b[0m invalid syntax\n"
     ]
    }
   ],
   "source": [
    "\n",
    "\n"
   ]
  },
  {
   "cell_type": "code",
   "execution_count": 6,
   "id": "8e87ebac-43a1-4c49-9ab3-057a46d4b8a3",
   "metadata": {},
   "outputs": [],
   "source": [
    "#Sets\n"
   ]
  },
  {
   "cell_type": "code",
   "execution_count": 13,
   "id": "5e0c1782-36a6-44d7-939c-3d81a37f9e1f",
   "metadata": {},
   "outputs": [
    {
     "name": "stdout",
     "output_type": "stream",
     "text": [
      "{1, 3, 5, 8, 90, 11, 'string'}\n"
     ]
    }
   ],
   "source": [
    "s1 = {1,1,5,8,90,3,11,1,1,1,1,1,1,1, \"string\"}\n",
    "print(s1)\n",
    "# 1. Carries unique elements\n",
    "# 2. Unordered\n"
   ]
  },
  {
   "cell_type": "code",
   "execution_count": 30,
   "id": "32946b98-7d18-49ec-a7ff-abec35229768",
   "metadata": {},
   "outputs": [
    {
     "name": "stdout",
     "output_type": "stream",
     "text": [
      "\n",
      "'Kohli': 'Skill':  'Batsman', 'Bowler' , 'Place': 522111 , 'Rohit': 'Skill': 'Batsman', 'Place': 522111 , 'Bhumbra': 'Skill': 'Bowler', 'Place': 522111  \n",
      "'Kohli': 'Skill':  'Batsman', 'Bowler' , 'Place': 522111 , 'Rohit': 'Skill': 'Batsman', 'Place': 522111 , 'Bhumbra': 'Skill': 'Bowler', 'Place': 522111 , 'Rahul': 'Skill':  'Batsman', 'keeper' , 'Place': 0  \n",
      "'Kohli': 100000, 'Rohit2': 100000 \n",
      "[\"\\n'Kohli':\", \"'Skill':\", '', \"'Batsman',\", \"'Bowler'\", ',', \"'Place':\", '522111', ',', \"'Rohit':\", \"'Skill':\", \"'Batsman',\", \"'Place':\", '522111', ',', \"'Bhumbra':\", \"'Skill':\", \"'Bowler',\", \"'Place':\", '522111', '', \"\\n'Kohli':\", \"'Skill':\", '', \"'Batsman',\", \"'Bowler'\", ',', \"'Place':\", '522111', ',', \"'Rohit':\", \"'Skill':\", \"'Batsman',\", \"'Place':\", '522111', ',', \"'Bhumbra':\", \"'Skill':\", \"'Bowler',\", \"'Place':\", '522111', ',', \"'Rahul':\", \"'Skill':\", '', \"'Batsman',\", \"'keeper'\", ',', \"'Place':\", '0', '', \"\\n'Kohli':\", '100000,', \"'Rohit2':\", '100000', '']\n",
      "Unique strings\n",
      "\n",
      " {'', \"'Bowler'\", \"'Batsman',\", \"'Bowler',\", ',', '0', '100000', '522111', \"'Rahul':\", '100000,', \"\\n'Kohli':\", \"'Place':\", \"'keeper'\", \"'Skill':\", \"'Rohit2':\", \"'Rohit':\", \"'Bhumbra':\"}\n",
      "{'': 6, \"'Bowler'\": 2, \"'Batsman',\": 5, \"'Bowler',\": 2, ',': 8, '0': 1, '100000': 1, '522111': 6, \"'Rahul':\": 1, '100000,': 1, \"\\n'Kohli':\": 3, \"'Place':\": 7, \"'keeper'\": 1, \"'Skill':\": 7, \"'Rohit2':\": 1, \"'Rohit':\": 2, \"'Bhumbra':\": 2}\n"
     ]
    }
   ],
   "source": [
    "import json\n",
    "\n",
    "s1 = '''\n",
    "{'Kohli': {'Skill': ['Batsman', 'Bowler'], 'Place': 522111}, 'Rohit': {'Skill': 'Batsman', 'Place': 522111}, 'Bhumbra': {'Skill': 'Bowler', 'Place': 522111}}\n",
    "{'Kohli': {'Skill': ['Batsman', 'Bowler'], 'Place': 522111}, 'Rohit': {'Skill': 'Batsman', 'Place': 522111}, 'Bhumbra': {'Skill': 'Bowler', 'Place': 522111}, 'Rahul': {'Skill': ['Batsman', 'keeper'], 'Place': 0}}\n",
    "{'Kohli': 100000, 'Rohit2': 100000}'''\n",
    "s2 = s1.replace(\"{\",\"\")\n",
    "s3 = s2.replace(\"}\",\" \")\n",
    "s4 = s3.replace(\"[\",\" \")\n",
    "s5 = s4.replace(\"]\",\" \")\n",
    "\n",
    "print(s5)\n",
    "\n",
    "# 1) Make sub strings:\n",
    "strings = s5.split(\" \")\n",
    "print(strings)\n",
    "\n",
    "# 2) Get unique sub strings\n",
    "unique_strings = set(strings)\n",
    "print(\"Unique strings\\n\\n\", unique_strings)\n",
    "\n",
    "# 3) Create a dictionary\n",
    "result = {}\n",
    "for ustring in unique_strings:\n",
    "    count = strings.count(ustring)\n",
    "    #print(\"%20s: %5d\"%(ustring, count))\n",
    "    result[ustring] = count\n",
    "print(result)\n",
    "\n",
    "\n"
   ]
  },
  {
   "cell_type": "code",
   "execution_count": 21,
   "id": "58766c61-6594-4319-affa-bf8e77514f09",
   "metadata": {},
   "outputs": [
    {
     "name": "stdout",
     "output_type": "stream",
     "text": [
      "{1, 2, 3}\n"
     ]
    }
   ],
   "source": [
    "l1 = [1,2,3,1,1,1,1,1,1]\n",
    "s1 = set(l1)\n",
    "print(s1)"
   ]
  },
  {
   "cell_type": "code",
   "execution_count": null,
   "id": "f7e89ddc-c72b-4f0d-a208-c5de2073a37d",
   "metadata": {},
   "outputs": [],
   "source": []
  }
 ],
 "metadata": {
  "kernelspec": {
   "display_name": "Python 3 (ipykernel)",
   "language": "python",
   "name": "python3"
  },
  "language_info": {
   "codemirror_mode": {
    "name": "ipython",
    "version": 3
   },
   "file_extension": ".py",
   "mimetype": "text/x-python",
   "name": "python",
   "nbconvert_exporter": "python",
   "pygments_lexer": "ipython3",
   "version": "3.12.7"
  }
 },
 "nbformat": 4,
 "nbformat_minor": 5
}
