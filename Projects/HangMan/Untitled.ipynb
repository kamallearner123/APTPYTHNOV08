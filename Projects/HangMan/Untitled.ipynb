{
 "cells": [
  {
   "cell_type": "code",
   "execution_count": 1,
   "id": "50ce69cb-695e-4b81-8b2e-ff0ff9500309",
   "metadata": {},
   "outputs": [
    {
     "name": "stdout",
     "output_type": "stream",
     "text": [
      "Welcome to Hangman!\n",
      "Guess the word:\n",
      "_ _ _ _ _ _\n"
     ]
    },
    {
     "name": "stdin",
     "output_type": "stream",
     "text": [
      "\n",
      "Enter a letter:  a\n"
     ]
    },
    {
     "name": "stdout",
     "output_type": "stream",
     "text": [
      "'a' is not in the word. Attempts left: 6\n",
      "_ _ _ _ _ _\n"
     ]
    },
    {
     "name": "stdin",
     "output_type": "stream",
     "text": [
      "\n",
      "Enter a letter:  p\n"
     ]
    },
    {
     "name": "stdout",
     "output_type": "stream",
     "text": [
      "Good job! 'p' is in the word.\n",
      "p _ _ _ _ _\n"
     ]
    },
    {
     "name": "stdin",
     "output_type": "stream",
     "text": [
      "\n",
      "Enter a letter:  y\n"
     ]
    },
    {
     "name": "stdout",
     "output_type": "stream",
     "text": [
      "Good job! 'y' is in the word.\n",
      "p y _ _ _ _\n"
     ]
    },
    {
     "name": "stdin",
     "output_type": "stream",
     "text": [
      "\n",
      "Enter a letter:  t\n"
     ]
    },
    {
     "name": "stdout",
     "output_type": "stream",
     "text": [
      "Good job! 't' is in the word.\n",
      "p y t _ _ _\n"
     ]
    },
    {
     "name": "stdin",
     "output_type": "stream",
     "text": [
      "\n",
      "Enter a letter:  h\n"
     ]
    },
    {
     "name": "stdout",
     "output_type": "stream",
     "text": [
      "Good job! 'h' is in the word.\n",
      "p y t h _ _\n"
     ]
    },
    {
     "name": "stdin",
     "output_type": "stream",
     "text": [
      "\n",
      "Enter a letter:  o\n"
     ]
    },
    {
     "name": "stdout",
     "output_type": "stream",
     "text": [
      "Good job! 'o' is in the word.\n",
      "p y t h o _\n"
     ]
    },
    {
     "name": "stdin",
     "output_type": "stream",
     "text": [
      "\n",
      "Enter a letter:  n\n"
     ]
    },
    {
     "name": "stdout",
     "output_type": "stream",
     "text": [
      "Good job! 'n' is in the word.\n",
      "p y t h o n\n",
      "\n",
      "Congratulations! You guessed the word: python\n"
     ]
    }
   ],
   "source": [
    "import random\n",
    "\n",
    "def hangman():\n",
    "    # List of words\n",
    "    words = [\"python\", \"rust\", \"programming\", \"developer\", \"openai\"]\n",
    "    word = random.choice(words)  # Randomly choose a word\n",
    "    guessed_word = [\"_\"] * len(word)  # Create a list of underscores\n",
    "    attempts = 7  # Number of attempts\n",
    "    guessed_letters = []  # Track guessed letters\n",
    "\n",
    "    print(\"Welcome to Hangman!\")\n",
    "    print(\"Guess the word:\")\n",
    "    print(\" \".join(guessed_word))\n",
    "\n",
    "    while attempts > 0:\n",
    "        guess = input(\"\\nEnter a letter: \").lower()\n",
    "\n",
    "        # Check if the letter has already been guessed\n",
    "        if guess in guessed_letters:\n",
    "            print(f\"You already guessed '{guess}'. Try a different letter.\")\n",
    "            continue\n",
    "\n",
    "        guessed_letters.append(guess)\n",
    "\n",
    "        # Check if the guess is in the word\n",
    "        if guess in word:\n",
    "            print(f\"Good job! '{guess}' is in the word.\")\n",
    "            for i in range(len(word)):\n",
    "                if word[i] == guess:\n",
    "                    guessed_word[i] = guess\n",
    "        else:\n",
    "            attempts -= 1\n",
    "            print(f\"'{guess}' is not in the word. Attempts left: {attempts}\")\n",
    "\n",
    "        print(\" \".join(guessed_word))\n",
    "\n",
    "        # Check if the player has guessed the entire word\n",
    "        if \"_\" not in guessed_word:\n",
    "            print(\"\\nCongratulations! You guessed the word:\", word)\n",
    "            break\n",
    "    else:\n",
    "        print(\"\\nGame over! The word was:\", word)\n",
    "\n",
    "# Run the game\n",
    "if __name__ == \"__main__\":\n",
    "    hangman()\n"
   ]
  },
  {
   "cell_type": "code",
   "execution_count": null,
   "id": "99c65fba-5fb5-4f8d-b1a4-e7e9ddbe799b",
   "metadata": {},
   "outputs": [],
   "source": []
  }
 ],
 "metadata": {
  "kernelspec": {
   "display_name": "Python 3 (ipykernel)",
   "language": "python",
   "name": "python3"
  },
  "language_info": {
   "codemirror_mode": {
    "name": "ipython",
    "version": 3
   },
   "file_extension": ".py",
   "mimetype": "text/x-python",
   "name": "python",
   "nbconvert_exporter": "python",
   "pygments_lexer": "ipython3",
   "version": "3.12.7"
  }
 },
 "nbformat": 4,
 "nbformat_minor": 5
}
