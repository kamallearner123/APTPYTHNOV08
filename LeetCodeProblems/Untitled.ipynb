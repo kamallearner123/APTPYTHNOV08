{
 "cells": [
  {
   "cell_type": "code",
   "execution_count": 14,
   "id": "ea17e7cf-4997-470b-adb0-188109df3c15",
   "metadata": {},
   "outputs": [
    {
     "name": "stdout",
     "output_type": "stream",
     "text": [
      "['e']\n",
      "['e', 'd', 'e']\n",
      "['e', 'd', 'c', 'd', 'e']\n",
      "['e', 'd', 'c', 'b', 'c', 'd', 'e']\n",
      "['e', 'd', 'c', 'b', 'a', 'b', 'c', 'd', 'e']\n",
      "--------e--------\n",
      "------e-d-e------\n",
      "----e-d-c-d-e----\n",
      "--e-d-c-b-c-d-e--\n",
      "e-d-c-b-a-b-c-d-e\n",
      "--e-d-c-b-c-d-e--\n",
      "----e-d-c-d-e----\n",
      "------e-d-e------\n",
      "--------e--------\n"
     ]
    }
   ],
   "source": [
    "\n",
    "\n",
    "def print_sequence(num):\n",
    "    letters = \"abcdefghijklmnopqrstuvwxyz\"\n",
    "    result = []\n",
    "    rev_order = list(letters[num-1::-1]) # ['e', 'd', ....'a']\n",
    "    in_order = list(letters[1:num]) # ['b','c','d','e']\n",
    "\n",
    "    result = []\n",
    "    for i in range(1,num+1): #1,2,3,4,5\n",
    "        print(rev_order[:i]+in_order[num-i:num])\n",
    "        final = \"-\".join(rev_order[:i]+in_order[num-i:num])\n",
    "        final = final.center((num*4-3), \"-\")        \n",
    "        result.append(final)\n",
    "\n",
    "    for line in result[num-2::-1]:\n",
    "        result.append(line)\n",
    "\n",
    "    for line in result:\n",
    "        print(line)\n",
    "\n",
    "print_sequence(5)"
   ]
  },
  {
   "cell_type": "code",
   "execution_count": 13,
   "id": "3ed21650-d4ca-41fb-9fe0-d84c9abcd62c",
   "metadata": {},
   "outputs": [
    {
     "name": "stdout",
     "output_type": "stream",
     "text": [
      "[]\n"
     ]
    }
   ],
   "source": [
    "letters = \"abcdefghijklmnopqrstuvwxyz\"\n",
    "num = 5\n",
    "rev_order = list(letters[num-1::-1]) # ['e', 'd', ....'a']\n",
    "in_order = list(letters[1:num]) # ['b','c','d','e']\n",
    "\n",
    "print(in_order[4:5])"
   ]
  },
  {
   "cell_type": "code",
   "execution_count": 26,
   "id": "ff590919-e6e8-42f0-9a20-fba585f5596f",
   "metadata": {},
   "outputs": [
    {
     "name": "stdin",
     "output_type": "stream",
     "text": [
      " 5\n"
     ]
    },
    {
     "name": "stdout",
     "output_type": "stream",
     "text": [
      "------a------\n",
      "-----a-b-----\n",
      "----a-b-c----\n",
      "---a-b-c-d---\n",
      "d-c-b-a-b-c-d\n",
      "--d-c-b-c-d--\n",
      "----d-c-d----\n",
      "------d------\n",
      "-------------\n"
     ]
    },
    {
     "data": {
      "text/plain": [
       "'\\n-----a-----\\n---b-a-b---\\n-c-b-a-b-c-\\n\\n'"
      ]
     },
     "execution_count": 26,
     "metadata": {},
     "output_type": "execute_result"
    }
   ],
   "source": [
    "def print_rangoli(size):\n",
    "    # your code goes here\n",
    "    n=size\n",
    "    l1=list(map(chr,range(97,97+size-1)))#ASCII valuse range between 97 to 123 and chr and using map function in the list.\n",
    "    x = l1[n-1::-1] + l1[1:n]#reversedorder+originalorder\n",
    "    m=len(\"-\".join(x))#join function\n",
    "    for i in range(1,n):\n",
    "        print(\"-\".join(l1[i:1]+l1[:i:1]).center(m,\"-\"))\n",
    "    for i in range(n,0,-1):\n",
    "        print(\"-\".join(l1[n-1:n-i:-1]+l1[n-i:n]).center(m,\"-\"))\n",
    "\n",
    "n = int(input())\n",
    "print_rangoli(n)\n",
    "\n",
    "'''\n",
    "-----a-----\n",
    "---b-a-b---\n",
    "-c-b-a-b-c-\n",
    "\n",
    "'''"
   ]
  },
  {
   "cell_type": "code",
   "execution_count": 15,
   "id": "336bd765-3799-4a63-9417-8457979cc334",
   "metadata": {},
   "outputs": [
    {
     "name": "stdout",
     "output_type": "stream",
     "text": [
      "a\n"
     ]
    }
   ],
   "source": [
    "print(chr(97))"
   ]
  },
  {
   "cell_type": "code",
   "execution_count": 11,
   "id": "ea44ac60-decf-4f08-b3fc-166efd87da17",
   "metadata": {},
   "outputs": [
    {
     "name": "stdout",
     "output_type": "stream",
     "text": [
      "real = 12, imaginary = 23\n",
      "real = 20, imaginary = 60\n",
      "real = 5, imaginary = 6\n"
     ]
    }
   ],
   "source": [
    "class Comp:\n",
    "    def __init__(self, real, im):\n",
    "        self.im = im\n",
    "        self.real = real\n",
    "\n",
    "    def __add__(self, other):\n",
    "        result = Comp(self.real+other.real, self.im+other.im)\n",
    "        return result\n",
    "\n",
    "    def __str__(self):\n",
    "        return f\"real = {self.real}, imaginary = {self.im}\"\n",
    "\n",
    "    def __mul__(self, other):\n",
    "        result = Comp(self.real*other.real, self.im*other.im)\n",
    "        return result\n",
    "        \n",
    "    def __mod__(self, other):\n",
    "        return Comp(1,2)\n",
    "\n",
    "    def __floordiv__(self, other):\n",
    "        result = Comp(self.real//other.real, self.im//other.im)\n",
    "        return result\n",
    "        \n",
    "c1 = Comp(10,20)# 1+2j\n",
    "c2 = Comp(2,3)# 2+3j\n",
    "c3 = c1+c2\n",
    "print(c3)\n",
    "c4 = c1*c2\n",
    "print(c4)\n",
    "c5 = c1//c2\n",
    "print(c5)"
   ]
  },
  {
   "cell_type": "code",
   "execution_count": 20,
   "id": "79ffc1d1-fffd-4b57-a814-bb89c0e4bfd5",
   "metadata": {},
   "outputs": [
    {
     "name": "stdout",
     "output_type": "stream",
     "text": [
      "---------------.|.---------------\n",
      "------------.|..|..|.------------\n",
      "---------.|..|..|..|..|.---------\n",
      "------.|..|..|..|..|..|..|.------\n",
      "---.|..|..|..|..|..|..|..|..|.---\n",
      "-------------welcome-------------\n",
      "---------------.|.---------------\n",
      "------------.|..|..|.------------\n",
      "---------.|..|..|..|..|.---------\n",
      "------.|..|..|..|..|..|..|.------\n",
      "---.|..|..|..|..|..|..|..|..|.---\n"
     ]
    }
   ],
   "source": [
    "\n",
    "m = 11\n",
    "n = 33\n",
    "\n",
    "logo = \".|.\"\n",
    "\n",
    "lines = []\n",
    "count = 1\n",
    "for i in range(m//2):\n",
    "    logos = logo*count\n",
    "    line = logos.center(n,\"-\")\n",
    "    lines.append(line)\n",
    "    count+=2\n",
    "lines.append(\"welcome\".center(n,\"-\"))\n",
    "count = 1\n",
    "for i in range(m//2,0,-1):\n",
    "    logos = logo*count\n",
    "    line = logos.center(n,\"-\")\n",
    "    lines.append(line)\n",
    "    count+=2\n",
    "\n",
    "\n",
    "for line in lines:\n",
    "    print(line)\n"
   ]
  },
  {
   "cell_type": "code",
   "execution_count": null,
   "id": "12b43db7-ea8f-43c9-8535-b853a827bc4a",
   "metadata": {},
   "outputs": [],
   "source": []
  }
 ],
 "metadata": {
  "kernelspec": {
   "display_name": "Python 3 (ipykernel)",
   "language": "python",
   "name": "python3"
  },
  "language_info": {
   "codemirror_mode": {
    "name": "ipython",
    "version": 3
   },
   "file_extension": ".py",
   "mimetype": "text/x-python",
   "name": "python",
   "nbconvert_exporter": "python",
   "pygments_lexer": "ipython3",
   "version": "3.12.7"
  }
 },
 "nbformat": 4,
 "nbformat_minor": 5
}
