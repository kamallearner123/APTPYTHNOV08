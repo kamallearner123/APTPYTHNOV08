{
 "cells": [
  {
   "cell_type": "code",
   "execution_count": 1,
   "id": "f4693322-8daf-406b-829d-efd093ca1bd1",
   "metadata": {},
   "outputs": [
    {
     "name": "stdout",
     "output_type": "stream",
     "text": [
      "Analysis Results:\n",
      "Total loops found: 3\n",
      "Maximum nested loop depth: 2\n"
     ]
    }
   ],
   "source": [
    "import ast\n",
    "\n",
    "class ComplexityAnalyzer(ast.NodeVisitor):\n",
    "    def __init__(self):\n",
    "        self.loop_count = 0\n",
    "        self.max_depth = 0\n",
    "        self.current_depth = 0\n",
    "\n",
    "    def visit_For(self, node):\n",
    "        \"\"\"Handle 'for' loops\"\"\"\n",
    "        self.loop_count += 1\n",
    "        self.current_depth += 1\n",
    "        self.max_depth = max(self.max_depth, self.current_depth)\n",
    "        self.generic_visit(node)\n",
    "        self.current_depth -= 1\n",
    "\n",
    "    def visit_While(self, node):\n",
    "        \"\"\"Handle 'while' loops\"\"\"\n",
    "        self.loop_count += 1\n",
    "        self.current_depth += 1\n",
    "        self.max_depth = max(self.max_depth, self.current_depth)\n",
    "        self.generic_visit(node)\n",
    "        self.current_depth -= 1\n",
    "\n",
    "    def analyze(self, code):\n",
    "        tree = ast.parse(code)\n",
    "        self.visit(tree)\n",
    "        return {\n",
    "            \"total_loops\": self.loop_count,\n",
    "            \"max_nested_depth\": self.max_depth\n",
    "        }\n",
    "\n",
    "# Sample Python code to analyze\n",
    "code_to_analyze = \"\"\"\n",
    "def sample_function(n):\n",
    "    for i in range(n):\n",
    "        for j in range(n):\n",
    "            print(i, j)\n",
    "    while n > 0:\n",
    "        n -= 1\n",
    "\"\"\"\n",
    "\n",
    "# Analyze the code\n",
    "analyzer = ComplexityAnalyzer()\n",
    "result = analyzer.analyze(code_to_analyze)\n",
    "\n",
    "print(\"Analysis Results:\")\n",
    "print(f\"Total loops found: {result['total_loops']}\")\n",
    "print(f\"Maximum nested loop depth: {result['max_nested_depth']}\")\n"
   ]
  },
  {
   "cell_type": "code",
   "execution_count": 2,
   "id": "ff8a7d49-6116-43d5-ab36-989288aadb8e",
   "metadata": {},
   "outputs": [
    {
     "name": "stdout",
     "output_type": "stream",
     "text": [
      "Analyzing sample_function with input size 100000...\n",
      "Function Result: 4999950000\n",
      "Time taken: 0.061352 seconds\n",
      "Current memory usage: 0.000626 MB\n",
      "Peak memory usage: 0.000927 MB\n"
     ]
    }
   ],
   "source": [
    "import time\n",
    "import tracemalloc\n",
    "\n",
    "def sample_function(n):\n",
    "    \"\"\"Example function: Calculate the sum of first n numbers\"\"\"\n",
    "    total = 0\n",
    "    for i in range(n):\n",
    "        total += i\n",
    "    return total\n",
    "\n",
    "def measure_time_and_space(func, *args):\n",
    "    # Measure time complexity\n",
    "    start_time = time.time()\n",
    "    tracemalloc.start()  # Start measuring memory\n",
    "    result = func(*args)\n",
    "    current, peak = tracemalloc.get_traced_memory()  # Memory usage\n",
    "    tracemalloc.stop()\n",
    "    end_time = time.time()\n",
    "    \n",
    "    # Print results\n",
    "    print(f\"Function Result: {result}\")\n",
    "    print(f\"Time taken: {end_time - start_time:.6f} seconds\")\n",
    "    print(f\"Current memory usage: {current / 10**6:.6f} MB\")\n",
    "    print(f\"Peak memory usage: {peak / 10**6:.6f} MB\")\n",
    "\n",
    "# Test the function\n",
    "n = 100000\n",
    "print(f\"Analyzing sample_function with input size {n}...\")\n",
    "measure_time_and_space(sample_function, n)\n"
   ]
  },
  {
   "cell_type": "code",
   "execution_count": null,
   "id": "ba6b5d4f-c3e4-410d-bb07-1d111b5fd293",
   "metadata": {},
   "outputs": [],
   "source": []
  },
  {
   "cell_type": "code",
   "execution_count": null,
   "id": "c1030fd7-0197-450d-a138-aeed46f8e93a",
   "metadata": {},
   "outputs": [],
   "source": []
  },
  {
   "cell_type": "code",
   "execution_count": 3,
   "id": "7398421c-224b-4861-8858-f73a206d8f85",
   "metadata": {},
   "outputs": [
    {
     "name": "stdout",
     "output_type": "stream",
     "text": [
      "[0, 1, 2, 3, 4, 5, 6, 7, 8, 9]\n"
     ]
    }
   ],
   "source": [
    "# Why python\n",
    "\n",
    "Queue = [] # empty list: FIFO\n",
    "\n",
    "for i in range(10): # insert 10 numbers\n",
    "    Queue.append(i)\n",
    "    \n",
    "print(Queue)\n",
    "    "
   ]
  },
  {
   "cell_type": "code",
   "execution_count": 33,
   "id": "9fc540d3-6317-49dd-93d5-cd2a3a7eea6a",
   "metadata": {},
   "outputs": [
    {
     "name": "stdout",
     "output_type": "stream",
     "text": [
      "[0, 2, 4]\n"
     ]
    }
   ],
   "source": [
    "# Lists\n",
    "\n",
    "# 1) Creating\n",
    "l1 = [1,2,3,4, \"name\", True, 1.1, 1+2j, \"last\"] # start [1,2] : list data type\n",
    "l2 = [\"first\", \"second\"]\n",
    "# print(l1)\n",
    "# print(l2)\n",
    "\n",
    "# 2) Access\n",
    "# print(l1[0:3]) # 1,2,3\n",
    "# print(l1[-1]) # \n",
    "# print(l1[-2])\n",
    "#print(l1[0:9]) # \n",
    "\n",
    "# start(0):end(length):increment (1)\n",
    "# 0:  => 0:len(l1)\n",
    "# 3:  => 3:len(l1)\n",
    "# :3  => 0:3\n",
    "#           -3-2-1\n",
    "l1 = [0,1,2,3,4,5]\n",
    "\n",
    "print(l1[0::2]) # -1:-len(l1):-1 (increment)\n",
    "    \n",
    "# 3) Oprations: adding new element at tail, adding new element at beginning\n",
    "# 4) for: while\n",
    "# 5) Copying"
   ]
  },
  {
   "cell_type": "code",
   "execution_count": 44,
   "id": "e955ce9f-03e1-4d0f-84f6-86dd15f36333",
   "metadata": {},
   "outputs": [
    {
     "name": "stdout",
     "output_type": "stream",
     "text": [
      "3\n",
      "End of the program\n"
     ]
    }
   ],
   "source": [
    "# Find any one duplicate:\n",
    "# input: [1,2,3,3,4,4]\n",
    "\n",
    "l1 = [1,2,3,3,4,4]\n",
    "flag = False\n",
    "for i in range(len(l1)): # 0, 9: n time\n",
    "    first = l1[i]\n",
    "    for j in range(i+1, len(l1)): # i+1, 9: n times\n",
    "        second = l1[j]\n",
    "        if first == second:\n",
    "            print(first)\n",
    "            flag = True\n",
    "            break\n",
    "    if flag == True:\n",
    "        break\n",
    "\n",
    "# O(n)\n",
    "# O(n*n)\n",
    "print(\"End of the program\")"
   ]
  },
  {
   "cell_type": "code",
   "execution_count": 42,
   "id": "da4eadc9-888f-4518-b21a-acb5dc7435e6",
   "metadata": {},
   "outputs": [
    {
     "name": "stdout",
     "output_type": "stream",
     "text": [
      "[0, 1, 2, 3, 4, 5, 6, 7, 8, 9]\n"
     ]
    }
   ],
   "source": [
    "l1 = list(range(0,10))\n",
    "print(l1)"
   ]
  },
  {
   "cell_type": "code",
   "execution_count": 47,
   "id": "6cea56a9-2d66-4ac7-ac8d-7be97c1b494d",
   "metadata": {},
   "outputs": [
    {
     "name": "stdout",
     "output_type": "stream",
     "text": [
      "[-1, 1, 2, 3, 3, 4, 4, 4, 5, 5]\n"
     ]
    }
   ],
   "source": [
    "\n",
    "l1 = [1, 2, -1, 5, 4, 5, 3, 3, 4, 4]\n",
    "l1.sort()\n",
    "print(l1)\n"
   ]
  },
  {
   "cell_type": "code",
   "execution_count": 53,
   "id": "7e06307b-efd8-40c7-860f-535cf3b4f4f7",
   "metadata": {},
   "outputs": [
    {
     "name": "stdout",
     "output_type": "stream",
     "text": [
      "{'hello', 1, 2, 3, 1.1, 5}\n",
      "Yes\n",
      "hello\n",
      "1\n",
      "2\n",
      "3\n",
      "1.1\n",
      "5\n",
      "{5}\n"
     ]
    }
   ],
   "source": [
    "#  Sets: Keeps only unique\n",
    "'''\n",
    "1) {1,2,3}, set([1,2,3,1])\n",
    "2) No indexing\n",
    "3) if 1 in set1:\n",
    "'''\n",
    "set1 = set([1,2,3,1,1,5,\"hello\",1.1])\n",
    "set2 = {1,2,3,4}\n",
    "print(set1)\n",
    "\n",
    "if 1 in set1:\n",
    "    print(\"Yes\")\n",
    "\n",
    "for element in set1:\n",
    "    print(element)\n",
    "\n",
    "\n",
    "###### \n",
    "s1 = {4,5,6}\n",
    "s2 = {5,7}\n",
    "\n",
    "print(s1 & s2)\n"
   ]
  },
  {
   "cell_type": "code",
   "execution_count": 57,
   "id": "be8ef0e7-8548-4f49-8308-99563d70e398",
   "metadata": {},
   "outputs": [
    {
     "name": "stdout",
     "output_type": "stream",
     "text": [
      "{5}\n",
      "{4, 5, 6, 7}\n",
      "{4, 6}\n",
      "Help on class set in module builtins:\n",
      "\n",
      "class set(object)\n",
      " |  set() -> new empty set object\n",
      " |  set(iterable) -> new set object\n",
      " |\n",
      " |  Build an unordered collection of unique elements.\n",
      " |\n",
      " |  Methods defined here:\n",
      " |\n",
      " |  __and__(self, value, /)\n",
      " |      Return self&value.\n",
      " |\n",
      " |  __contains__(...)\n",
      " |      x.__contains__(y) <==> y in x.\n",
      " |\n",
      " |  __eq__(self, value, /)\n",
      " |      Return self==value.\n",
      " |\n",
      " |  __ge__(self, value, /)\n",
      " |      Return self>=value.\n",
      " |\n",
      " |  __getattribute__(self, name, /)\n",
      " |      Return getattr(self, name).\n",
      " |\n",
      " |  __gt__(self, value, /)\n",
      " |      Return self>value.\n",
      " |\n",
      " |  __iand__(self, value, /)\n",
      " |      Return self&=value.\n",
      " |\n",
      " |  __init__(self, /, *args, **kwargs)\n",
      " |      Initialize self.  See help(type(self)) for accurate signature.\n",
      " |\n",
      " |  __ior__(self, value, /)\n",
      " |      Return self|=value.\n",
      " |\n",
      " |  __isub__(self, value, /)\n",
      " |      Return self-=value.\n",
      " |\n",
      " |  __iter__(self, /)\n",
      " |      Implement iter(self).\n",
      " |\n",
      " |  __ixor__(self, value, /)\n",
      " |      Return self^=value.\n",
      " |\n",
      " |  __le__(self, value, /)\n",
      " |      Return self<=value.\n",
      " |\n",
      " |  __len__(self, /)\n",
      " |      Return len(self).\n",
      " |\n",
      " |  __lt__(self, value, /)\n",
      " |      Return self<value.\n",
      " |\n",
      " |  __ne__(self, value, /)\n",
      " |      Return self!=value.\n",
      " |\n",
      " |  __or__(self, value, /)\n",
      " |      Return self|value.\n",
      " |\n",
      " |  __rand__(self, value, /)\n",
      " |      Return value&self.\n",
      " |\n",
      " |  __reduce__(...)\n",
      " |      Return state information for pickling.\n",
      " |\n",
      " |  __repr__(self, /)\n",
      " |      Return repr(self).\n",
      " |\n",
      " |  __ror__(self, value, /)\n",
      " |      Return value|self.\n",
      " |\n",
      " |  __rsub__(self, value, /)\n",
      " |      Return value-self.\n",
      " |\n",
      " |  __rxor__(self, value, /)\n",
      " |      Return value^self.\n",
      " |\n",
      " |  __sizeof__(...)\n",
      " |      S.__sizeof__() -> size of S in memory, in bytes\n",
      " |\n",
      " |  __sub__(self, value, /)\n",
      " |      Return self-value.\n",
      " |\n",
      " |  __xor__(self, value, /)\n",
      " |      Return self^value.\n",
      " |\n",
      " |  add(...)\n",
      " |      Add an element to a set.\n",
      " |\n",
      " |      This has no effect if the element is already present.\n",
      " |\n",
      " |  clear(...)\n",
      " |      Remove all elements from this set.\n",
      " |\n",
      " |  copy(...)\n",
      " |      Return a shallow copy of a set.\n",
      " |\n",
      " |  difference(...)\n",
      " |      Return the difference of two or more sets as a new set.\n",
      " |\n",
      " |      (i.e. all elements that are in this set but not the others.)\n",
      " |\n",
      " |  difference_update(...)\n",
      " |      Remove all elements of another set from this set.\n",
      " |\n",
      " |  discard(...)\n",
      " |      Remove an element from a set if it is a member.\n",
      " |\n",
      " |      Unlike set.remove(), the discard() method does not raise\n",
      " |      an exception when an element is missing from the set.\n",
      " |\n",
      " |  intersection(...)\n",
      " |      Return the intersection of two sets as a new set.\n",
      " |\n",
      " |      (i.e. all elements that are in both sets.)\n",
      " |\n",
      " |  intersection_update(...)\n",
      " |      Update a set with the intersection of itself and another.\n",
      " |\n",
      " |  isdisjoint(...)\n",
      " |      Return True if two sets have a null intersection.\n",
      " |\n",
      " |  issubset(self, other, /)\n",
      " |      Test whether every element in the set is in other.\n",
      " |\n",
      " |  issuperset(self, other, /)\n",
      " |      Test whether every element in other is in the set.\n",
      " |\n",
      " |  pop(...)\n",
      " |      Remove and return an arbitrary set element.\n",
      " |      Raises KeyError if the set is empty.\n",
      " |\n",
      " |  remove(...)\n",
      " |      Remove an element from a set; it must be a member.\n",
      " |\n",
      " |      If the element is not a member, raise a KeyError.\n",
      " |\n",
      " |  symmetric_difference(...)\n",
      " |      Return the symmetric difference of two sets as a new set.\n",
      " |\n",
      " |      (i.e. all elements that are in exactly one of the sets.)\n",
      " |\n",
      " |  symmetric_difference_update(...)\n",
      " |      Update a set with the symmetric difference of itself and another.\n",
      " |\n",
      " |  union(...)\n",
      " |      Return the union of sets as a new set.\n",
      " |\n",
      " |      (i.e. all elements that are in either set.)\n",
      " |\n",
      " |  update(...)\n",
      " |      Update a set with the union of itself and others.\n",
      " |\n",
      " |  ----------------------------------------------------------------------\n",
      " |  Class methods defined here:\n",
      " |\n",
      " |  __class_getitem__(...)\n",
      " |      See PEP 585\n",
      " |\n",
      " |  ----------------------------------------------------------------------\n",
      " |  Static methods defined here:\n",
      " |\n",
      " |  __new__(*args, **kwargs)\n",
      " |      Create and return a new object.  See help(type) for accurate signature.\n",
      " |\n",
      " |  ----------------------------------------------------------------------\n",
      " |  Data and other attributes defined here:\n",
      " |\n",
      " |  __hash__ = None\n",
      "\n",
      "None\n"
     ]
    }
   ],
   "source": [
    "\n",
    "###### \n",
    "s1 = {4,5,6}\n",
    "s2 = {5,7}\n",
    "\n",
    "print(s1 & s2)\n",
    "print(s1 | s2)\n",
    "print(s1 - s2)\n",
    "print(help(set))"
   ]
  },
  {
   "cell_type": "code",
   "execution_count": 58,
   "id": "7436c2b5-ac20-410b-bcfe-61a9cef7e0eb",
   "metadata": {},
   "outputs": [
    {
     "name": "stdout",
     "output_type": "stream",
     "text": [
      "<class 'int'>\n"
     ]
    }
   ],
   "source": [
    "a = 10\n",
    "print(type(a))"
   ]
  },
  {
   "cell_type": "code",
   "execution_count": 61,
   "id": "63cbebb5-11ff-4b95-8688-ba18b340f8fd",
   "metadata": {},
   "outputs": [
    {
     "name": "stdout",
     "output_type": "stream",
     "text": [
      "hello world\n",
      "hello world\n",
      "lin1\n",
      "line2\n",
      "line3\n",
      "h\n"
     ]
    }
   ],
   "source": [
    "# Strings\n",
    "s1 = \"hello world\"\n",
    "s2 = 'hello world'\n",
    "s3 = '''lin1\n",
    "line2\n",
    "line3'''\n",
    "print(s1)\n",
    "print(s2)\n",
    "print(s3)\n",
    "\n",
    "print(s1[0])"
   ]
  },
  {
   "cell_type": "code",
   "execution_count": 63,
   "id": "9d82a33a-93f5-49d6-9640-1e3106190501",
   "metadata": {},
   "outputs": [
    {
     "name": "stdout",
     "output_type": "stream",
     "text": [
      "dlrow olleh\n"
     ]
    }
   ],
   "source": [
    "s1 = \"hello world\"\n",
    "s2 = s1[::-1]\n",
    "print(s2)"
   ]
  },
  {
   "cell_type": "code",
   "execution_count": 64,
   "id": "045f0a9a-06e9-4cf5-bf79-23c2d52dfc78",
   "metadata": {},
   "outputs": [
    {
     "name": "stdout",
     "output_type": "stream",
     "text": [
      "Equal\n"
     ]
    }
   ],
   "source": [
    "s1 = \"hi\"\n",
    "s2 = \"hi\"\n",
    "\n",
    "if s1 == s2:\n",
    "    print(\"Equal\")\n",
    "else:\n",
    "    print(\"Not equal\")"
   ]
  },
  {
   "cell_type": "code",
   "execution_count": 74,
   "id": "276abc07-eca9-44f0-ada7-52e4e180a22e",
   "metadata": {},
   "outputs": [
    {
     "name": "stdout",
     "output_type": "stream",
     "text": [
      "Not palindrome\n"
     ]
    }
   ],
   "source": [
    "\n",
    "# Find the given string is palindrome\n",
    "s1 = \"malayalam1\"\n",
    "for index in range(len(s1)//2):\n",
    "    if s1[index] != s1[len(s1)-1-index]: # 0, 9: 1,8, 2,7: \n",
    "        print(\"Not palindrome\")\n",
    "        break"
   ]
  },
  {
   "cell_type": "code",
   "execution_count": 69,
   "id": "9152ce91-e50e-44c3-8069-7147cca98b8d",
   "metadata": {},
   "outputs": [
    {
     "name": "stdout",
     "output_type": "stream",
     "text": [
      "2\n"
     ]
    }
   ],
   "source": [
    "a = 5\n",
    "print(a//2)"
   ]
  },
  {
   "cell_type": "code",
   "execution_count": null,
   "id": "8cc2cfcc-a8c5-42e9-ad7b-3df542a123c6",
   "metadata": {},
   "outputs": [],
   "source": []
  }
 ],
 "metadata": {
  "kernelspec": {
   "display_name": "Python 3 (ipykernel)",
   "language": "python",
   "name": "python3"
  },
  "language_info": {
   "codemirror_mode": {
    "name": "ipython",
    "version": 3
   },
   "file_extension": ".py",
   "mimetype": "text/x-python",
   "name": "python",
   "nbconvert_exporter": "python",
   "pygments_lexer": "ipython3",
   "version": "3.12.7"
  }
 },
 "nbformat": 4,
 "nbformat_minor": 5
}
