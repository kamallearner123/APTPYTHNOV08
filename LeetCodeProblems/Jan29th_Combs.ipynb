{
 "cells": [
  {
   "cell_type": "code",
   "execution_count": null,
   "id": "77091a54-63d8-4ce2-b636-32753e07a1e1",
   "metadata": {},
   "outputs": [],
   "source": [
    "from itertools import product\n",
    "\n",
    "def get_sequence(characters, length):\n",
    "    for combination in product(characters, repeat=length):\n",
    "        yield ''.join(combination)\n",
    "\n",
    "# Example usage\n",
    "iterator = get_sequence(\"abcd1234\", 4)\n",
    "\n",
    "# Print the first 255 sequences\n",
    "for _ in range(255):\n",
    "    print(next(iterator))"
   ]
  },
  {
   "cell_type": "code",
   "execution_count": null,
   "id": "65186265-f6f4-4fd7-a5a2-eed767a0374c",
   "metadata": {},
   "outputs": [],
   "source": [
    "def get_sequence(characters, length):\n",
    "    \n",
    "    while True:\n",
    "        yield ''.join(combination)\n",
    "\n",
    "# Example usage\n",
    "iterator = get_sequence(\"abcd1234\", 4)\n",
    "\n",
    "# Print the first 255 sequences\n",
    "for _ in range(255):\n",
    "    print(next(iterator))"
   ]
  },
  {
   "cell_type": "code",
   "execution_count": null,
   "id": "f25cc176-e7ee-4cab-b51b-a099cb1e14dc",
   "metadata": {},
   "outputs": [],
   "source": [
    "def fibnoccie(n):\n",
    "    if n==0 or n==1:\n",
    "        return 1\n",
    "    fibnoccie(n-1)+fibnoccie(n-2)\n",
    "print(fibnoccie(5))\n",
    "# 1,2,3,5,8\n",
    "# fib(5) = fib(4)+fib(3)\n",
    "# fib(4) = fib(3)+fib(2)\n",
    "\n",
    "\n",
    "def fact(n):# 5,4,3,2,1,0\n",
    "    if n == 0:\n",
    "        return 1\n",
    "    return fact(n-1)*n # fact(4)*5\n",
    "fact(5) "
   ]
  },
  {
   "cell_type": "code",
   "execution_count": 12,
   "id": "52ddf33d-a9d9-4d83-b501-5debef3203e0",
   "metadata": {},
   "outputs": [
    {
     "name": "stdout",
     "output_type": "stream",
     "text": [
      "aaa\n",
      "aba\n",
      "aab\n",
      "abb\n",
      "Iteration is done\n"
     ]
    },
    {
     "ename": "StopIteration",
     "evalue": ":)",
     "output_type": "error",
     "traceback": [
      "\u001b[0;31m---------------------------------------------------------------------------\u001b[0m",
      "\u001b[0;31mStopIteration\u001b[0m                             Traceback (most recent call last)",
      "Cell \u001b[0;32mIn[12], line 28\u001b[0m\n\u001b[1;32m     26\u001b[0m \u001b[38;5;66;03m# Print the first 255 sequences\u001b[39;00m\n\u001b[1;32m     27\u001b[0m \u001b[38;5;28;01mfor\u001b[39;00m _ \u001b[38;5;129;01min\u001b[39;00m \u001b[38;5;28mrange\u001b[39m(\u001b[38;5;241m255\u001b[39m):\n\u001b[0;32m---> 28\u001b[0m     \u001b[38;5;28mprint\u001b[39m(\u001b[38;5;28mnext\u001b[39m(iterator))\n",
      "\u001b[0;31mStopIteration\u001b[0m: :)"
     ]
    }
   ],
   "source": [
    "def get_sequence(characters, nums):\n",
    "    indx = [0]*nums # [0,0,0] [0-7,0-7,0-7]\n",
    "    while True:\n",
    "        \n",
    "        result = [characters[i] for i in indx]\n",
    "        yield ''.join(result)\n",
    "        indx[0]+=1\n",
    "\n",
    "# Example usage\n",
    "iterator = get_sequence(\"ab\", 3)\n",
    "\n",
    "# Print the first 255 sequences\n",
    "for _ in range(255):\n",
    "    print(next(iterator))"
   ]
  },
  {
   "cell_type": "code",
   "execution_count": 52,
   "id": "a0832512-5af7-47e2-9a57-92f2ae0a383f",
   "metadata": {},
   "outputs": [
    {
     "name": "stdout",
     "output_type": "stream",
     "text": [
      "123\n",
      "132\n",
      "213\n",
      "231\n",
      "312\n",
      "321\n"
     ]
    }
   ],
   "source": [
    "\n",
    "# Combinations (Order matters)\n",
    "def print_comb(pending, base =\"\", length=2):\n",
    "    if len(base) == length:\n",
    "        yield base\n",
    "        return\n",
    "    for i in pending:\n",
    "        remaining = pending.copy()\n",
    "        remaining.remove(i)\n",
    "        yield from print_comb(remaining, base+i, length)\n",
    "\n",
    "\n",
    "gen1 = print_comb(list(\"123\"), length=3)\n",
    "for i in gen1:\n",
    "    print(i)"
   ]
  },
  {
   "cell_type": "code",
   "execution_count": 25,
   "id": "a20cdcad-1875-46c7-be21-f8d306d01a93",
   "metadata": {},
   "outputs": [
    {
     "name": "stdout",
     "output_type": "stream",
     "text": [
      "123\n",
      "132\n",
      "213\n",
      "231\n",
      "312\n",
      "321\n"
     ]
    }
   ],
   "source": [
    "def print_comb(base, pending):\n",
    "    if len(pending) == 1:\n",
    "        print(base+pending[0])\n",
    "        return\n",
    "    for i in pending:\n",
    "        arg = pending.copy()\n",
    "        arg.remove(i)\n",
    "        print_comb(base+i, arg)\n",
    "print_comb(\"\", list(\"123\"))"
   ]
  },
  {
   "cell_type": "code",
   "execution_count": null,
   "id": "d318eee8-9aa5-4d27-9293-3a817621a6a2",
   "metadata": {},
   "outputs": [],
   "source": []
  }
 ],
 "metadata": {
  "kernelspec": {
   "display_name": "Python 3 (ipykernel)",
   "language": "python",
   "name": "python3"
  },
  "language_info": {
   "codemirror_mode": {
    "name": "ipython",
    "version": 3
   },
   "file_extension": ".py",
   "mimetype": "text/x-python",
   "name": "python",
   "nbconvert_exporter": "python",
   "pygments_lexer": "ipython3",
   "version": "3.12.7"
  }
 },
 "nbformat": 4,
 "nbformat_minor": 5
}
