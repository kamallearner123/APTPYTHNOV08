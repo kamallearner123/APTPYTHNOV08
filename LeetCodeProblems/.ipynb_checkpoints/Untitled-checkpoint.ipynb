{
 "cells": [
  {
   "cell_type": "code",
   "execution_count": 1,
   "id": "ea17e7cf-4997-470b-adb0-188109df3c15",
   "metadata": {},
   "outputs": [
    {
     "name": "stdout",
     "output_type": "stream",
     "text": [
      "['e', 'd', 'c', 'b', 'a']\n",
      "--------e--------\n",
      "------e-d-e------\n",
      "----e-d-c-d-e----\n",
      "--e-d-c-b-c-d-e--\n",
      "e-d-c-b-a-b-c-d-e\n"
     ]
    }
   ],
   "source": [
    "\n",
    "\n",
    "def print_sequence(num):\n",
    "    letters = \"abcdefghijklmnopqrstuvwxyz\"\n",
    "    result = []\n",
    "    rev_order = list(letters[num-1::-1]) # ['e', 'd', ....'a']\n",
    "    in_order = list(letters[1:num]) # [b'...'e']\n",
    "    print(core)\n",
    "\n",
    "    result = []\n",
    "    for i in range(1,num+1): #1,2,3,4,5\n",
    "        final = \"-\".join(rev_order[:i]+in_order[num-i:num-1])\n",
    "\n",
    "        final = final.center((num*4-3), \"-\")\n",
    "        \n",
    "        result.append(final)\n",
    "\n",
    "    for i in result:\n",
    "        print(i)\n",
    "\n",
    "print_sequence(5)"
   ]
  },
  {
   "cell_type": "code",
   "execution_count": null,
   "id": "3ed21650-d4ca-41fb-9fe0-d84c9abcd62c",
   "metadata": {},
   "outputs": [],
   "source": []
  }
 ],
 "metadata": {
  "kernelspec": {
   "display_name": "Python 3 (ipykernel)",
   "language": "python",
   "name": "python3"
  },
  "language_info": {
   "codemirror_mode": {
    "name": "ipython",
    "version": 3
   },
   "file_extension": ".py",
   "mimetype": "text/x-python",
   "name": "python",
   "nbconvert_exporter": "python",
   "pygments_lexer": "ipython3",
   "version": "3.12.7"
  }
 },
 "nbformat": 4,
 "nbformat_minor": 5
}
