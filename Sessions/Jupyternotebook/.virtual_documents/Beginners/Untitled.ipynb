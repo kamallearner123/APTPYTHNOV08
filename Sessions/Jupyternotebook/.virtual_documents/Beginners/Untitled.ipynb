
pc_details = {
    "CPU": "Intel Core2 due",
    "RAM": 2,
    "Storage": 500,
    "OS": "Windows"}

fd = open("pc_details.txt", "w")
for key, val  in pc_details.items():
    print(key, val)
    fd.write(f"{key}: {val}\n")
fd.close()




arunements = {
    "Gold": 1800.50,
    "Silver": 25.30,
    "Platinum": 950.75,
    "Date": "2024-12-13"}
fd=open("data.txt","a")
for key,value in arunements.items():
    print(key,value)
    fd.write(f"{key}:{value}\n")
fd.close()


import json
arunements = {
    "Gold": 1800.50,
    "Silver": 25.30,
    "Platinum": 950.75,
    "Date": "2024-12-13"}

fd=open("data.txt","w")
json.dump(fd, arunements)
fd.close()



