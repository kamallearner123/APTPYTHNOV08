
pc_details = {
    "CPU": "Intel Core2 due",
    "RAM": 2,
    "Storage": 500,
    "OS": "Windows"}

fd = open("pc_details.txt", "w")
for key, val  in pc_details.items():
    print(key, val)
    fd.write(f"{key}: {val}\n")
fd.close()




arunements = {
    "Gold": 1800.50,
    "Silver": 25.30,
    "Platinum": 950.75,
    "Date": "2024-12-13"}
fd=open("data.txt","w")
for key,value in arunements.items():
    print(key,value)
    fd.write(f"{key}:{value}\n")
fd.close()


import json

# Reading the json file
fd = open("prices.json")
prices = json.load(fd)
print(prices)
print(type(prices))
fd.close()


arunements = {
    "Gold": 1800.50,
    "Silver": 25.30,
    "Platinum": 950.75,
    "Date": "2024-12-14"}

prices.append(arunements)

#Writing the data in json file
fd = open("prices.json","w") # Using a is not allowed in json file
json.dump(prices, fd)
fd.close()



arunements = {
    "Gold": 2000.50,
    "Silver": 25.30,
    "Platinum": 950.75,
    "Date": "2024-12-13"}

#Writing the data in json file
fd = open("prices.json","w") # Using a is not allowed in json file
json.dump(arunements, fd)
fd.close()



l1 = [1,2]
l1.append(3)
print(l1)


import json 

#1) Open file in readonly and read entire data to a string
fd = open("Assignment1.txt")
data = fd.read()
print(data)
fd.close()

#2) Split the string into substring
words = data.split(" ")
print(words)
freq = {}
unique_words = set(words)
print(unique_words)

# 3) Collect word and its frequenct in a dictionary
for curr in unique_words:
    freq[curr] = words.count(curr)
print(freq)

# 4) Write the dictionary into json file
fd = open("Result.json", "w")
json.dump(freq, fd)
fd.close()




