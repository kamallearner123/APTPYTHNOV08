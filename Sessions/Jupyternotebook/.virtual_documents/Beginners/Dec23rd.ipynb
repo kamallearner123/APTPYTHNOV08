
# Map, Reduce and Filter

# 1) Write a function to return square root of all even numbers.
import time
def fun(max_num):
    list1 = []
    for i in range(1,max_num,2):
        list1.append(i)
    return list1

def fun_map(max_num):
    # using map
    # list(map(function, iterator))
    # iteration: range(100), list, tuple, dict, string
    result = map(lambda x: x**2, range(1,max_num,2))
    return result

max_num = 1_00
start_time = time.time_ns()
result = fun(max_num) # resturning list
print(result[0]) # accessing result with index
end_time = time.time_ns()
print((end_time - start_time)/1000000)


start_time = time.time_ns()
result = fun_map(max_num) # returning an iterator
print(type(result))#  map class (iterator)
print(next(result))# next(result) getching the data from iterator
print(next(result))
for i in result:
    print(i)
end_time = time.time_ns()
print((end_time - start_time)/1000000)






# Map, Reduce and Filter

# 1) Write a function to return  all numbers which are 
#divisible by 6 and 9 both.

import time
def fun(max_num):
    list1 = []
    for i in range(1,max_num):
        if i%6==0 and i%9==0:
            list1.append(i)
    return list1

def fun_filter(max_num):
    # using map
    # list(map(function, iterator))
    # iteration: range(100), list, tuple, dict, string
    result = list(filter(lambda x:  x%6==0 and x%9==0, range(1,max_num,2)))
    return result

max_num = 1_00_00_000
start_time = time.time_ns()
result = fun(max_num) # resturning list
end_time = time.time_ns()
print((end_time - start_time)/1000000)


start_time = time.time_ns()
result = fun_filter(max_num) # returning an iterator
end_time = time.time_ns()
print((end_time - start_time)/1000000)

print(type(result))#  map class (iterator)
print(next(result))# next(result) getching the data from iterator
print(next(result))
for i in result:
    print(i)




