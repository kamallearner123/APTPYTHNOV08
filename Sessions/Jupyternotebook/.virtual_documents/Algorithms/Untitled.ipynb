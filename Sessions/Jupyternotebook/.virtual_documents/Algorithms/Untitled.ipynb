# Travel sales person algorithm

from functools import reduce


nodes = { 100: {200:4, 300:3, 400:4, 500:5},
    200: {100:4, 300:4, 400:5, 500:6},
    300: {100:3, 200:4, 400:1, 500:3},
    400: {100:4, 200:5, 300:1, 500:2},
    500: {100:5, 200:6, 300:3, 400:2}
}


total_no_of_nodes = len(nodes.keys())

# 1 Take list of min path details
min_paths = [] # {node:100, path:[100, 300, 400, 500, 200], dis:10}

# 2 Choose a node and find min path
for node, neighbours in nodes.items(): # n Times
    print("Current node = {}, neighbours = {}".format(node, neighbours))
    curr_node = node # 100
    curr_path = [node] # 100 ->
    path_cost = 0
    surr = neighbours.keys() # 200,300,400, 500

    while len(curr_path) < total_no_of_nodes: #n times
        print(curr_node)
        print(surr)
        nearest = reduce(lambda x,y: x if nodes[curr_node][x] < nodes[curr_node][y] else y, surr) # 300
        path_cost += nodes[curr_node][nearest] # 100 -> 300
        surr = [] # Get neightbours list of 300 except nodes which are already explored
        for i in nodes[nearest]:
            if i not in curr_path:
                surr.append(i)
        curr_node = nearest
        curr_path.append(nearest)

    print(curr_path, path_cost)

# 100 Find out shortest path among all min-paths


!pip install networkx matplotlib


l1 = list(map(lambda x: x**2 if x%2!=0 else x, range(1,100)))
print(l1)

l2 = list(filter(lambda x: x%3==0 and x%6==0, range(1,100)))
print(l2)

from functools import reduce
result = reduce(lambda x,y: x+y, l2)
print(result)



