{
 "cells": [
  {
   "cell_type": "markdown",
   "id": "69ac8e5d-bf93-4d7d-8c79-4746df399c74",
   "metadata": {},
   "source": [
    "# Python Concepts Overview\n",
    "\n",
    "## 1. **Map, Reduce, Filter**\n",
    "### a. **Map**\n",
    "- Applies a function to each item in an iterable (e.g., list, tuple).\n",
    "- Returns a map object (iterator).\n",
    "- Example:\n",
    "  ```python\n",
    "  numbers = [1, 2, 3, 4]\n",
    "  squared = map(lambda x: x**2, numbers)\n",
    "  print(list(squared))  # Output: [1, 4, 9, 16]\n"
   ]
  },
  {
   "cell_type": "code",
   "execution_count": 8,
   "id": "5e2df23b-286f-455c-8f43-ecbdeed21334",
   "metadata": {},
   "outputs": [
    {
     "name": "stdout",
     "output_type": "stream",
     "text": [
      "[200, 204, 208, 212, 216, 220, 224, 228, 232, 236, 240, 244, 248, 252, 256, 260, 264, 268, 272, 276, 280, 284, 288, 292, 296, 300, 304, 308, 312, 316, 320, 324, 328, 332, 336, 340, 344, 348, 352, 356, 360, 364, 368, 372, 376, 380, 384, 388, 392, 396, 400]\n"
     ]
    },
    {
     "ename": "TypeError",
     "evalue": "cap() missing 1 required positional argument: 'arg2'",
     "output_type": "error",
     "traceback": [
      "\u001b[0;31m---------------------------------------------------------------------------\u001b[0m",
      "\u001b[0;31mTypeError\u001b[0m                                 Traceback (most recent call last)",
      "Cell \u001b[0;32mIn[8], line 10\u001b[0m\n\u001b[1;32m      7\u001b[0m \u001b[38;5;28;01mdef\u001b[39;00m \u001b[38;5;21mcap\u001b[39m(str1, arg2):\n\u001b[1;32m      8\u001b[0m     \u001b[38;5;28;01mreturn\u001b[39;00m str1\u001b[38;5;241m.\u001b[39mupper()\n\u001b[0;32m---> 10\u001b[0m result1 \u001b[38;5;241m=\u001b[39m \u001b[38;5;28;43mlist\u001b[39;49m\u001b[43m(\u001b[49m\u001b[38;5;28;43mmap\u001b[39;49m\u001b[43m(\u001b[49m\u001b[43mcap\u001b[49m\u001b[43m,\u001b[49m\u001b[43m \u001b[49m\u001b[43m[\u001b[49m\u001b[38;5;124;43m\"\u001b[39;49m\u001b[38;5;124;43mkamal\u001b[39;49m\u001b[38;5;124;43m\"\u001b[39;49m\u001b[43m,\u001b[49m\u001b[43m \u001b[49m\u001b[38;5;124;43m\"\u001b[39;49m\u001b[38;5;124;43mhari\u001b[39;49m\u001b[38;5;124;43m\"\u001b[39;49m\u001b[43m]\u001b[49m\u001b[43m)\u001b[49m\u001b[43m)\u001b[49m \u001b[38;5;66;03m# Optimization\u001b[39;00m\n\u001b[1;32m     11\u001b[0m \u001b[38;5;28mprint\u001b[39m(result1)\n",
      "\u001b[0;31mTypeError\u001b[0m: cap() missing 1 required positional argument: 'arg2'"
     ]
    }
   ],
   "source": [
    "# Genrate a list : square of all even numbers between 100 to 200\n",
    "result = []\n",
    "for num in range(100, 201, 2):\n",
    "    result.append(num*2)\n",
    "print(result)\n",
    "\n",
    "def cap(str1):\n",
    "    return str1.upper()\n",
    "\n",
    "result1 = list(map(cap, [\"kamal\", \"hari\"])) # Optimization\n",
    "print(result1)\n",
    "\n"
   ]
  },
  {
   "cell_type": "code",
   "execution_count": 12,
   "id": "4e98a593-a8fc-4304-82b0-b956c387d3fa",
   "metadata": {},
   "outputs": [
    {
     "name": "stdout",
     "output_type": "stream",
     "text": [
      "['kamal kumar', 'kumar']\n"
     ]
    }
   ],
   "source": [
    "def is_kumar(str1):\n",
    "    if str1.endswith(\"kumar\"):\n",
    "        return True\n",
    "    else:\n",
    "        return False\n",
    "\n",
    "l1 = [\"kamal kumar\", \"hari prasad\", \"ramana\", \"kumar\"]\n",
    "result = list(filter(is_kumar, l1))\n",
    "print(result)"
   ]
  },
  {
   "cell_type": "code",
   "execution_count": null,
   "id": "11668d7e-692e-4044-a218-c83eb7eed2a3",
   "metadata": {},
   "outputs": [],
   "source": []
  },
  {
   "cell_type": "markdown",
   "id": "e3ab2a14-4785-43f2-b5aa-7dc46e32d59a",
   "metadata": {},
   "source": [
    "# Iterators, Generators, Decorators\n",
    "## Iterators\n",
    "- An object with \\_\\_iter\\_\\_()\" and \"\\_\\_next_\\_()\" methods.\n",
    "- Used to traverse through elements one at a time.\n",
    "\n",
    "## Generators\n",
    "- A function that produces values lazily using __yield__.\n",
    "- Automatically maintains state between calls.\n",
    "##  Decorators\n",
    "- Functions that modify or enhance the behavior of another function.\n",
    "- Typically used for logging, timing, or access control.\n",
    "\n",
    "\n"
   ]
  },
  {
   "cell_type": "code",
   "execution_count": null,
   "id": "97e6313b-5692-4244-80e2-3a80ee74a16c",
   "metadata": {},
   "outputs": [],
   "source": []
  },
  {
   "cell_type": "code",
   "execution_count": null,
   "id": "7d922cbe-340c-4876-bedf-b681ea46ee3a",
   "metadata": {},
   "outputs": [],
   "source": []
  },
  {
   "cell_type": "markdown",
   "id": "f9889f1a-bfb7-4bad-9d34-25458348717e",
   "metadata": {},
   "source": [
    "# Socket programming\n",
    "- import socket\n",
    "\n",
    "- socket.socket(socket.AF_INET, socket.SOCK_STREAM)\n",
    "- server.bind(('localhost', 8080))\n",
    "- server.listen(1) : \n",
    "- conn, addr = server.accept()\n",
    "- conn.send(b'Hello, Client!')\n",
    "- conn.close()"
   ]
  },
  {
   "cell_type": "code",
   "execution_count": null,
   "id": "9b24640f-8dcd-43ae-8c52-65337c1d25f6",
   "metadata": {},
   "outputs": [],
   "source": []
  }
 ],
 "metadata": {
  "kernelspec": {
   "display_name": "Python 3 (ipykernel)",
   "language": "python",
   "name": "python3"
  },
  "language_info": {
   "codemirror_mode": {
    "name": "ipython",
    "version": 3
   },
   "file_extension": ".py",
   "mimetype": "text/x-python",
   "name": "python",
   "nbconvert_exporter": "python",
   "pygments_lexer": "ipython3",
   "version": "3.12.7"
  }
 },
 "nbformat": 4,
 "nbformat_minor": 5
}
