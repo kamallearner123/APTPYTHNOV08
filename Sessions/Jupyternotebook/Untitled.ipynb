{
 "cells": [
  {
   "cell_type": "code",
   "execution_count": 35,
   "id": "8a35ae8c-0262-418b-aa59-4706d6c0c338",
   "metadata": {},
   "outputs": [
    {
     "name": "stdout",
     "output_type": "stream",
     "text": [
      "789\n"
     ]
    }
   ],
   "source": [
    "# Open file, read file\n",
    "fd = open(\"data/File1.txt\") # Default mode read\n",
    "data = fd.read() # Bytes\n",
    "print(data)\n",
    "fd.close()\n",
    "\n"
   ]
  },
  {
   "cell_type": "code",
   "execution_count": 36,
   "id": "4572fbbd-1394-4bb2-a4f0-623cc3a52985",
   "metadata": {},
   "outputs": [
    {
     "name": "stdout",
     "output_type": "stream",
     "text": [
      "789\n",
      "Exit\n"
     ]
    }
   ],
   "source": [
    "with open(\"data/File1.txt\") as fd:# Default mode read\n",
    "    data = fd.read() # Bytes\n",
    "    print(data)\n",
    "\n",
    "print(\"Exit\")\n"
   ]
  },
  {
   "cell_type": "code",
   "execution_count": 37,
   "id": "3678534a-3766-4ef2-96e3-5b845d601158",
   "metadata": {},
   "outputs": [
    {
     "name": "stdout",
     "output_type": "stream",
     "text": [
      "10\n",
      "w+\n",
      "False\n"
     ]
    }
   ],
   "source": [
    "with open(\"data/File1.txt\", \"w+\") as fd:# Default mode read\n",
    "    data = fd.write(\"789fdsafds\") # Bytes\n",
    "    print(data)\n",
    "    print(fd.mode)\n",
    "    print(fd.closed)\n",
    "\n",
    "\n"
   ]
  },
  {
   "cell_type": "code",
   "execution_count": 38,
   "id": "8ec02c4d-a6b2-4be1-a6e6-6d838062f277",
   "metadata": {},
   "outputs": [
    {
     "name": "stdout",
     "output_type": "stream",
     "text": [
      "file r+\n"
     ]
    },
    {
     "ename": "NameError",
     "evalue": "name 'add' is not defined",
     "output_type": "error",
     "traceback": [
      "\u001b[0;31m---------------------------------------------------------------------------\u001b[0m",
      "\u001b[0;31mNameError\u001b[0m                                 Traceback (most recent call last)",
      "Cell \u001b[0;32mIn[38], line 11\u001b[0m\n\u001b[1;32m      8\u001b[0m \u001b[38;5;28;01mdef\u001b[39;00m \u001b[38;5;21msum_all\u001b[39m(op, \u001b[38;5;241m*\u001b[39mnums):\n\u001b[1;32m      9\u001b[0m     \u001b[38;5;28;01mreturn\u001b[39;00m \u001b[38;5;28msum\u001b[39m(nums)\n\u001b[0;32m---> 11\u001b[0m sum_all(add, [\u001b[38;5;241m10\u001b[39m,\u001b[38;5;241m20\u001b[39m])\n\u001b[1;32m     12\u001b[0m sum_all([\u001b[38;5;241m1\u001b[39m,\u001b[38;5;241m-\u001b[39m\u001b[38;5;241m10\u001b[39m,\u001b[38;5;241m8\u001b[39m])\n\u001b[1;32m     14\u001b[0m \u001b[38;5;66;03m# Default argument\u001b[39;00m\n",
      "\u001b[0;31mNameError\u001b[0m: name 'add' is not defined"
     ]
    }
   ],
   "source": [
    "# Formal position\n",
    "def open_file(file, mode):\n",
    "    print(file, mode)\n",
    "\n",
    "open_file(\"file\", \"r+\")\n",
    "\n",
    "# Variable number of arguments\n",
    "def sum_all(op, *nums):\n",
    "    return sum(nums)\n",
    "\n",
    "sum_all(add, [10,20])\n",
    "sum_all([1,-10,8])\n",
    "\n",
    "# Default argument\n",
    "def open_file(file, mode=\"r\"):\n",
    "    print(file, mode)\n",
    "\n",
    "open_file(\"file\")\n",
    "# keyword argument\n",
    "\n"
   ]
  },
  {
   "cell_type": "code",
   "execution_count": 39,
   "id": "c7673b5b-ffe9-4517-9f1d-85e8822be615",
   "metadata": {},
   "outputs": [
    {
     "name": "stdout",
     "output_type": "stream",
     "text": [
      "file r\n"
     ]
    }
   ],
   "source": [
    "# Default argument\n",
    "def open_file(file, mode=\"r\", buffering=1000):\n",
    "    print(file, mode)\n",
    "\n",
    "open_file(\"file\", \"r\", 1024)"
   ]
  },
  {
   "cell_type": "code",
   "execution_count": 27,
   "id": "7ff8c30d-ff53-4e63-a89a-7aa250229aa9",
   "metadata": {},
   "outputs": [
    {
     "name": "stdout",
     "output_type": "stream",
     "text": [
      "{'file': 'file', 'buffering': 1024}\n"
     ]
    }
   ],
   "source": [
    "# Keyword argument\n",
    "def open_file(**keyword):\n",
    "    print(keyword)\n",
    "\n",
    "open_file(file=\"file\", buffering=1024)"
   ]
  },
  {
   "cell_type": "code",
   "execution_count": 34,
   "id": "72c944de-015a-4718-a434-dc1de8b7d286",
   "metadata": {},
   "outputs": [
    {
     "name": "stdout",
     "output_type": "stream",
     "text": [
      "kamal\n",
      "Hari\n"
     ]
    }
   ],
   "source": [
    "d1 = {\"kamal\":100, \"Hari\":90, \"kamal\":200}\n",
    "for name, marks in d1.items():\n",
    "    print(name)"
   ]
  },
  {
   "cell_type": "code",
   "execution_count": null,
   "id": "1ec965f8-bf46-49cc-ba65-9f368206c160",
   "metadata": {},
   "outputs": [],
   "source": [
    "bill = '''\n",
    "rice 1kg 100 per kg: 2kgs\n",
    "oil 1kg 200 per kg: 2kgs\n",
    "onion 1kg 20 per kg: 2kgs\n",
    "wheat 1kg 120 per kg: 2kgs\n",
    "'''\n"
   ]
  }
 ],
 "metadata": {
  "kernelspec": {
   "display_name": "Python 3 (ipykernel)",
   "language": "python",
   "name": "python3"
  },
  "language_info": {
   "codemirror_mode": {
    "name": "ipython",
    "version": 3
   },
   "file_extension": ".py",
   "mimetype": "text/x-python",
   "name": "python",
   "nbconvert_exporter": "python",
   "pygments_lexer": "ipython3",
   "version": "3.12.7"
  }
 },
 "nbformat": 4,
 "nbformat_minor": 5
}
