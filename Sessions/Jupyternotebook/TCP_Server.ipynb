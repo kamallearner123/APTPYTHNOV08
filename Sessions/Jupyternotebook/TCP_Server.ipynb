{
 "cells": [
  {
   "cell_type": "code",
   "execution_count": null,
   "id": "995bc828-0343-4e9a-a3a6-c565af1ed4cc",
   "metadata": {},
   "outputs": [
    {
     "name": "stdout",
     "output_type": "stream",
     "text": [
      "Server started at 127.0.0.1:12347\n",
      "Waiting for a connection...\n",
      "Connection established with ('127.0.0.1', 60849)\n",
      "Received from ('127.0.0.1', 60849): Temp:123\n",
      "['Server received', ' Temp', '123']\n",
      "Connection closed by ('127.0.0.1', 60849)\n",
      "Waiting for a connection...\n"
     ]
    }
   ],
   "source": [
    "# TCP server\n",
    "import socket\n",
    "\n",
    "def start_tcp_server(host: str = \"127.0.0.1\", port: int = 12347):\n",
    "    \"\"\"\n",
    "    Start a TCP server that listens for client connections.\n",
    "    \n",
    "    :param host: The server's IP address.\n",
    "    :param port: The port the server will listen on.\n",
    "    \"\"\"\n",
    "    server_socket = socket.socket(socket.AF_INET, socket.SOCK_STREAM)\n",
    "    server_socket.bind((host, port))\n",
    "    server_socket.listen(5)  # Maximum number of queued connections\n",
    "    \n",
    "    print(f\"Server started at {host}:{port}\")\n",
    "    while True:\n",
    "        print(\"Waiting for a connection...\")\n",
    "        client_socket, client_address = server_socket.accept()\n",
    "        print(f\"Connection established with {client_address}\")\n",
    "        \n",
    "        try:\n",
    "            while True:\n",
    "                data = client_socket.recv(1024).decode(\"utf-8\")\n",
    "                if not data:\n",
    "                    print(f\"Connection closed by {client_address}\")\n",
    "                    break\n",
    "                print(f\"Received from {client_address}: {data}\")\n",
    "                \n",
    "                # Send a response back to the client\n",
    "                response = f\"Server received: {data}\"\n",
    "                data = response.split(\":\")\n",
    "                print(data)\n",
    "                if data[1] == \"Temp\":\n",
    "                    print(\"Add this client to temp queue\")\n",
    "\n",
    "                \n",
    "                client_socket.send(response.encode(\"utf-8\"))\n",
    "        except ConnectionResetError:\n",
    "            print(f\"Connection reset by {client_address}\")\n",
    "        finally:\n",
    "            client_socket.close()\n",
    "\n",
    "# Run the server\n",
    "if __name__ == \"__main__\":\n",
    "    start_tcp_server()\n"
   ]
  },
  {
   "cell_type": "code",
   "execution_count": 1,
   "id": "af811fb7-b5bc-4dc6-b3d0-db41c47e5d12",
   "metadata": {},
   "outputs": [
    {
     "name": "stdout",
     "output_type": "stream",
     "text": [
      "         Inventory Type  Serial ID  ... Software Version Hardware Model\n",
      "0              Nexus 9K  100301008  ...                8   CISCO-NEX-01\n",
      "1              Nexus 9K  100301010  ...                8   CISCO-NEX-01\n",
      "2   Fabric Interconnect  100201003  ...                8   CISCO-FAB-01\n",
      "3                   MDS  100401001  ...                8   CISCO-MDS-01\n",
      "4                   MDS  100401016  ...                8   CISCO-MDS-01\n",
      "5                   MDS  100401011  ...                8   CISCO-MDS-01\n",
      "6   Fabric Interconnect  100201007  ...                8   CISCO-FAB-01\n",
      "7           Flash Array  200501001  ...                8       PS-FA-01\n",
      "8           Flash Array  200501023  ...                8       PS-FA-01\n",
      "9           Flash Array  200501022  ...                8       PS-FA-01\n",
      "10                  MDS  100401002  ...                8   CISCO-MDS-01\n",
      "11          Flash Array  200501027  ...                8       PS-FA-01\n",
      "12             Nexus 9K  100301013  ...                8   CISCO-NEX-01\n",
      "13  Fabric Interconnect  100201006  ...                8   CISCO-FAB-01\n",
      "14          Flash Array  200501016  ...                8       PS-FA-01\n",
      "15          Flash Array  200501009  ...                8       PS-FA-01\n",
      "16                  MDS  100401009  ...                8   CISCO-MDS-01\n",
      "17                  MDS  100401006  ...                8   CISCO-MDS-01\n",
      "18                  MDS  100401028  ...                8   CISCO-MDS-01\n",
      "19             Nexus 9K  100301009  ...                8   CISCO-NEX-01\n",
      "20          Flash Array  200501007  ...                8       PS-FA-01\n",
      "21             Nexus 9K  100301012  ...                8   CISCO-NEX-01\n",
      "22          Flash Array  200501019  ...                8       PS-FA-01\n",
      "23                  MDS  100401012  ...                8   CISCO-MDS-01\n",
      "24          Flash Array  200501013  ...                8       PS-FA-01\n",
      "25                  MDS  100401021  ...                8   CISCO-MDS-01\n",
      "\n",
      "[26 rows x 9 columns]\n"
     ]
    }
   ],
   "source": [
    "import pandas as pd\n",
    "l1 = [{'Inventory Type': 'Nexus 9K', 'Serial ID': 100301008, 'Vendor Name': 'Cisco', 'IP Address': '10.1.1.125', 'DHCP Lease': 3600, 'DHCP Options': 'ACBCD', 'Firmware Version': 'v5.2', 'Software Version': 8, 'Hardware Model': 'CISCO-NEX-01'}, {'Inventory Type': 'Nexus 9K', 'Serial ID': 100301010, 'Vendor Name': 'Cisco', 'IP Address': '10.1.1.127', 'DHCP Lease': 3600, 'DHCP Options': 'ACBCD', 'Firmware Version': 'v5.2', 'Software Version': 8, 'Hardware Model': 'CISCO-NEX-01'}, {'Inventory Type': 'Fabric Interconnect', 'Serial ID': 100201003, 'Vendor Name': 'Cisco', 'IP Address': '10.1.1.112', 'DHCP Lease': 3600, 'DHCP Options': 'ACBCD', 'Firmware Version': 'v1.0', 'Software Version': 8, 'Hardware Model': 'CISCO-FAB-01'}, {'Inventory Type': 'MDS', 'Serial ID': 100401001, 'Vendor Name': 'Cisco', 'IP Address': '10.1.1.134', 'DHCP Lease': 3600, 'DHCP Options': 'ACBCD', 'Firmware Version': 'v5.3', 'Software Version': 8, 'Hardware Model': 'CISCO-MDS-01'}, {'Inventory Type': 'MDS', 'Serial ID': 100401016, 'Vendor Name': 'Cisco', 'IP Address': '10.1.1.149', 'DHCP Lease': 3600, 'DHCP Options': 'ACBCD', 'Firmware Version': 'v5.3', 'Software Version': 8, 'Hardware Model': 'CISCO-MDS-01'}, {'Inventory Type': 'MDS', 'Serial ID': 100401011, 'Vendor Name': 'Cisco', 'IP Address': '10.1.1.144', 'DHCP Lease': 3600, 'DHCP Options': 'ACBCD', 'Firmware Version': 'v5.3', 'Software Version': 8, 'Hardware Model': 'CISCO-MDS-01'}, {'Inventory Type': 'Fabric Interconnect', 'Serial ID': 100201007, 'Vendor Name': 'Cisco', 'IP Address': '10.1.1.116', 'DHCP Lease': 3600, 'DHCP Options': 'ACBCD', 'Firmware Version': 'v1.0', 'Software Version': 8, 'Hardware Model': 'CISCO-FAB-01'}, {'Inventory Type': 'Flash Array', 'Serial ID': 200501001, 'Vendor Name': 'Pure Storage', 'IP Address': '10.1.1.166', 'DHCP Lease': 3600, 'DHCP Options': 'ACBCD', 'Firmware Version': 'v6.0', 'Software Version': 8, 'Hardware Model': 'PS-FA-01'}, {'Inventory Type': 'Flash Array', 'Serial ID': 200501023, 'Vendor Name': 'Pure Storage', 'IP Address': '10.1.1.188', 'DHCP Lease': 3600, 'DHCP Options': 'ACBCD', 'Firmware Version': 'v6.0', 'Software Version': 8, 'Hardware Model': 'PS-FA-01'}, {'Inventory Type': 'Flash Array', 'Serial ID': 200501022, 'Vendor Name': 'Pure Storage', 'IP Address': '10.1.1.187', 'DHCP Lease': 3600, 'DHCP Options': 'ACBCD', 'Firmware Version': 'v6.0', 'Software Version': 8, 'Hardware Model': 'PS-FA-01'}, {'Inventory Type': 'MDS', 'Serial ID': 100401002, 'Vendor Name': 'Cisco', 'IP Address': '10.1.1.135', 'DHCP Lease': 3600, 'DHCP Options': 'ACBCD', 'Firmware Version': 'v5.3', 'Software Version': 8, 'Hardware Model': 'CISCO-MDS-01'}, {'Inventory Type': 'Flash Array', 'Serial ID': 200501027, 'Vendor Name': 'Pure Storage', 'IP Address': '10.1.1.192', 'DHCP Lease': 3600, 'DHCP Options': 'ACBCD', 'Firmware Version': 'v6.0', 'Software Version': 8, 'Hardware Model': 'PS-FA-01'}, {'Inventory Type': 'Nexus 9K', 'Serial ID': 100301013, 'Vendor Name': 'Cisco', 'IP Address': '10.1.1.130', 'DHCP Lease': 3600, 'DHCP Options': 'ACBCD', 'Firmware Version': 'v5.2', 'Software Version': 8, 'Hardware Model': 'CISCO-NEX-01'}, {'Inventory Type': 'Fabric Interconnect', 'Serial ID': 100201006, 'Vendor Name': 'Cisco', 'IP Address': '10.1.1.115', 'DHCP Lease': 3600, 'DHCP Options': 'ACBCD', 'Firmware Version': 'v1.0', 'Software Version': 8, 'Hardware Model': 'CISCO-FAB-01'}, {'Inventory Type': 'Flash Array', 'Serial ID': 200501016, 'Vendor Name': 'Pure Storage', 'IP Address': '10.1.1.181', 'DHCP Lease': 3600, 'DHCP Options': 'ACBCD', 'Firmware Version': 'v6.0', 'Software Version': 8, 'Hardware Model': 'PS-FA-01'}, {'Inventory Type': 'Flash Array', 'Serial ID': 200501009, 'Vendor Name': 'Pure Storage', 'IP Address': '10.1.1.174', 'DHCP Lease': 3600, 'DHCP Options': 'ACBCD', 'Firmware Version': 'v6.0', 'Software Version': 8, 'Hardware Model': 'PS-FA-01'}, {'Inventory Type': 'MDS', 'Serial ID': 100401009, 'Vendor Name': 'Cisco', 'IP Address': '10.1.1.142', 'DHCP Lease': 3600, 'DHCP Options': 'ACBCD', 'Firmware Version': 'v5.3', 'Software Version': 8, 'Hardware Model': 'CISCO-MDS-01'}, {'Inventory Type': 'MDS', 'Serial ID': 100401006, 'Vendor Name': 'Cisco', 'IP Address': '10.1.1.139', 'DHCP Lease': 3600, 'DHCP Options': 'ACBCD', 'Firmware Version': 'v5.3', 'Software Version': 8, 'Hardware Model': 'CISCO-MDS-01'}, {'Inventory Type': 'MDS', 'Serial ID': 100401028, 'Vendor Name': 'Cisco', 'IP Address': '10.1.1.161', 'DHCP Lease': 3600, 'DHCP Options': 'ACBCD', 'Firmware Version': 'v5.3', 'Software Version': 8, 'Hardware Model': 'CISCO-MDS-01'}, {'Inventory Type': 'Nexus 9K', 'Serial ID': 100301009, 'Vendor Name': 'Cisco', 'IP Address': '10.1.1.126', 'DHCP Lease': 3600, 'DHCP Options': 'ACBCD', 'Firmware Version': 'v5.2', 'Software Version': 8, 'Hardware Model': 'CISCO-NEX-01'}, {'Inventory Type': 'Flash Array', 'Serial ID': 200501007, 'Vendor Name': 'Pure Storage', 'IP Address': '10.1.1.172', 'DHCP Lease': 3600, 'DHCP Options': 'ACBCD', 'Firmware Version': 'v6.0', 'Software Version': 8, 'Hardware Model': 'PS-FA-01'}, {'Inventory Type': 'Nexus 9K', 'Serial ID': 100301012, 'Vendor Name': 'Cisco', 'IP Address': '10.1.1.129', 'DHCP Lease': 3600, 'DHCP Options': 'ACBCD', 'Firmware Version': 'v5.2', 'Software Version': 8, 'Hardware Model': 'CISCO-NEX-01'}, {'Inventory Type': 'Flash Array', 'Serial ID': 200501019, 'Vendor Name': 'Pure Storage', 'IP Address': '10.1.1.184', 'DHCP Lease': 3600, 'DHCP Options': 'ACBCD', 'Firmware Version': 'v6.0', 'Software Version': 8, 'Hardware Model': 'PS-FA-01'}, {'Inventory Type': 'MDS', 'Serial ID': 100401012, 'Vendor Name': 'Cisco', 'IP Address': '10.1.1.145', 'DHCP Lease': 3600, 'DHCP Options': 'ACBCD', 'Firmware Version': 'v5.3', 'Software Version': 8, 'Hardware Model': 'CISCO-MDS-01'}, {'Inventory Type': 'Flash Array', 'Serial ID': 200501013, 'Vendor Name': 'Pure Storage', 'IP Address': '10.1.1.178', 'DHCP Lease': 3600, 'DHCP Options': 'ACBCD', 'Firmware Version': 'v6.0', 'Software Version': 8, 'Hardware Model': 'PS-FA-01'}, {'Inventory Type': 'MDS', 'Serial ID': 100401021, 'Vendor Name': 'Cisco', 'IP Address': '10.1.1.154', 'DHCP Lease': 3600, 'DHCP Options': 'ACBCD', 'Firmware Version': 'v5.3', 'Software Version': 8, 'Hardware Model': 'CISCO-MDS-01'}]\n",
    "pd1 = pd.DataFrame(l1)\n",
    "print(pd1)"
   ]
  },
  {
   "cell_type": "code",
   "execution_count": 2,
   "id": "b0ba646d-26be-447e-a0c4-61b7ad0bb244",
   "metadata": {},
   "outputs": [
    {
     "name": "stdout",
     "output_type": "stream",
     "text": [
      "[{'name': 'anil'}, {'name': 'anil'}]\n"
     ]
    }
   ],
   "source": [
    "d1 = {\"name\":\"kamal\"}\n",
    "l1 = []\n",
    "l1.append(d1)\n",
    "d1[\"name\"] = \"anil\"\n",
    "l1.append(d1)\n",
    "print(l1)"
   ]
  },
  {
   "cell_type": "code",
   "execution_count": 3,
   "id": "40977fb6-ab6e-4cd6-9000-257e61457fb9",
   "metadata": {},
   "outputs": [
    {
     "name": "stdout",
     "output_type": "stream",
     "text": [
      "{'name': 'updated'}\n"
     ]
    }
   ],
   "source": [
    "def update(d1):\n",
    "    d1[\"name\"] = \"updated\"\n",
    "d = {\"name\":\"kamal\"}\n",
    "update(d)\n",
    "print(d)"
   ]
  },
  {
   "cell_type": "code",
   "execution_count": null,
   "id": "1005aaf2-bd2f-43c8-803e-1a840df28f2e",
   "metadata": {},
   "outputs": [],
   "source": []
  }
 ],
 "metadata": {
  "kernelspec": {
   "display_name": "Python (playground)",
   "language": "python",
   "name": "myenv"
  },
  "language_info": {
   "codemirror_mode": {
    "name": "ipython",
    "version": 3
   },
   "file_extension": ".py",
   "mimetype": "text/x-python",
   "name": "python",
   "nbconvert_exporter": "python",
   "pygments_lexer": "ipython3",
   "version": "3.12.7"
  }
 },
 "nbformat": 4,
 "nbformat_minor": 5
}
