{
 "cells": [
  {
   "cell_type": "code",
   "execution_count": null,
   "id": "995bc828-0343-4e9a-a3a6-c565af1ed4cc",
   "metadata": {},
   "outputs": [
    {
     "name": "stdout",
     "output_type": "stream",
     "text": [
      "Server started at 127.0.0.1:12347\n",
      "Waiting for a connection...\n",
      "Connection established with ('127.0.0.1', 60849)\n",
      "Received from ('127.0.0.1', 60849): Temp:123\n",
      "['Server received', ' Temp', '123']\n",
      "Connection closed by ('127.0.0.1', 60849)\n",
      "Waiting for a connection...\n"
     ]
    }
   ],
   "source": [
    "# TCP server\n",
    "import socket\n",
    "\n",
    "def start_tcp_server(host: str = \"127.0.0.1\", port: int = 12347):\n",
    "    \"\"\"\n",
    "    Start a TCP server that listens for client connections.\n",
    "    \n",
    "    :param host: The server's IP address.\n",
    "    :param port: The port the server will listen on.\n",
    "    \"\"\"\n",
    "    server_socket = socket.socket(socket.AF_INET, socket.SOCK_STREAM)\n",
    "    server_socket.bind((host, port))\n",
    "    server_socket.listen(5)  # Maximum number of queued connections\n",
    "    \n",
    "    print(f\"Server started at {host}:{port}\")\n",
    "    while True:\n",
    "        print(\"Waiting for a connection...\")\n",
    "        client_socket, client_address = server_socket.accept()\n",
    "        print(f\"Connection established with {client_address}\")\n",
    "        \n",
    "        try:\n",
    "            while True:\n",
    "                data = client_socket.recv(1024).decode(\"utf-8\")\n",
    "                if not data:\n",
    "                    print(f\"Connection closed by {client_address}\")\n",
    "                    break\n",
    "                print(f\"Received from {client_address}: {data}\")\n",
    "                \n",
    "                # Send a response back to the client\n",
    "                response = f\"Server received: {data}\"\n",
    "                data = response.split(\":\")\n",
    "                print(data)\n",
    "                if data[1] == \"Temp\":\n",
    "                    print(\"Add this client to temp queue\")\n",
    "\n",
    "                \n",
    "                client_socket.send(response.encode(\"utf-8\"))\n",
    "        except ConnectionResetError:\n",
    "            print(f\"Connection reset by {client_address}\")\n",
    "        finally:\n",
    "            client_socket.close()\n",
    "\n",
    "# Run the server\n",
    "if __name__ == \"__main__\":\n",
    "    start_tcp_server()\n"
   ]
  },
  {
   "cell_type": "code",
   "execution_count": null,
   "id": "af811fb7-b5bc-4dc6-b3d0-db41c47e5d12",
   "metadata": {},
   "outputs": [],
   "source": [
    "# Mu"
   ]
  }
 ],
 "metadata": {
  "kernelspec": {
   "display_name": "Python (playground)",
   "language": "python",
   "name": "myenv"
  },
  "language_info": {
   "codemirror_mode": {
    "name": "ipython",
    "version": 3
   },
   "file_extension": ".py",
   "mimetype": "text/x-python",
   "name": "python",
   "nbconvert_exporter": "python",
   "pygments_lexer": "ipython3",
   "version": "3.12.7"
  }
 },
 "nbformat": 4,
 "nbformat_minor": 5
}
