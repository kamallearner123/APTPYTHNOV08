{
 "cells": [
  {
   "cell_type": "code",
   "execution_count": 1,
   "id": "4a314ae9-4222-41ac-aa1e-5c89d0d2dfde",
   "metadata": {},
   "outputs": [
    {
     "name": "stdin",
     "output_type": "stream",
     "text": [
      "Enter the keyword to search for in patents:  Kamal\n"
     ]
    },
    {
     "name": "stdout",
     "output_type": "stream",
     "text": [
      "No patents found or there was an error.\n"
     ]
    }
   ],
   "source": [
    "import requests\n",
    "from bs4 import BeautifulSoup\n",
    "import re\n",
    "\n",
    "def scrape_patents(url, keyword):\n",
    "    \"\"\"\n",
    "    Scrape patent titles and descriptions containing the keyword.\n",
    "    \n",
    "    Args:\n",
    "        url (str): The URL of the website to scrape.\n",
    "        keyword (str): Keyword to search for in the patent information.\n",
    "        \n",
    "    Returns:\n",
    "        list: A list of dictionaries containing patent titles and descriptions.\n",
    "    \"\"\"\n",
    "    try:\n",
    "        # Send an HTTP GET request to the URL\n",
    "        response = requests.get(url)\n",
    "        response.raise_for_status()  # Raise HTTPError for bad responses\n",
    "\n",
    "        # Parse the HTML content using BeautifulSoup\n",
    "        soup = BeautifulSoup(response.text, 'html.parser')\n",
    "        list(map(lambda x: print(f\"{\"-\"*100}\\n{x}\\n{\"-\"*100}\") if re.search(keyword, x, re.IGNORECASE) else None, str(soup).split(\"\\n\")))\n",
    "\n",
    "        # Find all relevant sections (this will depend on the structure of the website)\n",
    "        patents = []\n",
    "        for patent_section in soup.find_all('div', class_='patent-item'):  # Adjust the tag and class\n",
    "            title = patent_section.find('h2', class_='patent-title')  # Adjust tag and class\n",
    "            description = patent_section.find('p', class_='patent-description')  # Adjust tag and class\n",
    "\n",
    "            if title and description and keyword.lower() in description.text.lower():\n",
    "                patents.append({\n",
    "                    \"Title\": title.text.strip(),\n",
    "                    \"Description\": description.text.strip()\n",
    "                })\n",
    "\n",
    "        return patents\n",
    "\n",
    "    except requests.exceptions.RequestException as e:\n",
    "        print(f\"Error during request: {e}\")\n",
    "        return []\n",
    "\n",
    "# Example usage\n",
    "if __name__ == \"__main__\":\n",
    "    # Replace with the URL of the website you want to scrape\n",
    "    website_url = \"https://thehindu.com\"\n",
    "    keyword = input(\"Enter the keyword to search for in patents: \")\n",
    "\n",
    "    patents = scrape_patents(website_url, keyword)\n",
    "\n",
    "    if patents:\n",
    "        print(\"\\nPatents Found:\")\n",
    "        for i, patent in enumerate(patents, start=1):\n",
    "            print(f\"{i}. Title: {patent['Title']}\")\n",
    "            print(f\"   Description: {patent['Description']}\\n\")\n",
    "    else:\n",
    "        print(\"No patents found or there was an error.\")\n"
   ]
  },
  {
   "cell_type": "code",
   "execution_count": 4,
   "id": "231b08e0-d936-47bf-ab05-1d9b971b5c60",
   "metadata": {},
   "outputs": [
    {
     "name": "stdout",
     "output_type": "stream",
     "text": [
      "1\n"
     ]
    }
   ],
   "source": [
    "a = [1,2,3]\n",
    "itr1 = iter(a)\n",
    "print(next(itr1))"
   ]
  },
  {
   "cell_type": "code",
   "execution_count": null,
   "id": "87a7c9f8-da6e-40b4-aded-3d4b28473a27",
   "metadata": {},
   "outputs": [],
   "source": []
  }
 ],
 "metadata": {
  "kernelspec": {
   "display_name": "Python 3 (ipykernel)",
   "language": "python",
   "name": "python3"
  },
  "language_info": {
   "codemirror_mode": {
    "name": "ipython",
    "version": 3
   },
   "file_extension": ".py",
   "mimetype": "text/x-python",
   "name": "python",
   "nbconvert_exporter": "python",
   "pygments_lexer": "ipython3",
   "version": "3.12.7"
  }
 },
 "nbformat": 4,
 "nbformat_minor": 5
}
