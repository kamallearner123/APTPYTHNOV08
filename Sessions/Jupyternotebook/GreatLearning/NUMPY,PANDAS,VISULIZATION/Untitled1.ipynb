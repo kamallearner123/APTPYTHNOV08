{
 "cells": [
  {
   "cell_type": "code",
   "execution_count": 4,
   "metadata": {},
   "outputs": [
    {
     "name": "stdout",
     "output_type": "stream",
     "text": [
      "   symboling  normalized_losses         make fuel_type aspiration  \\\n",
      "0          3                168  alfa-romero       gas        std   \n",
      "1          3                168  alfa-romero       gas        std   \n",
      "2          1                168  alfa-romero       gas        std   \n",
      "3          2                164         audi       gas        std   \n",
      "4          2                164         audi       gas        std   \n",
      "\n",
      "  number_of_doors   body_style drive_wheels engine_location  wheel_base  ...  \\\n",
      "0             two  convertible          rwd           front        88.6  ...   \n",
      "1             two  convertible          rwd           front        88.6  ...   \n",
      "2             two    hatchback          rwd           front        94.5  ...   \n",
      "3            four        sedan          fwd           front        99.8  ...   \n",
      "4            four        sedan          4wd           front        99.4  ...   \n",
      "\n",
      "   engine_size  fuel_system  bore  stroke compression_ratio horsepower  \\\n",
      "0          130         mpfi  3.47    2.68               9.0        111   \n",
      "1          130         mpfi  3.47    2.68               9.0        111   \n",
      "2          152         mpfi  2.68    3.47               9.0        154   \n",
      "3          109         mpfi  3.19    3.40              10.0        102   \n",
      "4          136         mpfi  3.19    3.40               8.0        115   \n",
      "\n",
      "   peak_rpm city_mpg  highway_mpg  price  \n",
      "0      5000       21           27  13495  \n",
      "1      5000       21           27  16500  \n",
      "2      5000       19           26  16500  \n",
      "3      5500       24           30  13950  \n",
      "4      5500       18           22  17450  \n",
      "\n",
      "[5 rows x 26 columns]\n",
      "(201, 26)\n",
      "symboling                0.840796\n",
      "normalized_losses      125.189055\n",
      "wheel_base              98.797015\n",
      "length                 174.200995\n",
      "width                   65.889055\n",
      "height                  53.766667\n",
      "curb_weight           2555.666667\n",
      "engine_size            126.875622\n",
      "bore                     3.329701\n",
      "stroke                   3.261741\n",
      "compression_ratio       10.164279\n",
      "horsepower             103.263682\n",
      "peak_rpm              5121.393035\n",
      "city_mpg                25.179104\n",
      "highway_mpg             30.686567\n",
      "price                13207.129353\n",
      "dtype: float64\n",
      "symboling                  3\n",
      "normalized_losses        256\n",
      "make                   volvo\n",
      "fuel_type                gas\n",
      "aspiration             turbo\n",
      "number_of_doors          two\n",
      "body_style             wagon\n",
      "drive_wheels             rwd\n",
      "engine_location         rear\n",
      "wheel_base             120.9\n",
      "length                 208.1\n",
      "width                     72\n",
      "height                  59.8\n",
      "curb_weight             4066\n",
      "engine_type            rotor\n",
      "number_of_cylinders      two\n",
      "engine_size              326\n",
      "fuel_system             spfi\n",
      "bore                    3.94\n",
      "stroke                  4.17\n",
      "compression_ratio         23\n",
      "horsepower               262\n",
      "peak_rpm                6600\n",
      "city_mpg                  49\n",
      "highway_mpg               54\n",
      "price                  45400\n",
      "dtype: object\n"
     ]
    },
    {
     "ename": "TypeError",
     "evalue": "bad operand type for abs(): 'str'",
     "output_type": "error",
     "traceback": [
      "\u001b[0;31m---------------------------------------------------------------------------\u001b[0m",
      "\u001b[0;31mTypeError\u001b[0m                                 Traceback (most recent call last)",
      "\u001b[0;32m<ipython-input-4-7d12440910c1>\u001b[0m in \u001b[0;36m<module>\u001b[0;34m\u001b[0m\n\u001b[1;32m      5\u001b[0m \u001b[0mprint\u001b[0m\u001b[0;34m(\u001b[0m\u001b[0mauto\u001b[0m\u001b[0;34m.\u001b[0m\u001b[0mmean\u001b[0m\u001b[0;34m(\u001b[0m\u001b[0;34m)\u001b[0m\u001b[0;34m)\u001b[0m\u001b[0;34m\u001b[0m\u001b[0;34m\u001b[0m\u001b[0m\n\u001b[1;32m      6\u001b[0m \u001b[0mprint\u001b[0m\u001b[0;34m(\u001b[0m\u001b[0mauto\u001b[0m\u001b[0;34m.\u001b[0m\u001b[0mmax\u001b[0m\u001b[0;34m(\u001b[0m\u001b[0;34m)\u001b[0m\u001b[0;34m)\u001b[0m\u001b[0;34m\u001b[0m\u001b[0;34m\u001b[0m\u001b[0m\n\u001b[0;32m----> 7\u001b[0;31m \u001b[0mauto\u001b[0m\u001b[0;34m.\u001b[0m\u001b[0mabs\u001b[0m\u001b[0;34m(\u001b[0m\u001b[0;34m)\u001b[0m\u001b[0;34m\u001b[0m\u001b[0;34m\u001b[0m\u001b[0m\n\u001b[0m",
      "\u001b[0;32m~/anaconda3/lib/python3.7/site-packages/pandas/core/generic.py\u001b[0m in \u001b[0;36mabs\u001b[0;34m(self)\u001b[0m\n\u001b[1;32m   9480\u001b[0m         \u001b[0;36m3\u001b[0m    \u001b[0;36m7\u001b[0m   \u001b[0;36m40\u001b[0m  \u001b[0;34m-\u001b[0m\u001b[0;36m50\u001b[0m\u001b[0;34m\u001b[0m\u001b[0;34m\u001b[0m\u001b[0m\n\u001b[1;32m   9481\u001b[0m         \"\"\"\n\u001b[0;32m-> 9482\u001b[0;31m         \u001b[0;32mreturn\u001b[0m \u001b[0mnp\u001b[0m\u001b[0;34m.\u001b[0m\u001b[0mabs\u001b[0m\u001b[0;34m(\u001b[0m\u001b[0mself\u001b[0m\u001b[0;34m)\u001b[0m\u001b[0;34m\u001b[0m\u001b[0;34m\u001b[0m\u001b[0m\n\u001b[0m\u001b[1;32m   9483\u001b[0m \u001b[0;34m\u001b[0m\u001b[0m\n\u001b[1;32m   9484\u001b[0m     \u001b[0;32mdef\u001b[0m \u001b[0mdescribe\u001b[0m\u001b[0;34m(\u001b[0m\u001b[0mself\u001b[0m\u001b[0;34m,\u001b[0m \u001b[0mpercentiles\u001b[0m\u001b[0;34m=\u001b[0m\u001b[0;32mNone\u001b[0m\u001b[0;34m,\u001b[0m \u001b[0minclude\u001b[0m\u001b[0;34m=\u001b[0m\u001b[0;32mNone\u001b[0m\u001b[0;34m,\u001b[0m \u001b[0mexclude\u001b[0m\u001b[0;34m=\u001b[0m\u001b[0;32mNone\u001b[0m\u001b[0;34m)\u001b[0m\u001b[0;34m:\u001b[0m\u001b[0;34m\u001b[0m\u001b[0;34m\u001b[0m\u001b[0m\n",
      "\u001b[0;31mTypeError\u001b[0m: bad operand type for abs(): 'str'"
     ]
    }
   ],
   "source": [
    "import pandas as pd\n",
    "auto=pd.read_csv('/Users/kamalmukiri/Documents/AptComputingAcademy/DataScience/Pandas/Data/Automobile.csv')\n",
    "print(auto.head())\n",
    "print(auto.shape)\n",
    "print(auto.mean())\n",
    "print(auto.max())\n"
   ]
  },
  {
   "cell_type": "code",
   "execution_count": 10,
   "metadata": {},
   "outputs": [
    {
     "data": {
      "text/plain": [
       "0      168\n",
       "1      168\n",
       "2      168\n",
       "3      164\n",
       "4      164\n",
       "5      161\n",
       "6      158\n",
       "7      168\n",
       "8      158\n",
       "9      192\n",
       "10     192\n",
       "11     188\n",
       "12     188\n",
       "13     149\n",
       "14     149\n",
       "15     149\n",
       "16     149\n",
       "17     121\n",
       "18      98\n",
       "19      81\n",
       "20     118\n",
       "21     118\n",
       "22     118\n",
       "23     148\n",
       "24     148\n",
       "25     148\n",
       "26     148\n",
       "27     110\n",
       "28     145\n",
       "29     137\n",
       "      ... \n",
       "171     65\n",
       "172     65\n",
       "173     65\n",
       "174    197\n",
       "175    197\n",
       "176     90\n",
       "177    133\n",
       "178    122\n",
       "179    122\n",
       "180     94\n",
       "181     94\n",
       "182     94\n",
       "183     94\n",
       "184     94\n",
       "185    137\n",
       "186    256\n",
       "187    132\n",
       "188    132\n",
       "189    132\n",
       "190    103\n",
       "191     74\n",
       "192    103\n",
       "193     74\n",
       "194    103\n",
       "195     74\n",
       "196     95\n",
       "197     95\n",
       "198     95\n",
       "199     95\n",
       "200     95\n",
       "Name: normalized_losses, Length: 201, dtype: int64"
      ]
     },
     "execution_count": 10,
     "metadata": {},
     "output_type": "execute_result"
    }
   ],
   "source": []
  },
  {
   "cell_type": "code",
   "execution_count": 23,
   "metadata": {},
   "outputs": [
    {
     "name": "stdout",
     "output_type": "stream",
     "text": [
      "      0\n",
      "0  True\n",
      "1  True\n"
     ]
    }
   ],
   "source": [
    "print(pd.DataFrame([True,True]))"
   ]
  },
  {
   "cell_type": "code",
   "execution_count": 24,
   "metadata": {},
   "outputs": [
    {
     "name": "stdout",
     "output_type": "stream",
     "text": [
      "   Index Names_left\n",
      "0      0          a\n",
      "1      1          b\n",
      "2      2          c\n",
      "3      3          d\n",
      "4      4          e\n",
      "\n",
      "\n",
      "   key Names_right\n",
      "0    2           f\n",
      "1    3           g\n",
      "2    4           h\n",
      "3    5           i\n",
      "4    6           j\n"
     ]
    }
   ],
   "source": [
    "left_frame = pd.DataFrame({'Index': range(5), \n",
    "                           'Names_left': ['a', 'b', 'c', 'd', 'e']})\n",
    "right_frame = pd.DataFrame({'key': range(2,7), \n",
    "                           'Names_right': ['f', 'g', 'h', 'i', 'j']})\n",
    "print(left_frame)\n",
    "print('\\n')\n",
    "print(right_frame)"
   ]
  },
  {
   "cell_type": "code",
   "execution_count": null,
   "metadata": {},
   "outputs": [],
   "source": []
  }
 ],
 "metadata": {
  "kernelspec": {
   "display_name": "Python 3",
   "language": "python",
   "name": "python3"
  }
 },
 "nbformat": 4,
 "nbformat_minor": 2
}
