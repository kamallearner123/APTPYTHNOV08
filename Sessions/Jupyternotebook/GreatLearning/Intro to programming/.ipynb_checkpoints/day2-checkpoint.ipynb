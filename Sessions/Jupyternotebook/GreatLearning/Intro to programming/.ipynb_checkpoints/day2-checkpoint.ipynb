{
 "cells": [
  {
   "cell_type": "markdown",
   "metadata": {},
   "source": [
    "## Looping in Python\n",
    "\n",
    "### The For loop"
   ]
  },
  {
   "cell_type": "code",
   "execution_count": null,
   "metadata": {},
   "outputs": [],
   "source": [
    "for name in [\"Joe\",\"Zoe\",\"Brad\",\"Angelina\",\"Zuki\",\"Thandi\",\"Paris\"]:\n",
    "    invite = \"Hi \" + name + \".  Please come to my party on Saturday!\"\n",
    "    print(invite)"
   ]
  },
  {
   "cell_type": "markdown",
   "metadata": {},
   "source": [
    "visualise loops through http://www.pythontutor.com/visualize.html#mode=display"
   ]
  },
  {
   "cell_type": "code",
   "execution_count": null,
   "metadata": {},
   "outputs": [],
   "source": [
    "l2=[23,1,0,12,45,-1,46]\n",
    "\n",
    "for x in l2 :\n",
    "    print(x)"
   ]
  },
  {
   "cell_type": "code",
   "execution_count": null,
   "metadata": {},
   "outputs": [],
   "source": [
    "for x in l2:\n",
    "    print(\"hello world\")"
   ]
  },
  {
   "cell_type": "code",
   "execution_count": null,
   "metadata": {},
   "outputs": [],
   "source": [
    "# The following code snippet is to check if a number is divisible by 2.\n",
    "a = 100 # try different values for a\n",
    "if(a % 2 == 0) :   # checks if the remainder is zero when divided by 2 \n",
    "    print(a,\" is even number\")\n",
    "else :\n",
    "    print(a,\" is odd number\") "
   ]
  },
  {
   "cell_type": "markdown",
   "metadata": {},
   "source": [
    "**Q1.(In class lab exercise)** Write a modified version of the code given above so that a message is printed only if the number is even."
   ]
  },
  {
   "cell_type": "code",
   "execution_count": null,
   "metadata": {},
   "outputs": [],
   "source": []
  },
  {
   "cell_type": "markdown",
   "metadata": {},
   "source": [
    "**Q2. (In class lab exercise)** Modify the *if* condition in the code given using the '!=' operator and print if a number is odd."
   ]
  },
  {
   "cell_type": "code",
   "execution_count": null,
   "metadata": {},
   "outputs": [],
   "source": []
  },
  {
   "cell_type": "markdown",
   "metadata": {},
   "source": [
    "### Breaking out of a loop\n",
    "The break statement can be used to halt and exit a loop"
   ]
  },
  {
   "cell_type": "code",
   "execution_count": null,
   "metadata": {},
   "outputs": [],
   "source": [
    "count = 0 \n",
    "myl = [1,2,3,4,5,6,7,8]\n",
    "for x in myl: \n",
    "    print(\"Hello world\")\n",
    "    count=count+1\n",
    "    if(count==2):\n",
    "        break #Break statement will exit the loop block even though the loop can run 8 times\n",
    "print(\"I have exited the loop\")"
   ]
  },
  {
   "cell_type": "markdown",
   "metadata": {},
   "source": [
    "**Q3.(In class lab exercise)** Modify the above program to print the first 2 even numbers from the list ."
   ]
  },
  {
   "cell_type": "code",
   "execution_count": null,
   "metadata": {},
   "outputs": [],
   "source": []
  },
  {
   "cell_type": "markdown",
   "metadata": {},
   "source": [
    "**Q4.(In class lab exercise)** Pick the first 2 even numbers and last 2 odd numbers from the list \"myl\" and store the numbers in a new list and display the new list contents seperately to the user (Hint: Use append() function to add elements to a list) "
   ]
  },
  {
   "cell_type": "code",
   "execution_count": null,
   "metadata": {},
   "outputs": [],
   "source": []
  },
  {
   "cell_type": "markdown",
   "metadata": {},
   "source": [
    "**Q5.(In class lab exercise)** Print the last 2 odd numbers from the list myl (Note: Do not reverse the list or use a new list)"
   ]
  },
  {
   "cell_type": "code",
   "execution_count": null,
   "metadata": {},
   "outputs": [],
   "source": []
  },
  {
   "cell_type": "markdown",
   "metadata": {},
   "source": [
    "### The while loop"
   ]
  },
  {
   "cell_type": "code",
   "execution_count": null,
   "metadata": {},
   "outputs": [],
   "source": [
    "# Print \"Hello world\" 10 times \n",
    "count = 1\n",
    "while(count <=10) :\n",
    "    print(\"hello world\")\n",
    "    count = count + 1 "
   ]
  },
  {
   "cell_type": "markdown",
   "metadata": {},
   "source": [
    "**Q6.(In class lab exercise)** What is the significance of incrementing the count variable? What will happen if you ignore this step?"
   ]
  },
  {
   "cell_type": "code",
   "execution_count": null,
   "metadata": {},
   "outputs": [],
   "source": []
  },
  {
   "cell_type": "markdown",
   "metadata": {},
   "source": [
    "**Q7.(In class lab exercise)** Modify the above program to print hello world only 5 times , without changing the while(count<= 10)"
   ]
  },
  {
   "cell_type": "code",
   "execution_count": null,
   "metadata": {},
   "outputs": [],
   "source": []
  },
  {
   "cell_type": "markdown",
   "metadata": {},
   "source": [
    "**Q8.(In class lab exercise)** Write a program to print the first 10 odd numbers "
   ]
  },
  {
   "cell_type": "code",
   "execution_count": null,
   "metadata": {},
   "outputs": [],
   "source": []
  },
  {
   "cell_type": "markdown",
   "metadata": {},
   "source": [
    "**Q9.(In class lab exercise)** Write a a program to find the sum of first 50 natural numbers starting from 1"
   ]
  },
  {
   "cell_type": "code",
   "execution_count": null,
   "metadata": {},
   "outputs": [],
   "source": []
  },
  {
   "cell_type": "markdown",
   "metadata": {},
   "source": [
    "**Q10.** (In class lab exercise) Write a program to to find the sum of all the numbers between 555 and 1111 which are divisible by 7"
   ]
  },
  {
   "cell_type": "code",
   "execution_count": null,
   "metadata": {},
   "outputs": [],
   "source": []
  },
  {
   "cell_type": "markdown",
   "metadata": {},
   "source": [
    "**Q11.(In class lab exercise)** Write a program to count the number of numbers between 555 and 1111 which are divisible by 7"
   ]
  },
  {
   "cell_type": "code",
   "execution_count": null,
   "metadata": {},
   "outputs": [],
   "source": []
  },
  {
   "cell_type": "markdown",
   "metadata": {},
   "source": [
    "**Q12.(TAKE HOME EXERCISE)** Write a program to compute the sum of squares of first 10 natural numbers"
   ]
  },
  {
   "cell_type": "code",
   "execution_count": null,
   "metadata": {},
   "outputs": [],
   "source": []
  },
  {
   "cell_type": "markdown",
   "metadata": {},
   "source": [
    "**Q13 (TAKE HOME EXERCISE)** Write a program to print the sum of squares of all the even numbers between 334 and 667"
   ]
  },
  {
   "cell_type": "code",
   "execution_count": null,
   "metadata": {},
   "outputs": [],
   "source": []
  }
 ],
 "metadata": {
  "kernelspec": {
   "display_name": "Python 3",
   "language": "python",
   "name": "python3"
  },
  "language_info": {
   "codemirror_mode": {
    "name": "ipython",
    "version": 3
   },
   "file_extension": ".py",
   "mimetype": "text/x-python",
   "name": "python",
   "nbconvert_exporter": "python",
   "pygments_lexer": "ipython3",
   "version": "3.6.4"
  }
 },
 "nbformat": 4,
 "nbformat_minor": 2
}
