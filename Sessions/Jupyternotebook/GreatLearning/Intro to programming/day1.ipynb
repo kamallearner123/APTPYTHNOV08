{
 "cells": [
  {
   "cell_type": "markdown",
   "metadata": {},
   "source": [
    "# Introduction to Programming using Python\n"
   ]
  },
  {
   "cell_type": "markdown",
   "metadata": {},
   "source": [
    "### Let us write our first program"
   ]
  },
  {
   "cell_type": "code",
   "execution_count": 1,
   "metadata": {},
   "outputs": [
    {
     "name": "stdout",
     "output_type": "stream",
     "text": [
      "Hello World!\n"
     ]
    }
   ],
   "source": [
    "print('Hello World!')"
   ]
  },
  {
   "cell_type": "code",
   "execution_count": 2,
   "metadata": {},
   "outputs": [
    {
     "name": "stdout",
     "output_type": "stream",
     "text": [
      "4\n"
     ]
    }
   ],
   "source": [
    "print(4)"
   ]
  },
  {
   "cell_type": "markdown",
   "metadata": {},
   "source": [
    "#### print() is  a function. The print function outputs anything you put in within brackets to the screen. \n",
    "- When printing characters always start and end with quotation marks. It can be ' or \". Always start and end with the same type of quotation mark.\n",
    "- Number can be printed without quotation marks.\n",
    "\n",
    "##### Example:-\n",
    "print(\"Hello world!\")\n",
    "print(\"Hello\", \"how are you?\", sep=\" ---\")\n"
   ]
  },
  {
   "cell_type": "markdown",
   "metadata": {},
   "source": [
    "### Comments\n",
    "\n",
    "- As programs get bigger and more complicated, they get more difficult to read.\n",
    "- It is often difficult to look at a piece of code and figure out what it is doing, or why.\n",
    "- For this reason, it is a good idea to add notes to your programs to explain what the program is doing.\n",
    "- A comment in a computer program is intended only for the human reader — it is completely ignored by the interpreter.\n",
    "- In Python, the # token starts a comment. The rest of the line is ignored. Here is a new version of Hello, World!."
   ]
  },
  {
   "cell_type": "code",
   "execution_count": null,
   "metadata": {},
   "outputs": [],
   "source": [
    "#---------------------------------------------------\n",
    "# This is a demo program written in Octtober 2018\n",
    "# Anyone may freely copy or modify this program.\n",
    "#---------------------------------------------------\n",
    "\n",
    "print(\"Hello, World!\")     # I wrote my first program. Isn't this easy!"
   ]
  },
  {
   "cell_type": "markdown",
   "metadata": {},
   "source": [
    "### Using Python as a calculator"
   ]
  },
  {
   "cell_type": "markdown",
   "metadata": {},
   "source": [
    "You can try the following operators:\n",
    "\n",
    "| Operator | Description |\n",
    "| :------: | :---------: |\n",
    "| +        |Addition|\n",
    "| -        |Subtraction|\n",
    "| *        |Multiplication|\n",
    "| /        |Division|\n",
    "| %        |Modulus|\n",
    "| **       |Exponent|\n",
    "| //       |Floor Division|"
   ]
  },
  {
   "cell_type": "markdown",
   "metadata": {},
   "source": [
    "#### Lets try some simple statements in python"
   ]
  },
  {
   "cell_type": "code",
   "execution_count": null,
   "metadata": {},
   "outputs": [],
   "source": [
    "print(2 + 2)\n",
    "print(50 - 5*6)\n",
    "print((50 - 5*6) / 4)\n",
    "print(8 / 5) # division always returns a floating point number"
   ]
  },
  {
   "cell_type": "code",
   "execution_count": null,
   "metadata": {},
   "outputs": [],
   "source": [
    "print(17 / 3)  # classic division returns a float.\n",
    "print(17 // 3)  # floor division discards the fractional part and returns an integer.\n",
    "print(17 % 3)  # the % operator returns the remainder of the division. Output is an integer."
   ]
  },
  {
   "cell_type": "code",
   "execution_count": null,
   "metadata": {},
   "outputs": [],
   "source": [
    "print(5 ** 2)  # 5 squared\n",
    "print(2 ** 7)  # 2 to the power of 7\n",
    "print(4**(1/2)) # the squareroot of 4. Notice that the result is a float."
   ]
  },
  {
   "cell_type": "markdown",
   "metadata": {},
   "source": [
    "### Numbers in Python\n",
    "\n",
    "- There are two basic types of numbers in python viz., <b>Int & Float</b>\n",
    "- <b>Int is used to store integers. </b>\n",
    "- <b>Float is used to store numbers with decimal points. </b>\n",
    "- The type() function can be used to know the kind of number you are dealing with."
   ]
  },
  {
   "cell_type": "code",
   "execution_count": null,
   "metadata": {},
   "outputs": [],
   "source": [
    "type(55)"
   ]
  },
  {
   "cell_type": "code",
   "execution_count": null,
   "metadata": {},
   "outputs": [],
   "source": [
    "type(4.262)"
   ]
  },
  {
   "cell_type": "markdown",
   "metadata": {},
   "source": [
    "### Variables\n",
    "\n",
    "##### Variables are names given to data.\n",
    "##### There are certain rules and conventions to follow when choosing a name for a variable.\n",
    "\n",
    "- Variable names can be arbitrarily long.\n",
    "- They can contain both letters and digits, but they have to <b>begin with a letter or an underscore.</b>\n",
    "- Although it is allowed, <b>it is not good practice to begin variable names with uppercase letters.</b>\n",
    "- <b>Do not begin a variable with an underscore</b> as they have a special meaning. So a safe rule for beginners is to <b>start all names with a letter.</b>\n",
    "- The <b>underscore character can appear in a name.</b> It is often used in names with multiple words, eg: <b>price_of_tea_in_china</b>.\n",
    "- <b>If you give a variable an illegal name, you get a syntax error.</b>"
   ]
  },
  {
   "cell_type": "code",
   "execution_count": null,
   "metadata": {},
   "outputs": [],
   "source": [
    "a=10 # We have assigned our first name\n",
    "b=20 # This is our second name\n",
    "c=a+b # we name the result in a third variable\n",
    "print(c) # print the output"
   ]
  },
  {
   "cell_type": "markdown",
   "metadata": {},
   "source": [
    "##### '=' is the assignment operator. a = 10 assigns the name 'a' to the value 10."
   ]
  },
  {
   "cell_type": "markdown",
   "metadata": {},
   "source": [
    "Given below is a list of names which are reserved in Python and <b>cannot be used as variable names</b>. They called  keywords or identifiers.\n"
   ]
  },
  {
   "cell_type": "markdown",
   "metadata": {},
   "source": [
    "#### Reserved keywords in Python\n",
    "\n",
    "| _ | _ | _ |\n",
    "|:---:|:---:|---:|\n",
    "|False|class|finally|\n",
    "|is|return|None|\n",
    "|continue|for|lambda|\n",
    "|try|True|def|\n",
    "|from| nonlocal| while|\n",
    "|and|del|global|\n",
    "|not|with|as|\n",
    "|elif|if|or|\n",
    "|yield|assert|else|\n",
    "|import|pass|break|\n",
    "|except|in|raise|\t "
   ]
  },
  {
   "cell_type": "markdown",
   "metadata": {},
   "source": [
    "#### Logical operations in Python:\n",
    "\n",
    "|Operator|Description|\n",
    "|:---:|:---:|\n",
    "|==|Equal to|\n",
    "|!=|Not Equal to|\n",
    "|>|Greater than|\n",
    "|<|Less Than|\n",
    "|>=|Greater than or equal to|\n",
    "|<=|Less than or equal to|"
   ]
  },
  {
   "cell_type": "code",
   "execution_count": null,
   "metadata": {},
   "outputs": [],
   "source": [
    "x = 500\n",
    "y = 500\n",
    "print(x == y)"
   ]
  },
  {
   "cell_type": "code",
   "execution_count": null,
   "metadata": {},
   "outputs": [],
   "source": [
    "a = 10\n",
    "b = 12\n",
    "print(a != b)\n",
    "print(a >= b)\n",
    "print(a <= b)"
   ]
  },
  {
   "cell_type": "markdown",
   "metadata": {},
   "source": [
    "- We have seen the two basic numeric types.\n",
    "- Python also has logical types.\n",
    "- This type of data is called Boolean.\n",
    "- The two possible Boolean values viz., <b> True & False. </b>"
   ]
  },
  {
   "cell_type": "code",
   "execution_count": null,
   "metadata": {},
   "outputs": [],
   "source": [
    "type(a != b)"
   ]
  },
  {
   "cell_type": "markdown",
   "metadata": {},
   "source": [
    "### Strings"
   ]
  },
  {
   "cell_type": "code",
   "execution_count": null,
   "metadata": {},
   "outputs": [],
   "source": [
    "# Let us try the type function with some text\n",
    "type('Hello')"
   ]
  },
  {
   "cell_type": "markdown",
   "metadata": {},
   "source": [
    "##### Strings are use to to store character sequences. \n",
    "- 'Python' is a string of length 6.\n",
    "- Strings always start and end with quotation marks. It can be ' or \". Always start and end with the same type of quotation mark.\n",
    "- Strings have an index which tells you the position of each character.\n",
    "- A string can be indexed forwards and backwards.\n",
    "\n",
    "Take the string 'python'\n",
    "\n",
    "|p|y|t|h|o|n|\n",
    "|:---:|:---:|:---:|:---:|:---:|:---:|\n",
    "|0|1|2|3|4|5|\n",
    "|-6|-5|-4|-3|-2|-1|\n",
    "\n",
    "- Indexing starts from 0.\n",
    "- len() function is used find the length of a sequence."
   ]
  },
  {
   "cell_type": "code",
   "execution_count": null,
   "metadata": {
    "scrolled": true
   },
   "outputs": [],
   "source": [
    "string1 = \"Data Analytics\" # string1 is a variable of the type string\n",
    "\n",
    "print(len(string1))     # Prints length of the string\n",
    "print(string1)          # Prints complete string\n",
    "print(string1[0])       # Prints first character of the string\n",
    "print(string1[4:7])     # Prints characters starting from 5th to 7th\n",
    "print(string1[3:])      # Prints string starting from 4th character\n",
    "print(string1[1:-2])    # Prints from second character to one character before the last.\n",
    "print(string1 * 3)      # Prints string three times\n",
    "print(string1 + \"is cool !\") # Two strings can be concatenated using the '+' operator."
   ]
  },
  {
   "cell_type": "markdown",
   "metadata": {},
   "source": [
    "### Other sequences in python\n",
    "### Lists\n",
    "- A list can store a sequence of objects.\n",
    "- These objects can be of various types.\\"
   ]
  },
  {
   "cell_type": "code",
   "execution_count": null,
   "metadata": {},
   "outputs": [],
   "source": [
    "mylist = [\"Hello\",12,\"world\",11.111,'Me2'] # A list can have both strings and numbers\n",
    "print(mylist)\n",
    "type(mylist)"
   ]
  },
  {
   "cell_type": "markdown",
   "metadata": {},
   "source": [
    "##### Lists can be indexed in the same way as strings"
   ]
  },
  {
   "cell_type": "code",
   "execution_count": null,
   "metadata": {},
   "outputs": [],
   "source": [
    "print(mylist[0])\n",
    "print(mylist[1:3])\n",
    "print(mylist[-1])"
   ]
  },
  {
   "cell_type": "markdown",
   "metadata": {},
   "source": [
    "##### Lists can be concatenated like strings "
   ]
  },
  {
   "cell_type": "code",
   "execution_count": null,
   "metadata": {},
   "outputs": [],
   "source": [
    "a=[1,2,3,4]\n",
    "b=['A','B','C']\n",
    "c=['A',500,'C']"
   ]
  },
  {
   "cell_type": "code",
   "execution_count": null,
   "metadata": {},
   "outputs": [],
   "source": [
    "b + c"
   ]
  },
  {
   "cell_type": "code",
   "execution_count": null,
   "metadata": {},
   "outputs": [],
   "source": [
    "a + b + c"
   ]
  },
  {
   "cell_type": "markdown",
   "metadata": {},
   "source": [
    "### Tuples \n",
    "##### They are very similar to lists"
   ]
  },
  {
   "cell_type": "code",
   "execution_count": null,
   "metadata": {},
   "outputs": [],
   "source": [
    "mytup = ( 'welcome', 21.223, \"hello world\", 70.2  )\n",
    "type(mytup)"
   ]
  },
  {
   "cell_type": "markdown",
   "metadata": {},
   "source": [
    "##### How are lists and tuples different?\n",
    " - Elements in a tuple cannot be edited once assigned.\n",
    " - A tuple cannot be appended to or extended in anyway.\n",
    " - A tuple is immutable. \n",
    " - Lists are mutable.\n",
    " - You can expand lists to include more objects.\n",
    " - Tuples are indexed similar to lists"
   ]
  },
  {
   "cell_type": "code",
   "execution_count": null,
   "metadata": {},
   "outputs": [],
   "source": [
    "print(mytup[0])\n",
    "print(mytup[1:4])\n",
    "print(mytup[-3])"
   ]
  },
  {
   "cell_type": "markdown",
   "metadata": {},
   "source": [
    "### Dictionaries\n",
    "\n",
    "- A dictionary is a type of collection which consists of key, value pairs.\n",
    "- The keys and values can be of any type.\n",
    "- A dictionary is indexed through the keys."
   ]
  },
  {
   "cell_type": "code",
   "execution_count": null,
   "metadata": {},
   "outputs": [],
   "source": [
    "ex_di={'JJ':25,'DD':50,'EE':44}\n",
    "print(ex_di)\n",
    "print(ex_di['JJ']) # a dictionary is indexed through the assigned keys"
   ]
  },
  {
   "cell_type": "markdown",
   "metadata": {},
   "source": [
    "#### More on lists"
   ]
  },
  {
   "cell_type": "code",
   "execution_count": null,
   "metadata": {},
   "outputs": [],
   "source": [
    "mylist = ['Bangalore', 'Delhi', 'Chennai', 2000, 3400.56, \"Cool\"]\n",
    "len(mylist) # returns the length of the list"
   ]
  },
  {
   "cell_type": "markdown",
   "metadata": {},
   "source": [
    "**Q1. (In class exercise)** Print the last element of the list"
   ]
  },
  {
   "cell_type": "code",
   "execution_count": null,
   "metadata": {},
   "outputs": [],
   "source": []
  },
  {
   "cell_type": "markdown",
   "metadata": {},
   "source": [
    "##### Removing items from a list\n",
    "\n",
    "An object can be removed from a list by using del() function."
   ]
  },
  {
   "cell_type": "code",
   "execution_count": null,
   "metadata": {},
   "outputs": [],
   "source": [
    "del(mylist[5])\n",
    "print(mylist)"
   ]
  },
  {
   "cell_type": "markdown",
   "metadata": {},
   "source": [
    "A list has builtin methods to remove elements. "
   ]
  },
  {
   "cell_type": "code",
   "execution_count": null,
   "metadata": {},
   "outputs": [],
   "source": [
    "newlist = [\"Hello\",2,3,2,'world',2]\n",
    "newlist.remove(2)\n",
    "print(newlist)"
   ]
  },
  {
   "cell_type": "markdown",
   "metadata": {},
   "source": [
    "**Note:** Only the first matching entry is removed"
   ]
  },
  {
   "cell_type": "markdown",
   "metadata": {},
   "source": [
    "##### Join two lists\n",
    "\n",
    "- Two lists can be joined using the '+' operator.\n",
    "- This is also called concatenation."
   ]
  },
  {
   "cell_type": "code",
   "execution_count": null,
   "metadata": {},
   "outputs": [],
   "source": [
    "l1 = [1,2,3]\n",
    "l2 =['a','b']\n",
    "l3 = l1+l2\n",
    "print(l3)"
   ]
  },
  {
   "cell_type": "markdown",
   "metadata": {},
   "source": [
    "##### Checking for an element in the list"
   ]
  },
  {
   "cell_type": "code",
   "execution_count": null,
   "metadata": {},
   "outputs": [],
   "source": [
    "3 in l3 # the 'in' statement checks whether an element is prmesent in the list."
   ]
  },
  {
   "cell_type": "markdown",
   "metadata": {},
   "source": [
    "##### Max and min\n",
    "\n",
    "We can check the maximum and minimum value in a list by using the max() and min() functions."
   ]
  },
  {
   "cell_type": "code",
   "execution_count": null,
   "metadata": {},
   "outputs": [],
   "source": [
    "l1=[1,2,3]\n",
    "print(max(l1))\n",
    "print(min(l1))"
   ]
  },
  {
   "cell_type": "markdown",
   "metadata": {},
   "source": [
    "**NOTE:** The max() and min() functions will not work for strings in a list. It will only consider the numeric data."
   ]
  },
  {
   "cell_type": "markdown",
   "metadata": {},
   "source": [
    "##### The .pop() method\n",
    "The .pop() method moves and element out of the list."
   ]
  },
  {
   "cell_type": "code",
   "execution_count": null,
   "metadata": {},
   "outputs": [],
   "source": [
    "l1 = [1,2,3,4]\n",
    "l1.pop(2) # here the argument refers to the positional value\n",
    "print(l1)"
   ]
  },
  {
   "cell_type": "markdown",
   "metadata": {},
   "source": [
    "##### Inserting a new value into a list"
   ]
  },
  {
   "cell_type": "code",
   "execution_count": null,
   "metadata": {},
   "outputs": [],
   "source": [
    "l1 = [1,2,3,4]\n",
    "l1.insert(1,101) #101 will be inserted into the first position of the list and \n",
    "print(l1)"
   ]
  },
  {
   "cell_type": "markdown",
   "metadata": {},
   "source": [
    "##### Appending an element to a list \n",
    "Append adds an element to the end of a list"
   ]
  },
  {
   "cell_type": "code",
   "execution_count": null,
   "metadata": {},
   "outputs": [],
   "source": [
    "l1 = [1,2,3,4]\n",
    "l1.append(5)\n",
    "print(l1)"
   ]
  },
  {
   "cell_type": "markdown",
   "metadata": {},
   "source": [
    "##### Sorting a list\n",
    "Lists have a sort method which reorders the list based on the values it contains."
   ]
  },
  {
   "cell_type": "code",
   "execution_count": null,
   "metadata": {},
   "outputs": [],
   "source": [
    "l2=[23,1,0,45,-1]\n",
    "l2.sort()\n",
    "print(l2)"
   ]
  },
  {
   "cell_type": "markdown",
   "metadata": {},
   "source": [
    "Python also has a function sorted() which can sort the elements of a list."
   ]
  },
  {
   "cell_type": "code",
   "execution_count": null,
   "metadata": {},
   "outputs": [],
   "source": [
    "l2=[23,1,0,45,-1]\n",
    "print(sorted(l2))\n",
    "print(l2)"
   ]
  },
  {
   "cell_type": "markdown",
   "metadata": {},
   "source": [
    "**Note :** There is a difference between the sort() and sorted() function ! "
   ]
  },
  {
   "cell_type": "markdown",
   "metadata": {},
   "source": [
    "### Conditional statements\n",
    "- if, else and elif"
   ]
  },
  {
   "cell_type": "code",
   "execution_count": null,
   "metadata": {},
   "outputs": [],
   "source": [
    "a = 10\n",
    "if ( a == 10 ) : \n",
    "    print(\"Value of a is \",a)\n",
    "else : \n",
    "    print(\"Value of a is \",a)"
   ]
  },
  {
   "cell_type": "code",
   "execution_count": null,
   "metadata": {},
   "outputs": [],
   "source": [
    "age = 36\n",
    "qualification = \"UG\"\n",
    "maritial_status = \"single\" \n",
    "\n",
    "if(age < 35 and qualification == \"PG\" and maritial_status == \"married\"):\n",
    "    print(\"you qualify for Australian immigration\")\n",
    "elif(age > 35):\n",
    "    print(\"Age bar test fail ! not applicable for Australian immigration\")\n",
    "elif(qualification == \"UG\"):\n",
    "    print(\"You are underqualified to immigrate to Australia\")\n",
    "elif(maritial_status != \"married\"):\n",
    "    print(\"You have failed the maritial qualification, no eligible for immigration\") "
   ]
  },
  {
   "cell_type": "markdown",
   "metadata": {},
   "source": [
    "# Understanding nested if-else statements "
   ]
  },
  {
   "cell_type": "code",
   "execution_count": null,
   "metadata": {},
   "outputs": [],
   "source": [
    "n=7\n",
    "if(n % 2 != 0 ):\n",
    "  print(\"not divible 2\")\n",
    "  if(n % 3 !=0):\n",
    "    print(\"not divisible by 3\")\n",
    "    if(n % 4 !=0):\n",
    "      print(\"not divisible by 4\")\n",
    "      if(n % 5 !=0):\n",
    "        print(\"Not divisble by 5\")\n",
    "        if(n % 6 != 0):\n",
    "             print(\"Not divisible by 6\")\n",
    "             print(\"Hence \",n, \"is a prime number\")\n",
    "        else:\n",
    "            print(\"NOT A PRIME NUMBER\")   \n",
    "       \n",
    "#Note: Nested if else is not so easy to debug and maintin "
   ]
  },
  {
   "cell_type": "markdown",
   "metadata": {},
   "source": [
    "# Q (In class lab exercise) Develop code snippet to replace the leveral levels of if else with just 3 lines of code to print if 7 is a prime number or not"
   ]
  },
  {
   "cell_type": "code",
   "execution_count": 2,
   "metadata": {},
   "outputs": [],
   "source": [
    "n=6\n",
    "if(n % 2 != 0 ) and (n % 3 != 0):\n",
    "    print(\"number is a prime number\")"
   ]
  },
  {
   "cell_type": "code",
   "execution_count": null,
   "metadata": {},
   "outputs": [],
   "source": [
    "q : (In class lab exercise) Develop code snippets to implement the below conditions \n",
    "\n",
    "You are given a variable marks. Your task is to print: \n",
    "\n",
    "- AA if marks is greater than 90. \n",
    "- AB if marks is greater than  80 and less than or equal to 89. \n",
    "- BB if marks is greater than  70 and less than or equal to 79. \n",
    "- BC if marks is greater than  60 and less than or equal to 69. \n",
    "- CC if marks is greater than  50 and less than or equal to 59. \n",
    "- CD if marks is greater than  40 and less than or equal to 49. \n",
    "- DD if marks is greater than  30 and less than or equal to 39. \n",
    "- FF if marks is less than or equal to 29."
   ]
  },
  {
   "cell_type": "code",
   "execution_count": null,
   "metadata": {},
   "outputs": [],
   "source": []
  },
  {
   "cell_type": "code",
   "execution_count": null,
   "metadata": {},
   "outputs": [],
   "source": []
  }
 ],
 "metadata": {
  "kernelspec": {
   "display_name": "Python 3 (ipykernel)",
   "language": "python",
   "name": "python3"
  },
  "language_info": {
   "codemirror_mode": {
    "name": "ipython",
    "version": 3
   },
   "file_extension": ".py",
   "mimetype": "text/x-python",
   "name": "python",
   "nbconvert_exporter": "python",
   "pygments_lexer": "ipython3",
   "version": "3.12.7"
  }
 },
 "nbformat": 4,
 "nbformat_minor": 4
}
