{
 "cells": [
  {
   "cell_type": "markdown",
   "metadata": {},
   "source": [
    "#### Introduction to iterators in Python"
   ]
  },
  {
   "cell_type": "markdown",
   "metadata": {},
   "source": [
    "Q. To figure out all the built in methods for any python object "
   ]
  },
  {
   "cell_type": "code",
   "execution_count": null,
   "metadata": {},
   "outputs": [],
   "source": [
    "a = [1,2,3,4,5]\n",
    "\n",
    "dir(a) #would list all the built in functions for 'a' "
   ]
  },
  {
   "cell_type": "code",
   "execution_count": null,
   "metadata": {},
   "outputs": [],
   "source": [
    "itr = iter(a)"
   ]
  },
  {
   "cell_type": "code",
   "execution_count": null,
   "metadata": {},
   "outputs": [],
   "source": [
    "next(itr)"
   ]
  },
  {
   "cell_type": "markdown",
   "metadata": {},
   "source": [
    "Note : Keep calling itr(next) until all the elements of the list is printed "
   ]
  },
  {
   "cell_type": "markdown",
   "metadata": {},
   "source": [
    "Q. Creating a reverse iterator on a list "
   ]
  },
  {
   "cell_type": "code",
   "execution_count": null,
   "metadata": {},
   "outputs": [],
   "source": [
    "ritr = reversed(a)"
   ]
  },
  {
   "cell_type": "code",
   "execution_count": null,
   "metadata": {},
   "outputs": [],
   "source": [
    "next(ritr)"
   ]
  },
  {
   "cell_type": "markdown",
   "metadata": {},
   "source": [
    "# In class lab exercise \n",
    "Q)What is the advantage of using iterators over using while loops on a list of elements ?"
   ]
  },
  {
   "cell_type": "markdown",
   "metadata": {},
   "source": [
    "q) What is a function ?"
   ]
  },
  {
   "cell_type": "code",
   "execution_count": null,
   "metadata": {},
   "outputs": [],
   "source": [
    "def greetings_call():   #This is function definition \n",
    "    print(\"Welcome..I am inside the function\")"
   ]
  },
  {
   "cell_type": "code",
   "execution_count": null,
   "metadata": {},
   "outputs": [],
   "source": [
    "greetings_call()  #This statment is to call the function which you have defined "
   ]
  },
  {
   "cell_type": "markdown",
   "metadata": {},
   "source": [
    "Q. Writing a function to add 2 numbers "
   ]
  },
  {
   "cell_type": "code",
   "execution_count": null,
   "metadata": {},
   "outputs": [],
   "source": [
    "#The below is an example of functions with arguments \n",
    "\n",
    "def mysum(a,b):   \n",
    "    c=a+b\n",
    "    print(\"The sum of\",a ,\"and \",b ,\"=\",c )"
   ]
  },
  {
   "cell_type": "code",
   "execution_count": null,
   "metadata": {},
   "outputs": [],
   "source": [
    "mysum(20,30) #Function call happens here"
   ]
  },
  {
   "cell_type": "markdown",
   "metadata": {},
   "source": [
    "Q. How to read input from the keyboard by promoting the user "
   ]
  },
  {
   "cell_type": "markdown",
   "metadata": {},
   "source": [
    "input() is used to read user input"
   ]
  },
  {
   "cell_type": "code",
   "execution_count": null,
   "metadata": {},
   "outputs": [],
   "source": [
    "age = input(\"Please enter your age :\")\n",
    "print(\"your age is :\", age)"
   ]
  },
  {
   "cell_type": "markdown",
   "metadata": {},
   "source": [
    "Q. How` do we check the datatype of the variables ?"
   ]
  },
  {
   "cell_type": "code",
   "execution_count": null,
   "metadata": {},
   "outputs": [],
   "source": [
    "type(age)"
   ]
  },
  {
   "cell_type": "markdown",
   "metadata": {},
   "source": [
    "You would notice that the age variable is of type \"string\" , we need to convert it into a number in case if we need to perform any arithmatic operations."
   ]
  },
  {
   "cell_type": "code",
   "execution_count": null,
   "metadata": {},
   "outputs": [],
   "source": [
    "age=float(input(\"Pls enter your age:\"))\n",
    "type(age) "
   ]
  },
  {
   "cell_type": "markdown",
   "metadata": {},
   "source": [
    "# In class lab exercise :\n",
    "\n",
    "Write a program:\n",
    "\n",
    "Which accepts a number from the user (via input function) and passes it to a function to check if its an odd number or even number. "
   ]
  },
  {
   "cell_type": "code",
   "execution_count": null,
   "metadata": {},
   "outputs": [],
   "source": []
  },
  {
   "cell_type": "markdown",
   "metadata": {},
   "source": [
    "Q. Understanding the split() function in Python "
   ]
  },
  {
   "cell_type": "code",
   "execution_count": null,
   "metadata": {},
   "outputs": [],
   "source": [
    "sent = \"Hello how are you in 30\"\n",
    "words = sent.split(\" \") # The \" \" would split the above sentence into words based on the space \" \" as a seperator. \n",
    "print(words)\n",
    "type(words)"
   ]
  },
  {
   "cell_type": "markdown",
   "metadata": {},
   "source": [
    "Q. Checking if a variable contains a number or not "
   ]
  },
  {
   "cell_type": "code",
   "execution_count": null,
   "metadata": {},
   "outputs": [],
   "source": [
    "myword =\"44\"\n",
    "myword.isdigit()"
   ]
  },
  {
   "cell_type": "markdown",
   "metadata": {},
   "source": [
    "# In class lab exercise : \n",
    "Write a program:\n",
    "Write a function which takes this string as an argument \"20 is less than 30 but greater than 11\" and print only the numbers."
   ]
  },
  {
   "cell_type": "code",
   "execution_count": null,
   "metadata": {},
   "outputs": [],
   "source": []
  },
  {
   "cell_type": "markdown",
   "metadata": {},
   "source": [
    "Modify the above program in such a way that, once you have identified all the numbers from the above sentence, write another function to check if those numbers are odd or even and print them (Note: from one function you would call another function) \n",
    "Hint : The below is an example of a function calling another function "
   ]
  },
  {
   "cell_type": "code",
   "execution_count": null,
   "metadata": {},
   "outputs": [],
   "source": [
    "def check_oddeven(a) :\n",
    "    print(\"Inside the function check_oddeven\")\n",
    "    print(a, \" can be odd or even\")\n",
    "\n",
    "def getnum(b) :\n",
    "    print(\"Inside the function getnum\")\n",
    "    check_oddeven(b)  #From the getnum function we are now calling another function \"check_oddeven\"\n",
    "\n",
    "getnum(100) # Calling the first function only "
   ]
  },
  {
   "cell_type": "markdown",
   "metadata": {},
   "source": [
    "Q. Understanding return value"
   ]
  },
  {
   "cell_type": "code",
   "execution_count": null,
   "metadata": {},
   "outputs": [],
   "source": [
    "def findsum(a,b):\n",
    "    s=a+b\n",
    "    return(s)\n",
    "\n",
    "\n",
    "res=findsum(10,20)  # Function calling \n",
    "print(\"Sum = \",res)"
   ]
  },
  {
   "cell_type": "markdown",
   "metadata": {},
   "source": [
    "Another example of functions returning values"
   ]
  },
  {
   "cell_type": "code",
   "execution_count": null,
   "metadata": {},
   "outputs": [],
   "source": [
    "def findsum(a,b):\n",
    "    s=a+b\n",
    "    return(s)\n",
    "    print(\"Inside the findsum fucntion\")\n",
    "\n",
    "\n",
    "res=findsum(10,20)\n",
    "print(\"Sum = \",res)"
   ]
  },
  {
   "cell_type": "markdown",
   "metadata": {},
   "source": [
    "Q. What do you understand from the above code snippet using the return statement?"
   ]
  },
  {
   "cell_type": "code",
   "execution_count": null,
   "metadata": {},
   "outputs": [],
   "source": []
  },
  {
   "cell_type": "markdown",
   "metadata": {},
   "source": [
    "# In class lab exercise :\n",
    "Write a program:\n",
    "Write a user defined function which take a list of the following list of numbers as an argument [1,3,6,8,10,17]\n",
    "The function should return the first even number identified and the even number should be printed from the point of function call. "
   ]
  },
  {
   "cell_type": "code",
   "execution_count": null,
   "metadata": {},
   "outputs": [],
   "source": []
  },
  {
   "cell_type": "markdown",
   "metadata": {},
   "source": [
    "# In class lab exercise \n",
    "\n",
    "Write a program:\n",
    "\n",
    "Develop a state machine. A state machine is something like a directed graph a->b->c->d where a, b, c and d would be a function which involves some computation. Each function can also be called as a \"node\" in a graph. \n",
    "The problem statement would be the following sequesnce of steps.  \n",
    "\n",
    "Function a : Would accept a string \"She is in her 40's but behaves as if she is a teenager who is 16!\"\n",
    "             The function should split all sentence into individual words and pass on the words to a function b\n",
    "\n",
    "Function b : Would identify only the numbers, in case of presence of any special character present along with the number,\n",
    "             then only those numbers would be sent to another functin c for a cleanup. The cleaned up numbers from \n",
    "             function b would now be sent to function d for printing the results on the screen \n",
    "\n",
    "Function c : It would extract only numbers ignoring the special character and return back numbers to the function b\n",
    "\n",
    "Function d:  Print the contents whatever is being passed on as an argument \n",
    "\n",
    "Ideally the function call graph would be something like ...\n",
    "\n",
    "Function \"a\" calling function \"b\" \n",
    "Function \"b\" calling function \"c\"\n",
    "Function \"c\" returning back to function \"b\"\n",
    "Function \"b\" finally calling function \"d\"\n",
    "Function \"d\" prints out the final results  "
   ]
  },
  {
   "cell_type": "code",
   "execution_count": null,
   "metadata": {},
   "outputs": [],
   "source": []
  },
  {
   "cell_type": "markdown",
   "metadata": {},
   "source": [
    "Try to answer, how the function return graph would look like !"
   ]
  },
  {
   "cell_type": "code",
   "execution_count": null,
   "metadata": {},
   "outputs": [],
   "source": []
  },
  {
   "cell_type": "markdown",
   "metadata": {},
   "source": [
    "Q. Understanding lambda functions in Python"
   ]
  },
  {
   "cell_type": "code",
   "execution_count": null,
   "metadata": {},
   "outputs": [],
   "source": [
    "# These are basically one line function definitions in Python \n",
    "\n",
    "x = lambda a, b : a * b\n",
    "print(x(2, 3))"
   ]
  },
  {
   "cell_type": "code",
   "execution_count": null,
   "metadata": {},
   "outputs": [],
   "source": [
    "# Another example of a lambda expression in function definition \n",
    "\n",
    "x = lambda a, b, c : a + b + c\n",
    "print(x(1, 2, 3))"
   ]
  },
  {
   "cell_type": "markdown",
   "metadata": {},
   "source": [
    "Q. Understanding the filter, map and reduce built-in functions in Python "
   ]
  },
  {
   "cell_type": "code",
   "execution_count": null,
   "metadata": {},
   "outputs": [],
   "source": [
    "# --Understanding filter function-- \n",
    "\n",
    "num_list = range(10, 50)\n",
    "print(list(num_list))\n",
    "new_list = list(filter(lambda x: x > 30, num_list))\n",
    "print(new_list)"
   ]
  },
  {
   "cell_type": "code",
   "execution_count": null,
   "metadata": {},
   "outputs": [],
   "source": [
    "#--Understanding reduce function--\n",
    "# Reduce funtion will reduce n elements in a list into a single item \n",
    "\n",
    "from functools import reduce\n",
    "product = reduce((lambda x, y: x * y), [1, 2, 3, 4])\n",
    "print(product)"
   ]
  },
  {
   "cell_type": "markdown",
   "metadata": {},
   "source": [
    "Try running the above code by replacing x*y with x+y and see the result ! "
   ]
  },
  {
   "cell_type": "markdown",
   "metadata": {},
   "source": [
    "###### Understanding map function\n",
    "It takes 2 arguments, the function to operate on the data and the inputs on which the function works\n",
    "map(function, inputs)"
   ]
  },
  {
   "cell_type": "code",
   "execution_count": null,
   "metadata": {},
   "outputs": [],
   "source": [
    "def increment(a) :\n",
    "    return(a+1)\n",
    "\n",
    "data=[1,2,3,4,5]\n",
    "new_list = map(increment,data)\n",
    "print(list(new_list)) #we are explictly type casting the data in new_list to a list type to print the results. \n",
    "\n"
   ]
  },
  {
   "cell_type": "markdown",
   "metadata": {},
   "source": [
    "With respect to the following list of numbers in the given dataset answer the following questions\n",
    "\n",
    "milage_2wheelers = [45,50,43,60,56,48,10,15,20,19,60,40,40,43,50,50,65,70,75,80,13]\n"
   ]
  },
  {
   "cell_type": "markdown",
   "metadata": {},
   "source": [
    "# In class lab exercise :\n",
    "Write a program to find the mean \n",
    "\n",
    "Note: mean is the average of all the numbers, sum/count of numbers, do not use the sum function to calculate the total, instead, write a custom function to find out the sum of all the numbers "
   ]
  },
  {
   "cell_type": "code",
   "execution_count": null,
   "metadata": {},
   "outputs": [],
   "source": []
  },
  {
   "cell_type": "markdown",
   "metadata": {},
   "source": [
    "# Take home assignment \n",
    "Write a program to find the median\n",
    "\n",
    "Note :Median is the middle number in a sorted list (eg: 1,2,3  here the median is 2) However if we have 1,2,3,4 then \n",
    "the median will be the average of 2&3"
   ]
  },
  {
   "cell_type": "code",
   "execution_count": null,
   "metadata": {},
   "outputs": [],
   "source": []
  },
  {
   "cell_type": "markdown",
   "metadata": {},
   "source": [
    "# Take home assignment \n",
    "Write a program to find the mode\n",
    "\n",
    "Note : Mode is the number which is repeated the most. "
   ]
  },
  {
   "cell_type": "code",
   "execution_count": null,
   "metadata": {},
   "outputs": [],
   "source": []
  }
 ],
 "metadata": {
  "kernelspec": {
   "display_name": "Python 3 (ipykernel)",
   "language": "python",
   "name": "python3"
  },
  "language_info": {
   "codemirror_mode": {
    "name": "ipython",
    "version": 3
   },
   "file_extension": ".py",
   "mimetype": "text/x-python",
   "name": "python",
   "nbconvert_exporter": "python",
   "pygments_lexer": "ipython3",
   "version": "3.12.7"
  }
 },
 "nbformat": 4,
 "nbformat_minor": 4
}
