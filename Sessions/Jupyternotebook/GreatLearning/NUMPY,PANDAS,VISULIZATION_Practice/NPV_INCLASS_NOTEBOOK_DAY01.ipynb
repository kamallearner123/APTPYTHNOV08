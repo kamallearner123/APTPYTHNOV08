{
 "cells": [
  {
   "cell_type": "markdown",
   "metadata": {
    "colab_type": "text",
    "id": "ku943WcA7CC-"
   },
   "source": [
    "# INCLASS NOTEBOOKS"
   ]
  },
  {
   "cell_type": "markdown",
   "metadata": {},
   "source": [
    "## Importing the `numpy package `"
   ]
  },
  {
   "cell_type": "markdown",
   "metadata": {},
   "source": [
    "**What is Numpy.**\n",
    "\n",
    "NumPy refers to Numerical Python and it is an open source library in Python that aids in mathematical ,numerical calculations and computations , scientific, engineering, and data science programming. \n",
    "\n",
    "NumPy is an most essential library to perform mathematical and statistical operations. It works perfectly well for multi-dimensional arrays and matrices multiplication.\n",
    "\n",
    "Numpy is memory efficiency, meaning it can handle the vast amount of data more accessible than any other library. Besides, NumPy is very convenient to work with, especially for matrix multiplication and reshaping and more helpful in machine learning.\n",
    "\n",
    "Numpy makes the work simpler by doing the complex numerical computations in background."
   ]
  },
  {
   "cell_type": "code",
   "execution_count": 2,
   "metadata": {
    "colab": {},
    "colab_type": "code",
    "id": "XQ6Lmleo7CDE",
    "outputId": "0c7795b6-cccc-4643-de09-fca0b15784da"
   },
   "outputs": [
    {
     "data": {
      "text/plain": [
       "array([[12, 34, 55],\n",
       "       [66, 45, 77],\n",
       "       [45, 77, 88]])"
      ]
     },
     "execution_count": 2,
     "metadata": {},
     "output_type": "execute_result"
    }
   ],
   "source": [
    "import numpy as np\n",
    "\n",
    "list_l =[[12,34,55,],[66,45,77],[45,77,88]]\n",
    "np.array(list_l)\n"
   ]
  },
  {
   "cell_type": "markdown",
   "metadata": {},
   "source": [
    "## What is an Array.\n",
    "\n",
    "An array is a special variable, which can hold more than one value at a time."
   ]
  },
  {
   "cell_type": "markdown",
   "metadata": {},
   "source": [
    "## How do we construct an `array`."
   ]
  },
  {
   "cell_type": "code",
   "execution_count": 2,
   "metadata": {},
   "outputs": [
    {
     "name": "stdout",
     "output_type": "stream",
     "text": [
      "[1 2 3 4 5]\n"
     ]
    }
   ],
   "source": [
    "myarr = np.array([1,2,3,4,5])\n",
    "print(myarr)"
   ]
  },
  {
   "cell_type": "code",
   "execution_count": 3,
   "metadata": {},
   "outputs": [
    {
     "data": {
      "text/plain": [
       "numpy.ndarray"
      ]
     },
     "execution_count": 3,
     "metadata": {},
     "output_type": "execute_result"
    }
   ],
   "source": [
    "type(myarr)"
   ]
  },
  {
   "cell_type": "markdown",
   "metadata": {
    "colab_type": "text",
    "id": "JO-Y2fwn7CDl"
   },
   "source": [
    "## Note : Arrays can store elements of the same `type`.\n"
   ]
  },
  {
   "cell_type": "code",
   "execution_count": 11,
   "metadata": {},
   "outputs": [
    {
     "name": "stdout",
     "output_type": "stream",
     "text": [
      "[1 2 3 'string' {1: 'one'} list([])]\n",
      "object\n",
      "1\n"
     ]
    }
   ],
   "source": [
    "a = np.array([1,2,3,'string',{1:\"one\"},[]])\n",
    "print(a)\n",
    "print(a.dtype)\n",
    "print(a[0])\n",
    "\n"
   ]
  },
  {
   "cell_type": "markdown",
   "metadata": {
    "colab_type": "text",
    "id": "2hjP-4-d7CDo"
   },
   "source": [
    "## Advantages of array in `numpy`. \n",
    "Uses less space and its faster in computation \n"
   ]
  },
  {
   "cell_type": "markdown",
   "metadata": {
    "colab_type": "text",
    "id": "kES7LDzj7CDr"
   },
   "source": [
    "## Lets check the size of an integer `type` in Python. "
   ]
  },
  {
   "cell_type": "code",
   "execution_count": 15,
   "metadata": {
    "colab": {},
    "colab_type": "code",
    "id": "z9_b2A4p7CDt",
    "outputId": "3c6a3719-e24f-473d-97cd-896eb3abfa11"
   },
   "outputs": [
    {
     "name": "stdout",
     "output_type": "stream",
     "text": [
      "28\n",
      "4\n"
     ]
    }
   ],
   "source": [
    "import sys \n",
    "b  = 10\n",
    "print(sys.getsizeof(b))#Return the size of object in bytes.\n",
    "print(b.bit_length())"
   ]
  },
  {
   "cell_type": "markdown",
   "metadata": {
    "colab_type": "text",
    "id": "wkTGSEls7CD3"
   },
   "source": [
    "## Lets check the `size` of an empty list in Python."
   ]
  },
  {
   "cell_type": "code",
   "execution_count": 12,
   "metadata": {
    "colab": {},
    "colab_type": "code",
    "id": "HMi1klzx7CD5",
    "outputId": "97e2ce8d-0d19-421d-cd76-0c6b51482f99"
   },
   "outputs": [
    {
     "ename": "NameError",
     "evalue": "name 'sys' is not defined",
     "output_type": "error",
     "traceback": [
      "\u001b[0;31m---------------------------------------------------------------------------\u001b[0m",
      "\u001b[0;31mNameError\u001b[0m                                 Traceback (most recent call last)",
      "\u001b[0;32m<ipython-input-12-3807a60c69e6>\u001b[0m in \u001b[0;36m<module>\u001b[0;34m\u001b[0m\n\u001b[1;32m      1\u001b[0m \u001b[0mmyl\u001b[0m \u001b[0;34m=\u001b[0m \u001b[0;34m[\u001b[0m\u001b[0;34m]\u001b[0m\u001b[0;34m\u001b[0m\u001b[0;34m\u001b[0m\u001b[0m\n\u001b[0;32m----> 2\u001b[0;31m \u001b[0msys\u001b[0m\u001b[0;34m.\u001b[0m\u001b[0mgetsizeof\u001b[0m\u001b[0;34m(\u001b[0m\u001b[0mmyl\u001b[0m\u001b[0;34m)\u001b[0m\u001b[0;34m\u001b[0m\u001b[0;34m\u001b[0m\u001b[0m\n\u001b[0m",
      "\u001b[0;31mNameError\u001b[0m: name 'sys' is not defined"
     ]
    }
   ],
   "source": [
    "myl = []\n",
    "sys.getsizeof(myl)\n"
   ]
  },
  {
   "cell_type": "markdown",
   "metadata": {
    "colab_type": "text",
    "id": "vWTqZBrt7CEE"
   },
   "source": [
    "## Lets add an item to the list and `check the size `.\n"
   ]
  },
  {
   "cell_type": "code",
   "execution_count": 43,
   "metadata": {
    "colab": {},
    "colab_type": "code",
    "id": "aYWKl36p7CEH",
    "outputId": "7123d129-d162-4d3e-c20e-0203ffb88e90"
   },
   "outputs": [
    {
     "data": {
      "text/plain": [
       "96"
      ]
     },
     "execution_count": 43,
     "metadata": {},
     "output_type": "execute_result"
    }
   ],
   "source": [
    "myl = [1,2,9,100]\n",
    "sys.getsizeof(myl)"
   ]
  },
  {
   "cell_type": "markdown",
   "metadata": {
    "colab_type": "text",
    "id": "ctCQ-T3e7CES"
   },
   "source": [
    "## Note : Every item in the list would occupy `8 bytes `."
   ]
  },
  {
   "cell_type": "markdown",
   "metadata": {
    "colab_type": "text",
    "id": "R_szgq1k7CET"
   },
   "source": [
    "## Let us create a `list of 100 elements`. "
   ]
  },
  {
   "cell_type": "code",
   "execution_count": 44,
   "metadata": {
    "colab": {},
    "colab_type": "code",
    "id": "WR-4r-Uz7CEV",
    "outputId": "cb187a7f-7160-4169-fad9-2a8cf724ad9c"
   },
   "outputs": [
    {
     "name": "stdout",
     "output_type": "stream",
     "text": [
      "[1, 2, 3, 4, 5, 6, 7, 8, 9, 10, 11, 12, 13, 14, 15, 16, 17, 18, 19, 20, 21, 22, 23, 24, 25, 26, 27, 28, 29, 30, 31, 32, 33, 34, 35, 36, 37, 38, 39, 40, 41, 42, 43, 44, 45, 46, 47, 48, 49, 50, 51, 52, 53, 54, 55, 56, 57, 58, 59, 60, 61, 62, 63, 64, 65, 66, 67, 68, 69, 70, 71, 72, 73, 74, 75, 76, 77, 78, 79, 80, 81, 82, 83, 84, 85, 86, 87, 88, 89, 90, 91, 92, 93, 94, 95, 96, 97, 98, 99]\n",
      "28\n"
     ]
    },
    {
     "data": {
      "text/plain": [
       "list"
      ]
     },
     "execution_count": 44,
     "metadata": {},
     "output_type": "execute_result"
    }
   ],
   "source": [
    "myl=list(range(1,100))\n",
    "print(myl)\n",
    "print(sys.getsizeof(myl[0]))\n",
    "type(myl)\n"
   ]
  },
  {
   "cell_type": "markdown",
   "metadata": {
    "colab_type": "text",
    "id": "cB_W7zoE7CEe"
   },
   "source": [
    "## Lets now `check the size` of the entire  list \n"
   ]
  },
  {
   "cell_type": "code",
   "execution_count": 19,
   "metadata": {
    "colab": {},
    "colab_type": "code",
    "id": "ZoWbRqR37CEf",
    "outputId": "6a96f347-1fa8-48ca-a08c-566aa614d835"
   },
   "outputs": [
    {
     "name": "stdout",
     "output_type": "stream",
     "text": [
      "2772\n"
     ]
    }
   ],
   "source": [
    "size_l = sys.getsizeof((myl[1]))*len(myl)\n",
    "print(size_l)\n"
   ]
  },
  {
   "cell_type": "markdown",
   "metadata": {
    "colab_type": "text",
    "id": "n3Op-xJJ7CEo"
   },
   "source": [
    "## Note : getsizeof(myl[1]) would give the size of one element of the list in bytes \n"
   ]
  },
  {
   "cell_type": "markdown",
   "metadata": {
    "colab_type": "text",
    "id": "mVxBU6BU7CEq"
   },
   "source": [
    "\n",
    "## Now lets create an array of `100 elements` and `check the size of the array`. \n"
   ]
  },
  {
   "cell_type": "code",
   "execution_count": 35,
   "metadata": {
    "colab": {},
    "colab_type": "code",
    "id": "OSPWAsKq7CEs",
    "outputId": "40ac91b6-b8d7-4ed3-b6e6-02a43f8074bd"
   },
   "outputs": [
    {
     "ename": "TypeError",
     "evalue": "ufunc 'multiply' did not contain a loop with signature matching types dtype('<U21') dtype('<U21') dtype('<U21')",
     "output_type": "error",
     "traceback": [
      "\u001b[0;31m---------------------------------------------------------------------------\u001b[0m",
      "\u001b[0;31mTypeError\u001b[0m                                 Traceback (most recent call last)",
      "\u001b[0;32m<ipython-input-35-b8be8145a6b0>\u001b[0m in \u001b[0;36m<module>\u001b[0;34m\u001b[0m\n\u001b[1;32m      1\u001b[0m \u001b[0mmyar\u001b[0m \u001b[0;34m=\u001b[0m \u001b[0mnp\u001b[0m\u001b[0;34m.\u001b[0m\u001b[0marray\u001b[0m\u001b[0;34m(\u001b[0m\u001b[0;34m[\u001b[0m\u001b[0;36m1\u001b[0m\u001b[0;34m,\u001b[0m\u001b[0;36m2\u001b[0m\u001b[0;34m,\u001b[0m\u001b[0;36m3\u001b[0m\u001b[0;34m,\u001b[0m \u001b[0;34m'helo'\u001b[0m\u001b[0;34m]\u001b[0m\u001b[0;34m)\u001b[0m\u001b[0;34m\u001b[0m\u001b[0;34m\u001b[0m\u001b[0m\n\u001b[0;32m----> 2\u001b[0;31m \u001b[0mmyar\u001b[0m \u001b[0;34m=\u001b[0m \u001b[0mmyar\u001b[0m\u001b[0;34m*\u001b[0m\u001b[0mmyar\u001b[0m\u001b[0;34m*\u001b[0m\u001b[0mmyar\u001b[0m\u001b[0;34m*\u001b[0m\u001b[0mmyar\u001b[0m\u001b[0;34m*\u001b[0m\u001b[0mmyar\u001b[0m\u001b[0;34m*\u001b[0m\u001b[0mmyar\u001b[0m\u001b[0;34m*\u001b[0m\u001b[0mmyar\u001b[0m\u001b[0;34m*\u001b[0m\u001b[0mmyar\u001b[0m\u001b[0;34m*\u001b[0m\u001b[0mmyar\u001b[0m\u001b[0;34m\u001b[0m\u001b[0;34m\u001b[0m\u001b[0m\n\u001b[0m\u001b[1;32m      3\u001b[0m \u001b[0mprint\u001b[0m\u001b[0;34m(\u001b[0m\u001b[0mmyar\u001b[0m\u001b[0;34m)\u001b[0m\u001b[0;34m\u001b[0m\u001b[0;34m\u001b[0m\u001b[0m\n\u001b[1;32m      4\u001b[0m \u001b[0mprint\u001b[0m\u001b[0;34m(\u001b[0m\u001b[0mmyar\u001b[0m\u001b[0;34m.\u001b[0m\u001b[0mitemsize\u001b[0m\u001b[0;34m)\u001b[0m\u001b[0;34m\u001b[0m\u001b[0;34m\u001b[0m\u001b[0m\n",
      "\u001b[0;31mTypeError\u001b[0m: ufunc 'multiply' did not contain a loop with signature matching types dtype('<U21') dtype('<U21') dtype('<U21')"
     ]
    }
   ],
   "source": [
    "myar = np.array([1,2,3, 'helo'])\n",
    "myar = myar*myar*myar*myar*myar*myar*myar*myar*myar\n",
    "print(myar)\n",
    "print(myar.itemsize)\n"
   ]
  },
  {
   "cell_type": "markdown",
   "metadata": {
    "colab_type": "text",
    "id": "PQ7EDxvy7CE3"
   },
   "source": [
    "## Lets check How to find out the `count of number of elements` in an array\n"
   ]
  },
  {
   "cell_type": "code",
   "execution_count": 0,
   "metadata": {
    "colab": {},
    "colab_type": "code",
    "id": "JrP_CMrl7CE5",
    "outputId": "04f92a5b-2a95-4684-8739-c79f53907c99"
   },
   "outputs": [
    {
     "data": {
      "text/plain": [
       "100"
      ]
     },
     "execution_count": 9,
     "metadata": {
      "tags": []
     },
     "output_type": "execute_result"
    }
   ],
   "source": [
    "myar.size\n"
   ]
  },
  {
   "cell_type": "markdown",
   "metadata": {
    "colab_type": "text",
    "id": "-fKjPUON7CFA"
   },
   "source": [
    "##  Lets Check How to find the `size (memory occupied) by every item in an array`. \n"
   ]
  },
  {
   "cell_type": "code",
   "execution_count": 0,
   "metadata": {
    "colab": {},
    "colab_type": "code",
    "id": "LcCE3bxt7CFB",
    "outputId": "fec3af7f-ee5f-40a2-c5b4-3c58da23e853"
   },
   "outputs": [
    {
     "name": "stdout",
     "output_type": "stream",
     "text": [
      "8\n"
     ]
    }
   ],
   "source": [
    "print(myar.itemsize)\n"
   ]
  },
  {
   "cell_type": "markdown",
   "metadata": {
    "colab_type": "text",
    "id": "O9kruP1e7CFJ"
   },
   "source": [
    "## Now we need to `multiple the length of the array` with the memory occupied  by each                        array element to get the total memory occupied by the entire array elements. \n",
    "\n"
   ]
  },
  {
   "cell_type": "code",
   "execution_count": 45,
   "metadata": {
    "colab": {},
    "colab_type": "code",
    "id": "FZAMsS_Y7CFK",
    "outputId": "6e022cd8-fa51-49af-c2a5-3a9809254828"
   },
   "outputs": [
    {
     "name": "stdout",
     "output_type": "stream",
     "text": [
      "400\n"
     ]
    }
   ],
   "source": [
    "size_a =  (myar.size)*(myar.itemsize)\n",
    "print(size_a)\n"
   ]
  },
  {
   "cell_type": "markdown",
   "metadata": {
    "colab_type": "text",
    "id": "sTB5lEod7CFT"
   },
   "source": [
    "## Let us Find How to verify that numpy arrays are `faster` than the python lists \n"
   ]
  },
  {
   "cell_type": "code",
   "execution_count": 27,
   "metadata": {
    "colab": {},
    "colab_type": "code",
    "id": "t8in21cT7CFU",
    "outputId": "b389434e-2898-4f09-e1b9-e0e4c970624c"
   },
   "outputs": [
    {
     "name": "stdout",
     "output_type": "stream",
     "text": [
      "List addition time is  2665.288209915161\n",
      "Numpy Array addition time is  93.38998794555664\n"
     ]
    }
   ],
   "source": [
    "import time\n",
    "import numpy as np \n",
    "\n",
    "num = 10000000\n",
    "count = num\n",
    "l1=list(range(count))\n",
    "l2=list(range(count))\n",
    "\n",
    "start=time.time()\n",
    "list3 = [l1[i]+l2[i] for i in range(num)]\n",
    "end=time.time()\n",
    "elapsed = 1000*(end-start)\n",
    "print(\"List addition time is \",elapsed)\n",
    "\n",
    "a1 = np.arange(count)\n",
    "a2 = np.arange(count)\n",
    "start=time.time()\n",
    "a3=a1+a2\n",
    "end=time.time()\n",
    "elapsed = 1000*(end-start)\n",
    "print(\"Numpy Array addition time is \",elapsed)\n"
   ]
  },
  {
   "cell_type": "code",
   "execution_count": 39,
   "metadata": {},
   "outputs": [
    {
     "name": "stdout",
     "output_type": "stream",
     "text": [
      "Size taken by list =  168\n",
      "Size taken by numpy array =  109\n",
      "Size taken by numpy array =  122\n",
      "Size taken by numpy array =  148\n"
     ]
    }
   ],
   "source": [
    "import sys\n",
    "import numpy as np\n",
    "list1 = [1,3,7,100,4,6,10,45,3,6,8,99,87]\n",
    "print(\"Size taken by list = \", sys.getsizeof(list1))\n",
    "\n",
    "a = np.array([1,3,7,100,4,6,10,45,3,6,8,99,87],dtype=np.int8)\n",
    "print(\"Size taken by numpy array = \", sys.getsizeof(a))\n",
    "\n",
    "a = np.array([1,3,7,100,4,6,10,45,3,6,8,99,87],dtype=np.int16)\n",
    "print(\"Size taken by numpy array = \", sys.getsizeof(a))\n",
    "\n",
    "a = np.array([1,3,7,100,4,6,10,45,3,6,8,99,87],dtype=np.int32)\n",
    "print(\"Size taken by numpy array = \", sys.getsizeof(a))\n",
    "\n"
   ]
  },
  {
   "cell_type": "markdown",
   "metadata": {
    "colab_type": "text",
    "id": "mqHolKP-7CFh"
   },
   "source": [
    "## Lets Create a `2 dimensional array`. \n"
   ]
  },
  {
   "cell_type": "code",
   "execution_count": 48,
   "metadata": {
    "colab": {},
    "colab_type": "code",
    "id": "65E28kU27CFi",
    "outputId": "3e883e12-8c54-4309-a95e-123541c5df9c"
   },
   "outputs": [
    {
     "name": "stdout",
     "output_type": "stream",
     "text": [
      "[[1 2]\n",
      " [3 4]]\n"
     ]
    },
    {
     "data": {
      "text/plain": [
       "2"
      ]
     },
     "execution_count": 48,
     "metadata": {},
     "output_type": "execute_result"
    }
   ],
   "source": [
    "import numpy as np \n",
    "a = np.array([[1,2],[3,4]])\n",
    "print(a)\n",
    "a.ndim #The ndim will print the dimensionality of the array i.e 1 dimentional or 2 dimensional \n"
   ]
  },
  {
   "cell_type": "markdown",
   "metadata": {
    "colab_type": "text",
    "id": "z7gUMl0F7CFr"
   },
   "source": [
    "## Lets Check How to `count the number of elements` in any array .\n"
   ]
  },
  {
   "cell_type": "code",
   "execution_count": 8,
   "metadata": {
    "colab": {},
    "colab_type": "code",
    "id": "uHispMl27CFs",
    "outputId": "60ea9d9b-d246-4cd6-ce3b-6ee89f34012f"
   },
   "outputs": [
    {
     "name": "stdout",
     "output_type": "stream",
     "text": [
      "6\n",
      "shape = (3, 2)\n"
     ]
    }
   ],
   "source": [
    "print(a.size) # print the size\n",
    "\n",
    "\n",
    "print(\"shape =\",a.shape) # would print how many rows and cols are there in the array \n",
    "\n"
   ]
  },
  {
   "cell_type": "markdown",
   "metadata": {
    "colab_type": "text",
    "id": "fMYY6Lvh7CFy"
   },
   "source": [
    "## Lets see another example of using the `shape function`."
   ]
  },
  {
   "cell_type": "code",
   "execution_count": 50,
   "metadata": {
    "colab": {},
    "colab_type": "code",
    "id": "VsB5KwX_7CF0",
    "outputId": "b9690dc0-393f-44f0-c83a-7f3334826757"
   },
   "outputs": [
    {
     "data": {
      "text/plain": [
       "(3, 2)"
      ]
     },
     "execution_count": 50,
     "metadata": {},
     "output_type": "execute_result"
    }
   ],
   "source": [
    "a=np.array([[1,2],[3,4],[5,6]])\n",
    "a.shape  # would print how many rows and cols are there in the array  "
   ]
  },
  {
   "cell_type": "markdown",
   "metadata": {
    "colab_type": "text",
    "id": "bHElNjiv7CF7"
   },
   "source": [
    "## `Reshaping` an array \n"
   ]
  },
  {
   "cell_type": "code",
   "execution_count": 39,
   "metadata": {
    "colab": {},
    "colab_type": "code",
    "id": "ySzE-Bqe7CF9",
    "outputId": "ec75d574-be1b-498f-c5cb-e9862164006b"
   },
   "outputs": [
    {
     "name": "stdout",
     "output_type": "stream",
     "text": [
      "[[1 2 3]\n",
      " ['string' {1: 'one'} list([])]]\n"
     ]
    },
    {
     "data": {
      "text/plain": [
       "array([[1, 2, 3, 'string', {1: 'one'}, list([])]], dtype=object)"
      ]
     },
     "execution_count": 39,
     "metadata": {},
     "output_type": "execute_result"
    }
   ],
   "source": [
    "b = a.reshape((2,3))\n",
    "b.shape\n",
    "print(b)\n",
    "\n",
    "b.reshape((1,6))"
   ]
  },
  {
   "cell_type": "markdown",
   "metadata": {
    "colab_type": "text",
    "id": "ydmpVXS37CGC"
   },
   "source": [
    "## Let see how to `Create a zero value` array .\n"
   ]
  },
  {
   "cell_type": "code",
   "execution_count": 42,
   "metadata": {
    "colab": {},
    "colab_type": "code",
    "id": "C3_QhLl47CGD",
    "outputId": "b3396728-b63b-42fa-ba07-60e0170034f0"
   },
   "outputs": [
    {
     "name": "stdout",
     "output_type": "stream",
     "text": [
      "[[0. 0. 0.]\n",
      " [0. 0. 0.]]\n",
      "[[1. 1. 1.]\n",
      " [1. 1. 1.]]\n",
      "[0. 0. 0. 0. 0. 0. 0. 0. 0. 0.]\n"
     ]
    }
   ],
   "source": [
    "a = np.zeros( (2,3) )   #will result in creating a 2 row and 3 col array, filled with zeroes \n",
    "print(a)\n",
    "\n",
    "b = np.ones((2,3)) #This will create an array with value 1's \n",
    "print(b)\n",
    "\n",
    "c = np.zeros(10)\n",
    "print(c)"
   ]
  },
  {
   "cell_type": "markdown",
   "metadata": {
    "colab_type": "text",
    "id": "Rt4sUKYi7CGJ"
   },
   "source": [
    "## Lets `Check about arange function` to create arrays .\n"
   ]
  },
  {
   "cell_type": "code",
   "execution_count": 0,
   "metadata": {
    "colab": {},
    "colab_type": "code",
    "id": "vKH1d4SF7CGL",
    "outputId": "5ba329ff-336f-47d4-ac40-354645218a83"
   },
   "outputs": [
    {
     "name": "stdout",
     "output_type": "stream",
     "text": [
      "[0 1 2 3 4]\n"
     ]
    }
   ],
   "source": [
    "a = np.arange(5)\n",
    "print(a)\n"
   ]
  },
  {
   "cell_type": "markdown",
   "metadata": {
    "colab_type": "text",
    "id": "29VICTtY7CGQ"
   },
   "source": [
    "## Let us Understand about the `ravel function`,its used to convert an `N dimensional array` into a `1 dimensional array `.\n"
   ]
  },
  {
   "cell_type": "code",
   "execution_count": 43,
   "metadata": {
    "colab": {},
    "colab_type": "code",
    "id": "Z73aycB57CGR",
    "outputId": "d6b05fc4-6e30-413f-9950-0f324d45e169"
   },
   "outputs": [
    {
     "name": "stdout",
     "output_type": "stream",
     "text": [
      "<built-in method ravel of numpy.ndarray object at 0x121096210>\n"
     ]
    },
    {
     "data": {
      "text/plain": [
       "builtin_function_or_method"
      ]
     },
     "execution_count": 43,
     "metadata": {},
     "output_type": "execute_result"
    }
   ],
   "source": [
    "b=np.array([[1,2],[3,4]])\n",
    "a = b.ravel\n",
    "print(a)\n",
    "type(a)"
   ]
  },
  {
   "cell_type": "markdown",
   "metadata": {
    "colab_type": "text",
    "id": "66SsLJQX7CGW"
   },
   "source": [
    "## Let us Find out the `minimum` and `maximum` element from an array \n"
   ]
  },
  {
   "cell_type": "code",
   "execution_count": 13,
   "metadata": {
    "colab": {},
    "colab_type": "code",
    "id": "TjWUTf6a7CGX",
    "outputId": "8852f59e-fa11-4d03-bb32-a687519dd6d6"
   },
   "outputs": [
    {
     "data": {
      "text/plain": [
       "1"
      ]
     },
     "execution_count": 13,
     "metadata": {},
     "output_type": "execute_result"
    }
   ],
   "source": [
    "b.min() # This will retrive the minimum element value from the array\n"
   ]
  },
  {
   "cell_type": "code",
   "execution_count": 15,
   "metadata": {},
   "outputs": [
    {
     "data": {
      "text/plain": [
       "4"
      ]
     },
     "execution_count": 15,
     "metadata": {},
     "output_type": "execute_result"
    }
   ],
   "source": [
    "b.max() # This will retrive the maximum element value from the array\n"
   ]
  },
  {
   "cell_type": "markdown",
   "metadata": {},
   "source": [
    "## Lets see how to check `variance` ,`standard deviation`,`mean` of an array."
   ]
  },
  {
   "cell_type": "code",
   "execution_count": 47,
   "metadata": {},
   "outputs": [
    {
     "data": {
      "text/plain": [
       "array([[1, 2],\n",
       "       [3, 4],\n",
       "       [5, 6]])"
      ]
     },
     "execution_count": 47,
     "metadata": {},
     "output_type": "execute_result"
    }
   ],
   "source": [
    "x=np.array([[1,2],[3,4],[5,6]])\n",
    "x"
   ]
  },
  {
   "cell_type": "markdown",
   "metadata": {},
   "source": [
    "**What is Variance.**\n",
    "\n",
    "Variance measures how far a data is spread out. The technical definition is “The average of the squared differences from the mean,” but all it really does is to give you a very general idea of the spread of your data. A value of zero means that there is no variability; All the numbers in the data set are the same.\n",
    "\n",
    "For Example :-\n",
    "\n",
    "The data set 12, 12, 12, 12, 12 has a var. of zero (the numbers are identical). \n",
    "\n",
    "The data set 12, 12, 12, 12, 13 has a var. of 0.167; a small change in the numbers equals a very small var.\n",
    "\n",
    "The data set 12, 12, 12, 12, 13,013 has a var. of 28171000; a large change in the numbers equals a very large number."
   ]
  },
  {
   "cell_type": "code",
   "execution_count": 48,
   "metadata": {},
   "outputs": [
    {
     "name": "stdout",
     "output_type": "stream",
     "text": [
      "1063.673469387755\n"
     ]
    }
   ],
   "source": [
    "x.var() # Display the variance\n",
    "\n",
    "\n",
    "a = np.array([5,8,0,1,4,-1,-90])\n",
    "print(a.var())"
   ]
  },
  {
   "cell_type": "markdown",
   "metadata": {},
   "source": [
    "**what is standard deviation.**\n",
    "\n",
    "The square root of the variance is the standard deviation. While var. gives you a rough idea of spread, the standard deviation is more concrete, giving you exact distances from the mean."
   ]
  },
  {
   "cell_type": "code",
   "execution_count": 38,
   "metadata": {},
   "outputs": [
    {
     "data": {
      "text/plain": [
       "1.707825127659933"
      ]
     },
     "execution_count": 38,
     "metadata": {},
     "output_type": "execute_result"
    }
   ],
   "source": [
    "x.std() # Display the standard deviation"
   ]
  },
  {
   "cell_type": "code",
   "execution_count": 39,
   "metadata": {},
   "outputs": [
    {
     "data": {
      "text/plain": [
       "3.5"
      ]
     },
     "execution_count": 39,
     "metadata": {},
     "output_type": "execute_result"
    }
   ],
   "source": [
    "x.mean() # Display the mean/average"
   ]
  },
  {
   "cell_type": "code",
   "execution_count": 76,
   "metadata": {},
   "outputs": [
    {
     "name": "stdout",
     "output_type": "stream",
     "text": [
      "<class 'numpy.str_'>\n",
      "90\n",
      "90112\n"
     ]
    }
   ],
   "source": [
    "a= np.array([\"hello world\",\"hel world\"])\n",
    "print(type(a[0]))\n",
    "print(sys.getsizeof(a[1]))\n",
    "\n",
    "b = list(range(10000))\n",
    "print(sys.getsizeof(b))\n",
    "\n"
   ]
  },
  {
   "cell_type": "markdown",
   "metadata": {
    "colab_type": "text",
    "id": "9eFkYCnZ7CGd"
   },
   "source": [
    "## Lets see how could we perform Operations on arrays (Addition, subtraction and multiplication is possible)\n"
   ]
  },
  {
   "cell_type": "code",
   "execution_count": 17,
   "metadata": {},
   "outputs": [
    {
     "name": "stdout",
     "output_type": "stream",
     "text": [
      "[[1. 1.]\n",
      " [1. 1.]]\n",
      "[[1. 1.]\n",
      " [1. 1.]]\n"
     ]
    }
   ],
   "source": [
    "a=np.ones((2,2))\n",
    "b=np.ones((2,2))\n",
    "print(a)\n",
    "print(b)    # this will print the 2 rows 2 columns filled with ones "
   ]
  },
  {
   "cell_type": "code",
   "execution_count": 18,
   "metadata": {
    "colab": {},
    "colab_type": "code",
    "id": "NACMjPIG7CGe",
    "outputId": "f4d88091-a509-4a45-9f38-f8794ef5787a"
   },
   "outputs": [
    {
     "name": "stdout",
     "output_type": "stream",
     "text": [
      "addition result follows\n",
      "\n",
      ": [[2. 2.]\n",
      " [2. 2.]]\n",
      "subtraction result follows\n",
      " \n",
      " : [[0. 0.]\n",
      " [0. 0.]]\n",
      "multiplication result follows\n",
      " \n",
      " : [[1. 1.]\n",
      " [1. 1.]]\n"
     ]
    }
   ],
   "source": [
    "c = a+b\n",
    "d = a-b\n",
    "e = a*b\n",
    "print(\"addition result follows\\n\\n:\",c)\n",
    "print(\"subtraction result follows\\n \\n :\",d)\n",
    "print(\"multiplication result follows\\n \\n :\",e)\n"
   ]
  },
  {
   "cell_type": "markdown",
   "metadata": {
    "colab_type": "text",
    "id": "K84ixHoS7CGk"
   },
   "source": [
    "## `Slicing` python lists \n"
   ]
  },
  {
   "cell_type": "code",
   "execution_count": 0,
   "metadata": {
    "colab": {},
    "colab_type": "code",
    "id": "iM-PWhrD7CGl",
    "outputId": "f3274cbf-cfef-43f0-fdd0-d78021f68c5b"
   },
   "outputs": [
    {
     "data": {
      "text/plain": [
       "[3, 4]"
      ]
     },
     "execution_count": 23,
     "metadata": {
      "tags": []
     },
     "output_type": "execute_result"
    }
   ],
   "source": [
    "l = [1,2,3,4,5]\n",
    "l[2:4]\n"
   ]
  },
  {
   "cell_type": "markdown",
   "metadata": {
    "colab_type": "text",
    "id": "KQVLQq1Y7CGr"
   },
   "source": [
    "## Lets check how we can perform Similar kind of slicing on Python arrays \n"
   ]
  },
  {
   "cell_type": "code",
   "execution_count": 84,
   "metadata": {
    "colab": {},
    "colab_type": "code",
    "id": "fcWWMG2K7CGt",
    "outputId": "9c475bbb-7f7e-456e-841a-dc5d4dabf3d9"
   },
   "outputs": [
    {
     "name": "stdout",
     "output_type": "stream",
     "text": [
      "[[1 2 3]\n",
      " [4 5 6]\n",
      " [7 8 9]]\n",
      "[3 6 9]\n",
      "<class 'numpy.ndarray'>\n"
     ]
    }
   ],
   "source": [
    "d2 = np.array([[1,2,3],[4,5,6],[7,8,9]])\n",
    "print(d2)\n",
    "\n",
    "a = d2[:,2]\n",
    "print(a)\n",
    "print(type(a))\n"
   ]
  },
  {
   "cell_type": "code",
   "execution_count": 78,
   "metadata": {},
   "outputs": [
    {
     "name": "stdout",
     "output_type": "stream",
     "text": [
      "1\n",
      "5\n"
     ]
    }
   ],
   "source": [
    "print(d2[0,0]) # This would print the element from 1st row and 1st column i.e 1 \n",
    "print(d2[1,1]) # This would print the element from 2nd row and 2nd column i.e 5 "
   ]
  },
  {
   "cell_type": "markdown",
   "metadata": {
    "colab_type": "text",
    "id": "aRCNXoB07CG0"
   },
   "source": [
    "\n",
    "## How to interpret the below statement with respect to the ` Above 3 by 3 array`.\n",
    "\n"
   ]
  },
  {
   "cell_type": "code",
   "execution_count": 22,
   "metadata": {
    "colab": {},
    "colab_type": "code",
    "id": "MH8dGxES7CG1",
    "outputId": "e54c1964-19cc-47dc-9a05-2d325a2bf3e1"
   },
   "outputs": [
    {
     "name": "stdout",
     "output_type": "stream",
     "text": [
      "[3 6]\n"
     ]
    }
   ],
   "source": [
    "print(d2[0:2,2]) #would print [3 6] \n",
    "# [0:2,2] would translate to [(0,1),2] i.e to print the row 1 and row 2 elements of column 2 which is 3,6\n"
   ]
  },
  {
   "cell_type": "code",
   "execution_count": 24,
   "metadata": {
    "colab": {},
    "colab_type": "code",
    "id": "pRZ_jcPo7CG6",
    "outputId": "2d16e736-a43f-4506-9660-17102cd4dc9a"
   },
   "outputs": [
    {
     "name": "stdout",
     "output_type": "stream",
     "text": [
      "[[1 2]\n",
      " [4 5]\n",
      " [7 8]]\n"
     ]
    }
   ],
   "source": [
    "print(d2[:,0:2]) # Print all the row elements from col 1 and col 2\n"
   ]
  },
  {
   "cell_type": "markdown",
   "metadata": {
    "colab_type": "text",
    "id": "nAjZreK97CG_"
   },
   "source": [
    "## How do we  iterate the array using for loops \n",
    "\n",
    "1 2 3\n",
    "\n",
    "4 5 6\n",
    "\n",
    "7 8 9\n",
    "\n",
    "The array d2 contains the above elements"
   ]
  },
  {
   "cell_type": "code",
   "execution_count": 25,
   "metadata": {
    "colab": {},
    "colab_type": "code",
    "id": "ps1vA2bK7CG_",
    "outputId": "9a6f7abe-fb23-4c42-d238-ca771be4ec04"
   },
   "outputs": [
    {
     "name": "stdout",
     "output_type": "stream",
     "text": [
      "[1 2 3]\n",
      "[4 5 6]\n",
      "[7 8 9]\n"
     ]
    }
   ],
   "source": [
    "for row in d2:\n",
    "    print(row) \n"
   ]
  },
  {
   "cell_type": "markdown",
   "metadata": {
    "colab_type": "text",
    "id": "0RBFhAX77CHD"
   },
   "source": [
    "## Lets see the `Conditional statements` on arrays \n"
   ]
  },
  {
   "cell_type": "code",
   "execution_count": 0,
   "metadata": {
    "colab": {},
    "colab_type": "code",
    "id": "2ou1eKdh7CHF",
    "outputId": "54667fe3-e2c5-4e70-b6bb-ed65fd61a34b"
   },
   "outputs": [
    {
     "name": "stdout",
     "output_type": "stream",
     "text": [
      "The original array is \n",
      " [[0 1 2]\n",
      " [3 4 5]\n",
      " [6 7 8]]\n",
      " \n",
      "The boolean array after the conditional statement is applied \n",
      "\n",
      "[[False False False]\n",
      " [False False False]\n",
      " [ True  True  True]]\n"
     ]
    },
    {
     "data": {
      "text/plain": [
       "array([6, 7, 8])"
      ]
     },
     "execution_count": 30,
     "metadata": {
      "tags": []
     },
     "output_type": "execute_result"
    }
   ],
   "source": [
    "ca = np.arange(9).reshape(3,3)\n",
    "print(\"The original array is \\n\" ,ca)\n",
    "\n",
    "con = ca > 5 \n",
    "\n",
    "print(\" \\nThe boolean array after the conditional statement is applied \\n\")\n",
    "print(con)\n",
    "\n",
    "ca[con] # The boolean TRUE/FALSE array is now the index and print only the numbers satisfying the the > 5 condition \n"
   ]
  },
  {
   "cell_type": "markdown",
   "metadata": {
    "colab_type": "text",
    "id": "v9lTEd7I7CHJ"
   },
   "source": [
    "## --) Lets see how to `Replace` all the elements of an array which is greater than 4 with zero \n"
   ]
  },
  {
   "cell_type": "code",
   "execution_count": 0,
   "metadata": {
    "colab": {},
    "colab_type": "code",
    "id": "4HKu81Jw7CHL",
    "outputId": "69c4cb10-3c7c-46d5-86ef-f0d02b53f8c7"
   },
   "outputs": [
    {
     "name": "stdout",
     "output_type": "stream",
     "text": [
      "The original array is : \n",
      " [[0 1 2]\n",
      " [3 4 5]\n",
      " [6 7 8]]\n",
      "\n",
      " [[0 1 2]\n",
      " [3 4 0]\n",
      " [0 0 0]]\n"
     ]
    }
   ],
   "source": [
    "ca = np.arange(9).reshape(3,3)\n",
    "print(\"The original array is : \\n\", ca)\n",
    "\n",
    "con = ca > 4\n",
    "ca[con]=0\n",
    "print(\"\\n\",ca) \n",
    "\n"
   ]
  },
  {
   "cell_type": "markdown",
   "metadata": {
    "colab_type": "text",
    "id": "CFxArruH7CHP"
   },
   "source": [
    "## Lets Take a 1 dimensional array and `reshape` it to a 2 dimensional array. \n"
   ]
  },
  {
   "cell_type": "code",
   "execution_count": 4,
   "metadata": {
    "colab": {},
    "colab_type": "code",
    "id": "u-s4k4mw7CHR",
    "outputId": "28bab640-5bb0-43fd-dd1c-65ca8de3a5ee"
   },
   "outputs": [
    {
     "name": "stdout",
     "output_type": "stream",
     "text": [
      "[[0 1 2 3 4]\n",
      " [5 6 7 8 9]]\n",
      "[[10 11 12 13 14]\n",
      " [15 16 17 18 19]]\n"
     ]
    }
   ],
   "source": [
    "newa = np.arange(10).reshape(2,5)\n",
    "newb = np.arange(10,20).reshape(2,5)\n",
    "\n",
    "print(newa)\n",
    "print(newb)\n",
    "\n"
   ]
  },
  {
   "cell_type": "markdown",
   "metadata": {
    "colab_type": "text",
    "id": "WKC-YGpm7CHV"
   },
   "source": [
    "## Lets us understand `stacking` operations on an array \n"
   ]
  },
  {
   "cell_type": "code",
   "execution_count": 5,
   "metadata": {
    "colab": {},
    "colab_type": "code",
    "id": "wPSamcTJ7CHW",
    "outputId": "450eb144-f9f4-4668-ebbe-ef15759d7271"
   },
   "outputs": [
    {
     "name": "stdout",
     "output_type": "stream",
     "text": [
      "[[ 0  1  2  3  4]\n",
      " [ 5  6  7  8  9]\n",
      " [10 11 12 13 14]\n",
      " [15 16 17 18 19]]\n"
     ]
    },
    {
     "data": {
      "text/plain": [
       "numpy.ndarray"
      ]
     },
     "execution_count": 5,
     "metadata": {},
     "output_type": "execute_result"
    }
   ],
   "source": [
    "newc=np.vstack((newa,newb))  # vstack is for vertical stacking of arrays \n",
    "\n",
    "print(newc)\n",
    "type(newc)\n",
    "\n"
   ]
  },
  {
   "cell_type": "code",
   "execution_count": 28,
   "metadata": {},
   "outputs": [
    {
     "name": "stdout",
     "output_type": "stream",
     "text": [
      "[[ 0  1  2  3  4 10 11 12 13 14]\n",
      " [ 5  6  7  8  9 15 16 17 18 19]]\n"
     ]
    },
    {
     "data": {
      "text/plain": [
       "numpy.ndarray"
      ]
     },
     "execution_count": 28,
     "metadata": {},
     "output_type": "execute_result"
    }
   ],
   "source": [
    "newc=np.hstack((newa,newb))  # hstack is for Horizontal stacking of array\n",
    "\n",
    "print(newc)\n",
    "type(newc)\n"
   ]
  },
  {
   "cell_type": "markdown",
   "metadata": {
    "colab_type": "text",
    "id": "LYlZ2lEu7CHa"
   },
   "source": [
    "## Lets see how can we `split` a large arrays into smaller arrays \n"
   ]
  },
  {
   "cell_type": "code",
   "execution_count": 87,
   "metadata": {
    "colab": {},
    "colab_type": "code",
    "id": "d5-DyC5t7CHc",
    "outputId": "8d72c2f2-05fa-4188-96d6-7a6bdf79e209"
   },
   "outputs": [
    {
     "name": "stdout",
     "output_type": "stream",
     "text": [
      "[[ 0  1  2  3  4  5  6  7  8  9]\n",
      " [10 11 12 13 14 15 16 17 18 19]\n",
      " [20 21 22 23 24 25 26 27 28 29]\n",
      " [30 31 32 33 34 35 36 37 38 39]\n",
      " [40 41 42 43 44 45 46 47 48 49]\n",
      " [50 51 52 53 54 55 56 57 58 59]]\n",
      "[[ 0  1  2  3  4]\n",
      " [10 11 12 13 14]\n",
      " [20 21 22 23 24]\n",
      " [30 31 32 33 34]\n",
      " [40 41 42 43 44]\n",
      " [50 51 52 53 54]]\n",
      "[[ 5  6  7  8  9]\n",
      " [15 16 17 18 19]\n",
      " [25 26 27 28 29]\n",
      " [35 36 37 38 39]\n",
      " [45 46 47 48 49]\n",
      " [55 56 57 58 59]]\n"
     ]
    }
   ],
   "source": [
    "biga = np.arange(60).reshape(6,10)\n",
    "print(biga)\n",
    "biga.shape\n",
    "\n",
    "sma = np.hsplit(biga,2)  #  sma is a list consisting of 3 smaller arrays \n",
    "print(sma[0])\n",
    "print(sma[1])\n",
    "\n"
   ]
  },
  {
   "cell_type": "code",
   "execution_count": 90,
   "metadata": {},
   "outputs": [
    {
     "name": "stdout",
     "output_type": "stream",
     "text": [
      "[[ 0  1  2  3  4  5  6  7  8  9]\n",
      " [10 11 12 13 14 15 16 17 18 19]]\n",
      "[[20 21 22 23 24 25 26 27 28 29]\n",
      " [30 31 32 33 34 35 36 37 38 39]]\n",
      "[[40 41 42 43 44 45 46 47 48 49]\n",
      " [50 51 52 53 54 55 56 57 58 59]]\n"
     ]
    }
   ],
   "source": [
    "a = np.vsplit(biga,3)\n",
    "print(a[0])\n",
    "print(a[1])\n",
    "print(a[2])"
   ]
  },
  {
   "cell_type": "code",
   "execution_count": 93,
   "metadata": {},
   "outputs": [],
   "source": [
    "b = np.hsplit(biga,2)\n",
    "\n",
    "sys.getsizeof"
   ]
  },
  {
   "cell_type": "markdown",
   "metadata": {},
   "source": [
    "---------------------"
   ]
  },
  {
   "cell_type": "markdown",
   "metadata": {
    "colab": {},
    "colab_type": "code",
    "id": "tA_eifUU7CHt"
   },
   "source": [
    "# ----------------------------------Happy Learning------------------------------------------"
   ]
  },
  {
   "cell_type": "markdown",
   "metadata": {},
   "source": [
    "--------------"
   ]
  }
 ],
 "metadata": {
  "colab": {
   "name": "day4.ipynb",
   "provenance": [],
   "version": "0.3.2"
  },
  "kernelspec": {
   "display_name": "Python 3",
   "language": "python",
   "name": "python3"
  },
  "language_info": {
   "codemirror_mode": {
    "name": "ipython",
    "version": 3
   },
   "file_extension": ".py",
   "mimetype": "text/x-python",
   "name": "python",
   "nbconvert_exporter": "python",
   "pygments_lexer": "ipython3",
   "version": "3.7.3"
  }
 },
 "nbformat": 4,
 "nbformat_minor": 1
}
