{
 "cells": [
  {
   "cell_type": "markdown",
   "id": "892c61de-4ba7-4285-a1d3-fb524c76d5ff",
   "metadata": {},
   "source": [
    "# Regular expressions\n",
    "\n",
    "https://regex101.com/\n",
    "\n",
    "\n",
    "## re.match()\n",
    "- **Description:** Checks for a match **only at the beginning** of the string.\n",
    "- **Syntax:** re.match(pattern, string, flags=0)\n",
    "- **Returns:** A match object if the pattern is found; otherwise, None.\n",
    "\n"
   ]
  },
  {
   "cell_type": "code",
   "execution_count": 7,
   "id": "df88eca4-dcea-4e79-81dc-3bfbe741972d",
   "metadata": {},
   "outputs": [
    {
     "name": "stdout",
     "output_type": "stream",
     "text": [
      "<re.Match object; span=(10, 26), match='[1896295.009285]'>\n"
     ]
    }
   ],
   "source": [
    "import re\n",
    "\n",
    "matched = re.match(r\"\\[\\d+\\.\\d+\\]\", \"[1896295.009285]: LQM-WIFI: (2G) txRTSFrm=17 txRTSFail=0 rxCTSUcast=10 rxRTSUcast=0 txCTSFrm=0 txAMP\")\n",
    "if matched:\n",
    "   print(matched)"
   ]
  },
  {
   "cell_type": "markdown",
   "id": "8cc8f542-29d9-4a25-9ef4-a292e89215a9",
   "metadata": {},
   "source": [
    "## re.search()\n",
    "- **Description:** Searches for a match **anywhere** in the string.\n",
    "- **Syntax:** re.search(pattern, string, flags=0)\n",
    "- **Returns:** A match object if the pattern is found; otherwise, None."
   ]
  },
  {
   "cell_type": "code",
   "execution_count": 8,
   "id": "fa0f15bb-ccee-41a5-8d32-a72e5aad4a4c",
   "metadata": {},
   "outputs": [
    {
     "name": "stdout",
     "output_type": "stream",
     "text": [
      "<re.Match object; span=(0, 1), match='1'>\n"
     ]
    }
   ],
   "source": [
    "\n",
    "matched = re.search(r\"\\d\", \"[1896295.009285]: LQM-WIFI: (2G) txRTSFail=17 txRTSFail=0 rxCTSUcast=10 rxRTSUFail=0 txCTSFrm=0 txAMP\")\n",
    "if matched:\n",
    "   print(matched)"
   ]
  },
  {
   "cell_type": "markdown",
   "id": "5ee8f8f0-b88a-4e06-a972-12789c513982",
   "metadata": {},
   "source": [
    "# re.findall()\n",
    "- **Description:** Returns a **list of all matches** of the pattern in the string.\n",
    "- **Syntax:** re.findall(pattern, string, flags=0)\n",
    "- **Returns:** A list of matched strings."
   ]
  },
  {
   "cell_type": "code",
   "execution_count": 22,
   "id": "c30c778e-1553-4508-8377-27cdeaf9ea95",
   "metadata": {},
   "outputs": [
    {
     "name": "stdout",
     "output_type": "stream",
     "text": [
      "tx01RTSFail=17 ['1896295.009285']\n",
      "txRTSFail=0 ['1896295.009285']\n",
      "rxRTSUFail=0 ['1896295.009285']\n",
      "rxRTSUFail=0 ['1896295.009285']\n"
     ]
    }
   ],
   "source": [
    "\n",
    "\n",
    "matches = re.findall(r\"([0-9a-zA-z]+Fail=\\d+){1,3}\", \"[1896295.009285]: LQM-WIFI: (2G) tx01RTSFail=17 txRTSFail=0 rxCTSUcast=10 rxRTSUFail=0 rxRTSUFail=0 txCTSFrm=0 txAMP\")\n",
    "time = re.findall(r\"\\[(\\d+\\.\\d+)\\]\", \"[1896295.009285]: LQM-WIFI: (2G) txRTSFail=17 txRTSFail=0 rxCTSUcast=10 rxRTSUFail=0 rxRTSUFail=0 txCTSFrm=0 txAMP\")\n",
    "\n",
    "failed_mesgs = {}\n",
    "for match in matches:\n",
    "    print(match, time)\n",
    "    "
   ]
  },
  {
   "cell_type": "code",
   "execution_count": 33,
   "id": "bd089885-87b2-46c3-9f24-59f2b7ba9080",
   "metadata": {},
   "outputs": [
    {
     "name": "stdout",
     "output_type": "stream",
     "text": [
      " BTFail\n",
      "1RTSFail\n",
      " txRTSFail\n",
      " rxRTSUFail\n",
      " rxRTSUFail\n"
     ]
    }
   ],
   "source": [
    "# Other than SSH\n",
    "matches = re.findall(r\"([^SSH][a-zA-Z]+Fail){1,3}\", \"[1896295.009285]: SSHFail BTFail LQM-WIFI: (2G) tx01RTSFail=17 txRTSFail=0 rxCTSUcast=10 rxRTSUFail=0 rxRTSUFail=0 txCTSFrm=0 txAMP\")\n",
    "\n",
    "failed_mesgs = {}\n",
    "for match in matches:\n",
    "    print(match)\n",
    "    "
   ]
  },
  {
   "cell_type": "markdown",
   "id": "0fef0625-7711-4bb8-ae46-cce6d149c8f8",
   "metadata": {},
   "source": [
    "# re.finditer()\n",
    "- **Description:** Returns an **iterator yielding match objects for all matches** of the pattern in the string.\n",
    "- **Syntax:** re.finditer(pattern, string, flags=0)\n",
    "- **Returns:** An iterator of match objects."
   ]
  },
  {
   "cell_type": "code",
   "execution_count": 41,
   "id": "65aec6ca-f9e9-445f-b656-da6a09ce1e09",
   "metadata": {},
   "outputs": [
    {
     "name": "stdout",
     "output_type": "stream",
     "text": [
      "<re.Match object; span=(0, 1), match='1'>\n",
      "<re.Match object; span=(1, 2), match='1'>\n",
      "<re.Match object; span=(2, 3), match='2'>\n",
      "<re.Match object; span=(9, 10), match='1'>\n",
      "<re.Match object; span=(10, 11), match='2'>\n",
      "<re.Match object; span=(11, 12), match='3'>\n"
     ]
    }
   ],
   "source": [
    "matches = re.finditer(r\"\\d\", \"112 abc \\n123 xyz\")\n",
    "for match in matches:\n",
    "   print(match)"
   ]
  },
  {
   "cell_type": "markdown",
   "id": "85984512-9193-4f0b-acfa-34bc6d7e9659",
   "metadata": {},
   "source": [
    "# re.split()\n",
    "- **Description:** **Splits** the string at each occurrence of the pattern.\n",
    "- **Syntax:** re.split(pattern, string, maxsplit=0, flags=0)\n",
    "- **Returns**: A list of substrings."
   ]
  },
  {
   "cell_type": "code",
   "execution_count": 48,
   "id": "0d33b7cd-231b-4183-acf7-b8582655065a",
   "metadata": {},
   "outputs": [
    {
     "name": "stdout",
     "output_type": "stream",
     "text": [
      "112 abc \n",
      "123 \n",
      "xyz\n"
     ]
    }
   ],
   "source": [
    "matches = re.split(r\"\\n|\\t\", \"112 abc \\n123 \\txyz\")\n",
    "for match in matches:\n",
    "   print(match)"
   ]
  },
  {
   "cell_type": "markdown",
   "id": "f26b3885-3181-4d5c-81cc-eb5bb9fec2de",
   "metadata": {},
   "source": [
    "# re.sub()\n",
    "- **Description:** **Replaces occurrences** of the pattern with a specified string.\n",
    "- **Syntax:** re.sub(pattern, repl, string, count=0, flags=0)\n",
    "- **Returns:** A string with the substitutions applied."
   ]
  },
  {
   "cell_type": "code",
   "execution_count": 51,
   "id": "cc56cfe5-8433-41e7-b00c-267b26eef972",
   "metadata": {},
   "outputs": [
    {
     "name": "stdout",
     "output_type": "stream",
     "text": [
      "112 abc **123 **xyz\n",
      "('112 abc **123 **xyz', 2)\n"
     ]
    }
   ],
   "source": [
    "matches = re.sub(r\"\\n|\\t\", \"**\", \"112 abc \\n123 \\txyz\")\n",
    "print(matches)\n",
    "matches = re.subn(r\"\\n|\\t\", \"**\", \"112 abc \\n123 \\txyz\")\n",
    "print(matches)"
   ]
  },
  {
   "cell_type": "markdown",
   "id": "2fac168b-1f8d-4e09-a469-971f4821b193",
   "metadata": {},
   "source": [
    "# re.fullmatch()\n",
    "- **Description:** Checks if the entire string matches the pattern.\n",
    "- **Syntax:** re.fullmatch(pattern, string, flags=0)\n",
    "- **Returns:** A match object if the pattern matches the whole string; otherwise, None."
   ]
  },
  {
   "cell_type": "code",
   "execution_count": 63,
   "id": "2477bbf4-5ec0-4caf-8525-73f6483d48c7",
   "metadata": {},
   "outputs": [
    {
     "name": "stdout",
     "output_type": "stream",
     "text": [
      "<re.Match object; span=(0, 5), match='112 \\t'>\n"
     ]
    }
   ],
   "source": [
    "matches = re.fullmatch(r\"\\d+.*\", \"112 \\t\")\n",
    "print(matches)"
   ]
  },
  {
   "cell_type": "markdown",
   "id": "c6758f9a-743a-417d-b009-f8a201aca43e",
   "metadata": {},
   "source": [
    "# re.compile()\n",
    "- **Description:** Compiles a regular expression pattern into a regex object for repeated use.\n",
    "- **Syntax:** re.compile(pattern, flags=0)\n",
    "- **Returns:** A regex object that can be reused with methods like .match() and .search()."
   ]
  },
  {
   "cell_type": "code",
   "execution_count": 73,
   "id": "85b38ddc-d366-41be-ad66-62a424eb7fd0",
   "metadata": {},
   "outputs": [
    {
     "name": "stdout",
     "output_type": "stream",
     "text": [
      "['112', '123']\n"
     ]
    }
   ],
   "source": [
    "expression = re.compile(r\"\\d+\")\n",
    "matches = expression.findall(\"112 abc \\n123 \\txyz\")\n",
    "print(matches)"
   ]
  },
  {
   "cell_type": "code",
   "execution_count": 90,
   "id": "9ab5e137-7634-4b42-aec0-61d28bd865b5",
   "metadata": {},
   "outputs": [
    {
     "name": "stdout",
     "output_type": "stream",
     "text": [
      "\n",
      "\n",
      "\n",
      "^\n",
      "kamal kumar mukiri (you)\n",
      "    ***\n",
      "* *\n",
      "^kamal \n",
      "Hariprasad. Tavarekere\n",
      "***\n",
      "\n",
      "mymail id kadiyalapavani04@gmailacom\n",
      "       kadiyalapavani04@gmail.com\n",
      "\n",
      "Kapil Tarani\n",
      "kapil.tarani@gmail.com\n",
      "\n",
      "Lakshmi Mocherla\n",
      "lakshmi.mocherla@gmail.com\n",
      "\n",
      "monikabm200@gmail.com\n",
      "monikabm200@gmail.com\n",
      "\n",
      "MOUNISHA KOMMURI\n",
      "mounishakommuri@gmail.com\n",
      "\n",
      "pavani kadiyala\n",
      "pavanikadiyalachowdary@gmail.com\n",
      "\n",
      "rajesh rama\n",
      "rajeshramaraok@gmail.com\n",
      "\n",
      "Ramana Pokala\n",
      "ramana.pokala@gmail.com\n",
      "\n",
      "Raviteja K\n",
      "raviteja.kollapur@gmail.com\n",
      "\n",
      "siddavatam salmafirdose\n",
      "ssalmafirdose@gmail.com\n",
      "\n",
      "mustafa123@outlook.com\n",
      "\n",
      "\n"
     ]
    }
   ],
   "source": [
    "content = '''\n",
    "\n",
    "\n",
    "^\n",
    "kamal kumar mukiri (you)\n",
    "    kamal-bec2004-@gmail.co.in\n",
    "* *\n",
    "^kamal \n",
    "Hariprasad. Tavarekere\n",
    "tavarekere.hariprasad@gmail.com\n",
    "\n",
    "mymail id kadiyalapavani04@gmailacom\n",
    "       kadiyalapavani04@gmail.com\n",
    "\n",
    "Kapil Tarani\n",
    "kapil.tarani@gmail.com\n",
    "\n",
    "Lakshmi Mocherla\n",
    "lakshmi.mocherla@gmail.com\n",
    "\n",
    "monikabm200@gmail.com\n",
    "monikabm200@gmail.com\n",
    "\n",
    "MOUNISHA KOMMURI\n",
    "mounishakommuri@gmail.com\n",
    "\n",
    "pavani kadiyala\n",
    "pavanikadiyalachowdary@gmail.com\n",
    "\n",
    "rajesh rama\n",
    "rajeshramaraok@gmail.com\n",
    "\n",
    "Ramana Pokala\n",
    "ramana.pokala@gmail.com\n",
    "\n",
    "Raviteja K\n",
    "raviteja.kollapur@gmail.com\n",
    "\n",
    "siddavatam salmafirdose\n",
    "ssalmafirdose@gmail.com\n",
    "\n",
    "mustafa123@outlook.com\n",
    "\n",
    "'''\n",
    "new_content = re.sub(r\"([\\.\\-\\w]+)@(\\w+\\.[comn\\.i]*)\", \"***\", content, count=2)\n",
    "re.sub\n",
    "print(new_content)"
   ]
  },
  {
   "cell_type": "code",
   "execution_count": null,
   "id": "44f09c1a-1cc1-4893-a8c3-813ebe8e4c44",
   "metadata": {},
   "outputs": [],
   "source": []
  },
  {
   "cell_type": "code",
   "execution_count": 82,
   "id": "a8066a8d-7ab3-48e3-baa6-f9af98b801ac",
   "metadata": {},
   "outputs": [
    {
     "name": "stdout",
     "output_type": "stream",
     "text": [
      "([\\.\\-\\w]+)@(\\w+\\.[comn\\.i]*)\n",
      "('kamal-bec2004-', 'gmail.co.in')\n",
      "('tavarekere.hariprasad', 'gmail.com')\n",
      "('kadiyalapavani04', 'gmail.com')\n",
      "('kapil.tarani', 'gmail.com')\n",
      "('lakshmi.mocherla', 'gmail.com')\n",
      "('monikabm200', 'gmail.com')\n",
      "('monikabm200', 'gmail.com')\n",
      "('mounishakommuri', 'gmail.com')\n",
      "('pavanikadiyalachowdary', 'gmail.com')\n",
      "('rajeshramaraok', 'gmail.com')\n",
      "('ramana.pokala', 'gmail.com')\n",
      "('raviteja.kollapur', 'gmail.com')\n",
      "('ssalmafirdose', 'gmail.com')\n",
      "('mustafa123', 'outlook.com')\n"
     ]
    }
   ],
   "source": [
    "import re\n",
    "\n",
    "expression = r\"([\\.\\-\\w]+)@(\\w+\\.[comn\\.i]*)\" # \\n\\r\\t\\v\n",
    "print(expression)\n",
    "\n",
    "mailds = re.findall(expression, text)\n",
    "for mailid in mailds:\n",
    "    print(mailid)\n"
   ]
  },
  {
   "cell_type": "code",
   "execution_count": 86,
   "id": "0ca01348-7710-4181-82cd-48167dffb6db",
   "metadata": {},
   "outputs": [
    {
     "name": "stdout",
     "output_type": "stream",
     "text": [
      "Kamal, Phone: +91-1234567899 I am working in Harman international, \n"
     ]
    }
   ],
   "source": [
    "text = \"Kamal, Phone: +91-0000011111 I am working in Harman international, \"\n",
    "#new_test = text.replace(\"+91-1234567890\", \"+91-1234567899\")\n",
    "new_text = re.sub(r\"\\s\\+\\d{2}\\-\\d{10}\\s\", \" +91-1234567899 \", text)\n",
    "print(new_text)"
   ]
  },
  {
   "cell_type": "code",
   "execution_count": 111,
   "id": "e4c8bfb1-1fce-48e6-ba3d-44b1c14104bd",
   "metadata": {},
   "outputs": [
    {
     "name": "stdout",
     "output_type": "stream",
     "text": [
      "['Wifi']\n"
     ]
    }
   ],
   "source": [
    "text = '''Wifi\n",
    "Wifi: connection success\n",
    "  fdsafds Wifi1234\n",
    "Wifi: connection failed\n",
    "fafdsafs\n",
    "'''\n",
    "matches = re.findall(r\"^Wifi\", text, re.VERBOSE)\n",
    "print(matches)"
   ]
  },
  {
   "cell_type": "code",
   "execution_count": 22,
   "id": "ac5d52b1-7948-41fd-b9f7-e9700aecdbe8",
   "metadata": {},
   "outputs": [
    {
     "name": "stdout",
     "output_type": "stream",
     "text": [
      "('+91', '1234567890')\n"
     ]
    }
   ],
   "source": [
    "import re\n",
    "text = '''Wifi 12 line\n",
    "Wifi: connection line success\n",
    "  fdsafds line +91-1234567890\n",
    "Wifi: connection failed\n",
    "fafdsafs\n",
    "'''\n",
    "\n",
    "result = re.search(r\"\\s(\\+\\d{2})\\-(\\d{10})\\s\", text)\n",
    "print(result.groups())"
   ]
  },
  {
   "cell_type": "code",
   "execution_count": 25,
   "id": "af73e925-28ac-4bd7-98c4-5abd18686eb1",
   "metadata": {},
   "outputs": [
    {
     "name": "stdout",
     "output_type": "stream",
     "text": [
      "<class 're.Pattern'>\n"
     ]
    }
   ],
   "source": [
    "match = re.compile(r\"\\s(\\+\\d{2})\\-(\\d{10})\\s\")\n",
    "print(type(match))"
   ]
  },
  {
   "cell_type": "code",
   "execution_count": 26,
   "id": "d2cbe97f-b048-46ae-8ee9-34ab248a65f4",
   "metadata": {},
   "outputs": [
    {
     "data": {
      "text/plain": [
       "['Wifi 12\\nWifi',\n",
       " ' connection success\\n  fdsafds Wifi1234 +91-1234567890\\nWifi',\n",
       " ' connection failed\\nfafdsafs\\n']"
      ]
     },
     "execution_count": 26,
     "metadata": {},
     "output_type": "execute_result"
    }
   ],
   "source": [
    "re.split(r\":|line\", text)"
   ]
  },
  {
   "cell_type": "code",
   "execution_count": 33,
   "id": "e7379592-d996-4fa4-a803-ea037683a3e0",
   "metadata": {},
   "outputs": [
    {
     "name": "stdout",
     "output_type": "stream",
     "text": [
      "[('rice', '1', '100.5', '2'), ('oil', '1', '200', '2'), ('wheat', '1', '120', '2')]\n",
      "('rice', '1', '100.5', '2')\n",
      "('oil', '1', '200', '2')\n",
      "('wheat', '1', '120', '2')\n",
      "841.0\n"
     ]
    }
   ],
   "source": [
    "bill = '''\n",
    "rice 1kg 100 per kg: 2kgs\n",
    "oil 1kg 200 per kg: 2kgs\n",
    "onion 1kg 20 per kg: 2kgs\n",
    "wheat 1kg 120 per kg: 2kgs\n",
    "'''\n",
    "\n",
    "import re\n",
    "bill = '''\n",
    "rice 1kg 100.5 per kg: 2kgs\n",
    "oil 1kg 200 per kg: 2kgs\n",
    "onion 1kg 20 per kg: 2.5kgs\n",
    "wheat 1kg 120 per kg: 2kgs\n",
    "'''\n",
    "reg= re.compile(r\"(\\w+)\\s+(\\d)kg\\s([\\d\\.]+)\\s\\w+\\skg:\\s([\\.\\d])kgs\")\n",
    "items=re.findall(reg, bill)\n",
    "bill=0\n",
    "print(items)\n",
    "for i in items:\n",
    "    print(i)\n",
    "    i=list(i)\n",
    "    bill+=float(i[-2])*int(i[-1])\n",
    "print(bill)"
   ]
  },
  {
   "cell_type": "code",
   "execution_count": 2,
   "id": "8a293f7a-5ed8-4a34-8a40-c2332b9ce1bf",
   "metadata": {},
   "outputs": [
    {
     "name": "stdout",
     "output_type": "stream",
     "text": [
      "[('192.168.0.196', '2025/01/24 05:50:12', '2025/01/24 05:52:12', '08:00:27:7f:e8:6e', 'client1'), ('192.168.0.197', '2025/01/24 06:06:21', '2025/01/24 06:08:21', 'bc:09:1b:dd:f1:e9', 'kamal-ThinkPad-P15s-Gen-2i'), ('192.168.0.158', '2025/01/24 06:29:13', '2025/01/24 06:39:13', '08:00:27:7f:e8:6e', ''), ('192.168.0.122', '2025/01/24 13:33:10', '2025/01/24 15:33:10', '9e:10:d4:30:af:89', ''), ('192.168.0.179', '2025/01/25 01:01:27', '2025/01/25 01:11:27', '5a:3d:79:1b:92:15', ''), ('192.168.0.200', '2025/01/25 02:13:39', '2025/01/25 02:15:39', '30:c9:ab:35:f0:e1', ''), ('192.168.0.173', '2025/01/25 02:14:02', '2025/01/25 02:24:02', '74:a7:ea:9c:78:fa', ''), ('192.168.0.190', '2025/01/25 06:53:19', '2025/01/25 07:03:19', '5a:3d:79:1b:92:15', ''), ('192.168.0.191', '2025/01/25 08:45:24', '2025/01/25 08:47:24', '14:13:0b:dc:21:7c', ''), ('192.168.0.157', '2025/01/25 08:45:24', '2025/01/25 08:55:24', '14:13:0b:dc:21:7c', ''), ('192.168.0.189', '2025/01/25 08:59:51', '2025/01/25 09:09:51', '44:65:0d:fd:94:42', ''), ('192.168.0.199', '2025/01/25 09:45:31', '2025/01/25 09:47:31', '44:65:0d:fd:94:42', ''), ('192.168.0.167', '2025/01/25 09:55:42', '2025/01/25 10:05:42', '50:2f:9b:f5:7c:60', ''), ('192.168.0.192', '2025/01/25 14:01:43', '2025/01/25 14:11:43', '38:37:8b:d3:48:ab', ''), ('192.168.0.195', '2025/01/25 12:38:10', '2025/01/25 14:38:10', '26:93:d5:b1:6d:5f', ''), ('192.168.0.116', '2025/01/25 15:53:44', '2025/01/25 16:03:44', 'bc:09:1b:dd:f1:e9', ''), ('192.168.0.169', '2025/01/26 00:58:35', '2025/01/26 02:58:35', '00:e0:4c:36:28:c0', '')]\n"
     ]
    }
   ],
   "source": [
    "import re\n",
    "content = '''\n",
    "lease 192.168.0.196 {\n",
    "  starts 5 2025/01/24 05:50:12;\n",
    "  ends 5 2025/01/24 05:52:12;\n",
    "  tstp 5 2025/01/24 05:52:12;\n",
    "  cltt 5 2025/01/24 05:50:12;\n",
    "  binding state free;\n",
    "  hardware ethernet 08:00:27:7f:e8:6e;\n",
    "  uid \"\\001\\010\\000'\\177\\350n\";\n",
    "  client-hostname \"client1\";\n",
    "}\n",
    "lease 192.168.0.197 {\n",
    "  starts 5 2025/01/24 06:06:21;\n",
    "  ends 5 2025/01/24 06:08:21;\n",
    "  tstp 5 2025/01/24 06:08:21;\n",
    "  cltt 5 2025/01/24 06:06:21;\n",
    "  binding state free;\n",
    "  hardware ethernet bc:09:1b:dd:f1:e9;\n",
    "  uid \"\\001\\274\\011\\033\\335\\361\\351\";\n",
    "  client-hostname \"kamal-ThinkPad-P15s-Gen-2i\";\n",
    "}\n",
    "lease 192.168.0.158 {\n",
    "  starts 5 2025/01/24 06:29:13;\n",
    "  ends 5 2025/01/24 06:39:13;\n",
    "  tstp 5 2025/01/24 06:39:13;\n",
    "  cltt 5 2025/01/24 06:29:13;\n",
    "  binding state free;\n",
    "  hardware ethernet 08:00:27:7f:e8:6e;\n",
    "  uid \"\\001\\010\\000'\\177\\350n\";\n",
    "}\n",
    "lease 192.168.0.122 {\n",
    "  starts 5 2025/01/24 13:33:10;\n",
    "  ends 5 2025/01/24 15:33:10;\n",
    "  tstp 5 2025/01/24 15:33:10;\n",
    "  cltt 5 2025/01/24 13:41:00;\n",
    "  binding state free;\n",
    "  hardware ethernet 9e:10:d4:30:af:89;\n",
    "  uid \"\\001\\236\\020\\3240\\257\\211\";\n",
    "}\n",
    "lease 192.168.0.179 {\n",
    "  starts 6 2025/01/25 01:01:27;\n",
    "  ends 6 2025/01/25 01:11:27;\n",
    "  tstp 6 2025/01/25 01:11:27;\n",
    "  cltt 6 2025/01/25 01:01:27;\n",
    "  binding state free;\n",
    "  hardware ethernet 5a:3d:79:1b:92:15;\n",
    "  uid \"\\001Z=y\\033\\222\\025\";\n",
    "}\n",
    "lease 192.168.0.200 {\n",
    "  starts 6 2025/01/25 02:13:39;\n",
    "  ends 6 2025/01/25 02:15:39;\n",
    "  tstp 6 2025/01/25 02:15:39;\n",
    "  cltt 6 2025/01/25 02:13:39;\n",
    "  binding state free;\n",
    "  hardware ethernet 30:c9:ab:35:f0:e1;\n",
    "  uid \"\\0010\\311\\2535\\360\\341\";\n",
    "  set vendor-class-identifier = \"android-dhcp-9\";\n",
    "}\n",
    "lease 192.168.0.173 {\n",
    "  starts 6 2025/01/25 02:14:02;\n",
    "  ends 6 2025/01/25 02:24:02;\n",
    "  tstp 6 2025/01/25 02:24:02;\n",
    "  cltt 6 2025/01/25 02:14:02;\n",
    "  binding state free;\n",
    "  hardware ethernet 74:a7:ea:9c:78:fa;\n",
    "  set vendor-class-identifier = \"dhcpcd-6.8.2:Linux-4.4.22+:armv7l:MT8167B\";\n",
    "}\n",
    "lease 192.168.0.190 {\n",
    "  starts 6 2025/01/25 06:53:19;\n",
    "  ends 6 2025/01/25 07:03:19;\n",
    "  tstp 6 2025/01/25 07:03:19;\n",
    "  cltt 6 2025/01/25 06:53:19;\n",
    "  binding state free;\n",
    "  hardware ethernet 5a:3d:79:1b:92:15;\n",
    "  uid \"\\001Z=y\\033\\222\\025\";\n",
    "}\n",
    "lease 192.168.0.191 {\n",
    "  starts 6 2025/01/25 08:45:24;\n",
    "  ends 6 2025/01/25 08:47:24;\n",
    "  tstp 6 2025/01/25 08:47:24;\n",
    "  cltt 6 2025/01/25 08:45:24;\n",
    "  binding state free;\n",
    "  hardware ethernet 14:13:0b:dc:21:7c;\n",
    "}\n",
    "lease 192.168.0.157 {\n",
    "  starts 6 2025/01/25 08:45:24;\n",
    "  ends 6 2025/01/25 08:55:24;\n",
    "  tstp 6 2025/01/25 08:55:24;\n",
    "  cltt 6 2025/01/25 08:45:24;\n",
    "  binding state free;\n",
    "  hardware ethernet 14:13:0b:dc:21:7c;\n",
    "}\n",
    "lease 192.168.0.189 {\n",
    "  starts 6 2025/01/25 08:59:51;\n",
    "  ends 6 2025/01/25 09:09:51;\n",
    "  tstp 6 2025/01/25 09:09:51;\n",
    "  cltt 6 2025/01/25 08:59:51;\n",
    "  binding state free;\n",
    "  hardware ethernet 44:65:0d:fd:94:42;\n",
    "  uid \"\\001De\\015\\375\\224B\";\n",
    "  set vendor-class-identifier = \"udhcp 1.34.1\";\n",
    "}\n",
    "lease 192.168.0.199 {\n",
    "  starts 6 2025/01/25 09:45:31;\n",
    "  ends 6 2025/01/25 09:47:31;\n",
    "  tstp 6 2025/01/25 09:47:31;\n",
    "  cltt 6 2025/01/25 09:45:31;\n",
    "  binding state free;\n",
    "  hardware ethernet 44:65:0d:fd:94:42;\n",
    "  uid \"\\001De\\015\\375\\224B\";\n",
    "  set vendor-class-identifier = \"udhcp 1.34.1\";\n",
    "}\n",
    "lease 192.168.0.167 {\n",
    "  starts 6 2025/01/25 09:55:42;\n",
    "  ends 6 2025/01/25 10:05:42;\n",
    "  tstp 6 2025/01/25 10:05:42;\n",
    "  cltt 6 2025/01/25 09:56:20;\n",
    "  binding state free;\n",
    "  hardware ethernet 50:2f:9b:f5:7c:60;\n",
    "  uid \"\\001P/\\233\\365|`\";\n",
    "}\n",
    "lease 192.168.0.192 {\n",
    "  starts 6 2025/01/25 14:01:43;\n",
    "  ends 6 2025/01/25 14:11:43;\n",
    "  tstp 6 2025/01/25 14:11:43;\n",
    "  cltt 6 2025/01/25 14:01:43;\n",
    "  binding state free;\n",
    "  hardware ethernet 38:37:8b:d3:48:ab;\n",
    "  uid \"\\00187\\213\\323H\\253\";\n",
    "  set vendor-class-identifier = \"HUAWEI:android:BND-L22\";\n",
    "}\n",
    "lease 192.168.0.195 {\n",
    "  starts 6 2025/01/25 12:38:10;\n",
    "  ends 6 2025/01/25 14:38:10;\n",
    "  tstp 6 2025/01/25 14:38:10;\n",
    "  cltt 6 2025/01/25 12:38:10;\n",
    "  binding state free;\n",
    "  hardware ethernet 26:93:d5:b1:6d:5f;\n",
    "  uid \"\\001&\\223\\325\\261m_\";\n",
    "}\n",
    "lease 192.168.0.116 {\n",
    "  starts 6 2025/01/25 15:53:44;\n",
    "  ends 6 2025/01/25 16:03:44;\n",
    "  tstp 6 2025/01/25 16:03:44;\n",
    "  cltt 6 2025/01/25 15:53:44;\n",
    "  binding state free;\n",
    "  hardware ethernet bc:09:1b:dd:f1:e9;\n",
    "  uid \"\\001\\274\\011\\033\\335\\361\\351\";\n",
    "}\n",
    "lease 192.168.0.169 {\n",
    "  starts 0 2025/01/26 00:58:35;\n",
    "  ends 0 2025/01/26 02:58:35;\n",
    "  tstp 0 2025/01/26 02:58:35;\n",
    "  cltt 0 2025/01/26 00:58:35;\n",
    "  binding state free;\n",
    "  hardware ethernet 00:e0:4c:36:28:c0;\n",
    "  uid \"\\001\\000\\340L6(\\300\";\n",
    "}\n",
    "'''\n",
    "leases = re.findall(r\"lease\\s(?P<ip>\\d+\\.\\d+\\.\\d+\\.\\d+)\\s\\{[\\s\\S]*?starts\\s\\d\\s(?P<start_time>[\\d\\/\\:\\s]+);[\\s\\S]*?ends\\s\\d\\s(?P<end_time>[\\d\\/\\:\\s]+);[\\s\\S]*?hardware\\s\\w+\\s(?P<mac>[a-fA-F0-9:]+);(?:[\\s\\S]*?client-hostname\\s\\\"(?P<hostname>.*?)\\\";)?\", content, re.DOTALL)\n",
    "print(leases)"
   ]
  },
  {
   "cell_type": "code",
   "execution_count": null,
   "id": "ba468c86-a91b-4317-863e-a1e06618b802",
   "metadata": {},
   "outputs": [],
   "source": []
  }
 ],
 "metadata": {
  "kernelspec": {
   "display_name": "Python 3 (ipykernel)",
   "language": "python",
   "name": "python3"
  },
  "language_info": {
   "codemirror_mode": {
    "name": "ipython",
    "version": 3
   },
   "file_extension": ".py",
   "mimetype": "text/x-python",
   "name": "python",
   "nbconvert_exporter": "python",
   "pygments_lexer": "ipython3",
   "version": "3.12.7"
  }
 },
 "nbformat": 4,
 "nbformat_minor": 5
}
