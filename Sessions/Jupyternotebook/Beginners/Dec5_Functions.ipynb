{
 "cells": [
  {
   "cell_type": "markdown",
   "id": "3bb4163e-ad41-40c3-aaa5-af1458adb0f2",
   "metadata": {},
   "source": [
    "# Functions:\n",
    "\n",
    "    "
   ]
  },
  {
   "cell_type": "code",
   "execution_count": 1,
   "id": "d0913df2-61da-4d22-a1a2-2021c6d48431",
   "metadata": {},
   "outputs": [
    {
     "name": "stdout",
     "output_type": "stream",
     "text": [
      "30\n"
     ]
    }
   ],
   "source": [
    "# Basic function: Arguments\n",
    "# Defining the function\n",
    "def add(num1, num2):\n",
    "    return num1+num2\n",
    "\n",
    "a = 10\n",
    "b = 20\n",
    "result = add(a, b) #Calling the function\n",
    "print(result)\n",
    "\n"
   ]
  },
  {
   "cell_type": "code",
   "execution_count": 6,
   "id": "336d32bb-b915-41ec-b03a-9c72623c7904",
   "metadata": {},
   "outputs": [
    {
     "name": "stdout",
     "output_type": "stream",
     "text": [
      "Mr/Miss David, age 30years. He/She is living in city NYC and belonging to country US.\n",
      "Mr/Miss Govinda, age 30years. He/She is living in city Bangalore and belonging to country India.\n"
     ]
    }
   ],
   "source": [
    "# Basic function: Default Arguments\n",
    "# Defining the function\n",
    "def form(name, age, city, country=\"US\"): # country is default argument\n",
    "    result = f\"Mr/Miss {name}, age {age}years. He/She is living in city {city} and belonging to country {country}.\"\n",
    "    return result\n",
    "\n",
    "\n",
    "Message = form(\"David\", 30, \"NYC\") # Not sending fourth argument\n",
    "print(Message)\n",
    "\n",
    "Message = form(\"Govinda\", 30, \"Bangalore\", \"India\")\n",
    "print(Message)"
   ]
  },
  {
   "cell_type": "code",
   "execution_count": 19,
   "id": "1daf1474-2cb0-4c9f-afe4-11c46016324a",
   "metadata": {},
   "outputs": [
    {
     "name": "stdout",
     "output_type": "stream",
     "text": [
      "2 (8, 9, 3, 5, 10)\n",
      "2**0*10\n",
      "2**1*5\n",
      "2**2*3\n",
      "2**3*9\n",
      "2**4*8\n",
      "232\n"
     ]
    }
   ],
   "source": [
    "\n",
    "# 8x**4+ 9x**3+ 3x**2 +5x +10: num1: 3, num2 5, num3 10\n",
    "def equation(x, *weights): # Variable number of arguments\n",
    "    print(x, weights)\n",
    "\n",
    "    power = 0\n",
    "    result = 0\n",
    "    for weight in weights[::-1]:\n",
    "        print(f\"{x}**{power}*{weight}\")\n",
    "        result = result + ((x**power)*weight)\n",
    "        power += 1\n",
    "    return result\n",
    "\n",
    "print(equation(2, 8, 9, 3, 5, 10))\n"
   ]
  },
  {
   "cell_type": "code",
   "execution_count": 20,
   "id": "0f3c6ef5-501f-49e0-af0c-832a4c119a93",
   "metadata": {},
   "outputs": [
    {
     "name": "stdout",
     "output_type": "stream",
     "text": [
      "1\n"
     ]
    }
   ],
   "source": [
    "print(2**0)"
   ]
  },
  {
   "cell_type": "code",
   "execution_count": null,
   "id": "3acabda5-f219-4793-86a5-813a5e8c5492",
   "metadata": {},
   "outputs": [],
   "source": [
    "# Write a function to calculate sum of all the arguments\n",
    "sum_all(1,2,3)\n",
    "sum_all(4,5,6,7,8)\n"
   ]
  },
  {
   "cell_type": "code",
   "execution_count": 22,
   "id": "3a4935f9-3776-4fc5-89b6-bda3768fa5e2",
   "metadata": {},
   "outputs": [
    {
     "name": "stdout",
     "output_type": "stream",
     "text": [
      "Sum of tuple is: 6\n"
     ]
    }
   ],
   "source": [
    "tuple=(1,2,3)\n",
    "Sum_tuple=0\n",
    "for i in tuple:\n",
    "   Sum_tuple=Sum_tuple+i\n",
    "print(\"Sum of tuple is:\",Sum_tuple)"
   ]
  },
  {
   "cell_type": "code",
   "execution_count": 23,
   "id": "5fb76e67-606c-49c5-8e71-0cc48ac5643e",
   "metadata": {},
   "outputs": [
    {
     "name": "stdout",
     "output_type": "stream",
     "text": [
      "<function sum_all at 0x108043e20>\n"
     ]
    }
   ],
   "source": [
    "sum_all1=(1,2,3)\n",
    "sum_all2=(4,5,6,7)\n",
    "def sum_all(sum_all1,sum_all2):\n",
    "    return sum(sum_all1)+sum(sum_all2)\n",
    "    result = sum_all(sum_all1+sum_all2)\n",
    "print(sum_all)"
   ]
  },
  {
   "cell_type": "code",
   "execution_count": 24,
   "id": "472b3b7e-5477-43ee-a755-1d9a8c540ad9",
   "metadata": {},
   "outputs": [
    {
     "name": "stdout",
     "output_type": "stream",
     "text": [
      "10\n"
     ]
    }
   ],
   "source": [
    "# Write a function to accept two arguments and return subtraction of them.\n",
    "\n",
    "def subtract(num1, num2):\n",
    "    result = num1-num2\n",
    "    return result\n",
    "\n",
    "\n",
    "print(subtract(20,10))\n"
   ]
  },
  {
   "cell_type": "code",
   "execution_count": 27,
   "id": "f4859412-1b36-4814-9696-c0b1284a5d32",
   "metadata": {},
   "outputs": [
    {
     "name": "stdout",
     "output_type": "stream",
     "text": [
      "30\n",
      "10\n"
     ]
    }
   ],
   "source": [
    "\n",
    "\n",
    "def sumall(*args): # Define arguments\n",
    "    result = 0 # Initialise result\n",
    "    for num in args: # Go through all the elements\n",
    "        result = result + num\n",
    "    return result# return result\n",
    "\n",
    "print(sumall(10,20))\n",
    "print(sumall(1,2,3,4))"
   ]
  },
  {
   "cell_type": "code",
   "execution_count": null,
   "id": "ebc0096d-f2de-43b8-8e42-2ee1ad1cc37a",
   "metadata": {},
   "outputs": [],
   "source": []
  }
 ],
 "metadata": {
  "kernelspec": {
   "display_name": "Python 3 (ipykernel)",
   "language": "python",
   "name": "python3"
  },
  "language_info": {
   "codemirror_mode": {
    "name": "ipython",
    "version": 3
   },
   "file_extension": ".py",
   "mimetype": "text/x-python",
   "name": "python",
   "nbconvert_exporter": "python",
   "pygments_lexer": "ipython3",
   "version": "3.12.7"
  }
 },
 "nbformat": 4,
 "nbformat_minor": 5
}
