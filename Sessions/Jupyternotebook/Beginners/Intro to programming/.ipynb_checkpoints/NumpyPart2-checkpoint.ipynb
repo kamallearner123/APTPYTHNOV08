{
 "cells": [
  {
   "cell_type": "markdown",
   "metadata": {},
   "source": [
    "# Tasks for the day:\n",
    "   - 1) Hands on \"numpy\" module\n",
    "   - 2) Prove that \"numpy\" is better than array\n",
    "   - 3) Use \"matplotlib\" to see the fata visually\n",
    "   - 4) Try more number of operations on arrays/matrices\n",
    "   - 5) Try more functions in \"numpy\""
   ]
  },
  {
   "cell_type": "markdown",
   "metadata": {},
   "source": [
    "# Numpy (Numerial Python package):"
   ]
  },
  {
   "cell_type": "markdown",
   "metadata": {},
   "source": [
    "# What is numpy: \n",
    "   - extension package to Python for multi-dimensional arrays\n",
    "   - efficient hardware implementation: Faster and consumes less memory\n",
    "   - designed for scientific computation\n",
    "   - Does *array oriented computing *\n",
    "   \n",
    "### Note: It is useful for integer/float/complex numbers"
   ]
  },
  {
   "cell_type": "markdown",
   "metadata": {},
   "source": [
    "## 1)  Importing the numpy package and an example:\n"
   ]
  },
  {
   "cell_type": "markdown",
   "metadata": {},
   "source": [
    "## Note : Arrays can store elemements of the same type\n"
   ]
  },
  {
   "cell_type": "code",
   "execution_count": null,
   "metadata": {},
   "outputs": [],
   "source": []
  },
  {
   "cell_type": "code",
   "execution_count": null,
   "metadata": {},
   "outputs": [],
   "source": []
  },
  {
   "cell_type": "markdown",
   "metadata": {},
   "source": [
    "# Advantages of array in numpy \n",
    "1. Uses less space and its faster in computation \n"
   ]
  },
  {
   "cell_type": "code",
   "execution_count": null,
   "metadata": {},
   "outputs": [],
   "source": []
  },
  {
   "cell_type": "code",
   "execution_count": null,
   "metadata": {},
   "outputs": [],
   "source": []
  },
  {
   "cell_type": "markdown",
   "metadata": {},
   "source": [
    "2. Numpy arrays are faster than the python lists \n"
   ]
  },
  {
   "cell_type": "code",
   "execution_count": null,
   "metadata": {},
   "outputs": [],
   "source": []
  },
  {
   "cell_type": "markdown",
   "metadata": {},
   "source": [
    "# 2)Creating a 2 dimensional array \n"
   ]
  },
  {
   "cell_type": "code",
   "execution_count": null,
   "metadata": {},
   "outputs": [],
   "source": []
  },
  {
   "cell_type": "markdown",
   "metadata": {},
   "source": [
    "# 2.1)Reshaping an array \n"
   ]
  },
  {
   "cell_type": "code",
   "execution_count": null,
   "metadata": {},
   "outputs": [],
   "source": []
  },
  {
   "cell_type": "markdown",
   "metadata": {},
   "source": [
    "# 2.2)Creating a zero value array \n"
   ]
  },
  {
   "cell_type": "code",
   "execution_count": null,
   "metadata": {},
   "outputs": [],
   "source": []
  },
  {
   "cell_type": "markdown",
   "metadata": {},
   "source": [
    "# 2.3) Understanding the ravel function,its used to convert an N dimensional array into a 1 dimensional array \n"
   ]
  },
  {
   "cell_type": "code",
   "execution_count": null,
   "metadata": {},
   "outputs": [],
   "source": []
  },
  {
   "cell_type": "markdown",
   "metadata": {},
   "source": [
    "# 2.4)Finding out the min and max element from an array \n"
   ]
  },
  {
   "cell_type": "code",
   "execution_count": null,
   "metadata": {},
   "outputs": [],
   "source": []
  },
  {
   "cell_type": "markdown",
   "metadata": {},
   "source": [
    "# In class lab exercise  : \n",
    "Program a code snippet develop a custom user defined function to find out the min and max element from an 2 by 3 array or elements \n",
    "as shown below \n",
    "\n",
    "1 2\n",
    "3 4\n",
    "5 6 \n",
    "\n",
    "Hint : U may use the ravel function to flatten it out and then work on finding the min and max elements from the array \n",
    "Note : U are not supposed to use the min or max built in function \n"
   ]
  },
  {
   "cell_type": "markdown",
   "metadata": {},
   "source": [
    "# 3)Operations on arrays (Addition, subtraction and multiplication is possible)\n"
   ]
  },
  {
   "cell_type": "markdown",
   "metadata": {},
   "source": [
    "# Slicing python lists \n"
   ]
  },
  {
   "cell_type": "code",
   "execution_count": 22,
   "metadata": {},
   "outputs": [
    {
     "data": {
      "text/plain": [
       "[3, 4]"
      ]
     },
     "execution_count": 22,
     "metadata": {},
     "output_type": "execute_result"
    }
   ],
   "source": [
    "l = [1,2,3,4,5]\n",
    "l[2:4]\n"
   ]
  },
  {
   "cell_type": "markdown",
   "metadata": {},
   "source": [
    "# Similar kind of slicing is possible on Python arrays \n"
   ]
  },
  {
   "cell_type": "code",
   "execution_count": 5,
   "metadata": {},
   "outputs": [
    {
     "name": "stdout",
     "output_type": "stream",
     "text": [
      "[[1 2 3]\n",
      " [4 5 6]\n",
      " [7 8 9]]\n",
      "[1 4 7]\n",
      "4\n"
     ]
    }
   ],
   "source": [
    "d2 = np.array([[1,2,3],[4,5,6],[7,8,9]])\n",
    "print(d2)\n",
    "\n",
    "print(d2[0:,0]) #This would print the element from 0th row and 0th column i.e 1 \n",
    "print(d2[1,0]) #This would print the element from 0th row and 0th column i.e 5 \n"
   ]
  },
  {
   "cell_type": "markdown",
   "metadata": {},
   "source": [
    "# q)Iterating the array using for loops \n",
    "\n",
    "1 2 3\n",
    "4 5 6\n",
    "7 8 9\n",
    "\n",
    "The array d2 contains the above elements"
   ]
  },
  {
   "cell_type": "code",
   "execution_count": null,
   "metadata": {},
   "outputs": [],
   "source": [
    "for row in d2:\n",
    " print(row) \n"
   ]
  },
  {
   "cell_type": "markdown",
   "metadata": {},
   "source": [
    "# q)Conditional statements on arrays \n"
   ]
  },
  {
   "cell_type": "code",
   "execution_count": null,
   "metadata": {
    "scrolled": true
   },
   "outputs": [],
   "source": []
  },
  {
   "cell_type": "markdown",
   "metadata": {},
   "source": [
    "# In class lab exercise : \n",
    "To create an array with 100 elements (M,N is 5,10) anf filter only those elements between than 75 and 100 and create a new array with 5 rows and 5 cols \n"
   ]
  },
  {
   "cell_type": "markdown",
   "metadata": {},
   "source": [
    "# q)Replacing all the elements of an array which is greater than 4 with zero \n"
   ]
  },
  {
   "cell_type": "code",
   "execution_count": 6,
   "metadata": {},
   "outputs": [],
   "source": [
    "ca = np.arange(9).reshape(3,3)\n",
    "con = ca > 4\n",
    "ca[con]=0\n",
    "\n",
    "\n"
   ]
  },
  {
   "cell_type": "markdown",
   "metadata": {},
   "source": [
    "# q)Taking a 1 dimensional array and reshaping it to a 2 dimensional array \n"
   ]
  }
 ],
 "metadata": {
  "kernelspec": {
   "display_name": "Python 3",
   "language": "python",
   "name": "python3"
  },
  "language_info": {
   "codemirror_mode": {
    "name": "ipython",
    "version": 3
   },
   "file_extension": ".py",
   "mimetype": "text/x-python",
   "name": "python",
   "nbconvert_exporter": "python",
   "pygments_lexer": "ipython3",
   "version": "3.7.2"
  }
 },
 "nbformat": 4,
 "nbformat_minor": 2
}
