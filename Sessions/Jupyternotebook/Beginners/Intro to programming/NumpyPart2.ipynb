{
 "cells": [
  {
   "cell_type": "code",
   "execution_count": 24,
   "metadata": {},
   "outputs": [
    {
     "name": "stdout",
     "output_type": "stream",
     "text": [
      "kamalmukiri\n",
      "Pid =  54238\n",
      "Pid =  54158\n",
      "Cwd =  /Users/kamalmukiri/Documents/AptComputingAcademy/GreatLearning\n",
      "Cwd =  /Users/kamalmukiri/Documents/AptComputingAcademy\n",
      "Cwd =  /Users/kamalmukiri/Documents/AptComputingAcademy/GreatLearning\n"
     ]
    }
   ],
   "source": [
    "import os\n",
    "\n",
    "os.uname()\n",
    "'''\n",
    "fork\n",
    "wait waitpid\n",
    "kill\n",
    "pid \n",
    "ppid\n",
    "'''\n",
    "#print(os.environ)\n",
    "print(os.environ[\"USER\"])\n",
    "print(\"Pid = \", os.getpid())\n",
    "print(\"Pid = \", os.getppid())\n",
    "pwd = os.getcwd()\n",
    "print(\"Cwd = \", os.getcwd())\n",
    "os.chdir(\"../\")\n",
    "print(\"Cwd = \", os.getcwd())\n",
    "os.chdir(pwd)\n",
    "print(\"Cwd = \", os.getcwd())\n",
    "\n",
    "\n",
    "\n"
   ]
  },
  {
   "cell_type": "code",
   "execution_count": 3,
   "metadata": {},
   "outputs": [
    {
     "name": "stdout",
     "output_type": "stream",
     "text": [
      "FindNearestCity.cpp\n",
      "./Cpp/Classes/regex/gps/class_file\n"
     ]
    }
   ],
   "source": [
    "import os\n",
    "list_of_files = os.listdir()\n",
    "#print(list_of_files)\n",
    "os.chdir(\"/Users/kamalmukiri/Documents/AptComputingAcademy\")\n",
    "for cur_dir, dirs, files in os.walk(\"./\"):\n",
    "#     print(\"cur_dir = \",cur_dir)\n",
    "#     print(\"dirs = \", dirs)\n",
    "#     print(\"files = \", files)\n",
    "    for file in files:\n",
    "        if \".cpp\" in file and \"FindNearest\" in file:\n",
    "            print(file)\n",
    "            print(cur_dir)\n",
    "#         try:\n",
    "#             if os.stat(file).st_size >= 1024*500:\n",
    "#                 print(file, cur_dir)\n",
    "#         except:\n",
    "#             pass"
   ]
  },
  {
   "cell_type": "markdown",
   "metadata": {},
   "source": [
    "# Tasks for the day:\n",
    "   - 1) Hands on \"numpy\" module\n",
    "   - 2) Prove that \"numpy\" is better than array\n",
    "   - 3) Use \"matplotlib\" to see the fata visually\n",
    "   - 4) Try more number of operations on arrays/matrices\n",
    "   - 5) Try more functions in \"numpy\""
   ]
  },
  {
   "cell_type": "code",
   "execution_count": 69,
   "metadata": {},
   "outputs": [
    {
     "name": "stdout",
     "output_type": "stream",
     "text": [
      "float64\n",
      "[1.1+1.j 2. +0.j 3. +0.j 4. +0.j]\n",
      "complex128\n",
      "[1 2 3 4]\n",
      "int64\n"
     ]
    }
   ],
   "source": [
    "import numpy as np\n",
    "a = np.array([1.1,2,3,4])\n",
    "print(a.dtype)\n",
    "\n",
    "a = np.array([1.1+1j,2,3,4])\n",
    "print(a)\n",
    "print(a.dtype)\n",
    "\n",
    "a = np.array([1,2,3,4])\n",
    "print(a)\n",
    "print(a.dtype)"
   ]
  },
  {
   "cell_type": "code",
   "execution_count": 73,
   "metadata": {},
   "outputs": [
    {
     "name": "stdout",
     "output_type": "stream",
     "text": [
      "<class 'numpy.ndarray'>\n",
      "[2 4 6 8]\n",
      "[ 1  4  9 16]\n",
      "[0 0 0 0]\n"
     ]
    }
   ],
   "source": [
    "a = np.array([1,2,3,4])\n",
    "b = np.array([1,2,3,4])\n",
    "print(type(a))\n",
    "print(a+b)\n",
    "print(a*b)\n",
    "print(a-b)\n",
    "\n",
    "\n",
    "\n"
   ]
  },
  {
   "cell_type": "markdown",
   "metadata": {},
   "source": [
    "# Numpy (Numerial Python package):"
   ]
  },
  {
   "cell_type": "markdown",
   "metadata": {},
   "source": [
    "# What is numpy: \n",
    "   - extension package to Python for multi-dimensional arrays\n",
    "   - efficient hardware implementation: Faster and consumes less memory\n",
    "   - designed for scientific computation\n",
    "   - Does *array oriented computing *\n",
    "   \n",
    "### Note: It is useful for integer/float/complex numbers"
   ]
  },
  {
   "cell_type": "markdown",
   "metadata": {},
   "source": [
    "## 1)  Importing the numpy package and an example:\n"
   ]
  },
  {
   "cell_type": "markdown",
   "metadata": {},
   "source": [
    "## Note : Arrays can store elemements of the same type\n"
   ]
  },
  {
   "cell_type": "code",
   "execution_count": 74,
   "metadata": {},
   "outputs": [
    {
     "name": "stdout",
     "output_type": "stream",
     "text": [
      "<class 'numpy.ndarray'>\n",
      "[2 4 6 8]\n",
      "[ 1  4  9 16]\n",
      "[0 0 0 0]\n"
     ]
    }
   ],
   "source": [
    "a = np.array([1,2,3,4])\n",
    "b = np.array([1,2,3,4])\n",
    "print(type(a))\n",
    "print(a+b)\n",
    "print(a*b)\n",
    "print(a-b)\n",
    "\n",
    "\n"
   ]
  },
  {
   "cell_type": "code",
   "execution_count": null,
   "metadata": {},
   "outputs": [],
   "source": []
  },
  {
   "cell_type": "markdown",
   "metadata": {},
   "source": [
    "# Advantages of array in numpy \n",
    "1. Uses less space and its faster in computation \n"
   ]
  },
  {
   "cell_type": "code",
   "execution_count": null,
   "metadata": {},
   "outputs": [],
   "source": []
  },
  {
   "cell_type": "code",
   "execution_count": null,
   "metadata": {},
   "outputs": [],
   "source": []
  },
  {
   "cell_type": "markdown",
   "metadata": {},
   "source": [
    "2. Numpy arrays are faster than the python lists \n"
   ]
  },
  {
   "cell_type": "code",
   "execution_count": 1,
   "metadata": {},
   "outputs": [
    {
     "name": "stdout",
     "output_type": "stream",
     "text": [
      "Time taken using lists=  4.056675910949707\n",
      "Time taken using np =  0.17153215408325195\n"
     ]
    }
   ],
   "source": [
    "import numpy as np\n",
    "import time\n",
    "no_element = 10000000\n",
    "list1 = list(range(no_element))\n",
    "list2 = list(range(no_element))\n",
    "\n",
    "now = time.time()\n",
    "list3 = []\n",
    "for i in range(no_element):\n",
    "    list3.append(list1[i]+list2[i])\n",
    "print(\"Time taken using lists= \", time.time()-now)\n",
    "\n",
    "now = time.time()\n",
    "a = np.arange(no_element)\n",
    "b = np.arange(no_element)\n",
    "c = a+b\n",
    "print(\"Time taken using np = \", time.time()-now)\n"
   ]
  },
  {
   "cell_type": "markdown",
   "metadata": {},
   "source": [
    "# 2)Creating a 2 dimensional array \n"
   ]
  },
  {
   "cell_type": "code",
   "execution_count": null,
   "metadata": {},
   "outputs": [],
   "source": []
  },
  {
   "cell_type": "markdown",
   "metadata": {},
   "source": [
    "# 2.1)Reshaping an array \n"
   ]
  },
  {
   "cell_type": "code",
   "execution_count": null,
   "metadata": {},
   "outputs": [],
   "source": []
  },
  {
   "cell_type": "markdown",
   "metadata": {},
   "source": [
    "# 2.2)Creating a zero value array \n"
   ]
  },
  {
   "cell_type": "code",
   "execution_count": null,
   "metadata": {},
   "outputs": [],
   "source": []
  },
  {
   "cell_type": "markdown",
   "metadata": {},
   "source": [
    "# 2.3) Understanding the ravel function,its used to convert an N dimensional array into a 1 dimensional array \n"
   ]
  },
  {
   "cell_type": "code",
   "execution_count": null,
   "metadata": {},
   "outputs": [],
   "source": []
  },
  {
   "cell_type": "markdown",
   "metadata": {},
   "source": [
    "# 2.4)Finding out the min and max element from an array \n"
   ]
  },
  {
   "cell_type": "code",
   "execution_count": null,
   "metadata": {},
   "outputs": [],
   "source": []
  },
  {
   "cell_type": "markdown",
   "metadata": {},
   "source": [
    "# In class lab exercise  : \n",
    "Program a code snippet develop a custom user defined function to find out the min and max element from an 2 by 3 array or elements \n",
    "as shown below \n",
    "\n",
    "1 2\n",
    "3 4\n",
    "5 6 \n",
    "\n",
    "Hint : U may use the ravel function to flatten it out and then work on finding the min and max elements from the array \n",
    "Note : U are not supposed to use the min or max built in function \n"
   ]
  },
  {
   "cell_type": "markdown",
   "metadata": {},
   "source": [
    "# 3)Operations on arrays (Addition, subtraction and multiplication is possible)\n"
   ]
  },
  {
   "cell_type": "markdown",
   "metadata": {},
   "source": [
    "# Slicing python lists \n"
   ]
  },
  {
   "cell_type": "code",
   "execution_count": 22,
   "metadata": {},
   "outputs": [
    {
     "data": {
      "text/plain": [
       "[3, 4]"
      ]
     },
     "execution_count": 22,
     "metadata": {},
     "output_type": "execute_result"
    }
   ],
   "source": [
    "l = [1,2,3,4,5]\n",
    "l[2:4]\n"
   ]
  },
  {
   "cell_type": "markdown",
   "metadata": {},
   "source": [
    "# Similar kind of slicing is possible on Python arrays \n"
   ]
  },
  {
   "cell_type": "code",
   "execution_count": 5,
   "metadata": {},
   "outputs": [
    {
     "name": "stdout",
     "output_type": "stream",
     "text": [
      "[[1 2 3]\n",
      " [4 5 6]\n",
      " [7 8 9]]\n",
      "[1 4 7]\n",
      "4\n"
     ]
    }
   ],
   "source": [
    "d2 = np.array([[1,2,3],[4,5,6],[7,8,9]])\n",
    "print(d2)\n",
    "\n",
    "print(d2[0:,0]) #This would print the element from 0th row and 0th column i.e 1 \n",
    "print(d2[1,0]) #This would print the element from 0th row and 0th column i.e 5 \n"
   ]
  },
  {
   "cell_type": "markdown",
   "metadata": {},
   "source": [
    "# q)Iterating the array using for loops \n",
    "\n",
    "1 2 3\n",
    "4 5 6\n",
    "7 8 9\n",
    "\n",
    "The array d2 contains the above elements"
   ]
  },
  {
   "cell_type": "code",
   "execution_count": null,
   "metadata": {},
   "outputs": [],
   "source": [
    "for row in d2:\n",
    " print(row) \n"
   ]
  },
  {
   "cell_type": "markdown",
   "metadata": {},
   "source": [
    "# q)Conditional statements on arrays \n"
   ]
  },
  {
   "cell_type": "code",
   "execution_count": null,
   "metadata": {
    "scrolled": true
   },
   "outputs": [],
   "source": []
  },
  {
   "cell_type": "markdown",
   "metadata": {},
   "source": [
    "# In class lab exercise : \n",
    "To create an array with 100 elements (M,N is 5,10) anf filter only those elements between than 75 and 100 and create a new array with 5 rows and 5 cols \n"
   ]
  },
  {
   "cell_type": "markdown",
   "metadata": {},
   "source": [
    "# q)Replacing all the elements of an array which is greater than 4 with zero \n"
   ]
  },
  {
   "cell_type": "code",
   "execution_count": 6,
   "metadata": {},
   "outputs": [],
   "source": [
    "ca = np.arange(9).reshape(3,3)\n",
    "con = ca > 4\n",
    "ca[con]=0\n",
    "\n",
    "\n"
   ]
  },
  {
   "cell_type": "markdown",
   "metadata": {},
   "source": [
    "# q)Taking a 1 dimensional array and reshaping it to a 2 dimensional array \n"
   ]
  }
 ],
 "metadata": {
  "kernelspec": {
   "display_name": "Python 3",
   "language": "python",
   "name": "python3"
  },
  "language_info": {
   "codemirror_mode": {
    "name": "ipython",
    "version": 3
   },
   "file_extension": ".py",
   "mimetype": "text/x-python",
   "name": "python",
   "nbconvert_exporter": "python",
   "pygments_lexer": "ipython3",
   "version": "3.7.2"
  }
 },
 "nbformat": 4,
 "nbformat_minor": 2
}
