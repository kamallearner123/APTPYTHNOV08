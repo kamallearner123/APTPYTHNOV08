{
 "cells": [
  {
   "cell_type": "code",
   "execution_count": 3,
   "id": "000488f6-fdc7-4121-9b30-b12f43307e11",
   "metadata": {},
   "outputs": [],
   "source": [
    "fd = open(\"raw_data.txt\", \"w\")\n",
    "fd.write(\"malayalam\\n\")\n",
    "fd.write(\"telugu\\n\")\n",
    "fd.write(\"madam\\n\")\n",
    "fd.write(\"end\\n\")\n",
    "fd.close()"
   ]
  },
  {
   "cell_type": "code",
   "execution_count": 4,
   "id": "e47872d7-59d3-444f-b012-dc08fe7dd095",
   "metadata": {},
   "outputs": [
    {
     "name": "stdout",
     "output_type": "stream",
     "text": [
      "malayalam\n",
      "telugu\n",
      "madam\n",
      "end\n"
     ]
    }
   ],
   "source": [
    "!cat raw_data.txt"
   ]
  },
  {
   "cell_type": "code",
   "execution_count": 24,
   "id": "91a43c40-35ba-4538-aa98-75990db7a26d",
   "metadata": {},
   "outputs": [
    {
     "name": "stdout",
     "output_type": "stream",
     "text": [
      "Line = malayalam\n",
      "\n",
      "Line = telugu\n",
      "\n",
      "Line = madam\n",
      "\n",
      "Line = end\n",
      "\n"
     ]
    }
   ],
   "source": [
    "# 1) READ THE LINES \n",
    "fd = open(\"raw_data.txt\")\n",
    "lines = fd.readlines()\n",
    "\n",
    "wfd = open(\"Ouput.txt\", \"w\")\n",
    "# 2) CHECK PALINDROM OR NOT\n",
    "# 3) YES: WRITE THE LINE IN NEW FILE\n",
    "for line in lines:\n",
    "    print(f\"Line = {line}\")\n",
    "    line = line.strip() # \" converts \"   line    \" to \"line\"    \n",
    "    if line == line[::-1]:\n",
    "        wfd.write(line+\"\\n\")\n",
    "\n",
    "fd.close()\n",
    "wfd.close()\n"
   ]
  },
  {
   "cell_type": "code",
   "execution_count": 25,
   "id": "fa4d9d52-31dd-4c80-9dbe-3de43139721a",
   "metadata": {},
   "outputs": [
    {
     "name": "stdout",
     "output_type": "stream",
     "text": [
      "malayalam\n",
      "madam\n"
     ]
    }
   ],
   "source": [
    "!cat Ouput.txt"
   ]
  },
  {
   "cell_type": "code",
   "execution_count": 19,
   "id": "c9812713-fac4-46a2-a0fb-da1fba8f7b38",
   "metadata": {},
   "outputs": [
    {
     "name": "stdout",
     "output_type": "stream",
     "text": [
      "Stripped line = -line1-\n"
     ]
    }
   ],
   "source": [
    "line = \"      line1    \\n \"\n",
    "line = line.strip()\n",
    "print(f\"Stripped line = -{line}-\")"
   ]
  },
  {
   "cell_type": "code",
   "execution_count": 35,
   "id": "7589c439-f7a3-44e7-bca9-a0a02be5a0bd",
   "metadata": {},
   "outputs": [
    {
     "name": "stdout",
     "output_type": "stream",
     "text": [
      "<class 'list'>\n",
      "[1, 2, 3, 4]\n"
     ]
    }
   ],
   "source": [
    "# Classes:\n",
    "import sys\n",
    "\n",
    "l1 = [1,2,3,4]\n",
    "print(type(l1)) # l1 is object of class \"list\"\n",
    "l2 = l1.copy() # Methods of class\n",
    "print(l2)"
   ]
  },
  {
   "cell_type": "code",
   "execution_count": 36,
   "id": "8e00693c-04e9-4a70-813e-d9fe3666494d",
   "metadata": {},
   "outputs": [
    {
     "name": "stdout",
     "output_type": "stream",
     "text": [
      "['__add__', '__class__', '__class_getitem__', '__contains__', '__delattr__', '__delitem__', '__dir__', '__doc__', '__eq__', '__format__', '__ge__', '__getattribute__', '__getitem__', '__getstate__', '__gt__', '__hash__', '__iadd__', '__imul__', '__init__', '__init_subclass__', '__iter__', '__le__', '__len__', '__lt__', '__mul__', '__ne__', '__new__', '__reduce__', '__reduce_ex__', '__repr__', '__reversed__', '__rmul__', '__setattr__', '__setitem__', '__sizeof__', '__str__', '__subclasshook__', 'append', 'clear', 'copy', 'count', 'extend', 'index', 'insert', 'pop', 'remove', 'reverse', 'sort']\n"
     ]
    }
   ],
   "source": [
    "print(dir(l2))"
   ]
  },
  {
   "cell_type": "code",
   "execution_count": 43,
   "id": "808513aa-8e58-4ed8-aebe-b74fd1f6e7bf",
   "metadata": {},
   "outputs": [
    {
     "name": "stdout",
     "output_type": "stream",
     "text": [
      "Price =  66000.0\n"
     ]
    }
   ],
   "source": [
    "import datetime # importing module\n",
    "'''\n",
    "1) Class name: Arnament\n",
    "2) Attributes:\n",
    "    + Metal: Gold, siver\n",
    "    - Price: \n",
    "    + Quality: \n",
    "    + Weight:\n",
    "    - Wastage:\n",
    "    - Date:\n",
    "3) Methods:\n",
    "    + Constructor:\n",
    "    + Sell:\n",
    "    + GetValue\n",
    "    + Modification\n",
    "    - GetCurrentPrices\n",
    "'''\n",
    "\n",
    "\n",
    "class Arnamet:\n",
    "    def __init__(self, type_metal, weight, quality):\n",
    "        self.Metal = type_metal\n",
    "        self.Quality = quality\n",
    "        self.Weight = weight\n",
    "        self.__Date = datetime.date.today()\n",
    "        metal_price = 0\n",
    "        if type_metal == \"gold\":\n",
    "            if quality == \"24\":\n",
    "                metal_price = weight*7000\n",
    "            elif quality == \"22\":\n",
    "                metal_price = weight*6000\n",
    "            else:\n",
    "                print(\"Quality is not correct argument\")\n",
    "                return\n",
    "        elif type_metal == \"silver\":\n",
    "            metal_price = weight*400\n",
    "\n",
    "        self.__Price = metal_price + metal_price*0.10                \n",
    "        print(\"Price = \", self.__Price)\n",
    "\n",
    "\n",
    "arn1 = Arnamet(\"gold\", 10, \"22\")\n",
    "\n",
    "\n"
   ]
  },
  {
   "cell_type": "code",
   "execution_count": 41,
   "id": "3c609c4f-677d-43ea-8fe5-fd56bf1e9a2f",
   "metadata": {},
   "outputs": [
    {
     "name": "stdout",
     "output_type": "stream",
     "text": [
      "2024-12-13\n"
     ]
    }
   ],
   "source": [
    "print(datetime.date.today())"
   ]
  },
  {
   "cell_type": "code",
   "execution_count": null,
   "id": "6e560129-bdf1-437b-a316-e775d6429fcc",
   "metadata": {},
   "outputs": [],
   "source": []
  }
 ],
 "metadata": {
  "kernelspec": {
   "display_name": "Python (playground)",
   "language": "python",
   "name": "myenv"
  },
  "language_info": {
   "codemirror_mode": {
    "name": "ipython",
    "version": 3
   },
   "file_extension": ".py",
   "mimetype": "text/x-python",
   "name": "python",
   "nbconvert_exporter": "python",
   "pygments_lexer": "ipython3",
   "version": "3.12.7"
  }
 },
 "nbformat": 4,
 "nbformat_minor": 5
}
