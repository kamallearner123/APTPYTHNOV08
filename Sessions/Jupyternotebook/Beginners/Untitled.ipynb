{
 "cells": [
  {
   "cell_type": "code",
   "execution_count": 1,
   "id": "1ea03383-4b50-4ee3-b73a-47535f5a19da",
   "metadata": {},
   "outputs": [
    {
     "ename": "TypeError",
     "evalue": "'tuple' object does not support item assignment",
     "output_type": "error",
     "traceback": [
      "\u001b[0;31m---------------------------------------------------------------------------\u001b[0m",
      "\u001b[0;31mTypeError\u001b[0m                                 Traceback (most recent call last)",
      "Cell \u001b[0;32mIn[1], line 2\u001b[0m\n\u001b[1;32m      1\u001b[0m x \u001b[38;5;241m=\u001b[39m (\u001b[38;5;241m1\u001b[39m, \u001b[38;5;241m2\u001b[39m, \u001b[38;5;241m3\u001b[39m) \n\u001b[0;32m----> 2\u001b[0m x[\u001b[38;5;241m0\u001b[39m] \u001b[38;5;241m=\u001b[39m \u001b[38;5;241m4\u001b[39m\n",
      "\u001b[0;31mTypeError\u001b[0m: 'tuple' object does not support item assignment"
     ]
    }
   ],
   "source": [
    "x = (1, 2, 3) \n",
    "x[0] = 4"
   ]
  },
  {
   "cell_type": "code",
   "execution_count": 2,
   "id": "c0b2780c-6365-49ea-a4a1-53bd53c78873",
   "metadata": {},
   "outputs": [
    {
     "name": "stdout",
     "output_type": "stream",
     "text": [
      "True\n"
     ]
    }
   ],
   "source": [
    "\n",
    "l1 = [\"a\", \"b\", \"c\"]\n",
    "print(\"a\" in l1)"
   ]
  },
  {
   "cell_type": "code",
   "execution_count": 1,
   "id": "74666599-15e9-4291-94d9-424c745ea6ec",
   "metadata": {},
   "outputs": [
    {
     "name": "stdout",
     "output_type": "stream",
     "text": [
      "['H', 'e', 'l', 'l', 'o']\n"
     ]
    }
   ],
   "source": [
    "# Keywords: for if def \n",
    "\n",
    "l1 = list(\"Hello\")\n",
    "print(l1)"
   ]
  },
  {
   "cell_type": "code",
   "execution_count": 2,
   "id": "2ddf56b9-fdb0-42e4-818d-f12226cabef3",
   "metadata": {},
   "outputs": [
    {
     "name": "stdout",
     "output_type": "stream",
     "text": [
      "False\n"
     ]
    }
   ],
   "source": [
    "x = \"x123\" \n",
    "print(x.isdigit())"
   ]
  },
  {
   "cell_type": "code",
   "execution_count": 4,
   "id": "acc18f1a-b10b-44e8-853f-80c3c1eb3100",
   "metadata": {},
   "outputs": [
    {
     "name": "stdout",
     "output_type": "stream",
     "text": [
      "Hello David, Wish you a Happy New Year!!!!\n",
      "Hello Sri, Wish you a Happy New Year!!!!\n"
     ]
    }
   ],
   "source": [
    "# Write a function\n",
    "# called greet\n",
    "# that takes list of names as an argument and \n",
    "# prints a personalized greeting like:\n",
    "# Hello David, Wish you a Happy New Year!!!!\n",
    "# Hello Sri, Wish you a Happy New Year!!!!\n",
    "\n",
    "def greet(names):\n",
    "    for name in names:\n",
    "        #formatted string: f\"Statement {name}\"\n",
    "        print(f\"Hello {name}, Wish you a Happy New Year!!!!\")\n",
    "\n",
    "greet([\"David\", \"Sri\"])"
   ]
  },
  {
   "cell_type": "code",
   "execution_count": null,
   "id": "e91c213e-b0bb-435a-b247-086095f98339",
   "metadata": {},
   "outputs": [],
   "source": [
    "# Write a function which takes list of Student names, prints the statement like below\n",
    "# Hi Harsh, please inform your parents to attend annual day.\n",
    "# Hi Dhanush, please inform your parents to attend annual day.\n",
    "\n",
    "\n"
   ]
  },
  {
   "cell_type": "code",
   "execution_count": 5,
   "id": "f19d4ddd-ab7a-4564-8f57-63063ae0c12e",
   "metadata": {},
   "outputs": [
    {
     "ename": "NameError",
     "evalue": "name 'mul_all' is not defined",
     "output_type": "error",
     "traceback": [
      "\u001b[0;31m---------------------------------------------------------------------------\u001b[0m",
      "\u001b[0;31mNameError\u001b[0m                                 Traceback (most recent call last)",
      "Cell \u001b[0;32mIn[5], line 4\u001b[0m\n\u001b[1;32m      1\u001b[0m \u001b[38;5;66;03m# Write a function to multiple all the numbers given in a list\u001b[39;00m\n\u001b[1;32m      2\u001b[0m \u001b[38;5;66;03m# clue: need to variable number of arguments\u001b[39;00m\n\u001b[1;32m      3\u001b[0m \u001b[38;5;66;03m# Single function should accept the below function calls\u001b[39;00m\n\u001b[0;32m----> 4\u001b[0m \u001b[38;5;28mprint\u001b[39m(mul_all(\u001b[38;5;241m1\u001b[39m,\u001b[38;5;241m4\u001b[39m,\u001b[38;5;241m6\u001b[39m,\u001b[38;5;241m9\u001b[39m,\u001b[38;5;241m5\u001b[39m))\n\u001b[1;32m      5\u001b[0m \u001b[38;5;28mprint\u001b[39m(mul_all(\u001b[38;5;241m1.2\u001b[39m, \u001b[38;5;241m7\u001b[39m))\n",
      "\u001b[0;31mNameError\u001b[0m: name 'mul_all' is not defined"
     ]
    }
   ],
   "source": [
    "# Write a function to multiple all the numbers given in a list\n",
    "# clue: need to variable number of arguments\n",
    "# Single function should accept the below function calls\n",
    "print(mul_all(1,4,6,9,5))\n",
    "print(mul_all(1.2, 7))"
   ]
  },
  {
   "cell_type": "code",
   "execution_count": null,
   "id": "9f02d833-2253-41ff-9e4f-102b2d9eaa5b",
   "metadata": {},
   "outputs": [],
   "source": []
  }
 ],
 "metadata": {
  "kernelspec": {
   "display_name": "Python 3 (ipykernel)",
   "language": "python",
   "name": "python3"
  },
  "language_info": {
   "codemirror_mode": {
    "name": "ipython",
    "version": 3
   },
   "file_extension": ".py",
   "mimetype": "text/x-python",
   "name": "python",
   "nbconvert_exporter": "python",
   "pygments_lexer": "ipython3",
   "version": "3.12.7"
  }
 },
 "nbformat": 4,
 "nbformat_minor": 5
}
