{
 "cells": [
  {
   "cell_type": "code",
   "execution_count": 5,
   "id": "85b81cfc-1905-4f6f-a895-6022894d4952",
   "metadata": {},
   "outputs": [
    {
     "name": "stdin",
     "output_type": "stream",
     "text": [
      "Enter the number 10\n"
     ]
    },
    {
     "name": "stdout",
     "output_type": "stream",
     "text": [
      "<class 'str'>\n",
      "0\n"
     ]
    }
   ],
   "source": [
    "num = input(\"Enter the number\")\n",
    "print(type(num))\n",
    "num1 = int(num)\n",
    "\n",
    "result = 1\n",
    "# for 1 to num1 \n",
    "# result = result * i\n",
    "for i in range(num1): #range(10): 0,1,2,3,4,5,6,7,8,9\n",
    "    result = result * i\n",
    "print(result)"
   ]
  },
  {
   "cell_type": "code",
   "execution_count": 7,
   "id": "2888505e-e7b2-4ca6-bfd5-8cec2f08ee9d",
   "metadata": {},
   "outputs": [
    {
     "name": "stdin",
     "output_type": "stream",
     "text": [
      "Enter the n: 10\n"
     ]
    },
    {
     "name": "stdout",
     "output_type": "stream",
     "text": [
      "25\n"
     ]
    }
   ],
   "source": [
    "n= int(input(\"Enter the n:\"))\n",
    "odd_sum=0\n",
    "for i in range(1,n+1):\n",
    "    if i%2!=0:\n",
    "        odd_sum=odd_sum+i\n",
    "print(odd_sum)"
   ]
  },
  {
   "cell_type": "code",
   "execution_count": 11,
   "id": "92d63567-31d5-4687-b0e7-fc2d4e95fdee",
   "metadata": {},
   "outputs": [
    {
     "name": "stdout",
     "output_type": "stream",
     "text": [
      "['H', 'e', 'l', 'l', 'o']\n",
      "['pavani', 'mounish', 'nag']\n"
     ]
    }
   ],
   "source": [
    "# How to lists\n",
    "list1 = [0,1,2,3,4,5]\n",
    "list2 = [\"Hello\", 1, 1.2, True, [100,200], (1,2)]\n",
    "emptylist = []\n",
    "t1 = (1,2,3) # Tuple\n",
    "list3 = list(t1)\n",
    "s1 = \"Hello\"\n",
    "list4 = list(s1)\n",
    "print(list4)\n",
    "s2 = \"pavani,mounish,nag\"\n",
    "names = s2.split(\",\")\n",
    "print(names)\n"
   ]
  },
  {
   "cell_type": "code",
   "execution_count": 19,
   "id": "47bae6ce-9b33-40df-931e-1e586a5ce87a",
   "metadata": {},
   "outputs": [
    {
     "name": "stdout",
     "output_type": "stream",
     "text": [
      "['pavani:p@gmail.com', 'mounish:m@gmail.com', 'nag:n@gmail.com']\n",
      "Hi Pavani, Wish you a happy new year!!!\n",
      "mail id: p@gmail.com\n",
      "Hi Mounish, Wish you a happy new year!!!\n",
      "mail id: m@gmail.com\n",
      "Hi Nag, Wish you a happy new year!!!\n",
      "mail id: n@gmail.com\n"
     ]
    }
   ],
   "source": [
    "s2 = \"pavani:p@gmail.com,mounish:m@gmail.com,nag:n@gmail.com\"\n",
    "names = s2.split(\",\")\n",
    "print(names)\n",
    "\n",
    "for name in names:\n",
    "    l1 = name.split(\":\") # l1 = [\"mounish\", \"m@gmail.com\"]\n",
    "    statement = \"Hi \" + l1[0].capitalize() + \", \" + \"Wish you a happy new year!!!\"\n",
    "    print(statement)\n",
    "    print(\"mail id:\", l1[1])\n"
   ]
  },
  {
   "cell_type": "code",
   "execution_count": null,
   "id": "18d575a4-016f-4e23-8482-2969373b6490",
   "metadata": {},
   "outputs": [],
   "source": [
    "l1 = [1,2,2,2,2,3,4,45,5,5]"
   ]
  }
 ],
 "metadata": {
  "kernelspec": {
   "display_name": "Python 3 (ipykernel)",
   "language": "python",
   "name": "python3"
  },
  "language_info": {
   "codemirror_mode": {
    "name": "ipython",
    "version": 3
   },
   "file_extension": ".py",
   "mimetype": "text/x-python",
   "name": "python",
   "nbconvert_exporter": "python",
   "pygments_lexer": "ipython3",
   "version": "3.13.0"
  }
 },
 "nbformat": 4,
 "nbformat_minor": 5
}
