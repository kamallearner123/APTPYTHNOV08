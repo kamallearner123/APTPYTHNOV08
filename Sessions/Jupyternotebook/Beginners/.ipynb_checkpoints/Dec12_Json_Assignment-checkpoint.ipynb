{
 "cells": [
  {
   "cell_type": "code",
   "execution_count": 4,
   "id": "b28e2bc0-e458-44c9-bd66-243bc1b7e3ea",
   "metadata": {},
   "outputs": [
    {
     "name": "stdout",
     "output_type": "stream",
     "text": [
      "CPU Intel Core2 due\n",
      "RAM 2\n",
      "Storage 500\n",
      "OS Windows\n"
     ]
    }
   ],
   "source": [
    "\n",
    "pc_details = {\n",
    "    \"CPU\": \"Intel Core2 due\",\n",
    "    \"RAM\": 2,\n",
    "    \"Storage\": 500,\n",
    "    \"OS\": \"Windows\"}\n",
    "\n",
    "fd = open(\"pc_details.txt\", \"w\")\n",
    "for key, val  in pc_details.items():\n",
    "    print(key, val)\n",
    "    fd.write(f\"{key}: {val}\\n\")\n",
    "fd.close()\n",
    "\n"
   ]
  },
  {
   "cell_type": "code",
   "execution_count": 16,
   "id": "b3ab2625-08c5-428a-85e6-ced2aa2d77f7",
   "metadata": {},
   "outputs": [
    {
     "name": "stdout",
     "output_type": "stream",
     "text": [
      "Gold 1800.5\n",
      "Silver 25.3\n",
      "Platinum 950.75\n",
      "Date 2024-12-13\n"
     ]
    }
   ],
   "source": [
    "arunements = {\n",
    "    \"Gold\": 1800.50,\n",
    "    \"Silver\": 25.30,\n",
    "    \"Platinum\": 950.75,\n",
    "    \"Date\": \"2024-12-13\"}\n",
    "fd=open(\"data.txt\",\"w\")\n",
    "for key,value in arunements.items():\n",
    "    print(key,value)\n",
    "    fd.write(f\"{key}:{value}\\n\")\n",
    "fd.close()"
   ]
  },
  {
   "cell_type": "code",
   "execution_count": 7,
   "id": "5599ef7e-faf4-4f69-ab79-cb0e21ffdb50",
   "metadata": {},
   "outputs": [
    {
     "name": "stdout",
     "output_type": "stream",
     "text": [
      "[{'Gold': 2000.5, 'Silver': 25.3, 'Platinum': 950.75, 'Date': '2024-12-13'}, {'Gold': 1800.5, 'Silver': 25.3, 'Platinum': 950.75, 'Date': '2024-12-14'}, {'Gold': 1800.5, 'Silver': 25.3, 'Platinum': 950.75, 'Date': '2024-12-14'}]\n",
      "<class 'list'>\n"
     ]
    }
   ],
   "source": [
    "import json\n",
    "\n",
    "# Reading the json file\n",
    "fd = open(\"prices.json\")\n",
    "prices = json.load(fd)\n",
    "print(prices)\n",
    "print(type(prices))\n",
    "fd.close()\n",
    "\n",
    "\n",
    "arunements = {\n",
    "    \"Gold\": 1800.50,\n",
    "    \"Silver\": 25.30,\n",
    "    \"Platinum\": 950.75,\n",
    "    \"Date\": \"2024-12-14\"}\n",
    "\n",
    "prices.append(arunements)\n",
    "\n",
    "#Writing the data in json file\n",
    "fd = open(\"prices.json\",\"w\") # Using a is not allowed in json file\n",
    "json.dump(prices, fd)\n",
    "fd.close()\n"
   ]
  },
  {
   "cell_type": "code",
   "execution_count": 2,
   "id": "0e59d314-e175-48de-9e6c-ec787631e966",
   "metadata": {},
   "outputs": [],
   "source": [
    "arunements = {\n",
    "    \"Gold\": 2000.50,\n",
    "    \"Silver\": 25.30,\n",
    "    \"Platinum\": 950.75,\n",
    "    \"Date\": \"2024-12-13\"}\n",
    "\n",
    "#Writing the data in json file\n",
    "fd = open(\"prices.json\",\"w\") # Using a is not allowed in json file\n",
    "json.dump(arunements, fd)\n",
    "fd.close()\n"
   ]
  },
  {
   "cell_type": "code",
   "execution_count": 5,
   "id": "1a578eb5-4dd9-4286-af26-9824cb409116",
   "metadata": {},
   "outputs": [
    {
     "name": "stdout",
     "output_type": "stream",
     "text": [
      "[1, 2, 3]\n"
     ]
    }
   ],
   "source": [
    "l1 = [1,2]\n",
    "l1.append(3)\n",
    "print(l1)"
   ]
  },
  {
   "cell_type": "code",
   "execution_count": 13,
   "id": "6a980144-4823-4058-82b5-4f7f8846a3c9",
   "metadata": {},
   "outputs": [
    {
     "name": "stdout",
     "output_type": "stream",
     "text": [
      "hello world hello python python hello hi hi hi hi hi\n",
      "['hello', 'world', 'hello', 'python', 'python', 'hello', 'hi', 'hi', 'hi', 'hi', 'hi']\n",
      "{'python', 'world', 'hello', 'hi'}\n",
      "{'python': 2, 'world': 1, 'hello': 3, 'hi': 5}\n"
     ]
    }
   ],
   "source": [
    "import json \n",
    "\n",
    "#1) Open file in readonly and read entire data to a string\n",
    "fd = open(\"Assignment1.txt\")\n",
    "data = fd.read()\n",
    "print(data)\n",
    "fd.close()\n",
    "\n",
    "#2) Split the string into substring\n",
    "words = data.split(\" \")\n",
    "print(words)\n",
    "freq = {}\n",
    "unique_words = set(words)\n",
    "print(unique_words)\n",
    "\n",
    "# 3) Collect word and its frequenct in a dictionary\n",
    "for curr in unique_words:\n",
    "    freq[curr] = words.count(curr)\n",
    "print(freq)\n",
    "\n",
    "# 4) Write the dictionary into json file\n",
    "fd = open(\"Result.json\", \"w\")\n",
    "json.dump(freq, fd)\n",
    "fd.close()\n"
   ]
  },
  {
   "cell_type": "code",
   "execution_count": null,
   "id": "33d29d59-ee2f-4359-828f-d2ed4413c564",
   "metadata": {},
   "outputs": [],
   "source": []
  }
 ],
 "metadata": {
  "kernelspec": {
   "display_name": "Python 3 (ipykernel)",
   "language": "python",
   "name": "python3"
  },
  "language_info": {
   "codemirror_mode": {
    "name": "ipython",
    "version": 3
   },
   "file_extension": ".py",
   "mimetype": "text/x-python",
   "name": "python",
   "nbconvert_exporter": "python",
   "pygments_lexer": "ipython3",
   "version": "3.12.7"
  }
 },
 "nbformat": 4,
 "nbformat_minor": 5
}
