{
 "cells": [
  {
   "cell_type": "code",
   "execution_count": 2,
   "id": "d2963dbb-869e-4161-aadd-0720ecf46e43",
   "metadata": {},
   "outputs": [
    {
     "name": "stdout",
     "output_type": "stream",
     "text": [
      "Line1: hello\n",
      "Line2: world\n",
      "Line3: !!!!\n",
      "\n"
     ]
    }
   ],
   "source": [
    "# file handling #\n",
    "'''\n",
    "1) Open file to read\n",
    "2) Open file to write\n",
    "3) Open file to append the data\n",
    "4) Close file\n",
    "5) Read the lines into list\n",
    "6) Move the curser\n",
    "7) Get where is curser\n",
    "'''\n",
    "\n",
    "# 1) Open file to read\n",
    "fd = open(\"file.txt\") # Default mode: \"r\"\n",
    "# 2) Read the content to string\n",
    "data = fd.read()\n",
    "print(data)\n",
    "# 3) Close file\n",
    "fd.close()\n"
   ]
  },
  {
   "cell_type": "code",
   "execution_count": 7,
   "id": "227d3772-2bee-458e-854f-b47dd44542e7",
   "metadata": {},
   "outputs": [
    {
     "name": "stdout",
     "output_type": "stream",
     "text": [
      "Offeset:  0\n",
      "Written data: New content!!!\n"
     ]
    }
   ],
   "source": [
    "# 1) Open file to write and read\n",
    "fd = open(\"file.txt\", \"w+\") # w: Only , w+: Write and read\n",
    "# 2) Write the content to file\n",
    "print(\"Offeset: \", fd.tell())\n",
    "data = fd.write(\"New content!!!\")\n",
    "# 3) Moving curser to 0 offset\n",
    "fd.seek(0)\n",
    "# 4) Read what is written\n",
    "data = fd.read()\n",
    "print(\"Written data:\", data)\n",
    "# 3) Close file\n",
    "fd.close()\n"
   ]
  },
  {
   "cell_type": "code",
   "execution_count": 8,
   "id": "b36aeb19-dc33-4356-afc0-f62b21bca24c",
   "metadata": {},
   "outputs": [
    {
     "name": "stdout",
     "output_type": "stream",
     "text": [
      "Offeset when opened with a+:  159\n",
      "Written data: 1) Open file to read\n",
      "2) Open file to write\n",
      "3) Open file to append the data\n",
      "4) Close file\n",
      "5) Read the lines into list\n",
      "6) Move the curser\n",
      "7) Get where is curser\n",
      "Appending: New content!!!\n"
     ]
    }
   ],
   "source": [
    "# 1) Open file to append and read \n",
    "fd = open(\"file.txt\", \"a+\") # w: Only , a+: Write and read\n",
    "# 2) Write the content to file\n",
    "print(\"Offeset when opened with a+: \", fd.tell())\n",
    "data = fd.write(\"Appending: New content!!!\")\n",
    "# 3) Moving curser to 0 offset\n",
    "fd.seek(0)\n",
    "# 4) Read what is written\n",
    "data = fd.read()\n",
    "print(\"Written data:\", data)\n",
    "# 3) Close file\n",
    "fd.close()"
   ]
  },
  {
   "cell_type": "code",
   "execution_count": null,
   "id": "1c9bbf7d-4822-48a6-91f2-39be4fd0441d",
   "metadata": {},
   "outputs": [],
   "source": [
    "# 1) Open the file \"News.txt\" and read the data\n",
    "# 2) Open the file \"News.txt\" and append todays news and read whole news and print\n",
    "# 3) Open the file \"News.txt\" and read the lines in list"
   ]
  },
  {
   "cell_type": "code",
   "execution_count": 22,
   "id": "c3686753-3425-4797-9ad5-281575beae83",
   "metadata": {},
   "outputs": [
    {
     "name": "stdout",
     "output_type": "stream",
     "text": [
      "1) Open file to read\n",
      "\n",
      "2) Open file to write\n",
      "\n",
      "3) Open file to append the data\n",
      "\n",
      "4) Close file\n",
      "\n",
      "5) Read the lines into list\n",
      "\n",
      "6) Move the curser\n",
      "\n",
      "7) Get where is curser\n",
      "\n",
      "Appending: New content!!!\n"
     ]
    }
   ],
   "source": [
    "# 1) Open file to read\n",
    "fd = open(\"file.txt\") # Default mode: \"r\"\n",
    "# 2) Read the content to string\n",
    "data = fd.readlines()\n",
    "for line in data:\n",
    "    print(line)\n",
    "# 3) Close file\n",
    "fd.close()\n"
   ]
  },
  {
   "cell_type": "code",
   "execution_count": 24,
   "id": "9dc03652-44e5-4543-8119-954942b44d06",
   "metadata": {},
   "outputs": [
    {
     "name": "stdout",
     "output_type": "stream",
     "text": [
      "Offeset:  0\n",
      "written data: appending:Andhra Pradesh witnesses a worrying trend of juvenile crime, with 80-90 minors apprehended monthly. A recent case involving three minors kidnapping, raping, and murdering an eight-year-old girl highlights the severity of the issue.\n"
     ]
    }
   ],
   "source": [
    "fd = open(\"News.txt\", \"a+\") # w: Only , w+: Write and read\n",
    "# 2) Write the content to file\n",
    "print(\"Offeset: \", fd.tell())\n",
    "data = fd.write(\"appending:Andhra Pradesh witnesses a worrying trend of juvenile crime, with 80-90 minors apprehended monthly. A recent case involving three minors kidnapping, raping, and murdering an eight-year-old girl highlights the severity of the issue.\")\n",
    "# 3) Moving curser to 0 offset\n",
    "fd.seek(0)\n",
    "data=fd.read()\n",
    "# 4) Read what is written\n",
    "print(\"written data:\",data)\n",
    "# 3) Close file\n",
    "fd.close()\n"
   ]
  },
  {
   "cell_type": "code",
   "execution_count": null,
   "id": "d94379ae-52fe-41b6-a4a7-317fa8913390",
   "metadata": {},
   "outputs": [],
   "source": []
  }
 ],
 "metadata": {
  "kernelspec": {
   "display_name": "Python 3 (ipykernel)",
   "language": "python",
   "name": "python3"
  },
  "language_info": {
   "codemirror_mode": {
    "name": "ipython",
    "version": 3
   },
   "file_extension": ".py",
   "mimetype": "text/x-python",
   "name": "python",
   "nbconvert_exporter": "python",
   "pygments_lexer": "ipython3",
   "version": "3.12.7"
  }
 },
 "nbformat": 4,
 "nbformat_minor": 5
}
