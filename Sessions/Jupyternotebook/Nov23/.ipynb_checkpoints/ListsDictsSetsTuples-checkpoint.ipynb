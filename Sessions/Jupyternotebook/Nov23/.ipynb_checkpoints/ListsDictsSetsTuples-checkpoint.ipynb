{
 "cells": [
  {
   "cell_type": "code",
   "execution_count": 3,
   "id": "8b15b3dc-756e-4539-a198-02b2d856484a",
   "metadata": {},
   "outputs": [
    {
     "name": "stdout",
     "output_type": "stream",
     "text": [
      "[4, 3, 2]\n"
     ]
    }
   ],
   "source": [
    "list1 = [1,2,3,4]\n",
    "list1.remove(1)\n",
    "list1.reverse()\n",
    "print(list1)"
   ]
  },
  {
   "cell_type": "code",
   "execution_count": 7,
   "id": "ca483c80-3954-4e86-afd9-104d43d71c8c",
   "metadata": {},
   "outputs": [
    {
     "name": "stdout",
     "output_type": "stream",
     "text": [
      "[0, 2, 3, 4, 6, 8, 9, 10, 12, 14, 15, 16, 18, 20, 21, 22, 24, 26, 27, 28, 30, 32, 33, 34, 36, 38, 39, 40, 42, 44, 45, 46, 48, 50, 51, 52, 54, 56, 57, 58, 60, 62, 63, 64, 66, 68, 69, 70, 72, 74, 75, 76, 78, 80, 81, 82, 84, 86, 87, 88, 90, 92, 93, 94, 96, 98, 99]\n"
     ]
    }
   ],
   "source": [
    "list1 = [x for x in range(100) if (x%2 == 0 or x%3==0)]\n",
    "print(list1)"
   ]
  },
  {
   "cell_type": "code",
   "execution_count": 8,
   "id": "e28cdb08-474c-471a-9d89-69ee3c784039",
   "metadata": {},
   "outputs": [
    {
     "data": {
      "text/plain": [
       "99"
      ]
     },
     "execution_count": 8,
     "metadata": {},
     "output_type": "execute_result"
    }
   ],
   "source": [
    "max(list1)"
   ]
  },
  {
   "cell_type": "code",
   "execution_count": 18,
   "id": "3e895877-0e61-43d5-9891-eaf56457addf",
   "metadata": {},
   "outputs": [
    {
     "name": "stdout",
     "output_type": "stream",
     "text": [
      "6\n",
      "<class 'list'>\n",
      "<class 'tuple'>\n",
      "[1, 2, 3, 4, [5, 6, 7], [100, 200]]\n"
     ]
    }
   ],
   "source": [
    "l1 = [1, 2, 3, 4, [5,6,7], (8,9,10, [11,12])]\n",
    "print(len(l1))\n",
    "\n",
    "l1[5][3][1]\n",
    "\n",
    "\n",
    "print(type(l1)) # l1[0] --- can be changed\n",
    "print(type(l1[5])) # l1[5][0] = 88 : No\n",
    "l1[5] = [100,200] # ? No, Yes\n",
    "print(l1)"
   ]
  },
  {
   "cell_type": "code",
   "execution_count": null,
   "id": "779981ee-d33a-4a92-a35b-9a069e579f44",
   "metadata": {},
   "outputs": [],
   "source": [
    "#1[5][3][1] = 100"
   ]
  },
  {
   "cell_type": "code",
   "execution_count": 19,
   "id": "e5f99b57-19f9-4da6-b18f-f5ef5ee67650",
   "metadata": {},
   "outputs": [
    {
     "data": {
      "text/plain": [
       "1"
      ]
     },
     "execution_count": 19,
     "metadata": {},
     "output_type": "execute_result"
    }
   ],
   "source": [
    "l1."
   ]
  },
  {
   "cell_type": "code",
   "execution_count": 21,
   "id": "13168ee0-93e6-4560-9b14-79fd713de230",
   "metadata": {},
   "outputs": [
    {
     "name": "stdout",
     "output_type": "stream",
     "text": [
      "4\n",
      "3\n",
      "2\n",
      "1\n",
      "[]\n"
     ]
    }
   ],
   "source": [
    "l1 = [1,2,3,4]\n",
    "for i in range(len(l1)):\n",
    "    print(l1.pop())\n",
    "print(l1)"
   ]
  },
  {
   "cell_type": "code",
   "execution_count": 25,
   "id": "2321b7ab-cc06-4878-a4a5-c5fb26015efc",
   "metadata": {},
   "outputs": [
    {
     "name": "stdout",
     "output_type": "stream",
     "text": [
      "2\n",
      "1\n"
     ]
    },
    {
     "ename": "IndexError",
     "evalue": "pop from empty list",
     "output_type": "error",
     "traceback": [
      "\u001b[0;31m---------------------------------------------------------------------------\u001b[0m",
      "\u001b[0;31mIndexError\u001b[0m                                Traceback (most recent call last)",
      "Cell \u001b[0;32mIn[25], line 7\u001b[0m\n\u001b[1;32m      5\u001b[0m \u001b[38;5;28mprint\u001b[39m(stack\u001b[38;5;241m.\u001b[39mpop())\n\u001b[1;32m      6\u001b[0m \u001b[38;5;28mprint\u001b[39m(stack\u001b[38;5;241m.\u001b[39mpop())\n\u001b[0;32m----> 7\u001b[0m \u001b[38;5;28mprint\u001b[39m(stack\u001b[38;5;241m.\u001b[39mpop())\n",
      "\u001b[0;31mIndexError\u001b[0m: pop from empty list"
     ]
    }
   ],
   "source": [
    "stack = []\n",
    "stack.append(1)\n",
    "stack.append(2)\n",
    "\n",
    "print(stack.pop())\n",
    "print(stack.pop())\n",
    "print(stack.pop())"
   ]
  },
  {
   "cell_type": "code",
   "execution_count": 26,
   "id": "8cec609d-442e-4e56-bee1-9d15c17d6e51",
   "metadata": {},
   "outputs": [
    {
     "name": "stdout",
     "output_type": "stream",
     "text": [
      "Help on built-in function pop:\n",
      "\n",
      "pop(index=-1, /) method of builtins.list instance\n",
      "    Remove and return item at index (default last).\n",
      "\n",
      "    Raises IndexError if list is empty or index is out of range.\n",
      "\n",
      "None\n"
     ]
    }
   ],
   "source": [
    "print(help(stack.pop))"
   ]
  },
  {
   "cell_type": "code",
   "execution_count": 29,
   "id": "9d44f5c9-72a1-44b1-91b0-a6528831b336",
   "metadata": {},
   "outputs": [
    {
     "name": "stdout",
     "output_type": "stream",
     "text": [
      "[1, 2, 3, 4, 5]\n",
      "[1, 2, 4, 5]\n"
     ]
    }
   ],
   "source": [
    "list1 = [1,2,3,4,5,6,0x11,0x12,..........]\n",
    "list1.pop()\n",
    "print(list1)\n",
    "list1.pop(2)\n",
    "print(list1)"
   ]
  },
  {
   "cell_type": "code",
   "execution_count": 35,
   "id": "d69631ea-bd94-401e-8c5b-67255f6a4e3d",
   "metadata": {},
   "outputs": [
    {
     "ename": "AttributeError",
     "evalue": "'list' object has no attribute 'union'",
     "output_type": "error",
     "traceback": [
      "\u001b[0;31m---------------------------------------------------------------------------\u001b[0m",
      "\u001b[0;31mAttributeError\u001b[0m                            Traceback (most recent call last)",
      "Cell \u001b[0;32mIn[35], line 7\u001b[0m\n\u001b[1;32m      5\u001b[0m x \u001b[38;5;241m=\u001b[39m \u001b[38;5;28mlist\u001b[39m()\n\u001b[1;32m      6\u001b[0m x\u001b[38;5;241m.\u001b[39mappend(\u001b[38;5;241m100\u001b[39m)\n\u001b[0;32m----> 7\u001b[0m third_party(x)\n",
      "Cell \u001b[0;32mIn[35], line 2\u001b[0m, in \u001b[0;36mthird_party\u001b[0;34m(s1)\u001b[0m\n\u001b[1;32m      1\u001b[0m \u001b[38;5;28;01mdef\u001b[39;00m \u001b[38;5;21mthird_party\u001b[39m(s1):\n\u001b[0;32m----> 2\u001b[0m     \u001b[38;5;28mprint\u001b[39m(s1\u001b[38;5;241m.\u001b[39munion((\u001b[38;5;241m1\u001b[39m,\u001b[38;5;241m2\u001b[39m,\u001b[38;5;241m3\u001b[39m)))\n\u001b[1;32m      3\u001b[0m     \u001b[38;5;28mprint\u001b[39m(s1)\n",
      "\u001b[0;31mAttributeError\u001b[0m: 'list' object has no attribute 'union'"
     ]
    }
   ],
   "source": [
    "\n"
   ]
  },
  {
   "cell_type": "code",
   "execution_count": 37,
   "id": "ff6b19b9-df5b-4adf-bb8d-df465befb8b2",
   "metadata": {},
   "outputs": [
    {
     "name": "stdout",
     "output_type": "stream",
     "text": [
      "100\n",
      "100\n"
     ]
    }
   ],
   "source": [
    "l1 = [1,2,3,4]\n",
    "l2 = l1\n",
    "l1[0] = 100\n",
    "print(l1[0])\n",
    "print(l2[0])"
   ]
  },
  {
   "cell_type": "code",
   "execution_count": null,
   "id": "ff8c2635-1752-4cde-9aba-255ac5c72543",
   "metadata": {},
   "outputs": [],
   "source": [
    "import copy\n",
    "\n",
    "l1 = [1,2,3,4, [5,6,7]]\n",
    "#l1 = l2 (reference)\n",
    "#l2 = l1.copy() # Shallow\n",
    "l2 = copy.copy(l1) #deep copy\n",
    "l1[4][0] = 500\n",
    "print(l1[4][0]) # 500\n",
    "print(l2[4][0]) # ? 5\n",
    "\n",
    "\n"
   ]
  },
  {
   "cell_type": "code",
   "execution_count": 40,
   "id": "8491c47f-119d-4adb-a00d-fbb5c6daee4a",
   "metadata": {},
   "outputs": [
    {
     "name": "stdout",
     "output_type": "stream",
     "text": [
      "[]\n",
      "[]\n"
     ]
    }
   ],
   "source": [
    "l1 = list()\n",
    "print(l1)\n",
    "l2 = []\n",
    "print(l2)"
   ]
  },
  {
   "cell_type": "code",
   "execution_count": 50,
   "id": "1fdb8ea7-52cd-4a45-9628-23945055a512",
   "metadata": {},
   "outputs": [],
   "source": [
    "list1 = list(range(10))"
   ]
  },
  {
   "cell_type": "code",
   "execution_count": 51,
   "id": "09bc9567-e65d-4145-bc02-54d9383d26df",
   "metadata": {},
   "outputs": [
    {
     "name": "stdout",
     "output_type": "stream",
     "text": [
      "[0, 1, 2, 3, 4, 5, 6, 7, 8, 9]\n"
     ]
    }
   ],
   "source": [
    "print(list1)"
   ]
  },
  {
   "cell_type": "code",
   "execution_count": 52,
   "id": "bd2bc2cc-e02f-448f-937f-47398e6d504b",
   "metadata": {},
   "outputs": [
    {
     "name": "stdout",
     "output_type": "stream",
     "text": [
      "9\n",
      "8\n",
      "0\n"
     ]
    }
   ],
   "source": [
    "print(list1[-1])\n",
    "print(list1[-2])\n",
    "print(list1[-10])"
   ]
  },
  {
   "cell_type": "code",
   "execution_count": null,
   "id": "523f7b72-3522-4cb1-baee-51d2f3548860",
   "metadata": {},
   "outputs": [],
   "source": []
  },
  {
   "cell_type": "code",
   "execution_count": 66,
   "id": "1bbcb9dd-2ab8-4ccf-b9ec-d5e5ec9af004",
   "metadata": {},
   "outputs": [
    {
     "name": "stdout",
     "output_type": "stream",
     "text": [
      "[3, 4, 5, 6, 7, 8, 9]\n",
      "[0, 1, 2]\n",
      "[3, 4, 5, 6, 7, 8, 9]\n",
      "[0]\n",
      "[4, 2, 0]\n"
     ]
    }
   ],
   "source": [
    "print(list1[3:])\n",
    "#list1[start index: stop index     : increment]\n",
    "#          0      :     len(list1):   1\n",
    "# Positive indexing\n",
    "print(list1[:3])\n",
    "print(list1[3:])\n",
    "print(list1[::10])\n",
    "\n",
    "# Positive indexing\n",
    "print(list1[-6::-2])"
   ]
  },
  {
   "cell_type": "code",
   "execution_count": 65,
   "id": "1b6029d6-df50-4232-a3c4-20d4e9ed5170",
   "metadata": {},
   "outputs": [
    {
     "name": "stdout",
     "output_type": "stream",
     "text": [
      "[9, 8, 7, 6, 5, 4, 3, 2, 1, 0]\n",
      "[9, 7, 5, 3, 1]\n",
      "[9, 7, 5]\n"
     ]
    }
   ],
   "source": [
    "\n",
    "# Negative indexing\n",
    "print(list1[::-1])\n",
    "#           -1, -len(list1), -1\n",
    "\n",
    "print(list1[::-2])\n",
    "#           -1, -len(), -1\n",
    "\n",
    "\n",
    "print(list1[:-6:-2]) # list1[-1:-6:-2]\n",
    "#           -1, -len(), -1"
   ]
  },
  {
   "cell_type": "code",
   "execution_count": 70,
   "id": "3a1e8e92-7508-4714-a6e0-e23967b811f6",
   "metadata": {},
   "outputs": [
    {
     "name": "stdout",
     "output_type": "stream",
     "text": [
      "4\n",
      "[0, 1, 2, 3, 4, 5, 6, 7, 8, 9]\n",
      "[5, 3, 1]\n"
     ]
    }
   ],
   "source": [
    "list1 = list(range(10))\n",
    "print(list1[-6])\n",
    "print(list1)\n",
    "print(list1[-5::-2]) # list1[-5::-2]"
   ]
  },
  {
   "cell_type": "code",
   "execution_count": 72,
   "id": "ed9e4f0f-964b-4d94-9b33-173a0aafc6cd",
   "metadata": {},
   "outputs": [
    {
     "name": "stdout",
     "output_type": "stream",
     "text": [
      " \n",
      "hello world\n",
      "wolh\n"
     ]
    }
   ],
   "source": [
    "list1 = \"hello world\"\n",
    "print(list1[-6])\n",
    "print(list1)\n",
    "print(list1[-5::-2]) # list1[-5::-2]"
   ]
  },
  {
   "cell_type": "code",
   "execution_count": 73,
   "id": "43d06a25-2e20-415b-b689-4fafd1a288a8",
   "metadata": {},
   "outputs": [
    {
     "name": "stdout",
     "output_type": "stream",
     "text": [
      "4\n",
      "(0, 1, 2, 3, 4, 5, 6, 7, 8, 9)\n",
      "(5, 3, 1)\n"
     ]
    }
   ],
   "source": [
    "list1 = (0,1,2,3,4,5,6,7,8,9)\n",
    "print(list1[-6])\n",
    "print(list1)\n",
    "print(list1[-5::-2]) # list1[-5::-2]"
   ]
  },
  {
   "cell_type": "code",
   "execution_count": 79,
   "id": "de1f01de-be1b-406e-a63f-ba3471ac170f",
   "metadata": {},
   "outputs": [
    {
     "name": "stdout",
     "output_type": "stream",
     "text": [
      "(5, 3)\n"
     ]
    }
   ],
   "source": [
    "print(list1[5:-9:-2]) # list1[-5::-2]"
   ]
  },
  {
   "cell_type": "code",
   "execution_count": 85,
   "id": "e5a92bec-8ce3-434b-b999-07aeac1b09ab",
   "metadata": {},
   "outputs": [
    {
     "ename": "TypeError",
     "evalue": "can only concatenate list (not \"tuple\") to list",
     "output_type": "error",
     "traceback": [
      "\u001b[0;31m---------------------------------------------------------------------------\u001b[0m",
      "\u001b[0;31mTypeError\u001b[0m                                 Traceback (most recent call last)",
      "Cell \u001b[0;32mIn[85], line 4\u001b[0m\n\u001b[1;32m      2\u001b[0m l2 \u001b[38;5;241m=\u001b[39m (\u001b[38;5;241m4\u001b[39m,\u001b[38;5;241m5\u001b[39m,\u001b[38;5;241m6\u001b[39m)\n\u001b[1;32m      3\u001b[0m l1\u001b[38;5;241m.\u001b[39mextend(l2)\n\u001b[0;32m----> 4\u001b[0m \u001b[38;5;28mprint\u001b[39m(l1\u001b[38;5;241m+\u001b[39ml2)\n",
      "\u001b[0;31mTypeError\u001b[0m: can only concatenate list (not \"tuple\") to list"
     ]
    }
   ],
   "source": [
    "l1 = [1,2,3]\n",
    "l2 = (4,5,6)\n",
    "l1.extend(l2)\n",
    "print(l1+l2)\n",
    "#[1,2,3,4,5,6]\n"
   ]
  },
  {
   "cell_type": "code",
   "execution_count": 87,
   "id": "0fd6eba9-84bd-4bab-b340-dee91b83671f",
   "metadata": {},
   "outputs": [
    {
     "data": {
      "text/plain": [
       "[2, 3]"
      ]
     },
     "execution_count": 87,
     "metadata": {},
     "output_type": "execute_result"
    }
   ],
   "source": [
    "l1 = [0,1,2,3]\n",
    "l1[2:len(l1)] # l1[2:4] 2,3"
   ]
  },
  {
   "cell_type": "code",
   "execution_count": 89,
   "id": "dc452cb2-fa9e-4407-817f-a86bea67e404",
   "metadata": {},
   "outputs": [
    {
     "name": "stdout",
     "output_type": "stream",
     "text": [
      "[20, 30, 40, 50]\n"
     ]
    }
   ],
   "source": [
    "l1 = [10,20,30,40,50]\n",
    "print(l1[1:len(l1)]) #1,2,3"
   ]
  },
  {
   "cell_type": "code",
   "execution_count": 103,
   "id": "60d1ba72-99fd-4b6e-9ad3-301ce89fec95",
   "metadata": {},
   "outputs": [
    {
     "name": "stdout",
     "output_type": "stream",
     "text": [
      "[0, 1, 2, 9, 4, 25, 6, 49, 8, 81, 10, 121, 12, 169, 14, 225, 16, 289, 18, 361, 20, 441, 22, 529, 24, 625, 26, 729, 28, 841, 30, 961, 32, 1089, 34, 1225, 36, 1369, 38, 1521, 40, 1681, 42, 1849, 44, 2025, 46, 2209, 48, 2401, 50, 2601, 52, 2809, 54, 3025, 56, 3249, 58, 3481, 60, 3721, 62, 3969, 64, 4225, 66, 4489, 68, 4761, 70, 5041, 72, 5329, 74, 5625, 76, 5929, 78, 6241, 80, 6561, 82, 6889, 84, 7225, 86, 7569, 88, 7921, 90, 8281, 92, 8649, 94, 9025, 96, 9409, 98, 9801]\n"
     ]
    }
   ],
   "source": [
    "#list comprehension\n",
    "\n",
    "list1 = list(range(100))\n",
    "list2 = [num for num in list1 if num%2==0]\n",
    "# [INSTRUCTION  for num in list1 if CONDITION] \n",
    "# [INSTRUCTION if CONDITION else INSTRUCTION for num in list1]\n",
    "list3 = [num if num%2==0 else num**2 for num in list1]\n",
    "print(list3)\n"
   ]
  },
  {
   "cell_type": "code",
   "execution_count": 116,
   "id": "c2b5882b-9329-42dd-b16d-50a1363022f8",
   "metadata": {},
   "outputs": [
    {
     "name": "stdout",
     "output_type": "stream",
     "text": [
      "[1, 3, 4, 8, 5, 6, 6]\n"
     ]
    }
   ],
   "source": [
    "list1 = [100, 1,3,4,8,100, 100, 5,6,6]\n",
    "target =100\n",
    "while list1.count(target)!=0:\n",
    "    list1.remove(target)\n",
    "print(list1)"
   ]
  },
  {
   "cell_type": "code",
   "execution_count": 114,
   "id": "1daf2ffa-8b4b-47f9-9ae3-8e47035070a4",
   "metadata": {},
   "outputs": [
    {
     "ename": "AttributeError",
     "evalue": "'list' object has no attribute 'find'",
     "output_type": "error",
     "traceback": [
      "\u001b[0;31m---------------------------------------------------------------------------\u001b[0m",
      "\u001b[0;31mAttributeError\u001b[0m                            Traceback (most recent call last)",
      "Cell \u001b[0;32mIn[114], line 1\u001b[0m\n\u001b[0;32m----> 1\u001b[0m list1\u001b[38;5;241m.\u001b[39mfind(\u001b[38;5;241m101\u001b[39m)\n",
      "\u001b[0;31mAttributeError\u001b[0m: 'list' object has no attribute 'find'"
     ]
    }
   ],
   "source": [
    "list1.find(101)"
   ]
  },
  {
   "cell_type": "code",
   "execution_count": 119,
   "id": "c5605e3f-a25b-4503-a327-3a4a99e55f00",
   "metadata": {},
   "outputs": [
    {
     "name": "stdout",
     "output_type": "stream",
     "text": [
      "<class 'tuple'>\n"
     ]
    }
   ],
   "source": [
    "a = (\"abc\",)\n",
    "print(type(a))"
   ]
  },
  {
   "cell_type": "code",
   "execution_count": 120,
   "id": "8cfc5489-f44b-42fd-886c-5595f6d1d459",
   "metadata": {},
   "outputs": [
    {
     "name": "stdout",
     "output_type": "stream",
     "text": [
      "30\n"
     ]
    }
   ],
   "source": [
    "a = 10\n",
    "b = 20\n",
    "c = (a+b)*10\n",
    "print(c)"
   ]
  },
  {
   "cell_type": "code",
   "execution_count": 122,
   "id": "939b2812-87a7-4ed3-9310-460e4d7e5cd4",
   "metadata": {},
   "outputs": [
    {
     "ename": "NameError",
     "evalue": "name 'a' is not defined",
     "output_type": "error",
     "traceback": [
      "\u001b[0;31m---------------------------------------------------------------------------\u001b[0m",
      "\u001b[0;31mNameError\u001b[0m                                 Traceback (most recent call last)",
      "Cell \u001b[0;32mIn[122], line 2\u001b[0m\n\u001b[1;32m      1\u001b[0m \u001b[38;5;28;01mdel\u001b[39;00m a\n\u001b[0;32m----> 2\u001b[0m \u001b[38;5;28mprint\u001b[39m(a)\n",
      "\u001b[0;31mNameError\u001b[0m: name 'a' is not defined"
     ]
    }
   ],
   "source": [
    "del a #free(ptr)\n",
    "print(a)"
   ]
  },
  {
   "cell_type": "code",
   "execution_count": 123,
   "id": "1bd97dfb-6361-442e-ae92-6c3d02cb03a0",
   "metadata": {},
   "outputs": [
    {
     "name": "stdout",
     "output_type": "stream",
     "text": [
      "dlrow olleH\n"
     ]
    }
   ],
   "source": [
    "\n",
    "\n",
    "#Find the given string is palindrome or not\n",
    "str1 = \"Hello world\"\n",
    "\n"
   ]
  },
  {
   "cell_type": "code",
   "execution_count": 124,
   "id": "e9cd22c2-e5c7-497d-950d-e635900ab452",
   "metadata": {},
   "outputs": [
    {
     "name": "stdout",
     "output_type": "stream",
     "text": [
      "H\n"
     ]
    }
   ],
   "source": [
    "str1 = \"Hello world\"\n",
    "#accessing\n",
    "print(str1[0])"
   ]
  },
  {
   "cell_type": "code",
   "execution_count": 131,
   "id": "00bb19e5-5396-48f0-a29a-613ac6699db1",
   "metadata": {},
   "outputs": [
    {
     "name": "stdout",
     "output_type": "stream",
     "text": [
      "Hello world\n",
      "HELLO WORLD\n"
     ]
    }
   ],
   "source": [
    "#Editing: String are immutable\n",
    "str1 = \"Hello world\"\n",
    "str2 = str1.upper()\n",
    "print(str1)\n",
    "print(str2)"
   ]
  },
  {
   "cell_type": "code",
   "execution_count": 130,
   "id": "8e91f7a0-2079-413e-88c7-d91d5501811d",
   "metadata": {},
   "outputs": [
    {
     "name": "stdout",
     "output_type": "stream",
     "text": [
      "[-1, 0, 3, 5, 5, 6]\n"
     ]
    }
   ],
   "source": [
    "list1 = [3,5,6,0,-1,5]\n",
    "list1.sort()\n",
    "print(list1)"
   ]
  },
  {
   "cell_type": "code",
   "execution_count": 133,
   "id": "1a7b07b1-96da-4c7f-a014-7b49e3733d2a",
   "metadata": {},
   "outputs": [
    {
     "name": "stdout",
     "output_type": "stream",
     "text": [
      "(0, 1, 4)\n"
     ]
    }
   ],
   "source": [
    "t1= (1,0,4)\n",
    "l1 = list(t1)\n",
    "l1.sort()\n",
    "t1 = tuple(l1)\n",
    "print(t1)"
   ]
  },
  {
   "cell_type": "code",
   "execution_count": 137,
   "id": "1131e594-0587-4c22-9536-241494bce0a2",
   "metadata": {},
   "outputs": [
    {
     "name": "stdout",
     "output_type": "stream",
     "text": [
      "The Hindu\n"
     ]
    }
   ],
   "source": [
    "#Editing: String are immutable\n",
    "str1 = \"the hindu\"\n",
    "str2 = str1.upper()\n",
    "str3 = str1.title()\n",
    "\n",
    "print(str3)\n",
    "\n",
    "\n"
   ]
  },
  {
   "cell_type": "code",
   "execution_count": 139,
   "id": "c37acaa4-8389-4f59-995d-ab7dd079c7f5",
   "metadata": {},
   "outputs": [
    {
     "name": "stdout",
     "output_type": "stream",
     "text": [
      "TheHindu\n"
     ]
    }
   ],
   "source": [
    "str1 = \"The\"\n",
    "str2 = \"Hindu\"\n",
    "str3 = str1+str2\n",
    "print(str3)\n",
    "\n"
   ]
  },
  {
   "cell_type": "code",
   "execution_count": 147,
   "id": "3003df22-e8f4-4e33-87e5-2d653266560d",
   "metadata": {},
   "outputs": [
    {
     "name": "stdout",
     "output_type": "stream",
     "text": [
      "The total cost of 1000kgs of item \n",
      "hello\n",
      "world\n",
      " is 1000\n",
      "The total cost of 10kgs of item \n",
      "hello\n",
      "world\n",
      " is 1000\n"
     ]
    }
   ],
   "source": [
    "item = '''\n",
    "hello\n",
    "world\n",
    "'''\n",
    "perkg = 100\n",
    "quantity = 10\n",
    "print(\"The total cost of {2}kgs of item {1} is {2}\".format(quantity, item, perkg*quantity))\n",
    "statement = f\"The total cost of {quantity}kgs of item {item} is {perkg*quantity}\"\n",
    "print(statement)"
   ]
  },
  {
   "cell_type": "code",
   "execution_count": 148,
   "id": "b902b998-2652-4ca2-bfb6-88539ba8f5a8",
   "metadata": {},
   "outputs": [
    {
     "name": "stdout",
     "output_type": "stream",
     "text": [
      "Hello \"kamal\" \n"
     ]
    }
   ],
   "source": [
    "statement = 'Hello \"kamal\" '\n",
    "print(statement)"
   ]
  },
  {
   "cell_type": "code",
   "execution_count": null,
   "id": "9d6bcf3a-eacc-48ac-8d4f-a39f1371457d",
   "metadata": {},
   "outputs": [],
   "source": [
    "item = '''\n",
    "hello\n",
    "world\n",
    "'''\n",
    "perkg = 99.998\n",
    "quantity = 10\n",
    "print(\"The total cost of {2}kgs of item {1} is {2}\".format(quantity, item, perkg*quantity))"
   ]
  }
 ],
 "metadata": {
  "kernelspec": {
   "display_name": "Python 3 (ipykernel)",
   "language": "python",
   "name": "python3"
  },
  "language_info": {
   "codemirror_mode": {
    "name": "ipython",
    "version": 3
   },
   "file_extension": ".py",
   "mimetype": "text/x-python",
   "name": "python",
   "nbconvert_exporter": "python",
   "pygments_lexer": "ipython3",
   "version": "3.12.7"
  }
 },
 "nbformat": 4,
 "nbformat_minor": 5
}
