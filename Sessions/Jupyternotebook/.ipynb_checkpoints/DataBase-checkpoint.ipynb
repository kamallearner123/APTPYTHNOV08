{
 "cells": [
  {
   "cell_type": "markdown",
   "id": "df50e5bf-1e7d-4552-a351-e87fe3349504",
   "metadata": {},
   "source": [
    "# Introduction:\n",
    "- In case of Amazon wants to store the data of its Customers and their details, it needs to depend on persistent Data Base Management\n",
    "- Way1: Simple store the data in .txt file and parse when required\n",
    "- Way2: Store the data using json format and parse\n",
    "- Way3: Using csv/Excel file? Try it\n",
    "- Final Way\n",
    "\n",
    "\n",
    "## Rererences:\n",
    "User URL: https://inloop.github.io/sqlite-viewer/ to parse .db file"
   ]
  },
  {
   "cell_type": "markdown",
   "id": "2b9d2301-4b41-450c-a67d-68ea68439278",
   "metadata": {},
   "source": [
    "# 1. Way1: Simple store the data in .txt file and parse when required"
   ]
  },
  {
   "cell_type": "code",
   "execution_count": null,
   "id": "b438b57c-0132-487f-8f7e-e86e5fe76e1f",
   "metadata": {},
   "outputs": [],
   "source": []
  },
  {
   "cell_type": "markdown",
   "id": "f7b5f627-5a2a-472c-8f9d-caa2a0fe72a8",
   "metadata": {},
   "source": [
    "# 2. Way2: Store the data using json format and parse"
   ]
  },
  {
   "cell_type": "code",
   "execution_count": null,
   "id": "e2a740df-b51f-4bd0-8bf4-940e7ce9fa03",
   "metadata": {},
   "outputs": [],
   "source": []
  },
  {
   "cell_type": "markdown",
   "id": "62fa1256-cecc-4968-bbbf-7c318a750f86",
   "metadata": {},
   "source": []
  },
  {
   "cell_type": "code",
   "execution_count": null,
   "id": "7c4d311b-7af9-4e61-8a58-bf80793615ce",
   "metadata": {},
   "outputs": [],
   "source": []
  },
  {
   "cell_type": "code",
   "execution_count": null,
   "id": "b105d122-2627-4b47-b774-e56dd40e93c7",
   "metadata": {},
   "outputs": [],
   "source": []
  },
  {
   "cell_type": "code",
   "execution_count": null,
   "id": "10151350-3437-420a-b5f4-a73f4e4172f9",
   "metadata": {},
   "outputs": [],
   "source": []
  },
  {
   "cell_type": "code",
   "execution_count": null,
   "id": "58c0c8c8-618a-4174-a2d4-f2512d29cdf5",
   "metadata": {},
   "outputs": [],
   "source": []
  },
  {
   "cell_type": "markdown",
   "id": "0ddfa26f-2004-4e93-a836-fb41efa59e40",
   "metadata": {},
   "source": [
    "# SQLite3 in Python\n",
    "\n",
    "- SQLite3 is a lightweight, serverless database engine. Python’s sqlite3 module provides a simple interface to work with SQLite databases.\n",
    "\n",
    "## 1. Creating a Database\n",
    "Steps:\n",
    "- Import the sqlite3 module.\n",
    "- Connect to a database file (creates one if it doesn’t exist).\n",
    "- Create a table using SQL.\n",
    "\n",
    "\n",
    "\n",
    "\n"
   ]
  },
  {
   "cell_type": "markdown",
   "id": "84963e60-6fd2-4c10-b9ab-e118b2485df8",
   "metadata": {},
   "source": [
    "```python\n",
    "\n",
    "import sqlite3\n",
    "\n",
    "# Connect to SQLite database (or create it)\n",
    "conn = sqlite3.connect('example.db')\n",
    "\n",
    "# Create a cursor object\n",
    "cursor = conn.cursor()\n",
    "\n",
    "# Create a table\n",
    "cursor.execute('''\n",
    "CREATE TABLE IF NOT EXISTS students (\n",
    "    id INTEGER PRIMARY KEY AUTOINCREMENT,\n",
    "    name TEXT NOT NULL,\n",
    "    age INTEGER,\n",
    "    grade TEXT\n",
    ")\n",
    "''')\n",
    "\n",
    "# Commit changes and close the connection\n",
    "conn.commit()\n",
    "conn.close()"
   ]
  },
  {
   "cell_type": "code",
   "execution_count": 31,
   "id": "5be674ee-253f-46f6-9d38-28eb02a45576",
   "metadata": {},
   "outputs": [
    {
     "name": "stdout",
     "output_type": "stream",
     "text": [
      "/Users/kamalmukiri/Documents/1.GitHub/Courses/APTPYTHNOV08/Sessions/Jupyternotebook\n",
      "Data in MENU table: [(1, 'Bajji', 10, 1), (2, 'Bajji', 10, 1)]\n"
     ]
    }
   ],
   "source": [
    "import sqlite3\n",
    "import os\n",
    "print(os.getcwd())\n",
    "# Creating a connection to data base\n",
    "conn = sqlite3.connect(\"Sample2.db\")\n",
    "cur = conn.cursor()\n",
    "cur.execute('''CREATE TABLE IF NOT EXISTS MENU3 (id INT  PRIMARY KEY, name TEXT, price INT, available INT) ''')\n",
    "#CREATE TABLE IF NOT EXISTS MENU\n",
    "menu_list = [    (1, \"Bajji\", 10, 1),\n",
    "             (2, \"Bajji\", 10, 1)\n",
    "]\n",
    "\n",
    "cur.executemany(\"insert or ignore into MENU3 values (?,?,?,?)\",menu_list)\n",
    "conn.commit()\n",
    "\n",
    "\n",
    "# Fetch and print data to verify\n",
    "cur.execute(\"SELECT * FROM MENU3\")\n",
    "rows = cur.fetchall()\n",
    "print(\"Data in MENU table:\", rows)\n",
    "\n",
    "\n",
    "conn.close()"
   ]
  },
  {
   "cell_type": "markdown",
   "id": "16f14ef8-bbb0-4e5b-8ecc-87e62d22dc25",
   "metadata": {},
   "source": [
    "## Basic Example"
   ]
  },
  {
   "cell_type": "code",
   "execution_count": 40,
   "id": "941f1fb5-6862-493c-9096-b4045a3102fd",
   "metadata": {},
   "outputs": [
    {
     "ename": "IntegrityError",
     "evalue": "UNIQUE constraint failed: users.age",
     "output_type": "error",
     "traceback": [
      "\u001b[0;31m---------------------------------------------------------------------------\u001b[0m",
      "\u001b[0;31mIntegrityError\u001b[0m                            Traceback (most recent call last)",
      "Cell \u001b[0;32mIn[40], line 21\u001b[0m\n\u001b[1;32m     12\u001b[0m cur\u001b[38;5;241m.\u001b[39mexecute(\u001b[38;5;124m'''\u001b[39m\n\u001b[1;32m     13\u001b[0m \u001b[38;5;124mCREATE TABLE IF NOT EXISTS users (\u001b[39m\n\u001b[1;32m     14\u001b[0m \u001b[38;5;124m    id INT ,\u001b[39m\n\u001b[0;32m   (...)\u001b[0m\n\u001b[1;32m     17\u001b[0m \u001b[38;5;124m)\u001b[39m\n\u001b[1;32m     18\u001b[0m \u001b[38;5;124m'''\u001b[39m)\n\u001b[1;32m     20\u001b[0m \u001b[38;5;66;03m# Insert data\u001b[39;00m\n\u001b[0;32m---> 21\u001b[0m \u001b[43mcur\u001b[49m\u001b[38;5;241;43m.\u001b[39;49m\u001b[43mexecute\u001b[49m\u001b[43m(\u001b[49m\u001b[38;5;124;43m'''\u001b[39;49m\n\u001b[1;32m     22\u001b[0m \u001b[38;5;124;43mINSERT INTO users (name, age)\u001b[39;49m\n\u001b[1;32m     23\u001b[0m \u001b[38;5;124;43mVALUES (\u001b[39;49m\u001b[38;5;124;43m'\u001b[39;49m\u001b[38;5;124;43mAlice\u001b[39;49m\u001b[38;5;124;43m'\u001b[39;49m\u001b[38;5;124;43m, 30)\u001b[39;49m\n\u001b[1;32m     24\u001b[0m \u001b[38;5;124;43m'''\u001b[39;49m\u001b[43m)\u001b[49m\n\u001b[1;32m     26\u001b[0m \u001b[38;5;66;03m# Commit changes\u001b[39;00m\n\u001b[1;32m     27\u001b[0m conn\u001b[38;5;241m.\u001b[39mcommit()\n",
      "\u001b[0;31mIntegrityError\u001b[0m: UNIQUE constraint failed: users.age"
     ]
    }
   ],
   "source": [
    "import sqlite3\n",
    "\n",
    "# Connect to a database (or create it if it doesn't exist)\n",
    "conn = sqlite3.connect('example.db')\n",
    "\n",
    "# Create a cursor object to execute SQL commands\n",
    "cur = conn.cursor()\n",
    "\n",
    "#cur.execute(\"drop table users\")\n",
    "\n",
    "# Create a table\n",
    "cur.execute('''\n",
    "CREATE TABLE IF NOT EXISTS users (\n",
    "    id INT ,\n",
    "    name TEXT,\n",
    "    age INT PRIMARY KEY \n",
    ")\n",
    "''')\n",
    "\n",
    "# Insert data\n",
    "cur.execute('''\n",
    "INSERT INTO users (name, age)\n",
    "VALUES ('Alice', 30)\n",
    "''')\n",
    "\n",
    "# Commit changes\n",
    "conn.commit()\n",
    "\n",
    "# Query the database\n",
    "cur.execute('SELECT * FROM users')\n",
    "rows = cur.fetchall()\n",
    "\n",
    "# Print the results\n",
    "for row in rows:\n",
    "    print(row)\n",
    "\n",
    "# Close the connection\n",
    "conn.close()\n"
   ]
  },
  {
   "cell_type": "code",
   "execution_count": null,
   "id": "5da5915a-8bb3-4709-8882-755416db5ef2",
   "metadata": {},
   "outputs": [],
   "source": []
  }
 ],
 "metadata": {
  "kernelspec": {
   "display_name": "Python 3 (ipykernel)",
   "language": "python",
   "name": "python3"
  },
  "language_info": {
   "codemirror_mode": {
    "name": "ipython",
    "version": 3
   },
   "file_extension": ".py",
   "mimetype": "text/x-python",
   "name": "python",
   "nbconvert_exporter": "python",
   "pygments_lexer": "ipython3",
   "version": "3.13.0"
  }
 },
 "nbformat": 4,
 "nbformat_minor": 5
}
