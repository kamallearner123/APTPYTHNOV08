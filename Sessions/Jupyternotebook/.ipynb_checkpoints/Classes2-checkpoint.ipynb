{
 "cells": [
  {
   "cell_type": "code",
   "execution_count": null,
   "id": "222acdc8-7c4e-4f9d-8049-a6c27b59df17",
   "metadata": {},
   "outputs": [],
   "source": [
    "'''\n",
    "Environment:\n",
    "1) Logs are distributed acrosss mulitple machines\n",
    "2) Logs are in .txt, .log\n",
    "\n",
    "\n",
    "Problem statement:\n",
    "Need to generate .csv file about \n",
    "- Test cases failure/succes\n",
    "- Analyse CPU stats/ Network stats/ device stats\n",
    "\n",
    "Cyber security:\n",
    "1) Analyse all sensitive components and add logging mechanism to these components.\n",
    "2) Anslyse the logs 24/7 and send motification if there is any abnormality to domain name.\n",
    "IDS components: Intrusion Detection Systems.\n",
    "\n",
    "'''\n",
    "\n"
   ]
  },
  {
   "cell_type": "code",
   "execution_count": 1,
   "id": "775ce195-701f-467b-aaa7-9ed775daa192",
   "metadata": {},
   "outputs": [
    {
     "data": {
      "text/plain": [
       "'\\n- File handling:\\n    - Batch processing\\n- Regular expressions\\n- Json files for metadata\\n- Classes\\n- Searching methods\\n'"
      ]
     },
     "execution_count": 1,
     "metadata": {},
     "output_type": "execute_result"
    }
   ],
   "source": [
    "# 1) Parse all lines where the following keywords are there:\n",
    "# Error, Fail, Retry, Connection fail, Code, Abnormal, Exception \n",
    "# 2) Keep all the filtered lines in another file\n",
    "# 3) File size can be GBs. Program can not consume more than 5MB\n",
    "# 4) Define a class:\n",
    "    # __init__ (server_details, docs)\n",
    "    # ParseKeywords([\"kwyword1\"]) # can be called mulitple times\n",
    "    # DumpResult(FileName) # With time+date, lines limited, Timesensitive\n",
    "    # ResetSearch()\n",
    "    # SendMetaDataToServer()\n",
    "\n",
    "# Python Topics\n",
    "'''\n",
    "- File handling:\n",
    "    - Batch processing\n",
    "- Regular expressions\n",
    "- Json files for metadata\n",
    "- Classes\n",
    "- Searching methods\n",
    "'''\n"
   ]
  },
  {
   "cell_type": "code",
   "execution_count": 12,
   "id": "c91f8bdf-1a7f-4d88-8b35-220cf0669013",
   "metadata": {},
   "outputs": [
    {
     "name": "stdout",
     "output_type": "stream",
     "text": [
      "(<class 'int'>, <class 'object'>)\n"
     ]
    }
   ],
   "source": [
    "l1  = 12\n",
    "print(l1.__class__.__mro__)\n"
   ]
  },
  {
   "cell_type": "code",
   "execution_count": 54,
   "id": "6f1c58b2-caf2-4a6b-a939-63b809ee4b5b",
   "metadata": {},
   "outputs": [
    {
     "name": "stdout",
     "output_type": "stream",
     "text": [
      "Calling constructor\n",
      "In constructor:  Apple\n",
      "In constructor:  own\n",
      "10-12-2024__\n",
      "In priovate method\n"
     ]
    },
    {
     "data": {
      "text/plain": [
       "'10-12-2024__'"
      ]
     },
     "execution_count": 54,
     "metadata": {},
     "output_type": "execute_result"
    }
   ],
   "source": [
    "'''\n",
    "Attributes:\n",
    "    + Name\n",
    "    + Color\n",
    "    + MnDate\n",
    "    + ExDate\n",
    "    - Vendor\n",
    "'''\n",
    "\n",
    "\n",
    "\n",
    "class Fruit:\n",
    "    no_of_fruits = 0 # Class attribute\n",
    "    overall_cost = 0\n",
    "    \n",
    "    # Constructor\n",
    "    def __init__(self, Name, Color, MnDate, ExDate = None, Vendor = \"own\", Price=1):\n",
    "        print(\"Calling constructor\")\n",
    "        self.Name = Name\n",
    "        self.Color = Color\n",
    "        self.MnDate = MnDate\n",
    "        self.Price = Price\n",
    "        if ExDate == None:\n",
    "            self.__ExDate = self.MnDate+\"__\"\n",
    "        else:\n",
    "            self.__ExDate = ExDate\n",
    "        self.Vendor = Vendor\n",
    "\n",
    "        print(\"In constructor: \", self.Name)\n",
    "        print(\"In constructor: \", self.Vendor)\n",
    "\n",
    "        self.__class__.no_of_fruits += 1 # Accessing class attribute\n",
    "        self.__class__.overall_cost += self.Price # Accessing class attribute\n",
    "\n",
    "        self._protected = 10\n",
    "\n",
    "    def get_ExDate(self):\n",
    "        print(self.__ExDate)\n",
    "        self.__PrivateMethod()\n",
    "        return self.__ExDate\n",
    "\n",
    "    def __add__(self, other):\n",
    "        print(\"This oprtion is not supported in Fruit\")\n",
    "              \n",
    "    def __PrivateMethod(self):\n",
    "        print(\"In priovate method\")\n",
    "\n",
    "    @classmethod\n",
    "    def print_overall_fruits_stats(cls):\n",
    "        print(\"Number of fruits imported = \", cls.no_of_fruits)\n",
    "        print(\"Overall cost = \", cls.overall_cost)\n",
    "    \n",
    "    # Destructor\n",
    "    def __del__(self): \n",
    "        print(\"Desctructor is called!!!\")\n",
    "\n",
    "    #Static method\n",
    "    @staticmethod\n",
    "    def static_method():\n",
    "        print(\"In static method\")\n",
    "        \n",
    "\n",
    "f1 = Fruit(\"Apple\", \"Red\", \"10-12-2024\")\n",
    "# f1.__PrivateMethod(): ERROR: Can not call provate methods using objects\n",
    "f1.get_ExDate()\n",
    "\n",
    "# f2 = Fruit(\"Apple\", \"Red\", \"10-12-2024\")\n",
    "\n",
    "# # f1.__ExDate: Trying pvt variables\n",
    "# f1.get_ExDate()\n",
    "# # Using Instance: Accessing class attribute\n",
    "# print(\"Number of fruites created\", f1.no_of_fruits)\n",
    "# # Using Class name: Accessing class attribute\n",
    "# print(\"Number of fruites created\", Fruit.no_of_fruits)\n",
    "# # Calling class method\n",
    "# Fruit.print_overall_fruits_stats()\n",
    "\n",
    "\n",
    "# # Calling static methods\n",
    "# Fruit.static_method()\n",
    "# f1.static_method()"
   ]
  },
  {
   "cell_type": "code",
   "execution_count": 9,
   "id": "10b89e21-b4ec-474e-8281-3a18c1c0888c",
   "metadata": {},
   "outputs": [
    {
     "name": "stdout",
     "output_type": "stream",
     "text": [
      "Constructor\n",
      "\n"
     ]
    }
   ],
   "source": [
    "'''\n",
    "Class name: Fruit\n",
    "Atributes: Name, color, exp date, arv date\n",
    "Methods: store, sell, dump\n",
    "'''\n",
    "\n",
    "class Fruit:\n",
    "    def __init__(self, name, color, arv, exp):\n",
    "        print(\"Constructor\")\n",
    "        self.name = name\n",
    "        self.color = color\n",
    "        self.exp = exp\n",
    "        self.arv = arv\n",
    "    \n",
    "    def get_details(self):\n",
    "         print(\"\")\n",
    "\n",
    "f1 = Fruit(\"apple\", \"red\", 12122024, 12012025) # creating an instance of fruit\n",
    "f1.get_details()\n",
    "\n",
    "\n",
    "# l1 = list()\n",
    "# l1.append(100)\n"
   ]
  },
  {
   "cell_type": "code",
   "execution_count": 34,
   "id": "a9483e1a-2686-4341-b228-18727bc6e263",
   "metadata": {},
   "outputs": [
    {
     "name": "stdout",
     "output_type": "stream",
     "text": [
      "Calling constructor\n",
      "In constructor:  Banana\n",
      "In constructor:  123gardens\n",
      "Desctructor is called!!!\n"
     ]
    }
   ],
   "source": [
    "\n",
    "\n",
    "def create_fruit_boject(**keywords):\n",
    "    d1 = {\n",
    "        \"Name\": \"Apple\",\n",
    "        \"Color\": \"Red\",\n",
    "        \"MnDate\": \"1-1-2021\",\n",
    "        \"ExDate\": \"1-1-2022\",\n",
    "        \"Vendor\": \"own\"\n",
    "    }\n",
    "\n",
    "    for key, val in keywords.items():\n",
    "        d1[key] = val\n",
    "\n",
    "    return Fruit(d1[\"Name\"], d1[\"Color\"], d1[\"MnDate\"], d1[\"ExDate\"], d1[\"Vendor\"])\n",
    "\n",
    "f1 = create_fruit_boject(Color=\"Red\", Name=\"Banana\", Vendor=\"123gardens\")\n",
    "\n"
   ]
  },
  {
   "cell_type": "code",
   "execution_count": 57,
   "id": "990a833e-8c58-45f3-ba33-2eda7ca2bc9a",
   "metadata": {},
   "outputs": [
    {
     "name": "stdout",
     "output_type": "stream",
     "text": [
      "[1, 2, 3, 4, 5, 6]\n",
      "['__add__', '__class__', '__class_getitem__', '__contains__', '__delattr__', '__delitem__', '__dir__', '__doc__', '__eq__', '__format__', '__ge__', '__getattribute__', '__getitem__', '__getstate__', '__gt__', '__hash__', '__iadd__', '__imul__', '__init__', '__init_subclass__', '__iter__', '__le__', '__len__', '__lt__', '__mul__', '__ne__', '__new__', '__reduce__', '__reduce_ex__', '__repr__', '__reversed__', '__rmul__', '__setattr__', '__setitem__', '__sizeof__', '__str__', '__subclasshook__', 'append', 'clear', 'copy', 'count', 'extend', 'index', 'insert', 'pop', 'remove', 'reverse', 'sort']\n"
     ]
    }
   ],
   "source": [
    "l1 = [1,2,3]\n",
    "l2 = [4,5,6]\n",
    "l3 = l1+l2 # l1.__add__(l2)\n",
    "print(l3)\n",
    "print(dir(l1))"
   ]
  },
  {
   "cell_type": "code",
   "execution_count": 13,
   "id": "d4f2cee0-7fc5-481c-af49-5358de0317c9",
   "metadata": {},
   "outputs": [
    {
     "ename": "TypeError",
     "evalue": "unsupported operand type(s) for +: 'Complex' and 'Complex'",
     "output_type": "error",
     "traceback": [
      "\u001b[0;31m---------------------------------------------------------------------------\u001b[0m",
      "\u001b[0;31mTypeError\u001b[0m                                 Traceback (most recent call last)",
      "Cell \u001b[0;32mIn[13], line 22\u001b[0m\n\u001b[1;32m     20\u001b[0m c1 \u001b[38;5;241m=\u001b[39m Complex()\n\u001b[1;32m     21\u001b[0m c2 \u001b[38;5;241m=\u001b[39m Complex(\u001b[38;5;241m1\u001b[39m,\u001b[38;5;241m1\u001b[39m)\n\u001b[0;32m---> 22\u001b[0m c3 \u001b[38;5;241m=\u001b[39m \u001b[43mc1\u001b[49m\u001b[38;5;241;43m+\u001b[39;49m\u001b[43mc2\u001b[49m \u001b[38;5;66;03m# c1.__add__(c2)\u001b[39;00m\n",
      "\u001b[0;31mTypeError\u001b[0m: unsupported operand type(s) for +: 'Complex' and 'Complex'"
     ]
    }
   ],
   "source": [
    "class Complex:\n",
    "    '''\n",
    "    Complex: To deal with complex numbers in maths\n",
    "    How to use:\n",
    "    References:\n",
    "    '''\n",
    "    def __init__(self, im = 0, real = 0):\n",
    "        self.im = im\n",
    "        self.real = real\n",
    "    # Operator overloading function for +\n",
    "    def __add__(self, arg1):\n",
    "        real = self.real + arg1.real\n",
    "        im = self.im + arg1.im\n",
    "        result = Complex(im, real)\n",
    "        return result\n",
    "\n",
    "    def __str__(self):\n",
    "        return f\"Real: {self.real}, Imaginary: {self.im}\"\n",
    "                \n",
    "c1 = Complex()\n",
    "c2 = Complex(1,1)\n",
    "c3 = c1+c2 # c1.__add__(c2)\n",
    "\n"
   ]
  },
  {
   "cell_type": "code",
   "execution_count": 83,
   "id": "4d0c6e80-d49e-4050-a807-0c81640568a7",
   "metadata": {},
   "outputs": [
    {
     "name": "stdout",
     "output_type": "stream",
     "text": [
      "['__class__', '__delattr__', '__dir__', '__doc__', '__eq__', '__format__', '__ge__', '__getattribute__', '__getstate__', '__gt__', '__hash__', '__init__', '__init_subclass__', '__le__', '__lt__', '__ne__', '__new__', '__reduce__', '__reduce_ex__', '__repr__', '__setattr__', '__sizeof__', '__str__', '__subclasshook__']\n"
     ]
    }
   ],
   "source": [
    "print(dir(object))"
   ]
  },
  {
   "cell_type": "code",
   "execution_count": 84,
   "id": "d03baa50-ea4a-4684-8b19-89352a187806",
   "metadata": {},
   "outputs": [
    {
     "name": "stdout",
     "output_type": "stream",
     "text": [
      "Help on class Complex in module __main__:\n",
      "\n",
      "class Complex(builtins.object)\n",
      " |  Complex(im=0, real=0)\n",
      " |\n",
      " |  Complex: To deal with complex numbers in maths\n",
      " |  How to use:\n",
      " |  References:\n",
      " |\n",
      " |  Methods defined here:\n",
      " |\n",
      " |  __add__(self, arg1)\n",
      " |      # Operator overloading function for +\n",
      " |\n",
      " |  __init__(self, im=0, real=0)\n",
      " |      Initialize self.  See help(type(self)) for accurate signature.\n",
      " |\n",
      " |  __str__(self)\n",
      " |      Return str(self).\n",
      " |\n",
      " |  ----------------------------------------------------------------------\n",
      " |  Data descriptors defined here:\n",
      " |\n",
      " |  __dict__\n",
      " |      dictionary for instance variables\n",
      " |\n",
      " |  __weakref__\n",
      " |      list of weak references to the object\n",
      "\n",
      "None\n"
     ]
    }
   ],
   "source": [
    "print(help(Complex))"
   ]
  },
  {
   "cell_type": "code",
   "execution_count": 97,
   "id": "be8096fc-c1d5-462f-ba7c-133bf78fa012",
   "metadata": {},
   "outputs": [
    {
     "name": "stdout",
     "output_type": "stream",
     "text": [
      "Help on function fun in module __main__:\n",
      "\n",
      "fun()\n",
      "    fun: to deal with some opens in maths\n",
      "\n",
      "None\n"
     ]
    }
   ],
   "source": [
    "def fun():\n",
    "    '''\n",
    "    fun: to deal with some opens in maths\n",
    "    '''\n",
    "    pass\n",
    "\n",
    "print(help(fun))"
   ]
  },
  {
   "cell_type": "markdown",
   "id": "880fc185-1d30-430f-8500-75dff8c20196",
   "metadata": {},
   "source": [
    "# Date: 11-01-2025\n",
    "# Topics: \n",
    "- 1) Design and develop MQTT broker class"
   ]
  },
  {
   "cell_type": "code",
   "execution_count": 10,
   "id": "3a9c8e13-20c1-4409-b617-2c8945b13e6c",
   "metadata": {},
   "outputs": [
    {
     "name": "stdout",
     "output_type": "stream",
     "text": [
      "[1, 2, 3, 4, 5, 6, 7]\n"
     ]
    }
   ],
   "source": [
    "l1 = [1,2,3]\n",
    "l2 = [4,5,6,7]\n",
    "l3 = l1+l2 # __add__\n",
    "'''\n",
    "def __add__(self, other):\n",
    "    result = self.list.copy()\n",
    "    for i in other:\n",
    "        result.list_element.append(i)\n",
    "    return result\n",
    "'''\n",
    "print(l3)"
   ]
  },
  {
   "cell_type": "code",
   "execution_count": 12,
   "id": "11f0b9ba-ba5c-450d-b1c5-da1ed8910f81",
   "metadata": {},
   "outputs": [
    {
     "name": "stdout",
     "output_type": "stream",
     "text": [
      "[1, 2, 3, 4, 5, 6, 7, 4, 5, 6, 7]\n"
     ]
    }
   ],
   "source": [
    "l1.extend(l2)\n",
    "print(l1)"
   ]
  },
  {
   "cell_type": "code",
   "execution_count": 22,
   "id": "e20c861d-27b7-4739-8cb7-b224b40616f1",
   "metadata": {},
   "outputs": [
    {
     "name": "stdout",
     "output_type": "stream",
     "text": [
      "Going to get IP address for URL and port number\n",
      "IP is accepted 10.1.1.1\n",
      "Going to connect to server with port: 12345\n",
      "sending the request\n",
      "HTPP: response: ____\n",
      "10.1.1.1\n",
      "12345\n"
     ]
    }
   ],
   "source": [
    "# Inheritance: Multi-level\n",
    "\n",
    "#TCP/IP\n",
    "class IP:\n",
    "    def __init__(self, ip):\n",
    "        self.__ip = ip\n",
    "        print(\"IP is accepted\", ip)\n",
    "        \n",
    "    \n",
    "class TCP (IP):\n",
    "    def __init__(self, ip, port):\n",
    "        super().__init__(ip)\n",
    "        self.__port = port\n",
    "        print(\"Going to connect to server with port:\", port)\n",
    "    \n",
    "class HTTP (TCP):\n",
    "    def __init__(self, address):\n",
    "        self.url = address\n",
    "        print(\"Going to get IP address for URL and port number\")\n",
    "        super().__init__(ip=\"10.1.1.1\", port=12345)\n",
    "        self.__send_request(\"GET: /path/\")\n",
    "\n",
    "    def __send_request(self, message): # private\n",
    "        print(\"sending the request\")\n",
    "        # Receive the resp\n",
    "        print(\"HTPP: response: ____\")\n",
    "\n",
    "# User\n",
    "page1 = HTTP(\"www.google.com\")\n",
    "print(page1.ip)\n",
    "print(page1.port)\n"
   ]
  },
  {
   "cell_type": "code",
   "execution_count": null,
   "id": "8e6ff10a-d86e-4583-a86a-fd985231b173",
   "metadata": {},
   "outputs": [],
   "source": []
  }
 ],
 "metadata": {
  "kernelspec": {
   "display_name": "Python (playground)",
   "language": "python",
   "name": "myenv"
  },
  "language_info": {
   "codemirror_mode": {
    "name": "ipython",
    "version": 3
   },
   "file_extension": ".py",
   "mimetype": "text/x-python",
   "name": "python",
   "nbconvert_exporter": "python",
   "pygments_lexer": "ipython3",
   "version": "3.12.7"
  }
 },
 "nbformat": 4,
 "nbformat_minor": 5
}
