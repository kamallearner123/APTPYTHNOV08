{
 "cells": [
  {
   "cell_type": "code",
   "execution_count": 1,
   "id": "f8276361-c613-43dc-b76c-e6df0df2757e",
   "metadata": {},
   "outputs": [
    {
     "name": "stdout",
     "output_type": "stream",
     "text": [
      "Collecting kafka\n",
      "  Downloading kafka-1.3.5-py2.py3-none-any.whl.metadata (6.9 kB)\n",
      "Downloading kafka-1.3.5-py2.py3-none-any.whl (207 kB)\n",
      "Installing collected packages: kafka\n",
      "Successfully installed kafka-1.3.5\n"
     ]
    }
   ],
   "source": [
    "!pip install kafka"
   ]
  },
  {
   "cell_type": "code",
   "execution_count": 1,
   "id": "1713a1cc-231b-4a92-921d-3589be3406c8",
   "metadata": {},
   "outputs": [
    {
     "ename": "ModuleNotFoundError",
     "evalue": "No module named 'kafka'",
     "output_type": "error",
     "traceback": [
      "\u001b[0;31m---------------------------------------------------------------------------\u001b[0m",
      "\u001b[0;31mModuleNotFoundError\u001b[0m                       Traceback (most recent call last)",
      "Cell \u001b[0;32mIn[1], line 2\u001b[0m\n\u001b[1;32m      1\u001b[0m \u001b[38;5;66;03m# Producer\u001b[39;00m\n\u001b[0;32m----> 2\u001b[0m \u001b[38;5;28;01mfrom\u001b[39;00m \u001b[38;5;21;01mkafka\u001b[39;00m \u001b[38;5;28;01mimport\u001b[39;00m KafkaProducer\n\u001b[1;32m      3\u001b[0m \u001b[38;5;28;01mimport\u001b[39;00m \u001b[38;5;21;01mjson\u001b[39;00m\n\u001b[1;32m      5\u001b[0m \u001b[38;5;66;03m# Initialize Kafka Producer\u001b[39;00m\n",
      "\u001b[0;31mModuleNotFoundError\u001b[0m: No module named 'kafka'"
     ]
    }
   ],
   "source": [
    "# Producer\n",
    "from kafka import KafkaProducer\n",
    "import json\n",
    "\n",
    "# Initialize Kafka Producer\n",
    "producer = KafkaProducer(\n",
    "    bootstrap_servers=['localhost:9092'],  # Kafka broker address\n",
    "    value_serializer=lambda v: json.dumps(v).encode('utf-8')  # Serialize data to JSON\n",
    ")\n",
    "\n",
    "# Produce messages to a topic\n",
    "for i in range(10):\n",
    "    message = {'message_number': i}\n",
    "    producer.send('test-topic', value=message)\n",
    "    print(f\"Sent: {message}\")\n",
    "\n",
    "# Close the producer\n",
    "producer.close()\n"
   ]
  },
  {
   "cell_type": "code",
   "execution_count": null,
   "id": "c2422c2d-b1f3-4854-84f6-f2f24ef7944f",
   "metadata": {},
   "outputs": [],
   "source": [
    "# Consumer\n",
    "from kafka import KafkaConsumer\n",
    "import json\n",
    "\n",
    "# Initialize Kafka Consumer\n",
    "consumer = KafkaConsumer(\n",
    "    'test-topic',  # Topic name\n",
    "    bootstrap_servers=['localhost:9092'],  # Kafka broker address\n",
    "    auto_offset_reset='earliest',  # Start from the beginning\n",
    "    enable_auto_commit=True,  # Automatically commit offsets\n",
    "    group_id='test-group',  # Consumer group ID\n",
    "    value_deserializer=lambda v: json.loads(v.decode('utf-8'))  # Deserialize JSON\n",
    ")\n",
    "\n",
    "# Consume messages\n",
    "print(\"Listening for messages...\")\n",
    "for message in consumer:\n",
    "    print(f\"Received: {message.value}\")\n",
    "\n"
   ]
  },
  {
   "cell_type": "markdown",
   "id": "230ebc0c-85b1-48c4-9484-0125a0ebc3bd",
   "metadata": {},
   "source": [
    "Install Kafka and Start Kafka Broker:\n",
    "\n",
    "1) Download Kafka from Apache Kafka Downloads.\n",
    "Start ZooKeeper:\n",
    "bin/zookeeper-server-start.sh config/zookeeper.properties\n",
    "\n",
    "\n",
    "2) Start Kafka Broker:\n",
    "\n",
    "bin/kafka-server-start.sh config/server.properties\n",
    "Install Required Python Library:\n",
    "\n",
    "3) Install kafka-python:\n",
    "pip install kafka-python\n"
   ]
  },
  {
   "cell_type": "code",
   "execution_count": 4,
   "id": "37c4b4a4-1711-4995-9883-0bab82bc31c6",
   "metadata": {},
   "outputs": [
    {
     "name": "stdout",
     "output_type": "stream",
     "text": [
      "Collecting kafka-python\n",
      "  Downloading kafka_python-2.0.2-py2.py3-none-any.whl.metadata (7.8 kB)\n",
      "Downloading kafka_python-2.0.2-py2.py3-none-any.whl (246 kB)\n",
      "Installing collected packages: kafka-python\n",
      "Successfully installed kafka-python-2.0.2\n"
     ]
    }
   ],
   "source": [
    "!pip install kafka-python\n"
   ]
  },
  {
   "cell_type": "code",
   "execution_count": null,
   "id": "bb494176-9eb6-4dd0-919b-91efb723bf2a",
   "metadata": {},
   "outputs": [],
   "source": []
  }
 ],
 "metadata": {
  "kernelspec": {
   "display_name": "Python (playground)",
   "language": "python",
   "name": "myenv"
  },
  "language_info": {
   "codemirror_mode": {
    "name": "ipython",
    "version": 3
   },
   "file_extension": ".py",
   "mimetype": "text/x-python",
   "name": "python",
   "nbconvert_exporter": "python",
   "pygments_lexer": "ipython3",
   "version": "3.12.7"
  }
 },
 "nbformat": 4,
 "nbformat_minor": 5
}
