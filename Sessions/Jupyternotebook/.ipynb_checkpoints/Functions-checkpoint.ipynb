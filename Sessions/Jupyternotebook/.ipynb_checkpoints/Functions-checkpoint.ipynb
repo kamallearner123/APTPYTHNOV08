{
 "cells": [
  {
   "cell_type": "code",
   "execution_count": 3,
   "id": "8a35ae8c-0262-418b-aa59-4706d6c0c338",
   "metadata": {},
   "outputs": [
    {
     "name": "stdout",
     "output_type": "stream",
     "text": [
      "Line1: Hello world!!!\n",
      "Line2: Hello world!!!\n",
      "Line3: Hello world!!!\n",
      "Line4: Hello world!!!\n",
      "Line5: Hello world!!!\n"
     ]
    }
   ],
   "source": [
    "# Open file, read file\n",
    "fd = open(\"data/File1.txt\") # Default mode read\n",
    "data = fd.read() # Bytes\n",
    "print(data)\n",
    "fd.close()\n",
    "\n"
   ]
  },
  {
   "cell_type": "code",
   "execution_count": 4,
   "id": "4572fbbd-1394-4bb2-a4f0-623cc3a52985",
   "metadata": {},
   "outputs": [
    {
     "name": "stdout",
     "output_type": "stream",
     "text": [
      "Line1: Hello world!!!\n",
      "Line2: Hello world!!!\n",
      "Line3: Hello world!!!\n",
      "Line4: Hello world!!!\n",
      "Line5: Hello world!!!\n",
      "Exit\n"
     ]
    }
   ],
   "source": [
    "with open(\"data/File1.txt\") as fd:# Default mode read\n",
    "    data = fd.read() # Bytes\n",
    "    print(data)\n",
    "\n",
    "print(\"Exit\")\n"
   ]
  },
  {
   "cell_type": "code",
   "execution_count": null,
   "id": "3678534a-3766-4ef2-96e3-5b845d601158",
   "metadata": {},
   "outputs": [],
   "source": []
  }
 ],
 "metadata": {
  "kernelspec": {
   "display_name": "Python 3 (ipykernel)",
   "language": "python",
   "name": "python3"
  },
  "language_info": {
   "codemirror_mode": {
    "name": "ipython",
    "version": 3
   },
   "file_extension": ".py",
   "mimetype": "text/x-python",
   "name": "python",
   "nbconvert_exporter": "python",
   "pygments_lexer": "ipython3",
   "version": "3.12.7"
  }
 },
 "nbformat": 4,
 "nbformat_minor": 5
}
