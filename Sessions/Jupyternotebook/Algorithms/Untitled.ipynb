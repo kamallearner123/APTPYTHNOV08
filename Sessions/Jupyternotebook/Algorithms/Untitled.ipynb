{
 "cells": [
  {
   "cell_type": "code",
   "execution_count": 26,
   "id": "a89feca3-3d92-42b3-9397-6cc9de90a831",
   "metadata": {},
   "outputs": [
    {
     "name": "stdout",
     "output_type": "stream",
     "text": [
      "Current node = 100, neighbours = {200: 4, 300: 3, 400: 4, 500: 5}\n",
      "100\n",
      "dict_keys([200, 300, 400, 500])\n",
      "300\n",
      "[200, 400, 500]\n",
      "400\n",
      "[200, 500]\n",
      "500\n",
      "[200]\n",
      "[100, 300, 400, 500, 200] 12\n",
      "Current node = 200, neighbours = {100: 4, 300: 4, 400: 5, 500: 6}\n",
      "200\n",
      "dict_keys([100, 300, 400, 500])\n",
      "300\n",
      "[100, 400, 500]\n",
      "400\n",
      "[100, 500]\n",
      "500\n",
      "[100]\n",
      "[200, 300, 400, 500, 100] 12\n",
      "Current node = 300, neighbours = {100: 3, 200: 4, 400: 1, 500: 3}\n",
      "300\n",
      "dict_keys([100, 200, 400, 500])\n",
      "400\n",
      "[100, 200, 500]\n",
      "500\n",
      "[100, 200]\n",
      "100\n",
      "[200]\n",
      "[300, 400, 500, 100, 200] 12\n",
      "Current node = 400, neighbours = {100: 4, 200: 5, 300: 1, 500: 2}\n",
      "400\n",
      "dict_keys([100, 200, 300, 500])\n",
      "300\n",
      "[100, 200, 500]\n",
      "500\n",
      "[100, 200]\n",
      "100\n",
      "[200]\n",
      "[400, 300, 500, 100, 200] 13\n",
      "Current node = 500, neighbours = {100: 5, 200: 6, 300: 3, 400: 2}\n",
      "500\n",
      "dict_keys([100, 200, 300, 400])\n",
      "400\n",
      "[100, 200, 300]\n",
      "300\n",
      "[100, 200]\n",
      "100\n",
      "[200]\n",
      "[500, 400, 300, 100, 200] 10\n"
     ]
    }
   ],
   "source": [
    "# Travel sales person algorithm\n",
    "\n",
    "from functools import reduce\n",
    "\n",
    "\n",
    "nodes = { 100: {200:4, 300:3, 400:4, 500:5},\n",
    "    200: {100:4, 300:4, 400:5, 500:6},\n",
    "    300: {100:3, 200:4, 400:1, 500:3},\n",
    "    400: {100:4, 200:5, 300:1, 500:2},\n",
    "    500: {100:5, 200:6, 300:3, 400:2}\n",
    "}\n",
    "\n",
    "\n",
    "total_no_of_nodes = len(nodes.keys())\n",
    "\n",
    "# 1 Take list of min path details\n",
    "min_paths = [] # {node:100, path:[100, 300, 400, 500, 200], dis:10}\n",
    "\n",
    "# 2 Choose a node and find min path\n",
    "for node, neighbours in nodes.items(): # n Times\n",
    "    print(\"Current node = {}, neighbours = {}\".format(node, neighbours))\n",
    "    curr_node = node # 100\n",
    "    curr_path = [node] # 100 ->\n",
    "    path_cost = 0\n",
    "    surr = neighbours.keys() # 200,300,400, 500\n",
    "\n",
    "    while len(curr_path) < total_no_of_nodes: #n times\n",
    "        print(curr_node)\n",
    "        print(surr)\n",
    "        nearest = reduce(lambda x,y: x if nodes[curr_node][x] < nodes[curr_node][y] else y, surr) # 300\n",
    "        path_cost += nodes[curr_node][nearest] # 100 -> 300\n",
    "        surr = [] # Get neightbours list of 300 except nodes which are already explored\n",
    "        for i in nodes[nearest]:\n",
    "            if i not in curr_path:\n",
    "                surr.append(i)\n",
    "        curr_node = nearest\n",
    "        curr_path.append(nearest)\n",
    "\n",
    "    print(curr_path, path_cost)\n",
    "\n",
    "# 100 Find out shortest path among all min-paths"
   ]
  },
  {
   "cell_type": "code",
   "execution_count": 27,
   "id": "8c9bc69c-cb8d-474c-b81e-d36a951bbb54",
   "metadata": {},
   "outputs": [
    {
     "name": "stdout",
     "output_type": "stream",
     "text": [
      "Requirement already satisfied: networkx in /opt/anaconda3/lib/python3.12/site-packages (3.3)\n",
      "Requirement already satisfied: matplotlib in /opt/anaconda3/lib/python3.12/site-packages (3.9.2)\n",
      "Requirement already satisfied: contourpy>=1.0.1 in /opt/anaconda3/lib/python3.12/site-packages (from matplotlib) (1.2.0)\n",
      "Requirement already satisfied: cycler>=0.10 in /opt/anaconda3/lib/python3.12/site-packages (from matplotlib) (0.11.0)\n",
      "Requirement already satisfied: fonttools>=4.22.0 in /opt/anaconda3/lib/python3.12/site-packages (from matplotlib) (4.51.0)\n",
      "Requirement already satisfied: kiwisolver>=1.3.1 in /opt/anaconda3/lib/python3.12/site-packages (from matplotlib) (1.4.4)\n",
      "Requirement already satisfied: numpy>=1.23 in /opt/anaconda3/lib/python3.12/site-packages (from matplotlib) (1.26.4)\n",
      "Requirement already satisfied: packaging>=20.0 in /opt/anaconda3/lib/python3.12/site-packages (from matplotlib) (24.1)\n",
      "Requirement already satisfied: pillow>=8 in /opt/anaconda3/lib/python3.12/site-packages (from matplotlib) (10.4.0)\n",
      "Requirement already satisfied: pyparsing>=2.3.1 in /opt/anaconda3/lib/python3.12/site-packages (from matplotlib) (3.1.2)\n",
      "Requirement already satisfied: python-dateutil>=2.7 in /opt/anaconda3/lib/python3.12/site-packages (from matplotlib) (2.9.0.post0)\n",
      "Requirement already satisfied: six>=1.5 in /opt/anaconda3/lib/python3.12/site-packages (from python-dateutil>=2.7->matplotlib) (1.16.0)\n"
     ]
    }
   ],
   "source": [
    "!pip install networkx matplotlib"
   ]
  },
  {
   "cell_type": "code",
   "execution_count": 31,
   "id": "495d4fa5-923a-4c01-b816-fbeedbcc4742",
   "metadata": {},
   "outputs": [
    {
     "name": "stdout",
     "output_type": "stream",
     "text": [
      "[1, 2, 9, 4, 25, 6, 49, 8, 81, 10, 121, 12, 169, 14, 225, 16, 289, 18, 361, 20, 441, 22, 529, 24, 625, 26, 729, 28, 841, 30, 961, 32, 1089, 34, 1225, 36, 1369, 38, 1521, 40, 1681, 42, 1849, 44, 2025, 46, 2209, 48, 2401, 50, 2601, 52, 2809, 54, 3025, 56, 3249, 58, 3481, 60, 3721, 62, 3969, 64, 4225, 66, 4489, 68, 4761, 70, 5041, 72, 5329, 74, 5625, 76, 5929, 78, 6241, 80, 6561, 82, 6889, 84, 7225, 86, 7569, 88, 7921, 90, 8281, 92, 8649, 94, 9025, 96, 9409, 98, 9801]\n",
      "[6, 12, 18, 24, 30, 36, 42, 48, 54, 60, 66, 72, 78, 84, 90, 96]\n",
      "816\n"
     ]
    }
   ],
   "source": [
    "l1 = list(map(lambda x: x**2 if x%2!=0 else x, range(1,100)))\n",
    "print(l1)\n",
    "\n",
    "l2 = list(filter(lambda x: x%3==0 and x%6==0, range(1,100)))\n",
    "print(l2)\n",
    "\n",
    "from functools import reduce\n",
    "result = reduce(lambda x,y: x+y, l2)\n",
    "print(result)"
   ]
  },
  {
   "cell_type": "code",
   "execution_count": null,
   "id": "81814bd1-6783-4ad7-a3b9-cd35ee142297",
   "metadata": {},
   "outputs": [],
   "source": []
  }
 ],
 "metadata": {
  "kernelspec": {
   "display_name": "Python 3 (ipykernel)",
   "language": "python",
   "name": "python3"
  },
  "language_info": {
   "codemirror_mode": {
    "name": "ipython",
    "version": 3
   },
   "file_extension": ".py",
   "mimetype": "text/x-python",
   "name": "python",
   "nbconvert_exporter": "python",
   "pygments_lexer": "ipython3",
   "version": "3.12.7"
  }
 },
 "nbformat": 4,
 "nbformat_minor": 5
}
