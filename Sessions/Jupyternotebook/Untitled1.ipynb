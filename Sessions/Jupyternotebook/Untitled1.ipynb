{
 "cells": [
  {
   "cell_type": "markdown",
   "id": "e1f2f014-0725-437a-a8d4-73e0bb285d44",
   "metadata": {},
   "source": [
    "\n",
    "1) Class\n",
    "3) Constructors\n",
    "4) Base and Derived\n",
    "5) Methods:\n",
    "       - Instance\n",
    "       - Class\n",
    "       - Static\n",
    "6) Attributes\n",
    "7) Abstract class:\n",
    "   - Interfaces\n",
    "9) Inheritance\n",
    "10) Public, private, protected\n",
    "\n",
    "\n"
   ]
  },
  {
   "cell_type": "code",
   "execution_count": 16,
   "id": "95802814-f2e5-4c33-ae8d-44a1abe40698",
   "metadata": {},
   "outputs": [
    {
     "name": "stdout",
     "output_type": "stream",
     "text": [
      "--- Preconditions for Wifi ----\n",
      "Process for wifi connect test\n",
      " --- Test endds --- \n"
     ]
    },
    {
     "data": {
      "text/plain": [
       "True"
      ]
     },
     "execution_count": 16,
     "metadata": {},
     "output_type": "execute_result"
    }
   ],
   "source": [
    "\n",
    "def decorator_for_wifi_testing(fun1):\n",
    "    def test_wifi_connection():\n",
    "        print(\"--- Preconditions for Wifi ----\") \n",
    "        status = fun1()\n",
    "        print(\" --- Test ends --- \")\n",
    "        return status\n",
    "    return test_wifi_connection\n",
    "\n",
    "########## Wifi test cases ########\n",
    "@decorator_for_wifi_testing\n",
    "def test_wifi_connection():\n",
    "    print(\"Process for wifi connect test\")\n",
    "    return True\n",
    "\n",
    "\n",
    "final_wifi_test()\n"
   ]
  },
  {
   "cell_type": "code",
   "execution_count": 15,
   "id": "3edb72b6-ef3d-4b9a-b2b7-0d107fffda0c",
   "metadata": {},
   "outputs": [
    {
     "name": "stdout",
     "output_type": "stream",
     "text": [
      "Pre condition\n",
      "Running test case\n",
      "Post condition\n"
     ]
    }
   ],
   "source": [
    "# class wifi_test:\n",
    "#     def __init__(self):\n",
    "#         print(\"Init test suite\")\n",
    "#     def __del__(self):\n",
    "#         print(\"Deinit test suite\")\n",
    "#     def ops(self):\n",
    "#         print(\"Ops...\")\n",
    "\n",
    "\n",
    "\n",
    "def test_decorator(test_case):\n",
    "    def actual_test():\n",
    "        print(\"Pre condition\")\n",
    "        test_case()\n",
    "        print(\"Post condition\")\n",
    "    return actual_test\n",
    "\n",
    "@test_decorator\n",
    "def test_case1():\n",
    "    print(\"Running test case\")\n",
    "\n",
    "test_case()\n"
   ]
  },
  {
   "cell_type": "code",
   "execution_count": null,
   "id": "c683fbea-e860-4525-94e7-64feba942629",
   "metadata": {},
   "outputs": [],
   "source": [
    "class wifi_test:\n",
    "    def __init__(self):\n",
    "        print(\"Init test suite\")\n",
    "    def __del__(self):\n",
    "        print(\"Deinit test suite\")\n",
    "    def ops(self):\n",
    "        print(\"Ops...\")\n",
    "\n"
   ]
  },
  {
   "cell_type": "code",
   "execution_count": null,
   "id": "5c27c581-db9b-40ce-b9e7-8db8ef624788",
   "metadata": {},
   "outputs": [],
   "source": []
  }
 ],
 "metadata": {
  "kernelspec": {
   "display_name": "Python 3 (ipykernel)",
   "language": "python",
   "name": "python3"
  },
  "language_info": {
   "codemirror_mode": {
    "name": "ipython",
    "version": 3
   },
   "file_extension": ".py",
   "mimetype": "text/x-python",
   "name": "python",
   "nbconvert_exporter": "python",
   "pygments_lexer": "ipython3",
   "version": "3.12.7"
  }
 },
 "nbformat": 4,
 "nbformat_minor": 5
}
