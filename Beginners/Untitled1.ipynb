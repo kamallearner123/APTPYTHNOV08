{
 "cells": [
  {
   "cell_type": "code",
   "execution_count": 8,
   "id": "1d07bf8b-5c23-42c4-a94c-827408e22969",
   "metadata": {},
   "outputs": [
    {
     "name": "stdout",
     "output_type": "stream",
     "text": [
      "['kamal', 'pavani', 'mounisha', 'ram', 'hari']\n",
      "['Kamal', 'Pavani', 'Mounisha', 'Ram', 'Hari']\n",
      "['hari krishna', 'gopal krishna', 'rama krishna', 'krishna']\n"
     ]
    }
   ],
   "source": [
    "s1 = \"kamal pavani mounisha ram hari\"\n",
    "#convert to list\n",
    "l1 = s1.split(\" \")\n",
    "print(l1)\n",
    "l2 = list(map(lambda x: x.capitalize(), l1))\n",
    "print(l2)\n",
    "\n",
    "# Example of using \"filter\"\n",
    "names = [\"hari krishna\", \"gopal krishna\", \"ram\", \"rama krishna\" , \"krishna\"]\n",
    "names2 = list(filter(lambda x: \"krishna\" in x, names))\n",
    "print(names2)\n",
    "\n",
    "# Observations:\n",
    "# 1) Loop needs to be finished : no break\n",
    "# 2) Suggested to use lambda functions"
   ]
  },
  {
   "cell_type": "code",
   "execution_count": 7,
   "id": "a8ecd20c-87f9-4a55-bc87-da9000bf6c88",
   "metadata": {},
   "outputs": [
    {
     "data": {
      "text/plain": [
       "False"
      ]
     },
     "execution_count": 7,
     "metadata": {},
     "output_type": "execute_result"
    }
   ],
   "source": [
    "\n",
    "\n",
    "\"krishna\" in \"rama krhna\""
   ]
  },
  {
   "cell_type": "code",
   "execution_count": 13,
   "id": "c442f164-19a6-434e-b295-9f84278d2e75",
   "metadata": {},
   "outputs": [
    {
     "name": "stdout",
     "output_type": "stream",
     "text": [
      "5.694\n"
     ]
    }
   ],
   "source": [
    "pi = 2.347\n",
    "def add(num1, num2):\n",
    "    result = num1+num2*pi\n",
    "    return result\n",
    "\n",
    "# function_name = \"lambda\" arg1, arg2: expression\n",
    "# If the function does minimal job, go for lambda functions\n",
    "pi = 2.347\n",
    "add2 = lambda a1, a2: a1+a2*pi\n",
    "\n",
    "\n",
    "print(add(1,2))"
   ]
  },
  {
   "cell_type": "code",
   "execution_count": 22,
   "id": "5895231d-03df-4155-8b17-feb8992528bc",
   "metadata": {},
   "outputs": [
    {
     "name": "stdout",
     "output_type": "stream",
     "text": [
      "183\n"
     ]
    }
   ],
   "source": [
    "from functools import reduce\n",
    "\n",
    "# Example of using \"reduce\"\n",
    "nums = [13, 14, 67, 90,-1]\n",
    "total = reduce(lambda x,y: x+y, nums)\n",
    "print(total)"
   ]
  },
  {
   "cell_type": "code",
   "execution_count": 24,
   "id": "9b040661-7456-45f7-838c-64dbe08de79d",
   "metadata": {},
   "outputs": [
    {
     "name": "stdout",
     "output_type": "stream",
     "text": [
      "[18, 51, 102, 123]\n"
     ]
    }
   ],
   "source": [
    "# Need to apply x**2+2x+3 to all the numbers in given list: \n",
    "# list [3, 6, 9, 10] --> [48, 130, 560, 1022] \n",
    "\n",
    "l1 = [3, 6, 9, 10]\n",
    "result = list(map(lambda x: x**2 + 2*x + 3, l1))\n",
    "print(result)"
   ]
  },
  {
   "cell_type": "code",
   "execution_count": 27,
   "id": "2558fa7e-95b6-4345-8930-2c5cf199a904",
   "metadata": {},
   "outputs": [
    {
     "name": "stdout",
     "output_type": "stream",
     "text": [
      "0\n"
     ]
    }
   ],
   "source": [
    "# Need to multiply all the number in a given list\n",
    "l1 = [3, 6, 9, 0]\n",
    "reduce_result = reduce(lambda x,y: x*y, l1)\n",
    "print(reduce_result)"
   ]
  },
  {
   "cell_type": "code",
   "execution_count": 29,
   "id": "145bbe2a-03d4-444d-bdec-3e79f8c2a3a0",
   "metadata": {},
   "outputs": [
    {
     "name": "stdout",
     "output_type": "stream",
     "text": [
      "[90, 99]\n"
     ]
    }
   ],
   "source": [
    "# Need to take all the marks which are more than 80.\n",
    "results = [90, 78,80, 40,30,99]\n",
    "result = list(filter(lambda x: x>80, results))\n",
    "print(result)"
   ]
  },
  {
   "cell_type": "code",
   "execution_count": 30,
   "id": "6ee862f2-49c0-4498-a81a-1226791861fb",
   "metadata": {},
   "outputs": [
    {
     "name": "stdout",
     "output_type": "stream",
     "text": [
      "kamal:david:ram\n"
     ]
    }
   ],
   "source": [
    "# Club all the names with seperator \":\" . l1 = [\"kamal\", \"david\", \"ram\"]\n",
    "import functools\n",
    "l1=[\"kamal\",\"david\",\"ram\"]\n",
    "result=functools.reduce(lambda x,y:x + \":\"+y,l1)\n",
    "print(result)"
   ]
  },
  {
   "cell_type": "code",
   "execution_count": 34,
   "id": "b2baf56d-c243-4d4c-a7a1-59b56d2c3230",
   "metadata": {},
   "outputs": [
    {
     "name": "stdout",
     "output_type": "stream",
     "text": [
      "[{'name': 'Ram', 'grade': 'A+'}, {'name': 'Pavani', 'grade': 'A'}]\n"
     ]
    }
   ],
   "source": [
    "# 2) Create a list of the grades \"A\", \"A+\", \"B+\" from given grades.\n",
    "# students = [{\"name\":\"Kamal\", \"grade\":\"B\"}, {\"name\":\"Ram\", \"grade\":\"A+\"}]\n",
    "students = [{\"name\":\"Kamal\", \"grade\":\"B\"}, {\"name\":\"Ram\", \"grade\":\"A+\"}, {\"name\":\"Pavani\", \"grade\":\"A\"}, {\"name\":\"Mounisha\", \"grade\":\"C+\"}]\n",
    "\n",
    "toppers = list(filter(lambda x: x[\"grade\"] in [\"A\", \"A+\", \"B+\"], students))\n",
    "print(toppers)"
   ]
  },
  {
   "cell_type": "code",
   "execution_count": 46,
   "id": "cd33503e-fd87-420a-b802-90e4c4c54e6a",
   "metadata": {},
   "outputs": [
    {
     "name": "stdout",
     "output_type": "stream",
     "text": [
      "[20, 121, 24, 169, 28, 225, 32, 289, 36, 361]\n"
     ]
    }
   ],
   "source": [
    "# List comprehension\n",
    "\n",
    "# Generate sequence of square of all odd numbers falls in the range 100, 1000\n",
    "# [EXPRESSION for element in list/tuple/iterator if CONDITION]\n",
    "l1 = [element**2 for element in range(100,200) if element%2!=0]\n",
    "#print(l1)\n",
    "\n",
    "# [EPRESSION1 if CONDITION else EXPRESSION2 for element in list/tuple/iterator ]\n",
    "l1 = [element**2 if element%2!=0 else element*2 for element in range(10,20)]\n",
    "print(l1)"
   ]
  },
  {
   "cell_type": "code",
   "execution_count": 40,
   "id": "baa7fad2-69ce-44ee-85be-9d8951c63886",
   "metadata": {},
   "outputs": [
    {
     "name": "stdin",
     "output_type": "stream",
     "text": [
      " 1+2j\n"
     ]
    },
    {
     "name": "stdout",
     "output_type": "stream",
     "text": [
      "[('1', '+2')]\n",
      "1.0 2.0\n",
      "1.0 2.0\n",
      "2.23606797749979\n",
      "1.1071487177940904\n"
     ]
    }
   ],
   "source": [
    "import math\n",
    "import re\n",
    "\n",
    "z=input() # 1+1j, 1-1j\n",
    "z=z.strip()\n",
    "output = re.findall(r\"([\\-\\+]*[\\.0-9]*)\\s*([\\-\\+][\\.0-9]+)j\", z)\n",
    "print(output)\n",
    "a,b = output[0]\n",
    "a = float(a)\n",
    "b = float(b)\n",
    "print(a,b)\n",
    "\n",
    "def polar_coordinates(a,b):\n",
    "    print(a,b)\n",
    "    r=math.sqrt(a**2 + b**2)\n",
    "    theta=math.atan2(b, a) # atan(inv(a/b))\n",
    "    return r,theta\n",
    "r,theta=polar_coordinates(a,b)\n",
    "print(r)\n",
    "print(theta)"
   ]
  },
  {
   "cell_type": "code",
   "execution_count": 16,
   "id": "9cce4e6a-72af-4971-8a10-a4236aca9cb9",
   "metadata": {},
   "outputs": [
    {
     "name": "stdout",
     "output_type": "stream",
     "text": [
      "0.7853981633974483\n"
     ]
    }
   ],
   "source": [
    "a = 1\n",
    "b = 1\n",
    "theta=math.atan2(b, a)\n",
    "print(theta)"
   ]
  },
  {
   "cell_type": "code",
   "execution_count": null,
   "id": "cf666b57-b68f-4267-871f-27833aa4216f",
   "metadata": {},
   "outputs": [],
   "source": [
    "#iterables and iterators\n",
    "from itertools import combinations\n",
    "N=input()\n",
    "Letters=list(input().split(' '))\n",
    "K=int(input())\n",
    "count=0\n",
    "for i in combinations(Letters,K):\n",
    "    if 'a' in i:\n",
    "        count=count+1\n",
    "m=count/len(list(combinations(Letters,K)))\n",
    "print(m)\n",
    "m=count/len(list(combinations(Letters,K)))\n",
    "print(m)"
   ]
  },
  {
   "cell_type": "code",
   "execution_count": null,
   "id": "e0c0b1fd-4a3e-4d67-803f-5b444cb50d83",
   "metadata": {},
   "outputs": [],
   "source": []
  }
 ],
 "metadata": {
  "kernelspec": {
   "display_name": "Python (playground)",
   "language": "python",
   "name": "myenv"
  },
  "language_info": {
   "codemirror_mode": {
    "name": "ipython",
    "version": 3
   },
   "file_extension": ".py",
   "mimetype": "text/x-python",
   "name": "python",
   "nbconvert_exporter": "python",
   "pygments_lexer": "ipython3",
   "version": "3.12.7"
  }
 },
 "nbformat": 4,
 "nbformat_minor": 5
}
