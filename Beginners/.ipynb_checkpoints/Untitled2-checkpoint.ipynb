{
 "cells": [
  {
   "cell_type": "code",
   "execution_count": 4,
   "id": "848669ed-c863-4065-94a5-03aa0c5e0d5a",
   "metadata": {},
   "outputs": [
    {
     "name": "stdout",
     "output_type": "stream",
     "text": [
      "<class 'list'>\n",
      "[1, 2, 3, 10]\n",
      "<class 'int'>\n",
      "['__abs__', '__add__', '__and__', '__bool__', '__ceil__', '__class__', '__delattr__', '__dir__', '__divmod__', '__doc__', '__eq__', '__float__', '__floor__', '__floordiv__', '__format__', '__ge__', '__getattribute__', '__getnewargs__', '__getstate__', '__gt__', '__hash__', '__index__', '__init__', '__init_subclass__', '__int__', '__invert__', '__le__', '__lshift__', '__lt__', '__mod__', '__mul__', '__ne__', '__neg__', '__new__', '__or__', '__pos__', '__pow__', '__radd__', '__rand__', '__rdivmod__', '__reduce__', '__reduce_ex__', '__repr__', '__rfloordiv__', '__rlshift__', '__rmod__', '__rmul__', '__ror__', '__round__', '__rpow__', '__rrshift__', '__rshift__', '__rsub__', '__rtruediv__', '__rxor__', '__setattr__', '__sizeof__', '__str__', '__sub__', '__subclasshook__', '__truediv__', '__trunc__', '__xor__', 'as_integer_ratio', 'bit_count', 'bit_length', 'conjugate', 'denominator', 'from_bytes', 'imag', 'is_integer', 'numerator', 'real', 'to_bytes']\n"
     ]
    }
   ],
   "source": [
    "# l1 is an object of class \"List\"\n",
    "l1 = [1,2,3] # Python implicitly crates object of type \"list\"\n",
    "print(type(l1))\n",
    "l1.append(10) # Calling method \"append\" on the object\n",
    "print(l1)\n",
    "\n",
    "a = 10 # int a =10;\n",
    "print(type(a))\n",
    "print(dir(a))"
   ]
  },
  {
   "cell_type": "code",
   "execution_count": null,
   "id": "357bffa9-6564-42ca-9177-f7fbaa2a7a10",
   "metadata": {},
   "outputs": [],
   "source": []
  },
  {
   "cell_type": "code",
   "execution_count": null,
   "id": "8934d1b9-6a19-445b-b635-2081f813b227",
   "metadata": {},
   "outputs": [],
   "source": [
    "# Class :\n",
    "# method1\n",
    "# method2\n",
    "# method3\n",
    "# attribute1\n",
    "# attribute2\n",
    "\n",
    "'''\n",
    "- Class name: subway_frog\n",
    "- Attritbutes:\n",
    "    state\n",
    "    color\n",
    "    name \n",
    "- Methods (actions):\n",
    "    run\n",
    "    jump\n",
    "    roll\n",
    "    hit\n",
    "    get_power\n",
    "\n",
    "    \n",
    "'''"
   ]
  },
  {
   "cell_type": "code",
   "execution_count": 24,
   "id": "7b7f297c-d324-4c36-9e79-7f0aa7439c46",
   "metadata": {},
   "outputs": [
    {
     "name": "stdout",
     "output_type": "stream",
     "text": [
      "Constructed\n",
      "Color :  red\n",
      "Name: joy, Color: red, State: running\n",
      "Class attribute\n",
      "1\n"
     ]
    }
   ],
   "source": [
    "class subway_frog:\n",
    "    frogs_count = 0 # Class attribute\n",
    "    def run(self):\n",
    "        self.__state = \"running\"\n",
    "        \n",
    "    def jump(self):\n",
    "        self.__state = \"jumping\"\n",
    "        \n",
    "    def roll(self):\n",
    "        self.__state = \"rolling\"\n",
    "        \n",
    "    def hit(self):\n",
    "        self.__state = \"hit\"\n",
    "        if self.power == \"no\":\n",
    "            print(\"You are caught!!! Game over \")\n",
    "        else:\n",
    "            print(\"As you have power, you are not caught!!! Continue\")\n",
    "            self.power = \"no\"\n",
    "\n",
    "    def run_over_gift(self):\n",
    "        self.__get_power(\"power1\")\n",
    "            \n",
    "    def __get_power(self, power):\n",
    "        self.power = power\n",
    "    \n",
    "    def __init__(self, color=\"red\", name=\" \"):\n",
    "        self.__state = \"idle\"\n",
    "        self.color = color\n",
    "        self.name = name\n",
    "        self.__get_power(\"no\")\n",
    "        print(\"Constructed\")\n",
    "        subway_frog.frogs_count += 1\n",
    "\n",
    "    def get_details(self):\n",
    "        print(f\"Name: {self.name}, Color: {self.color}, State: {self.__state}\")\n",
    "        \n",
    "# This main function #\n",
    "obj1 = subway_frog(\"red\", \"joy\")\n",
    "obj1.run()\n",
    "# print(obj1.__state) #__state: Attribute: Private: Can not access it\n",
    "print(\"Color : \", obj1.color) # color: Attribute: Public\n",
    "#obj1.__get_power() # __get_power: Method: Private\n",
    "obj1.get_details()\n",
    "\n",
    "\n",
    "#### \n",
    "print(\"Class attribute\")\n",
    "obj2 = subway_frog()\n",
    "obj3 = subway_frog()\n",
    "\n",
    "print(subway_frog.frogs_count) # Accessing class attribute\n"
   ]
  },
  {
   "cell_type": "code",
   "execution_count": null,
   "id": "004d4c25-eeda-488c-8319-c6343a7e414f",
   "metadata": {},
   "outputs": [],
   "source": []
  }
 ],
 "metadata": {
  "kernelspec": {
   "display_name": "Python 3 (ipykernel)",
   "language": "python",
   "name": "python3"
  },
  "language_info": {
   "codemirror_mode": {
    "name": "ipython",
    "version": 3
   },
   "file_extension": ".py",
   "mimetype": "text/x-python",
   "name": "python",
   "nbconvert_exporter": "python",
   "pygments_lexer": "ipython3",
   "version": "3.12.7"
  }
 },
 "nbformat": 4,
 "nbformat_minor": 5
}
