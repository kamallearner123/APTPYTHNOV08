{
 "cells": [
  {
   "cell_type": "code",
   "execution_count": 3,
   "id": "479464eb-5176-42c6-b189-64aa6d708e7a",
   "metadata": {},
   "outputs": [
    {
     "name": "stdout",
     "output_type": "stream",
     "text": [
      "kamalbec2004@gmail.com\n",
      "tavarekere.hariprasad@gmail.com\n",
      "kadiyalapavani04@gmail.com\n",
      "kadiyalapavani04@gmail.com\n",
      "kapil.tarani@gmail.com\n",
      "lakshmi.mocherla@gmail.com\n",
      "monikabm200@gmail.com\n",
      "monikabm200@gmail.com\n",
      "mounishakommuri@gmail.com\n",
      "pavanikadiyalachowdary@gmail.com\n",
      "rajeshramaraok@gmail.com\n",
      "ramana.pokala@gmail.com\n",
      "raviteja.kollapur@gmail.com\n",
      "ssalmafirdose@gmail.com\n"
     ]
    },
    {
     "data": {
      "text/plain": [
       "[None,\n",
       " None,\n",
       " None,\n",
       " None,\n",
       " None,\n",
       " None,\n",
       " None,\n",
       " None,\n",
       " None,\n",
       " None,\n",
       " None,\n",
       " None,\n",
       " None,\n",
       " None]"
      ]
     },
     "execution_count": 3,
     "metadata": {},
     "output_type": "execute_result"
    }
   ],
   "source": [
    "# Send Happy New Year mail to all the members.\n",
    "\n",
    "mails = '''\n",
    "\n",
    "kamal kumar mukiri (you)\n",
    "kamalbec2004@gmail.com\n",
    "\n",
    "Hariprasad. Tavarekere\n",
    "tavarekere.hariprasad@gmail.com\n",
    "\n",
    "kadiyalapavani04@gmail.com\n",
    "kadiyalapavani04@gmail.com\n",
    "\n",
    "Kapil Tarani\n",
    "kapil.tarani@gmail.com\n",
    "\n",
    "Lakshmi Mocherla\n",
    "lakshmi.mocherla@gmail.com\n",
    "\n",
    "monikabm200@gmail.com\n",
    "monikabm200@gmail.com\n",
    "\n",
    "MOUNISHA KOMMURI\n",
    "mounishakommuri@gmail.com\n",
    "\n",
    "pavani kadiyala\n",
    "pavanikadiyalachowdary@gmail.com\n",
    "\n",
    "rajesh rama\n",
    "rajeshramaraok@gmail.com\n",
    "\n",
    "Ramana Pokala\n",
    "ramana.pokala@gmail.com\n",
    "\n",
    "Raviteja K\n",
    "raviteja.kollapur@gmail.com\n",
    "\n",
    "siddavatam salmafirdose\n",
    "ssalmafirdose@gmail.com\n",
    "'''\n",
    "\n",
    "import re\n",
    "# Collect the list\n",
    "mails_list = re.findall(r\"[0-9a-zA-Z.-]+\\@[a-z]+\\.com\", mails)\n",
    "list(map(print, mails_list))"
   ]
  },
  {
   "cell_type": "code",
   "execution_count": 8,
   "id": "f1a48b1e-647a-4a0a-b99b-31aea5b7537f",
   "metadata": {},
   "outputs": [
    {
     "ename": "ModuleNotFoundError",
     "evalue": "No module named 'pywhatkit'",
     "output_type": "error",
     "traceback": [
      "\u001b[0;31m---------------------------------------------------------------------------\u001b[0m",
      "\u001b[0;31mModuleNotFoundError\u001b[0m                       Traceback (most recent call last)",
      "Cell \u001b[0;32mIn[8], line 2\u001b[0m\n\u001b[1;32m      1\u001b[0m \u001b[38;5;66;03m# Importing the Required Library\u001b[39;00m\n\u001b[0;32m----> 2\u001b[0m \u001b[38;5;28;01mimport\u001b[39;00m \u001b[38;5;21;01mpywhatkit\u001b[39;00m\n\u001b[1;32m      4\u001b[0m \u001b[38;5;66;03m# Defining the Phone Number and Message\u001b[39;00m\n\u001b[1;32m      5\u001b[0m phone_number \u001b[38;5;241m=\u001b[39m \u001b[38;5;124m\"\u001b[39m\u001b[38;5;124m9739858111\u001b[39m\u001b[38;5;124m\"\u001b[39m\n",
      "\u001b[0;31mModuleNotFoundError\u001b[0m: No module named 'pywhatkit'"
     ]
    }
   ],
   "source": [
    "# Importing the Required Library\n",
    "import pywhatkit\n",
    "\n",
    "# Defining the Phone Number and Message\n",
    "phone_number = \"9739858111\"\n",
    "message = \"message\"\n",
    "\n",
    "# Sending the WhatsApp Message\n",
    "pywhatkit.sendwhatmsg_instantly(phone_number, message)\n",
    "\n",
    "# Displaying a Success Message\n",
    "print(\"WhatsApp message sent!\")"
   ]
  },
  {
   "cell_type": "code",
   "execution_count": 7,
   "id": "fde5c782-a563-4954-bde8-919172e87db7",
   "metadata": {},
   "outputs": [
    {
     "name": "stdout",
     "output_type": "stream",
     "text": [
      "Requirement already satisfied: pywhatkit in /opt/anaconda3/lib/python3.12/site-packages (5.4)\n",
      "Requirement already satisfied: Pillow in /opt/anaconda3/lib/python3.12/site-packages (from pywhatkit) (10.4.0)\n",
      "Requirement already satisfied: pyautogui in /opt/anaconda3/lib/python3.12/site-packages (from pywhatkit) (0.9.54)\n",
      "Requirement already satisfied: requests in /opt/anaconda3/lib/python3.12/site-packages (from pywhatkit) (2.32.3)\n",
      "Requirement already satisfied: wikipedia in /opt/anaconda3/lib/python3.12/site-packages (from pywhatkit) (1.4.0)\n",
      "Requirement already satisfied: Flask in /opt/anaconda3/lib/python3.12/site-packages (from pywhatkit) (3.0.3)\n",
      "Requirement already satisfied: Werkzeug>=3.0.0 in /opt/anaconda3/lib/python3.12/site-packages (from Flask->pywhatkit) (3.0.3)\n",
      "Requirement already satisfied: Jinja2>=3.1.2 in /opt/anaconda3/lib/python3.12/site-packages (from Flask->pywhatkit) (3.1.4)\n",
      "Requirement already satisfied: itsdangerous>=2.1.2 in /opt/anaconda3/lib/python3.12/site-packages (from Flask->pywhatkit) (2.2.0)\n",
      "Requirement already satisfied: click>=8.1.3 in /opt/anaconda3/lib/python3.12/site-packages (from Flask->pywhatkit) (8.1.7)\n",
      "Requirement already satisfied: blinker>=1.6.2 in /opt/anaconda3/lib/python3.12/site-packages (from Flask->pywhatkit) (1.6.2)\n",
      "Requirement already satisfied: pyobjc-core in /opt/anaconda3/lib/python3.12/site-packages (from pyautogui->pywhatkit) (10.3.2)\n",
      "Requirement already satisfied: pyobjc-framework-quartz in /opt/anaconda3/lib/python3.12/site-packages (from pyautogui->pywhatkit) (10.3.2)\n",
      "Requirement already satisfied: pymsgbox in /opt/anaconda3/lib/python3.12/site-packages (from pyautogui->pywhatkit) (1.0.9)\n",
      "Requirement already satisfied: pytweening>=1.0.4 in /opt/anaconda3/lib/python3.12/site-packages (from pyautogui->pywhatkit) (1.2.0)\n",
      "Requirement already satisfied: pyscreeze>=0.1.21 in /opt/anaconda3/lib/python3.12/site-packages (from pyautogui->pywhatkit) (1.0.1)\n",
      "Requirement already satisfied: pygetwindow>=0.0.5 in /opt/anaconda3/lib/python3.12/site-packages (from pyautogui->pywhatkit) (0.0.9)\n",
      "Requirement already satisfied: mouseinfo in /opt/anaconda3/lib/python3.12/site-packages (from pyautogui->pywhatkit) (0.1.3)\n",
      "Requirement already satisfied: charset-normalizer<4,>=2 in /opt/anaconda3/lib/python3.12/site-packages (from requests->pywhatkit) (3.3.2)\n",
      "Requirement already satisfied: idna<4,>=2.5 in /opt/anaconda3/lib/python3.12/site-packages (from requests->pywhatkit) (2.10)\n",
      "Requirement already satisfied: urllib3<3,>=1.21.1 in /opt/anaconda3/lib/python3.12/site-packages (from requests->pywhatkit) (2.2.3)\n",
      "Requirement already satisfied: certifi>=2017.4.17 in /opt/anaconda3/lib/python3.12/site-packages (from requests->pywhatkit) (2024.8.30)\n",
      "Requirement already satisfied: beautifulsoup4 in /opt/anaconda3/lib/python3.12/site-packages (from wikipedia->pywhatkit) (4.12.3)\n",
      "Requirement already satisfied: MarkupSafe>=2.0 in /opt/anaconda3/lib/python3.12/site-packages (from Jinja2>=3.1.2->Flask->pywhatkit) (2.1.3)\n",
      "Requirement already satisfied: pyrect in /opt/anaconda3/lib/python3.12/site-packages (from pygetwindow>=0.0.5->pyautogui->pywhatkit) (0.2.0)\n",
      "Requirement already satisfied: soupsieve>1.2 in /opt/anaconda3/lib/python3.12/site-packages (from beautifulsoup4->wikipedia->pywhatkit) (2.5)\n",
      "Requirement already satisfied: pyperclip in /opt/anaconda3/lib/python3.12/site-packages (from mouseinfo->pyautogui->pywhatkit) (1.9.0)\n",
      "Requirement already satisfied: rubicon-objc in /opt/anaconda3/lib/python3.12/site-packages (from mouseinfo->pyautogui->pywhatkit) (0.4.9)\n",
      "Requirement already satisfied: pyobjc-framework-Cocoa>=10.3.2 in /opt/anaconda3/lib/python3.12/site-packages (from pyobjc-framework-quartz->pyautogui->pywhatkit) (10.3.2)\n"
     ]
    }
   ],
   "source": [
    "!pip3 install pywhatkit\n"
   ]
  },
  {
   "cell_type": "markdown",
   "id": "9eda479f-af2c-44ed-8838-cb4341fdaf87",
   "metadata": {},
   "source": [
    "Given a string s, return the longest \n",
    "palindromic\n",
    " \n",
    "substring\n",
    " in s.\n",
    "\n",
    " \n",
    "\n",
    "Example 1:\n",
    "\n",
    "Input: s = \"babad\"\n",
    "Output: \"bab\"\n",
    "Explanation: \"aba\" is also a valid answer.\n",
    "Example 2:\n",
    "\n",
    "Input: s = \"cbbd\"\n",
    "Output: \"bb\"\n",
    " \n",
    "\n"
   ]
  },
  {
   "cell_type": "code",
   "execution_count": 13,
   "id": "1dfecc8c-840e-4b07-b232-e2a01e17b71f",
   "metadata": {},
   "outputs": [
    {
     "name": "stdout",
     "output_type": "stream",
     "text": [
      "()()()\n"
     ]
    }
   ],
   "source": [
    "class Solution(object):\n",
    "    \n",
    "    \n",
    "    def recursion(self, c, final, o_count, c_count):\n",
    "        final += c\n",
    "        if o_count == c_count:\n",
    "            if o_count == self.n:\n",
    "                print(final)\n",
    "                return\n",
    "            else:\n",
    "                o_count += 1\n",
    "                self.recursion(\"(\", final, o_count, c_count)\n",
    "        else:\n",
    "            self.c_count += 1\n",
    "            self.recursion(\")\", final, o_count, c_count)\n",
    "            if self.c_count == self.n:\n",
    "                print(final)\n",
    "                return\n",
    "                \n",
    "            self.o_count += 1\n",
    "            self.recursion(\"(\", final, o_count, c_count)\n",
    "        \n",
    "    \n",
    "    def generateParenthesis(self, n):\n",
    "        \"\"\"\n",
    "        :type n: int\n",
    "        :rtype: List[str]\n",
    "        \"\"\"\n",
    "        self.o_count = 0\n",
    "        self.c_count = 0\n",
    "        self.n = n\n",
    "        self.combs = [] # empty\n",
    "        self.final = \"\"\n",
    "        self.o_count += 1\n",
    "        self.recursion(\"(\", \"\", 1, 0)\n",
    "        print(self.final)\n",
    "        \n",
    "\n",
    "obj1 = Solution()\n",
    "obj1.generateParenthesis(3)"
   ]
  },
  {
   "cell_type": "code",
   "execution_count": null,
   "id": "56428467-9600-4f95-a2f1-9e5349dd5edc",
   "metadata": {},
   "outputs": [],
   "source": []
  }
 ],
 "metadata": {
  "kernelspec": {
   "display_name": "Python (playground)",
   "language": "python",
   "name": "myenv"
  },
  "language_info": {
   "codemirror_mode": {
    "name": "ipython",
    "version": 3
   },
   "file_extension": ".py",
   "mimetype": "text/x-python",
   "name": "python",
   "nbconvert_exporter": "python",
   "pygments_lexer": "ipython3",
   "version": "3.12.7"
  }
 },
 "nbformat": 4,
 "nbformat_minor": 5
}
