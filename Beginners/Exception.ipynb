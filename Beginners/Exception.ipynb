{
 "cells": [
  {
   "cell_type": "code",
   "execution_count": 45,
   "id": "ec6f72a2-6db0-462a-a7a8-b1b579fc53e1",
   "metadata": {},
   "outputs": [
    {
     "name": "stdout",
     "output_type": "stream",
     "text": [
      "---a---\n",
      "---a---\n",
      "---a---\n",
      "---a---\n",
      "---a---\n",
      "---a---\n",
      "---a---\n"
     ]
    }
   ],
   "source": [
    "def print_rangoli(length):#4\n",
    "    # your code goes here\n",
    "    letters = \"abcdefghijklmnopqrstuvwxyz\"\n",
    "    \n",
    "    for i in range(length*2-1):\n",
    "        # 1,2,3,4,3,2,1\n",
    "        line = \n",
    "        \n",
    "        line = line.center(length*2-1,\"-\")\n",
    "        print(line)\n",
    "\n",
    "if __name__ == '__main__':\n",
    "    print_rangoli(4)"
   ]
  },
  {
   "cell_type": "code",
   "execution_count": 27,
   "id": "c3893dab-5bc5-4188-8658-768a128f1909",
   "metadata": {},
   "outputs": [
    {
     "name": "stdout",
     "output_type": "stream",
     "text": [
      "edcb\n"
     ]
    }
   ],
   "source": [
    "letters = \"abcdefghijklmnopqrstuvwxyz\"\n",
    "line = letters[4:0:-1] # abcd\n",
    "print(line)"
   ]
  },
  {
   "cell_type": "code",
   "execution_count": 55,
   "id": "f5b166ce-8d5c-4af2-9e06-54b7e7e78c84",
   "metadata": {},
   "outputs": [
    {
     "name": "stdout",
     "output_type": "stream",
     "text": [
      "1\n",
      "2\n",
      "3\n",
      "4\n",
      "4\n",
      "4\n",
      "4\n"
     ]
    }
   ],
   "source": [
    "for i in range(1,4*2):#1,2,3,4,5,6,7\n",
    "    # 1,2,3,4,3,2,1\n",
    "    \n",
    "    print(i-(i%4 if i>4 else 0))\n",
    "    "
   ]
  },
  {
   "cell_type": "code",
   "execution_count": 13,
   "id": "fdf89b19-4b0b-4b8f-9020-2d651bec983a",
   "metadata": {},
   "outputs": [
    {
     "name": "stdout",
     "output_type": "stream",
     "text": [
      "4\n",
      "2\n",
      "End of try block\n",
      "Code ran without error\n",
      "Program End\n"
     ]
    }
   ],
   "source": [
    "try: #protesting code from stopping execution\n",
    "    l1 = [1,2,3,4]\n",
    "    print(l1[3])\n",
    "    result = l1[0]/1 # \n",
    "    print(l1[1])    \n",
    "    print(\"End of try block\")\n",
    "    \n",
    "except Exception as e: # If any exception is raised.\n",
    "    print(\"Exception raised !!!\")\n",
    "    print(\"Exception is \", e)\n",
    "else: # If no exception is raised\n",
    "    print(\"Code ran without error\")\n",
    "finally: # always\n",
    "    print(\"Program End\")"
   ]
  },
  {
   "cell_type": "code",
   "execution_count": 10,
   "id": "028e3476-19de-4a96-b688-2e2457393828",
   "metadata": {},
   "outputs": [
    {
     "name": "stdout",
     "output_type": "stream",
     "text": [
      "4\n",
      "Exception raised !!!\n",
      "End\n"
     ]
    }
   ],
   "source": [
    "try:\n",
    "    l1 = [1,2,3,4]\n",
    "    print(l1[3])\n",
    "\n",
    "    result = l1[0]/1 # \n",
    "\n",
    "    print(l1[10])\n",
    "    \n",
    "    print(\"End of try block\")\n",
    "    \n",
    "except:\n",
    "    print(\"Exception raised !!!\")\n",
    "print(\"End\")"
   ]
  },
  {
   "cell_type": "code",
   "execution_count": null,
   "id": "7e68f727-da62-464b-b5d6-be19923f9fc5",
   "metadata": {},
   "outputs": [],
   "source": [
    "import math\n",
    "math.sqrt("
   ]
  }
 ],
 "metadata": {
  "kernelspec": {
   "display_name": "Python 3 (ipykernel)",
   "language": "python",
   "name": "python3"
  },
  "language_info": {
   "codemirror_mode": {
    "name": "ipython",
    "version": 3
   },
   "file_extension": ".py",
   "mimetype": "text/x-python",
   "name": "python",
   "nbconvert_exporter": "python",
   "pygments_lexer": "ipython3",
   "version": "3.12.7"
  }
 },
 "nbformat": 4,
 "nbformat_minor": 5
}
