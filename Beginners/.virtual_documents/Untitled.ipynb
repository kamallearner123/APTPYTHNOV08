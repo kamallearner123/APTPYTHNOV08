import random

actual_num = random.randint(0,100)
number_of_attempts = 0
while True:
    number_of_attempts += 1
    num = int(input("Enter the number:"))
    if num != actual_num:
        if num > actual_num:
            print("Sorry... the number is greater than actual")
        else:
            print("Sorry.... the number is less than actual")
    else:
        print("Congrats... you guessed it!!!")
        break
    print("Number of attempts: ", number_of_attempts)
    if number_of_attempts == 4:
        print("You failed to guess!!!! Next time better luck")
        print("Actual number is ", actual_num)
        break
print("Game End!!!")

    


import random

# words = ["python", "programming", "developer", "keyboard", "function"]
# word_to_guess = random.choice(words)
word_to_guess ="paralyze"










scrambled_word = ''.join(random.sample(word_to_guess, len(word_to_guess)))

print("Welcome to the Word Scramble Game!")
print(f"Scrambled word: {scrambled_word}")
















